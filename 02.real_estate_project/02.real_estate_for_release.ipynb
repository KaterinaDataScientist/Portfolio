{
 "cells": [
  {
   "cell_type": "markdown",
   "metadata": {},
   "source": [
    "# Исследование объявлений о продаже квартир\n",
    "\n",
    "В вашем распоряжении данные сервиса Яндекс.Недвижимость — архив объявлений о продаже квартир в Санкт-Петербурге и соседних населённых пунктов за несколько лет. Нужно научиться определять рыночную стоимость объектов недвижимости. Ваша задача — установить параметры. Это позволит построить автоматизированную систему: она отследит аномалии и мошенническую деятельность. \n",
    "\n",
    "По каждой квартире на продажу доступны два вида данных. Первые вписаны пользователем, вторые — получены автоматически на основе картографических данных. Например, расстояние до центра, аэропорта, ближайшего парка и водоёма. "
   ]
  },
  {
   "cell_type": "markdown",
   "metadata": {},
   "source": [
    "### Откройте файл с данными и изучите общую информацию. "
   ]
  },
  {
   "cell_type": "code",
   "execution_count": 14,
   "metadata": {
    "scrolled": false
   },
   "outputs": [
    {
     "name": "stdout",
     "output_type": "stream",
     "text": [
      "<class 'pandas.core.frame.DataFrame'>\n",
      "RangeIndex: 23699 entries, 0 to 23698\n",
      "Data columns (total 22 columns):\n",
      " #   Column                Non-Null Count  Dtype  \n",
      "---  ------                --------------  -----  \n",
      " 0   total_images          23699 non-null  int64  \n",
      " 1   last_price            23699 non-null  float64\n",
      " 2   total_area            23699 non-null  float64\n",
      " 3   first_day_exposition  23699 non-null  object \n",
      " 4   rooms                 23699 non-null  int64  \n",
      " 5   ceiling_height        14504 non-null  float64\n",
      " 6   floors_total          23613 non-null  float64\n",
      " 7   living_area           21796 non-null  float64\n",
      " 8   floor                 23699 non-null  int64  \n",
      " 9   is_apartment          2775 non-null   object \n",
      " 10  studio                23699 non-null  bool   \n",
      " 11  open_plan             23699 non-null  bool   \n",
      " 12  kitchen_area          21421 non-null  float64\n",
      " 13  balcony               12180 non-null  float64\n",
      " 14  locality_name         23650 non-null  object \n",
      " 15  airports_nearest      18157 non-null  float64\n",
      " 16  cityCenters_nearest   18180 non-null  float64\n",
      " 17  parks_around3000      18181 non-null  float64\n",
      " 18  parks_nearest         8079 non-null   float64\n",
      " 19  ponds_around3000      18181 non-null  float64\n",
      " 20  ponds_nearest         9110 non-null   float64\n",
      " 21  days_exposition       20518 non-null  float64\n",
      "dtypes: bool(2), float64(14), int64(3), object(3)\n",
      "memory usage: 3.7+ MB\n",
      "    total_images  last_price  total_area first_day_exposition  rooms  \\\n",
      "0             20  13000000.0      108.00  2019-03-07T00:00:00      3   \n",
      "1              7   3350000.0       40.40  2018-12-04T00:00:00      1   \n",
      "2             10   5196000.0       56.00  2015-08-20T00:00:00      2   \n",
      "3              0  64900000.0      159.00  2015-07-24T00:00:00      3   \n",
      "4              2  10000000.0      100.00  2018-06-19T00:00:00      2   \n",
      "5             10   2890000.0       30.40  2018-09-10T00:00:00      1   \n",
      "6              6   3700000.0       37.30  2017-11-02T00:00:00      1   \n",
      "7              5   7915000.0       71.60  2019-04-18T00:00:00      2   \n",
      "8             20   2900000.0       33.16  2018-05-23T00:00:00      1   \n",
      "9             18   5400000.0       61.00  2017-02-26T00:00:00      3   \n",
      "10             5   5050000.0       39.60  2017-11-16T00:00:00      1   \n",
      "11             9   3300000.0       44.00  2018-08-27T00:00:00      2   \n",
      "12            10   3890000.0       54.00  2016-06-30T00:00:00      2   \n",
      "13            20   3550000.0       42.80  2017-07-01T00:00:00      2   \n",
      "14             1   4400000.0       36.00  2016-06-23T00:00:00      1   \n",
      "\n",
      "    ceiling_height  floors_total  living_area  floor is_apartment  ...  \\\n",
      "0             2.70          16.0        51.00      8          NaN  ...   \n",
      "1              NaN          11.0        18.60      1          NaN  ...   \n",
      "2              NaN           5.0        34.30      4          NaN  ...   \n",
      "3              NaN          14.0          NaN      9          NaN  ...   \n",
      "4             3.03          14.0        32.00     13          NaN  ...   \n",
      "5              NaN          12.0        14.40      5          NaN  ...   \n",
      "6              NaN          26.0        10.60      6          NaN  ...   \n",
      "7              NaN          24.0          NaN     22          NaN  ...   \n",
      "8              NaN          27.0        15.43     26          NaN  ...   \n",
      "9             2.50           9.0        43.60      7          NaN  ...   \n",
      "10            2.67          12.0        20.30      3          NaN  ...   \n",
      "11             NaN           5.0        31.00      4        False  ...   \n",
      "12             NaN           5.0        30.00      5          NaN  ...   \n",
      "13            2.56           5.0        27.00      5          NaN  ...   \n",
      "14             NaN           6.0        17.00      1          NaN  ...   \n",
      "\n",
      "    kitchen_area  balcony              locality_name  airports_nearest  \\\n",
      "0          25.00      NaN            Санкт-Петербург           18863.0   \n",
      "1          11.00      2.0             посёлок Шушары           12817.0   \n",
      "2           8.30      0.0            Санкт-Петербург           21741.0   \n",
      "3            NaN      0.0            Санкт-Петербург           28098.0   \n",
      "4          41.00      NaN            Санкт-Петербург           31856.0   \n",
      "5           9.10      NaN  городской посёлок Янино-1               NaN   \n",
      "6          14.40      1.0          посёлок Парголово           52996.0   \n",
      "7          18.90      2.0            Санкт-Петербург           23982.0   \n",
      "8           8.81      NaN             посёлок Мурино               NaN   \n",
      "9           6.50      2.0            Санкт-Петербург           50898.0   \n",
      "10          8.50      NaN            Санкт-Петербург           38357.0   \n",
      "11          6.00      1.0                  Ломоносов           48252.0   \n",
      "12          9.00      0.0                  Сертолово               NaN   \n",
      "13          5.20      1.0                   Петергоф           37868.0   \n",
      "14          8.00      0.0                     Пушкин           20782.0   \n",
      "\n",
      "   cityCenters_nearest  parks_around3000  parks_nearest  ponds_around3000  \\\n",
      "0              16028.0               1.0          482.0               2.0   \n",
      "1              18603.0               0.0            NaN               0.0   \n",
      "2              13933.0               1.0           90.0               2.0   \n",
      "3               6800.0               2.0           84.0               3.0   \n",
      "4               8098.0               2.0          112.0               1.0   \n",
      "5                  NaN               NaN            NaN               NaN   \n",
      "6              19143.0               0.0            NaN               0.0   \n",
      "7              11634.0               0.0            NaN               0.0   \n",
      "8                  NaN               NaN            NaN               NaN   \n",
      "9              15008.0               0.0            NaN               0.0   \n",
      "10             13878.0               1.0          310.0               2.0   \n",
      "11             51677.0               0.0            NaN               0.0   \n",
      "12                 NaN               NaN            NaN               NaN   \n",
      "13             33058.0               1.0          294.0               3.0   \n",
      "14             30759.0               0.0            NaN               1.0   \n",
      "\n",
      "    ponds_nearest  days_exposition  \n",
      "0           755.0              NaN  \n",
      "1             NaN             81.0  \n",
      "2           574.0            558.0  \n",
      "3           234.0            424.0  \n",
      "4            48.0            121.0  \n",
      "5             NaN             55.0  \n",
      "6             NaN            155.0  \n",
      "7             NaN              NaN  \n",
      "8             NaN            189.0  \n",
      "9             NaN            289.0  \n",
      "10          553.0            137.0  \n",
      "11            NaN              7.0  \n",
      "12            NaN             90.0  \n",
      "13          298.0            366.0  \n",
      "14           96.0            203.0  \n",
      "\n",
      "[15 rows x 22 columns]\n"
     ]
    },
    {
     "data": {
      "text/plain": [
       "array([[<AxesSubplot:title={'center':'total_images'}>,\n",
       "        <AxesSubplot:title={'center':'last_price'}>,\n",
       "        <AxesSubplot:title={'center':'total_area'}>,\n",
       "        <AxesSubplot:title={'center':'rooms'}>],\n",
       "       [<AxesSubplot:title={'center':'ceiling_height'}>,\n",
       "        <AxesSubplot:title={'center':'floors_total'}>,\n",
       "        <AxesSubplot:title={'center':'living_area'}>,\n",
       "        <AxesSubplot:title={'center':'floor'}>],\n",
       "       [<AxesSubplot:title={'center':'kitchen_area'}>,\n",
       "        <AxesSubplot:title={'center':'balcony'}>,\n",
       "        <AxesSubplot:title={'center':'airports_nearest'}>,\n",
       "        <AxesSubplot:title={'center':'cityCenters_nearest'}>],\n",
       "       [<AxesSubplot:title={'center':'parks_around3000'}>,\n",
       "        <AxesSubplot:title={'center':'parks_nearest'}>,\n",
       "        <AxesSubplot:title={'center':'ponds_around3000'}>,\n",
       "        <AxesSubplot:title={'center':'ponds_nearest'}>],\n",
       "       [<AxesSubplot:title={'center':'days_exposition'}>, <AxesSubplot:>,\n",
       "        <AxesSubplot:>, <AxesSubplot:>]], dtype=object)"
      ]
     },
     "execution_count": 14,
     "metadata": {},
     "output_type": "execute_result"
    },
    {
     "data": {
      "image/png": "[encoded data removed]",
      "text/plain": [
       "<Figure size 1080x1440 with 20 Axes>"
      ]
     },
     "metadata": {
      "needs_background": "light"
     },
     "output_type": "display_data"
    }
   ],
   "source": [
    "import pandas as pd\n",
    "data=pd.read_csv('/datasets/real_estate_data.csv', sep='\\t')\n",
    "data.info()\n",
    "print(data.head(15))\n",
    "data.hist(figsize=(15, 20))"
   ]
  },
  {
   "cell_type": "markdown",
   "metadata": {},
   "source": [
    "### Предобработка данных"
   ]
  },
  {
   "cell_type": "code",
   "execution_count": 15,
   "metadata": {},
   "outputs": [
    {
     "name": "stdout",
     "output_type": "stream",
     "text": [
      "     total_images  last_price  total_area first_day_exposition  rooms  \\\n",
      "52             20  11795000.0      136.00  2017-09-22T00:00:00      6   \n",
      "108             9   9490000.0       80.00  2017-10-30T00:00:00      3   \n",
      "173            15  11000000.0       97.90  2017-04-11T00:00:00      3   \n",
      "181             2   7900000.0       71.80  2017-08-23T00:00:00      3   \n",
      "223            20   2350000.0       35.40  2017-12-12T00:00:00      1   \n",
      "233            17  19800000.0      118.00  2017-12-15T00:00:00      3   \n",
      "259             6    900000.0       30.00  2017-11-21T00:00:00      1   \n",
      "260             8  17250000.0      102.40  2014-12-09T00:00:00      3   \n",
      "263            12  39900000.0      140.60  2016-11-19T00:00:00      2   \n",
      "354            20   7030000.0       42.60  2017-11-20T00:00:00      2   \n",
      "381            11   2600000.0       86.30  2016-05-24T00:00:00      4   \n",
      "520            16  11700000.0       68.10  2016-11-02T00:00:00      2   \n",
      "525             4   3900000.0       35.00  2016-10-25T00:00:00      1   \n",
      "577             7   4000000.0       59.00  2017-07-23T00:00:00      3   \n",
      "632            20   3350000.0       35.00  2017-11-14T00:00:00      2   \n",
      "705             7   5000000.0       46.04  2017-11-08T00:00:00      2   \n",
      "786             6  18010000.0      137.00  2017-10-18T00:00:00      3   \n",
      "806             3   7520000.0       68.20  2017-12-13T00:00:00      2   \n",
      "913            11   6400000.0       52.00  2017-07-05T00:00:00      2   \n",
      "953            15   4600000.0       57.60  2017-05-15T00:00:00      2   \n",
      "\n",
      "     ceiling_height  floors_total  living_area  floor is_apartment  ...  \\\n",
      "52             3.00           2.0    94.000000      2        False  ...   \n",
      "108            2.55          10.0    46.000000      7        False  ...   \n",
      "173            2.75          16.0    57.700000      3        False  ...   \n",
      "181            3.00           5.0    38.700000      1        False  ...   \n",
      "223            2.60           5.0    18.200000      1        False  ...   \n",
      "233            2.80          25.0    62.000000      3        False  ...   \n",
      "259            2.50           5.0    15.000000      4        False  ...   \n",
      "260            2.65           8.0    53.200000      3        False  ...   \n",
      "263            3.50           8.0    39.800000      7        False  ...   \n",
      "354            2.70          11.0    29.000000      2        False  ...   \n",
      "381            3.00           3.0    63.000000      3        False  ...   \n",
      "520            2.65          17.0    35.400000     10        False  ...   \n",
      "525            2.60           6.0    15.000000      3        False  ...   \n",
      "577            2.50           5.0    37.000000      1        False  ...   \n",
      "632            2.45           9.0    21.000000      9        False  ...   \n",
      "705            2.50           9.0    28.090000      6        False  ...   \n",
      "786            3.10          19.0    79.038462     17        False  ...   \n",
      "806            2.65          28.0    35.700000      5        False  ...   \n",
      "913            2.50          12.0    32.000000      3        False  ...   \n",
      "953            2.70          10.0    30.000000     10        False  ...   \n",
      "\n",
      "     kitchen_area  balcony                          locality_name  \\\n",
      "52          11.00      1.0                        Санкт-Петербург   \n",
      "108         11.00      1.0                        Санкт-Петербург   \n",
      "173         14.70      1.0                        Санкт-Петербург   \n",
      "181         12.00      0.0                        Санкт-Петербург   \n",
      "223          9.80      0.0                      деревня Лесколово   \n",
      "233         21.50      0.0                        Санкт-Петербург   \n",
      "259          5.00      1.0                              Ивангород   \n",
      "260         19.30      1.0                        Санкт-Петербург   \n",
      "263         49.20      4.0                        Санкт-Петербург   \n",
      "354         10.00      0.0                        Санкт-Петербург   \n",
      "381          7.30      1.0                                 Волхов   \n",
      "520         15.40      0.0                        Санкт-Петербург   \n",
      "525          8.30      2.0                             Сестрорецк   \n",
      "577          7.00      0.0                     посёлок Молодёжное   \n",
      "632          6.00      2.0  посёлок городского типа Кузьмоловский   \n",
      "705          8.07      0.0                        Санкт-Петербург   \n",
      "786         22.10      4.0                        Санкт-Петербург   \n",
      "806         10.70      0.0                        Санкт-Петербург   \n",
      "913          8.00      0.0                        Санкт-Петербург   \n",
      "953         10.20      1.0                             Всеволожск   \n",
      "\n",
      "     airports_nearest cityCenters_nearest  parks_around3000  parks_nearest  \\\n",
      "52            16510.0              6582.0               1.0          526.0   \n",
      "108           35958.0              9860.0               0.0            NaN   \n",
      "173           14069.0             12621.0               0.0            NaN   \n",
      "181           22036.0              3301.0               0.0            NaN   \n",
      "223               NaN             13105.0               NaN            NaN   \n",
      "233           36827.0             12348.0               1.0          485.0   \n",
      "259               NaN             13105.0               NaN            NaN   \n",
      "260           39393.0             11096.0               1.0          537.0   \n",
      "263           32537.0              6589.0               0.0            NaN   \n",
      "354           34496.0             15595.0               1.0          513.0   \n",
      "381               NaN             13105.0               NaN            NaN   \n",
      "520           39115.0             12291.0               1.0          328.0   \n",
      "525           55901.0             32830.0               0.0            NaN   \n",
      "577           84665.0             65764.0               0.0            NaN   \n",
      "632               NaN             13105.0               NaN            NaN   \n",
      "705           37499.0             11240.0               0.0            NaN   \n",
      "786           18995.0              4837.0               0.0            NaN   \n",
      "806           48847.0             16685.0               0.0            NaN   \n",
      "913           35197.0             12112.0               0.0            NaN   \n",
      "953               NaN             13105.0               NaN            NaN   \n",
      "\n",
      "     ponds_around3000  ponds_nearest  days_exposition  \n",
      "52                0.0            NaN              NaN  \n",
      "108               0.0            NaN              NaN  \n",
      "173               0.0            NaN              NaN  \n",
      "181               1.0          585.0              NaN  \n",
      "223               NaN            NaN              NaN  \n",
      "233               1.0          474.0              NaN  \n",
      "259               NaN            NaN              NaN  \n",
      "260               0.0            NaN              NaN  \n",
      "263               3.0           99.0              NaN  \n",
      "354               3.0          222.0              NaN  \n",
      "381               NaN            NaN              NaN  \n",
      "520               0.0            NaN              NaN  \n",
      "525               1.0          510.0              NaN  \n",
      "577               0.0            NaN              NaN  \n",
      "632               NaN            NaN              NaN  \n",
      "705               0.0            NaN              NaN  \n",
      "786               0.0            NaN              NaN  \n",
      "806               0.0            NaN              NaN  \n",
      "913               1.0         1240.0              NaN  \n",
      "953               NaN            NaN              NaN  \n",
      "\n",
      "[20 rows x 22 columns]\n",
      "<class 'pandas.core.frame.DataFrame'>\n",
      "Int64Index: 23650 entries, 0 to 23698\n",
      "Data columns (total 22 columns):\n",
      " #   Column                Non-Null Count  Dtype  \n",
      "---  ------                --------------  -----  \n",
      " 0   total_images          23650 non-null  int64  \n",
      " 1   last_price            23650 non-null  float64\n",
      " 2   total_area            23650 non-null  float64\n",
      " 3   first_day_exposition  23650 non-null  object \n",
      " 4   rooms                 23650 non-null  int64  \n",
      " 5   ceiling_height        23650 non-null  float64\n",
      " 6   floors_total          23650 non-null  float64\n",
      " 7   living_area           23650 non-null  float64\n",
      " 8   floor                 23650 non-null  int64  \n",
      " 9   is_apartment          23650 non-null  object \n",
      " 10  studio                23650 non-null  bool   \n",
      " 11  open_plan             23650 non-null  bool   \n",
      " 12  kitchen_area          23650 non-null  float64\n",
      " 13  balcony               23650 non-null  float64\n",
      " 14  locality_name         23650 non-null  object \n",
      " 15  airports_nearest      18116 non-null  float64\n",
      " 16  cityCenters_nearest   23650 non-null  float64\n",
      " 17  parks_around3000      18140 non-null  float64\n",
      " 18  parks_nearest         8064 non-null   float64\n",
      " 19  ponds_around3000      18140 non-null  float64\n",
      " 20  ponds_nearest         9085 non-null   float64\n",
      " 21  days_exposition       20470 non-null  float64\n",
      "dtypes: bool(2), float64(14), int64(3), object(3)\n",
      "memory usage: 3.8+ MB\n",
      "None\n"
     ]
    }
   ],
   "source": [
    "\n",
    "data['ceiling_height']=data['ceiling_height'].fillna(data['ceiling_height'].median())\n",
    "data['balcony']=data['balcony'].fillna(0)\n",
    "data['is_apartment']=data['is_apartment'].fillna('False')\n",
    "data['floors_total']=data['floors_total'].fillna(data['floor'])\n",
    "\n",
    "data=data.dropna(subset=['locality_name'])\n",
    "data['cityCenters_nearest']=data['cityCenters_nearest'].fillna(data['cityCenters_nearest'].median())\n",
    "\n",
    "#изменила формулы для заполнения пропусков на расчет с применением соотношения медиан соответствующих столбцов\n",
    "data['living_area']=data['living_area'].fillna(data['total_area']*(data['living_area']).median()/data['total_area'].median())\n",
    "data['kitchen_area']=data['kitchen_area'].fillna(data['total_area']*(data['kitchen_area']).median()/data['total_area'].median())\n",
    "\n",
    "print(data.loc[(data['days_exposition'].isna())&(data['first_day_exposition']<'2018-01-01T00:00:00')].head(20))\n",
    "\n",
    "print(data.info())"
   ]
  },
  {
   "cell_type": "markdown",
   "metadata": {},
   "source": [
    "Пропуски в данных могут быть обусловлены ошибками, допущенными при ручном заполнении форм, дефектом самих форм, \n",
    "а также ошибками при переносе данных в датасет."
   ]
  },
  {
   "cell_type": "code",
   "execution_count": 16,
   "metadata": {},
   "outputs": [],
   "source": [
    "# изменение типов данных по столбцам\n",
    "data['first_day_exposition']=pd.to_datetime(data['first_day_exposition'], format='%Y.%m.%d')\n",
    "\n",
    "data['is_apartment']= data['is_apartment'].astype('bool')\n",
    "data[['floors_total','balcony']]=data[['floors_total','balcony']].astype('int')\n"
   ]
  },
  {
   "cell_type": "markdown",
   "metadata": {},
   "source": [
    "Произведено изменение  типа данных в столбце 'is_apartment' на булевый, потому что данный столбец является характеристикой помещения (студия или нет).\n",
    "Также произведено изменение типа данных столбца 'first_day_exposition' на тип данных datetime для дальнейших вычислений.\n",
    "Также произведено изменений нескольких столбцов на тип данных int, т.к. согласно первичного анализа данных все значения в указанных столбцах были целочисленными.\n"
   ]
  },
  {
   "cell_type": "code",
   "execution_count": 17,
   "metadata": {},
   "outputs": [],
   "source": [
    "#устранение неявных дубликатов в столбце 'locality_name'\n",
    "data['locality_name'] = data['locality_name'].str.replace('ё', 'е')\n",
    "data['locality_name'] = data['locality_name'].str.replace('городской поселок ', 'поселок')\n",
    "data['locality_name'] = data['locality_name'].str.replace('поселок городского типа ', 'поселок')\n",
    "data['locality_name'] = data['locality_name'].str.replace('поселок станции ', 'поселок')\n",
    "data['locality_name'] = data['locality_name'].str.replace('коттеджный поселок ', 'поселок')\n",
    "data['locality_name'] = data['locality_name'].str.replace('поселок ', '')\n",
    "data['locality_name'] = data['locality_name'].str.replace('поселок', '')\n",
    "data['locality_name'] = data['locality_name'].str.replace('деревня ','')\n",
    "data['locality_name'] = data['locality_name'].str.replace('село ','')"
   ]
  },
  {
   "cell_type": "code",
   "execution_count": 18,
   "metadata": {},
   "outputs": [],
   "source": [
    "# Код ревьюера\n",
    "data['locality_name'] = data['locality_name'].str.replace('ё','е')"
   ]
  },
  {
   "cell_type": "markdown",
   "metadata": {},
   "source": [
    "устранены неявные дубликаты в названиях"
   ]
  },
  {
   "cell_type": "code",
   "execution_count": 19,
   "metadata": {
    "scrolled": true
   },
   "outputs": [
    {
     "name": "stdout",
     "output_type": "stream",
     "text": [
      "[(45.00000000000001, 879), (60.0, 538), (7.0, 234), (30.0, 208), (90.00000000000001, 203), (4.0, 174), (3.0000000000000004, 158), (5.0, 152), (14.0, 148), (9.0, 142)]\n",
      "% остатка базы после удаления выбросов days_exposition total_images            0.938141\n",
      "last_price              0.938141\n",
      "total_area              0.938141\n",
      "first_day_exposition    0.938141\n",
      "rooms                   0.938141\n",
      "ceiling_height          0.938141\n",
      "floors_total            0.938141\n",
      "living_area             0.938141\n",
      "floor                   0.938141\n",
      "is_apartment            0.938141\n",
      "studio                  0.938141\n",
      "open_plan               0.938141\n",
      "kitchen_area            0.938141\n",
      "balcony                 0.938141\n",
      "locality_name           0.938141\n",
      "airports_nearest        0.726824\n",
      "cityCenters_nearest     0.938141\n",
      "parks_around3000        0.727794\n",
      "parks_nearest           0.326132\n",
      "ponds_around3000        0.727794\n",
      "ponds_nearest           0.365163\n",
      "days_exposition         0.803958\n",
      "dtype: float64\n",
      "total_images            22233\n",
      "last_price              22233\n",
      "total_area              22233\n",
      "first_day_exposition    22233\n",
      "rooms                   22233\n",
      "ceiling_height          22233\n",
      "floors_total            22233\n",
      "living_area             22233\n",
      "floor                   22233\n",
      "is_apartment            22233\n",
      "studio                  22233\n",
      "open_plan               22233\n",
      "kitchen_area            22233\n",
      "balcony                 22233\n",
      "locality_name           22233\n",
      "airports_nearest        17225\n",
      "cityCenters_nearest     22233\n",
      "parks_around3000        17248\n",
      "parks_nearest            7729\n",
      "ponds_around3000        17248\n",
      "ponds_nearest            8654\n",
      "days_exposition         19053\n",
      "dtype: int64\n",
      "       total_images    last_price    total_area         rooms  ceiling_height  \\\n",
      "count  22233.000000  2.223300e+04  22233.000000  22233.000000    22233.000000   \n",
      "mean       9.983043  6.681028e+06     60.905335      2.083929        2.701301   \n",
      "std        5.668930  1.118333e+07     36.457807      1.089124        0.258157   \n",
      "min        0.000000  1.219000e+04     12.000000      0.000000        1.000000   \n",
      "25%        6.000000  3.465000e+06     40.000000      1.000000        2.600000   \n",
      "50%       10.000000  4.700000e+06     52.000000      2.000000        2.650000   \n",
      "75%       14.000000  6.900000e+06     70.000000      3.000000        2.700000   \n",
      "max       50.000000  7.630000e+08    900.000000     19.000000       14.000000   \n",
      "\n",
      "       floors_total   living_area         floor  kitchen_area       balcony  \\\n",
      "count  22233.000000  22233.000000  22233.000000  22233.000000  22233.000000   \n",
      "mean      10.648630     34.941231      5.883551     10.577209      0.595286   \n",
      "std        6.558197     22.861386      4.864434      6.162523      0.963680   \n",
      "min        1.000000      2.000000      1.000000      1.300000      0.000000   \n",
      "25%        5.000000     19.000000      2.000000      7.000000      0.000000   \n",
      "50%        9.000000     30.000000      4.000000      9.000000      0.000000   \n",
      "75%       16.000000     42.600000      8.000000     12.000000      1.000000   \n",
      "max       60.000000    409.700000     33.000000    112.000000      5.000000   \n",
      "\n",
      "       airports_nearest  cityCenters_nearest  parks_around3000  parks_nearest  \\\n",
      "count      17225.000000         22233.000000      17248.000000    7729.000000   \n",
      "mean       28736.112685         13875.121171          0.617173     490.637211   \n",
      "std        12582.417610          7568.599838          0.804233     342.040113   \n",
      "min         6450.000000           181.000000          0.000000       1.000000   \n",
      "25%        18573.000000         10820.000000          0.000000     288.000000   \n",
      "50%        26662.000000         13105.000000          0.000000     455.000000   \n",
      "75%        37180.000000         15228.000000          1.000000     612.000000   \n",
      "max        84869.000000         65968.000000          3.000000    3190.000000   \n",
      "\n",
      "       ponds_around3000  ponds_nearest  days_exposition  \n",
      "count      17248.000000     8654.00000     19053.000000  \n",
      "mean           0.774003      516.87578       190.425812  \n",
      "std            0.942083      278.08169       224.809395  \n",
      "min            0.000000       13.00000         1.000000  \n",
      "25%            0.000000      291.25000        42.000000  \n",
      "50%            1.000000      502.00000       108.000000  \n",
      "75%            1.000000      728.00000       249.000000  \n",
      "max            3.000000     1344.00000      1580.000000  \n",
      "% остатка базы после удаления выбросов total_area и last_price total_images            0.848770\n",
      "last_price              0.848770\n",
      "total_area              0.848770\n",
      "first_day_exposition    0.848770\n",
      "rooms                   0.848770\n",
      "ceiling_height          0.848770\n",
      "floors_total            0.848770\n",
      "living_area             0.848770\n",
      "floor                   0.848770\n",
      "is_apartment            0.848770\n",
      "studio                  0.848770\n",
      "open_plan               0.848770\n",
      "kitchen_area            0.848770\n",
      "balcony                 0.848770\n",
      "locality_name           0.848770\n",
      "airports_nearest        0.640154\n",
      "cityCenters_nearest     0.848770\n",
      "parks_around3000        0.640660\n",
      "parks_nearest           0.268492\n",
      "ponds_around3000        0.640660\n",
      "ponds_nearest           0.308283\n",
      "days_exposition         0.737710\n",
      "dtype: float64\n",
      "total_images            20115\n",
      "last_price              20115\n",
      "total_area              20115\n",
      "first_day_exposition    20115\n",
      "rooms                   20115\n",
      "ceiling_height          20115\n",
      "floors_total            20115\n",
      "living_area             20115\n",
      "floor                   20115\n",
      "is_apartment            20115\n",
      "studio                  20115\n",
      "open_plan               20115\n",
      "kitchen_area            20115\n",
      "balcony                 20115\n",
      "locality_name           20115\n",
      "airports_nearest        15171\n",
      "cityCenters_nearest     20115\n",
      "parks_around3000        15183\n",
      "parks_nearest            6363\n",
      "ponds_around3000        15183\n",
      "ponds_nearest            7306\n",
      "days_exposition         17483\n",
      "dtype: int64\n"
     ]
    }
   ],
   "source": [
    "#устранение редких и выбивающихся значений\n",
    "data.loc[data['ceiling_height']>=20, 'ceiling_height']=data['ceiling_height']/10\n",
    "\n",
    "#печатаю 10 самых частых значений столбца 'days_exposition'\n",
    "from collections import Counter\n",
    "print(Counter(data['days_exposition']).most_common(10 ))\n",
    "#удаляю 2 явных выброса из выборки\n",
    "data=data.loc[((data['days_exposition']!= 45.00000000000001)&(data['days_exposition']!=60.0))]\n",
    "\n",
    "print('% остатка базы после удаления выбросов days_exposition', data.count()/23699)\n",
    "print(data.count())\n",
    "\n",
    "print(data.describe())\n",
    "#применяю расчет выбросов по межквартильному интревалу (верхняя граница) к total_area  и last_price\n",
    "data=data.loc[data['total_area']<=70+1.5*(70-40)]\n",
    "data=data.loc[data['last_price']<=6900000+1.5*(6900000-3465000)]\n",
    "print('% остатка базы после удаления выбросов total_area и last_price', data.count()/23699)\n",
    "print(data.count())"
   ]
  },
  {
   "cell_type": "markdown",
   "metadata": {},
   "source": [
    "<div class=\"alert alert-block alert-info\">\n",
    "В целях получения данных о межквартирных интервалах по столбцам last_price, total_area и days_exposition я с помощью \n",
    "print(data.describe()) вывела указанные параметры столбцов.\n",
    "\n",
    "После применила к указанным столбцам формулу удаления выбросов:\n",
    "    \n",
    "    \n",
    "data=data.loc[((data['column']<=(Q3+1.5*(Q3-Q1)))&(data['column']>=(Q1-1.5*(Q3-Q1))))]\n",
    "    \n",
    "    \n",
    "в Q3 и Q1 подставила ранее полученные значения из data.describe().\n",
    "\n",
    "Но к столбцу 'days_exposition' удалось применить только верхнюю границу, т.к при применении нижней обнулялась выборка.\n",
    "\n",
    "</div>"
   ]
  },
  {
   "cell_type": "markdown",
   "metadata": {},
   "source": [
    "<div class=\"alert alert-block alert-info\">\n",
    "<b>Комментарий после второй правки</b>\n",
    "\n",
    "Вычислила и удалила 2 явных выброса по столбцу days_exposition\n",
    "\n",
    "После нашла Q3 и Q1 межквартильных интервалов по столбцам last_price, total_area.\n",
    "Удалила выбросы выше верхней границы по формуле:\n",
    "    data=data.loc[data['column']<=(Q3+1.5*(Q3-Q1))\n",
    "                                                  \n",
    "                                                  \n",
    "В результате получилась таблица 85% от начальной базы данных, больше исходных данных сохранить не получается, \n",
    "т.к. слишком разбросанные диапазоны (и года от 2014 по  2019, и цены от 500 тыс. до 300 млн, \n",
    "в результате чего начинают сбиваться последущие расчеты и графики)\n",
    "\n",
    "</div>"
   ]
  },
  {
   "cell_type": "markdown",
   "metadata": {},
   "source": [
    "по результатам анализа выбивающихся значений в столбцах 'ceiling_height' и 'last_price' устранены выбивающиеся ошибочные значения (расчет с межквартильным размахом по столбцам 'last_price' и 'days_exposition'). "
   ]
  },
  {
   "cell_type": "markdown",
   "metadata": {},
   "source": [
    "Выявленные особенности в данных:\n",
    "после выполнения операций по удалению дубликатов и выбивающихся значений данные стали более однородными, выборка уменьшилась на 5000 строк.  в выборке присутствуют сильно отличающиеся друг от друга объекты - например площадь объекта варьируется от 12 до 114 кв.м., цена объектов также достаточно различается - от 1,2 млн до 118 млн рублей."
   ]
  },
  {
   "cell_type": "markdown",
   "metadata": {},
   "source": [
    "### Посчитайте и добавьте в таблицу новые столбцы"
   ]
  },
  {
   "cell_type": "code",
   "execution_count": 20,
   "metadata": {
    "scrolled": true
   },
   "outputs": [
    {
     "data": {
      "text/html": [
       "<div>\n",
       "<style scoped>\n",
       "    .dataframe tbody tr th:only-of-type {\n",
       "        vertical-align: middle;\n",
       "    }\n",
       "\n",
       "    .dataframe tbody tr th {\n",
       "        vertical-align: top;\n",
       "    }\n",
       "\n",
       "    .dataframe thead th {\n",
       "        text-align: right;\n",
       "    }\n",
       "</style>\n",
       "<table border=\"1\" class=\"dataframe\">\n",
       "  <thead>\n",
       "    <tr style=\"text-align: right;\">\n",
       "      <th></th>\n",
       "      <th>total_images</th>\n",
       "      <th>last_price</th>\n",
       "      <th>total_area</th>\n",
       "      <th>first_day_exposition</th>\n",
       "      <th>rooms</th>\n",
       "      <th>ceiling_height</th>\n",
       "      <th>floors_total</th>\n",
       "      <th>living_area</th>\n",
       "      <th>floor</th>\n",
       "      <th>is_apartment</th>\n",
       "      <th>...</th>\n",
       "      <th>parks_nearest</th>\n",
       "      <th>ponds_around3000</th>\n",
       "      <th>ponds_nearest</th>\n",
       "      <th>days_exposition</th>\n",
       "      <th>price_meter</th>\n",
       "      <th>weekday</th>\n",
       "      <th>month</th>\n",
       "      <th>year</th>\n",
       "      <th>floor_type</th>\n",
       "      <th>Center_km</th>\n",
       "    </tr>\n",
       "  </thead>\n",
       "  <tbody>\n",
       "    <tr>\n",
       "      <th>1</th>\n",
       "      <td>7</td>\n",
       "      <td>3350000.0</td>\n",
       "      <td>40.4</td>\n",
       "      <td>2018-12-04</td>\n",
       "      <td>1</td>\n",
       "      <td>2.65</td>\n",
       "      <td>11</td>\n",
       "      <td>18.6</td>\n",
       "      <td>1</td>\n",
       "      <td>True</td>\n",
       "      <td>...</td>\n",
       "      <td>NaN</td>\n",
       "      <td>0.0</td>\n",
       "      <td>NaN</td>\n",
       "      <td>81.0</td>\n",
       "      <td>82920.79</td>\n",
       "      <td>1</td>\n",
       "      <td>12</td>\n",
       "      <td>2018</td>\n",
       "      <td>первый</td>\n",
       "      <td>19</td>\n",
       "    </tr>\n",
       "    <tr>\n",
       "      <th>2</th>\n",
       "      <td>10</td>\n",
       "      <td>5196000.0</td>\n",
       "      <td>56.0</td>\n",
       "      <td>2015-08-20</td>\n",
       "      <td>2</td>\n",
       "      <td>2.65</td>\n",
       "      <td>5</td>\n",
       "      <td>34.3</td>\n",
       "      <td>4</td>\n",
       "      <td>True</td>\n",
       "      <td>...</td>\n",
       "      <td>90.0</td>\n",
       "      <td>2.0</td>\n",
       "      <td>574.0</td>\n",
       "      <td>558.0</td>\n",
       "      <td>92785.71</td>\n",
       "      <td>3</td>\n",
       "      <td>8</td>\n",
       "      <td>2015</td>\n",
       "      <td>другой</td>\n",
       "      <td>14</td>\n",
       "    </tr>\n",
       "    <tr>\n",
       "      <th>4</th>\n",
       "      <td>2</td>\n",
       "      <td>10000000.0</td>\n",
       "      <td>100.0</td>\n",
       "      <td>2018-06-19</td>\n",
       "      <td>2</td>\n",
       "      <td>3.03</td>\n",
       "      <td>14</td>\n",
       "      <td>32.0</td>\n",
       "      <td>13</td>\n",
       "      <td>True</td>\n",
       "      <td>...</td>\n",
       "      <td>112.0</td>\n",
       "      <td>1.0</td>\n",
       "      <td>48.0</td>\n",
       "      <td>121.0</td>\n",
       "      <td>100000.00</td>\n",
       "      <td>1</td>\n",
       "      <td>6</td>\n",
       "      <td>2018</td>\n",
       "      <td>другой</td>\n",
       "      <td>8</td>\n",
       "    </tr>\n",
       "    <tr>\n",
       "      <th>5</th>\n",
       "      <td>10</td>\n",
       "      <td>2890000.0</td>\n",
       "      <td>30.4</td>\n",
       "      <td>2018-09-10</td>\n",
       "      <td>1</td>\n",
       "      <td>2.65</td>\n",
       "      <td>12</td>\n",
       "      <td>14.4</td>\n",
       "      <td>5</td>\n",
       "      <td>True</td>\n",
       "      <td>...</td>\n",
       "      <td>NaN</td>\n",
       "      <td>NaN</td>\n",
       "      <td>NaN</td>\n",
       "      <td>55.0</td>\n",
       "      <td>95065.79</td>\n",
       "      <td>0</td>\n",
       "      <td>9</td>\n",
       "      <td>2018</td>\n",
       "      <td>другой</td>\n",
       "      <td>13</td>\n",
       "    </tr>\n",
       "    <tr>\n",
       "      <th>6</th>\n",
       "      <td>6</td>\n",
       "      <td>3700000.0</td>\n",
       "      <td>37.3</td>\n",
       "      <td>2017-11-02</td>\n",
       "      <td>1</td>\n",
       "      <td>2.65</td>\n",
       "      <td>26</td>\n",
       "      <td>10.6</td>\n",
       "      <td>6</td>\n",
       "      <td>True</td>\n",
       "      <td>...</td>\n",
       "      <td>NaN</td>\n",
       "      <td>0.0</td>\n",
       "      <td>NaN</td>\n",
       "      <td>155.0</td>\n",
       "      <td>99195.71</td>\n",
       "      <td>3</td>\n",
       "      <td>11</td>\n",
       "      <td>2017</td>\n",
       "      <td>другой</td>\n",
       "      <td>19</td>\n",
       "    </tr>\n",
       "  </tbody>\n",
       "</table>\n",
       "<p>5 rows × 28 columns</p>\n",
       "</div>"
      ],
      "text/plain": [
       "   total_images  last_price  total_area first_day_exposition  rooms  \\\n",
       "1             7   3350000.0        40.4           2018-12-04      1   \n",
       "2            10   5196000.0        56.0           2015-08-20      2   \n",
       "4             2  10000000.0       100.0           2018-06-19      2   \n",
       "5            10   2890000.0        30.4           2018-09-10      1   \n",
       "6             6   3700000.0        37.3           2017-11-02      1   \n",
       "\n",
       "   ceiling_height  floors_total  living_area  floor  is_apartment  ...  \\\n",
       "1            2.65            11         18.6      1          True  ...   \n",
       "2            2.65             5         34.3      4          True  ...   \n",
       "4            3.03            14         32.0     13          True  ...   \n",
       "5            2.65            12         14.4      5          True  ...   \n",
       "6            2.65            26         10.6      6          True  ...   \n",
       "\n",
       "   parks_nearest  ponds_around3000  ponds_nearest  days_exposition  \\\n",
       "1            NaN               0.0            NaN             81.0   \n",
       "2           90.0               2.0          574.0            558.0   \n",
       "4          112.0               1.0           48.0            121.0   \n",
       "5            NaN               NaN            NaN             55.0   \n",
       "6            NaN               0.0            NaN            155.0   \n",
       "\n",
       "  price_meter  weekday  month  year  floor_type  Center_km  \n",
       "1    82920.79        1     12  2018      первый         19  \n",
       "2    92785.71        3      8  2015      другой         14  \n",
       "4   100000.00        1      6  2018      другой          8  \n",
       "5    95065.79        0      9  2018      другой         13  \n",
       "6    99195.71        3     11  2017      другой         19  \n",
       "\n",
       "[5 rows x 28 columns]"
      ]
     },
     "execution_count": 20,
     "metadata": {},
     "output_type": "execute_result"
    }
   ],
   "source": [
    "data['price_meter']=round(data['last_price']/data['total_area'],2)\n",
    "data['weekday']=data['first_day_exposition'].dt.weekday\n",
    "data['month']=data['first_day_exposition'].dt.month\n",
    "data['year']=data['first_day_exposition'].dt.year\n",
    "\n",
    "import numpy as np\n",
    "conditions = [data['floor']==1,  data['floor']==data['floors_total'], data['floor']<data['floors_total']]\n",
    "choices = ['первый', 'последний','другой']\n",
    "data['floor_type'] = np.select (conditions, choices)\n",
    "\n",
    "data['Center_km']=round(data['cityCenters_nearest']/1000).astype('int')\n",
    "data.head()"
   ]
  },
  {
   "cell_type": "markdown",
   "metadata": {},
   "source": [
    "### Проведите исследовательский анализ данных"
   ]
  },
  {
   "cell_type": "code",
   "execution_count": 21,
   "metadata": {
    "scrolled": true
   },
   "outputs": [
    {
     "data": {
      "text/plain": [
       "array([[<AxesSubplot:title={'center':'total_area'}>,\n",
       "        <AxesSubplot:title={'center':'living_area'}>,\n",
       "        <AxesSubplot:title={'center':'kitchen_area'}>,\n",
       "        <AxesSubplot:title={'center':'last_price'}>],\n",
       "       [<AxesSubplot:title={'center':'rooms'}>,\n",
       "        <AxesSubplot:title={'center':'ceiling_height'}>,\n",
       "        <AxesSubplot:title={'center':'floor'}>,\n",
       "        <AxesSubplot:title={'center':'floors_total'}>],\n",
       "       [<AxesSubplot:title={'center':'cityCenters_nearest'}>,\n",
       "        <AxesSubplot:title={'center':'airports_nearest'}>,\n",
       "        <AxesSubplot:title={'center':'parks_nearest'}>,\n",
       "        <AxesSubplot:title={'center':'weekday'}>],\n",
       "       [<AxesSubplot:title={'center':'month'}>, <AxesSubplot:>,\n",
       "        <AxesSubplot:>, <AxesSubplot:>]], dtype=object)"
      ]
     },
     "execution_count": 21,
     "metadata": {},
     "output_type": "execute_result"
    },
    {
     "data": {
      "image/png": "[encoded data removed]",
      "text/plain": [
       "<Figure size 2160x2520 with 16 Axes>"
      ]
     },
     "metadata": {
      "needs_background": "light"
     },
     "output_type": "display_data"
    }
   ],
   "source": [
    "hist_list=['total_area','living_area','kitchen_area','last_price',\\\n",
    "           'rooms','ceiling_height','floor','floor_type', \\\n",
    "           'floors_total','cityCenters_nearest', 'airports_nearest',\\\n",
    "          'parks_nearest', 'weekday', 'month' ]\n",
    "data[hist_list].hist(figsize=(30, 35), bins=30)"
   ]
  },
  {
   "cell_type": "markdown",
   "metadata": {},
   "source": [
    "Наблюдения по параметрам гистограмм:\n",
    "1. общая площадь - основная часть квартир датафрейма имеет площадь от 30 до 60 кв.м. \n",
    "2. жилая площадь квартир в основном варьируется от 15 до 50 кв. м.\n",
    "3. площадь кухни - наиболее часто встречается площадь кухни около 10 кв.м. (стандарт)\n",
    "4. цена квартиры - основная часть квартир продается в диапазоне 30-50 млн рублей (9 000 вариантов), далее идут цены от 50 до 60 млн рублей (3 000 вариантов)\n",
    "5. количество комнат - основные варианты - одно и двух комнатные квартиры - более 50 процентов базы, квартир с количеством комнат 3 и 4 значительно меньше\n",
    "6. высота потолков - абсолютное большинство вариантв имеют стандартную высоту потолка около 3 м.\n",
    "7. этаж - половина продаваемых квартир находятся на нижних этажах - до пятого.\n",
    "8. этажность дома - большая часть вариантов находятся в домах этажностью 5-10 этажей.\n",
    "9. расстояние от центра - основная часть квартир находится в пределах 10 км от центра, далее больше 5000 вариантов  имеют расстояние от 10 до 20 км. от центра\n",
    "10. расстояние от аэропорта - около половины квартир расположены на расстоянии 20 км от аэропорта, также значительная часть распределена примерно в 10 и 30-40 км от аэропорта, при увеличении расстояния от аэропорта доля квартир снижается.\n",
    "11. парки рядом - основная масса квартир расположена рядом с парками, около  500 м, редко встречаются варианты до 1 км от парка.\n",
    "12. дни публикации объявлений  - в основном объявления опубликованы в будние дни, разница между днями не слишком значительна, по понедельникам публикации немного реже. по выходным количество публикаций падает примерно вдвое.\n"
   ]
  },
  {
   "cell_type": "code",
   "execution_count": 22,
   "metadata": {
    "scrolled": true
   },
   "outputs": [
    {
     "name": "stdout",
     "output_type": "stream",
     "text": [
      " Медианное значение срока размещения объявления  103.0\n",
      " Среднее значение срока размещения объявления  182.01715952639708\n"
     ]
    },
    {
     "data": {
      "image/png": "[encoded data removed]",
      "text/plain": [
       "<Figure size 1080x1440 with 1 Axes>"
      ]
     },
     "metadata": {
      "needs_background": "light"
     },
     "output_type": "display_data"
    }
   ],
   "source": [
    "# анализ столбца days_exposition - скорость продажи квартир\n",
    "\n",
    "data['days_exposition'].hist(figsize=(15, 20), bins=100)\n",
    "print(' Медианное значение срока размещения объявления ', data['days_exposition'].median() )\n",
    "print(' Среднее значение срока размещения объявления ', data['days_exposition'].mean() )"
   ]
  },
  {
   "cell_type": "markdown",
   "metadata": {},
   "source": [
    "Наиболее часто срок размещения объявления до снятия составляет около 30 дней. Медианой является 98 дней, средний срок размещения \n",
    "объявления составляет 143 дня.\n",
    "Быстрой можно считать продажу со сроком размещения до 50 дней, необычно долгой более 200 дней. в базе имеются варианты со сроками продажи более года, что также достаточно редкий случай.\n"
   ]
  },
  {
   "cell_type": "code",
   "execution_count": 23,
   "metadata": {},
   "outputs": [
    {
     "data": {
      "image/png": "[encoded data removed]",
      "text/plain": [
       "<Figure size 432x288 with 1 Axes>"
      ]
     },
     "metadata": {
      "needs_background": "light"
     },
     "output_type": "display_data"
    },
    {
     "data": {
      "image/png": "[encoded data removed]",
      "text/plain": [
       "<Figure size 576x432 with 2 Axes>"
      ]
     },
     "metadata": {
      "needs_background": "light"
     },
     "output_type": "display_data"
    },
    {
     "data": {
      "image/png": "[encoded data removed]",
      "text/plain": [
       "<Figure size 576x432 with 2 Axes>"
      ]
     },
     "metadata": {
      "needs_background": "light"
     },
     "output_type": "display_data"
    },
    {
     "data": {
      "image/png": "[encoded data removed]",
      "text/plain": [
       "<Figure size 576x432 with 2 Axes>"
      ]
     },
     "metadata": {
      "needs_background": "light"
     },
     "output_type": "display_data"
    },
    {
     "data": {
      "image/png": "[encoded data removed]",
      "text/plain": [
       "<Figure size 576x432 with 2 Axes>"
      ]
     },
     "metadata": {
      "needs_background": "light"
     },
     "output_type": "display_data"
    },
    {
     "data": {
      "image/png": "[encoded data removed]",
      "text/plain": [
       "<Figure size 576x432 with 2 Axes>"
      ]
     },
     "metadata": {
      "needs_background": "light"
     },
     "output_type": "display_data"
    },
    {
     "data": {
      "image/png": "[encoded data removed]",
      "text/plain": [
       "<Figure size 576x432 with 2 Axes>"
      ]
     },
     "metadata": {
      "needs_background": "light"
     },
     "output_type": "display_data"
    },
    {
     "data": {
      "image/png": "[encoded data removed]",
      "text/plain": [
       "<Figure size 576x432 with 2 Axes>"
      ]
     },
     "metadata": {
      "needs_background": "light"
     },
     "output_type": "display_data"
    }
   ],
   "source": [
    "# анализ факторов влияния на стоимость квартиры\n",
    "import seaborn as sns\n",
    "sns.barplot(data=data, x='floor_type', y='last_price')\n",
    "barplot_list = data[['total_area', 'living_area', 'kitchen_area', 'rooms', 'weekday', 'month', 'year']]\n",
    "for i in barplot_list:\n",
    "    data.plot(x='last_price', y=i, kind='hexbin', gridsize=20, figsize=(8,6), grid=True, sharex=False)\n",
    "\n",
    "#data[['last_price', 'weekday', 'month', 'year']].plot(x='last_price', kind='bar')"
   ]
  },
  {
   "cell_type": "markdown",
   "metadata": {},
   "source": [
    "Согласно графика видна зависимость стоимости квартиры от этажа - стоимость квартир на 1 этаже несколько ниже, чем средних и последних этажей.\n",
    "БОльшая часть квартир в диапазоне от  30 до 60 кв.м. продается по цене от 20 до 50 млн. руб.\n",
    "Основная часть квартир с жилой площадью около 20 кв.м. продаются в диапаpоне 20-40 млн. руб.\n",
    "Квартиры с площадью кухни 8-10 кв.м. продаются в среднем ценовом сегменте от 30 до 50 млн. руб.\n",
    "Основная стоимость однокомнатных квартир составляет 30-40 млн. руб, двухкомнатных - 40-50 млн. руб., трехкомнатных -50-60 млн. руб.\n",
    "Наиболее часто объявления о продаже квартир выставляются в базу в будние дни - с понедельника по пятницу, на выходных объявлений значительно меньше.\n",
    "Наиболее часто продажа квартир происходит весной - с марта по май.\n",
    "Большая часть объявлений базы данных опубликованы в  2017 и 2018 году."
   ]
  },
  {
   "cell_type": "code",
   "execution_count": 24,
   "metadata": {},
   "outputs": [
    {
     "data": {
      "text/html": [
       "<div>\n",
       "<style scoped>\n",
       "    .dataframe tbody tr th:only-of-type {\n",
       "        vertical-align: middle;\n",
       "    }\n",
       "\n",
       "    .dataframe tbody tr th {\n",
       "        vertical-align: top;\n",
       "    }\n",
       "\n",
       "    .dataframe thead th {\n",
       "        text-align: right;\n",
       "    }\n",
       "</style>\n",
       "<table border=\"1\" class=\"dataframe\">\n",
       "  <thead>\n",
       "    <tr style=\"text-align: right;\">\n",
       "      <th></th>\n",
       "      <th>mean</th>\n",
       "      <th>count</th>\n",
       "    </tr>\n",
       "    <tr>\n",
       "      <th>locality_name</th>\n",
       "      <th></th>\n",
       "      <th></th>\n",
       "    </tr>\n",
       "  </thead>\n",
       "  <tbody>\n",
       "    <tr>\n",
       "      <th>Санкт-Петербург</th>\n",
       "      <td>106021.843052</td>\n",
       "      <td>13003</td>\n",
       "    </tr>\n",
       "    <tr>\n",
       "      <th>Мурино</th>\n",
       "      <td>85961.556877</td>\n",
       "      <td>554</td>\n",
       "    </tr>\n",
       "    <tr>\n",
       "      <th>Кудрово</th>\n",
       "      <td>94941.642336</td>\n",
       "      <td>428</td>\n",
       "    </tr>\n",
       "    <tr>\n",
       "      <th>Шушары</th>\n",
       "      <td>78898.618015</td>\n",
       "      <td>403</td>\n",
       "    </tr>\n",
       "    <tr>\n",
       "      <th>Всеволожск</th>\n",
       "      <td>67086.391671</td>\n",
       "      <td>365</td>\n",
       "    </tr>\n",
       "    <tr>\n",
       "      <th>Пушкин</th>\n",
       "      <td>100671.924752</td>\n",
       "      <td>322</td>\n",
       "    </tr>\n",
       "    <tr>\n",
       "      <th>Колпино</th>\n",
       "      <td>75499.443432</td>\n",
       "      <td>303</td>\n",
       "    </tr>\n",
       "    <tr>\n",
       "      <th>Парголово</th>\n",
       "      <td>90746.307931</td>\n",
       "      <td>290</td>\n",
       "    </tr>\n",
       "    <tr>\n",
       "      <th>Гатчина</th>\n",
       "      <td>68421.542872</td>\n",
       "      <td>282</td>\n",
       "    </tr>\n",
       "    <tr>\n",
       "      <th>Выборг</th>\n",
       "      <td>58207.986800</td>\n",
       "      <td>200</td>\n",
       "    </tr>\n",
       "  </tbody>\n",
       "</table>\n",
       "</div>"
      ],
      "text/plain": [
       "                          mean  count\n",
       "locality_name                        \n",
       "Санкт-Петербург  106021.843052  13003\n",
       "Мурино            85961.556877    554\n",
       "Кудрово           94941.642336    428\n",
       "Шушары            78898.618015    403\n",
       "Всеволожск        67086.391671    365\n",
       "Пушкин           100671.924752    322\n",
       "Колпино           75499.443432    303\n",
       "Парголово         90746.307931    290\n",
       "Гатчина           68421.542872    282\n",
       "Выборг            58207.986800    200"
      ]
     },
     "execution_count": 24,
     "metadata": {},
     "output_type": "execute_result"
    }
   ],
   "source": [
    "#расчет средней цены одного квадратного метра в 10 населённых пунктах с наибольшим числом объявлений\n",
    "data_local=data.pivot_table(index='locality_name', values='price_meter', aggfunc=['mean','count'])\n",
    "data_local.columns=['mean','count']\n",
    "data_local.sort_values('count', ascending=False).head(10)"
   ]
  },
  {
   "cell_type": "markdown",
   "metadata": {},
   "source": [
    "Средняя цена квадратного метра больше всего в Санкт-Петербурге, она составляет 106021.84 руб./кв.м., дешевле всего стоимость квадратного метра в Выборге - 58207.98 руб./кв.м."
   ]
  },
  {
   "cell_type": "code",
   "execution_count": 25,
   "metadata": {},
   "outputs": [
    {
     "data": {
      "text/plain": [
       "<AxesSubplot:xlabel='Center_km'>"
      ]
     },
     "execution_count": 25,
     "metadata": {},
     "output_type": "execute_result"
    },
    {
     "data": {
      "image/png": "[encoded data removed]",
      "text/plain": [
       "<Figure size 432x288 with 1 Axes>"
      ]
     },
     "metadata": {
      "needs_background": "light"
     },
     "output_type": "display_data"
    }
   ],
   "source": [
    "# расчет стоимости километра в Санкт-Петербурге\n",
    "data_spb=data.loc[data['locality_name']=='Санкт-Петербург', ['last_price', 'Center_km']]\n",
    "data_spb.columns=['last_price', 'Center_km']\n",
    "data_spb_pivot=data_spb.pivot_table(index='Center_km', values='last_price', aggfunc=['median'])\n",
    "data_spb_pivot.columns=['median_last_price']\n",
    "\n",
    "data_spb_pivot.plot()"
   ]
  },
  {
   "cell_type": "markdown",
   "metadata": {},
   "source": [
    "Согласно расчетов и графика прослеживается зависимость между расстоянием от центра города и стоимостью объектов недвижимости. Наиболее дорогая недвижимость находится в центра города (расстояние до 5 км). Далее стоимость постепенно снижается."
   ]
  },
  {
   "cell_type": "markdown",
   "metadata": {},
   "source": [
    "### Общий вывод"
   ]
  },
  {
   "cell_type": "markdown",
   "metadata": {},
   "source": [
    "В рамках работы над проектом произведен анализ базы данных объектов недвижимости более 23 000 строк.\n",
    "В ходе предварительной обработки данных произведен поиск и удаление явных и неявных дубликатов, поиск пропусков, заполнение пропусков подходящими значениями, не искажающими результаты анализа.\n",
    "Также произведена обработка датафрейма, удаление выбросов в целях корректного анализа данных, устранены явные ошибки.\n",
    "Также в ходе предварительной обработки данных изменены типы данных нескольких столбцов в целях корректного последующего анализа.\n",
    "Выявлены основные причины ошибок в данных - они могут быть обусловлены ошибками, допущенными при ручном заполнении форм, дефектом самих форм, а также ошибками при переносе данных в датасет.\n",
    "После выполнения операций по удалению дубликатов и выбивающихся значений данные стали более однородными, выборка уменьшилась на 5000 строк. в выборке присутствуют сильно отличающиеся друг от друга объекты - например площадь объекта варьируется от 12 до 114 кв.м., цена объектов также достаточно различается - от 1,2 млн до 118 млн рублей.\n",
    "\n",
    "Далее произведен исследовательский анализ данных.\n",
    "\n",
    "Наблюдения по параметрам гистограмм:\n",
    "общая площадь - основная часть квартир датафрейма имеет площадь от 30 до 60 кв.м. \n",
    " жилая площадь квартир в основном варьируется от 15 до 50 кв. м.\n",
    "площадь кухни - наиболее часто встречается площадь кухни около 10 кв.м. (стандарт)\n",
    "цена квартиры - основная часть квартир продается в диапазоне 30-50 млн рублей (9 000 вариантов), далее идут цены от 50 до 60 млн рублей (3 000 вариантов)\n",
    "количество комнат - основные варианты - одно и двух комнатные квартиры - более 50 процентов базы, квартир с количеством комнат 3 и 4 значительно меньше\n",
    "высота потолков - абсолютное большинство вариантв имеют стандартную высоту потолка около 3 м.\n",
    "этаж - половина продаваемых квартир находятся на нижних этажах - до пятого.\n",
    "этажность дома - большая часть вариантов находятся в домах этажностью 5-10 этажей.\n",
    "расстояние от центра - основная часть квартир находится в пределах 10 км от центра, далее больше 5000 вариантов  имеют расстояние от 10 до 20 км. от центра\n",
    "расстояние от аэропорта - около половины квартир расположены на расстоянии 20 км от аэропорта, также значительная часть распределена примерно в 10 и 30-40 км от аэропорта, при увеличении расстояния от аэропорта доля квартир снижается.\n",
    "парки рядом - основная масса квартир расположена рядом с парками, около  500 м, редко встречаются варианты до 1 км от парка.\n",
    "дни публикации объявлений  - в основном объявления опубликованы в будние дни, разница между днями не слишком значительна, по понедельникам публикации немного реже. по выходным количество публикаций падает примерно вдвое.\n",
    "\n",
    "Кроме того, проведен анализ сроков размещения объектов - наиболее частый срок размещения объявления - 30 дней , Медианой является 98 дней, средний срок размещения объявления составляет 143 дня.\n",
    "Быстрой можно считать продажу со сроком размещения до 50 дней, необычно долгой более 200 дней. в базе имеются варианты со сроками продажи более года, что также достаточно редкий случай.\n",
    "\n",
    "После выполнения указанных действий проведен анализ зависимости цены объекта от различных факторов, в ходе которого выявлены следующие закономерности:\n",
    "Согласно графика видна зависимость стоимости квартиры от этажа - стоимость квартир на 1 этаже несколько ниже, чем средних и последних этажей.\n",
    "БОльшая часть квартир в диапазоне от  30 до 60 кв.м. продается по цене от 20 до 50 млн. руб.\n",
    "Основная часть квартир с жилой площадью около 20 кв.м. продаются в диапахоне 20-40 млн. руб.\n",
    "Квартиры с площадью кухни 8-10 кв.м. продаются в среднем ценовом сегменте от 30 до 50 млн. руб.\n",
    "Основная стоимость однокомнатных квартир составляет 30-40 млн. руб, двухкомнатных - 40-50 млн. руб., трехкомнатных -50-60 млн. руб.\n",
    "Наиболее часто объявления о продаже квартир выставляются в базу в будние дни - с понедельника по пятницу, на выходных объявлений значительно меньше.\n",
    "Наиболее часто продажа квартир происходит весной - с марта по май.\n",
    "Большая часть объявлений базы данных опубликованы в  2017 и 2018 году.\n",
    "\n",
    "После этого проведен анализ стоимости жилья в 10 населенных пунктах с наибольшим количеством объявлений.\n",
    "В результате анализа выявлено, что средняя цена квадратного метра больше всего в Санкт-Петербурге, она составляет 104118.75 руб./кв.м., дешевле всего стоимость квадратного метра в Выборге - 57366.81 руб./кв.м.\n",
    "\n",
    "На последнем этапе проведен исследовательский анализ зависимости стоимости квартиры в Санкт-Петербурге от расстояния до центра города - согласно расчетов и графика прослеживается зависимость между расстоянием от центра города и стоимостью объектов недвижимости. Наиболее дорогая недвижимость находится в центра города (расстояние до 5 км). Далее стоимость постепенно снижается.\n"
   ]
  }
 ],
 "metadata": {
  "ExecuteTimeLog": [
   {
    "duration": 558,
    "start_time": "2023-03-06T12:46:21.251Z"
   },
   {
    "duration": 95,
    "start_time": "2023-03-06T12:46:39.904Z"
   },
   {
    "duration": 493,
    "start_time": "2023-03-06T12:47:05.012Z"
   },
   {
    "duration": 110,
    "start_time": "2023-03-06T12:47:38.203Z"
   },
   {
    "duration": 46,
    "start_time": "2023-03-06T12:48:20.408Z"
   },
   {
    "duration": 48,
    "start_time": "2023-03-06T12:48:30.997Z"
   },
   {
    "duration": 50,
    "start_time": "2023-03-06T12:49:53.117Z"
   },
   {
    "duration": 94,
    "start_time": "2023-03-06T12:50:34.614Z"
   },
   {
    "duration": 94,
    "start_time": "2023-03-06T12:50:43.715Z"
   },
   {
    "duration": 113,
    "start_time": "2023-03-06T12:50:58.506Z"
   },
   {
    "duration": 122,
    "start_time": "2023-03-06T12:51:35.642Z"
   },
   {
    "duration": 2106,
    "start_time": "2023-03-06T12:57:57.895Z"
   },
   {
    "duration": 26,
    "start_time": "2023-03-06T13:01:52.278Z"
   },
   {
    "duration": 11,
    "start_time": "2023-03-06T13:12:57.881Z"
   },
   {
    "duration": 76,
    "start_time": "2023-03-06T13:17:11.810Z"
   },
   {
    "duration": 13,
    "start_time": "2023-03-06T13:17:30.478Z"
   },
   {
    "duration": 27,
    "start_time": "2023-03-06T13:17:49.494Z"
   },
   {
    "duration": 37,
    "start_time": "2023-03-06T13:18:29.400Z"
   },
   {
    "duration": 14,
    "start_time": "2023-03-06T13:19:01.705Z"
   },
   {
    "duration": 10,
    "start_time": "2023-03-06T13:19:12.140Z"
   },
   {
    "duration": 2083,
    "start_time": "2023-03-06T13:19:26.617Z"
   },
   {
    "duration": 13,
    "start_time": "2023-03-06T13:19:43.300Z"
   },
   {
    "duration": 17,
    "start_time": "2023-03-06T13:21:48.333Z"
   },
   {
    "duration": 10,
    "start_time": "2023-03-06T13:22:03.728Z"
   },
   {
    "duration": 2075,
    "start_time": "2023-03-06T13:32:27.678Z"
   },
   {
    "duration": 1950,
    "start_time": "2023-03-06T13:32:46.454Z"
   },
   {
    "duration": 2130,
    "start_time": "2023-03-06T13:33:25.163Z"
   },
   {
    "duration": 19,
    "start_time": "2023-03-06T13:38:51.685Z"
   },
   {
    "duration": 16,
    "start_time": "2023-03-06T13:41:27.101Z"
   },
   {
    "duration": 3,
    "start_time": "2023-03-06T13:43:22.918Z"
   },
   {
    "duration": 2,
    "start_time": "2023-03-06T13:43:26.669Z"
   },
   {
    "duration": 52,
    "start_time": "2023-03-06T13:43:41.025Z"
   },
   {
    "duration": 2,
    "start_time": "2023-03-06T13:43:53.773Z"
   },
   {
    "duration": 18,
    "start_time": "2023-03-06T14:04:47.281Z"
   },
   {
    "duration": 19,
    "start_time": "2023-03-06T14:06:01.294Z"
   },
   {
    "duration": 381,
    "start_time": "2023-03-06T14:07:34.313Z"
   },
   {
    "duration": 12,
    "start_time": "2023-03-06T14:08:36.120Z"
   },
   {
    "duration": 15,
    "start_time": "2023-03-06T14:09:09.024Z"
   },
   {
    "duration": 64,
    "start_time": "2023-03-06T14:11:20.284Z"
   },
   {
    "duration": 23,
    "start_time": "2023-03-06T14:11:30.724Z"
   },
   {
    "duration": 14,
    "start_time": "2023-03-06T14:12:32.011Z"
   },
   {
    "duration": 11,
    "start_time": "2023-03-06T14:13:50.879Z"
   },
   {
    "duration": 13,
    "start_time": "2023-03-06T14:14:16.732Z"
   },
   {
    "duration": 11,
    "start_time": "2023-03-06T14:14:58.083Z"
   },
   {
    "duration": 11,
    "start_time": "2023-03-06T14:15:41.049Z"
   },
   {
    "duration": 5,
    "start_time": "2023-03-06T14:16:13.084Z"
   },
   {
    "duration": 8,
    "start_time": "2023-03-06T14:18:37.026Z"
   },
   {
    "duration": 11,
    "start_time": "2023-03-06T14:18:56.591Z"
   },
   {
    "duration": 31,
    "start_time": "2023-03-06T14:19:11.696Z"
   },
   {
    "duration": 17,
    "start_time": "2023-03-06T14:22:08.216Z"
   },
   {
    "duration": 26,
    "start_time": "2023-03-06T14:22:08.284Z"
   },
   {
    "duration": 5,
    "start_time": "2023-03-06T14:22:14.941Z"
   },
   {
    "duration": 19,
    "start_time": "2023-03-06T14:22:28.049Z"
   },
   {
    "duration": 13,
    "start_time": "2023-03-06T14:48:10.596Z"
   },
   {
    "duration": 7,
    "start_time": "2023-03-06T14:50:18.889Z"
   },
   {
    "duration": 13,
    "start_time": "2023-03-06T14:50:57.615Z"
   },
   {
    "duration": 16,
    "start_time": "2023-03-06T14:51:56.889Z"
   },
   {
    "duration": 6,
    "start_time": "2023-03-06T14:53:14.233Z"
   },
   {
    "duration": 40,
    "start_time": "2023-03-06T14:53:59.000Z"
   },
   {
    "duration": 64,
    "start_time": "2023-03-06T14:54:05.158Z"
   },
   {
    "duration": 6,
    "start_time": "2023-03-06T14:54:16.182Z"
   },
   {
    "duration": 14,
    "start_time": "2023-03-06T14:54:57.954Z"
   },
   {
    "duration": 14,
    "start_time": "2023-03-06T14:55:01.549Z"
   },
   {
    "duration": 6,
    "start_time": "2023-03-06T14:55:07.656Z"
   },
   {
    "duration": 2034,
    "start_time": "2023-03-06T14:58:04.710Z"
   },
   {
    "duration": 14,
    "start_time": "2023-03-06T14:58:06.746Z"
   },
   {
    "duration": 10,
    "start_time": "2023-03-06T14:58:06.762Z"
   },
   {
    "duration": 9,
    "start_time": "2023-03-06T15:13:01.178Z"
   },
   {
    "duration": 17,
    "start_time": "2023-03-06T15:13:28.691Z"
   },
   {
    "duration": 27,
    "start_time": "2023-03-06T15:13:45.187Z"
   },
   {
    "duration": 11,
    "start_time": "2023-03-06T15:14:28.669Z"
   },
   {
    "duration": 1880,
    "start_time": "2023-03-06T15:14:45.025Z"
   },
   {
    "duration": 17,
    "start_time": "2023-03-06T15:14:46.907Z"
   },
   {
    "duration": 11,
    "start_time": "2023-03-06T15:20:26.625Z"
   },
   {
    "duration": 12,
    "start_time": "2023-03-06T15:22:04.504Z"
   },
   {
    "duration": 65,
    "start_time": "2023-03-06T15:22:29.268Z"
   },
   {
    "duration": 10,
    "start_time": "2023-03-06T15:23:40.847Z"
   },
   {
    "duration": 58,
    "start_time": "2023-03-06T15:24:09.511Z"
   },
   {
    "duration": 2074,
    "start_time": "2023-03-06T15:24:19.269Z"
   },
   {
    "duration": 66,
    "start_time": "2023-03-06T15:24:21.345Z"
   },
   {
    "duration": 9,
    "start_time": "2023-03-06T15:24:21.412Z"
   },
   {
    "duration": 23,
    "start_time": "2023-03-06T15:24:50.919Z"
   },
   {
    "duration": 9,
    "start_time": "2023-03-06T15:24:58.409Z"
   },
   {
    "duration": 27,
    "start_time": "2023-03-06T15:25:13.470Z"
   },
   {
    "duration": 22,
    "start_time": "2023-03-06T15:25:29.885Z"
   },
   {
    "duration": 21,
    "start_time": "2023-03-06T15:25:42.232Z"
   },
   {
    "duration": 21,
    "start_time": "2023-03-06T15:25:46.106Z"
   },
   {
    "duration": 10,
    "start_time": "2023-03-06T15:25:48.935Z"
   },
   {
    "duration": 28,
    "start_time": "2023-03-06T15:26:30.084Z"
   },
   {
    "duration": 725,
    "start_time": "2023-03-06T15:39:23.038Z"
   },
   {
    "duration": 35,
    "start_time": "2023-03-06T15:39:48.823Z"
   },
   {
    "duration": 32,
    "start_time": "2023-03-06T15:40:51.657Z"
   },
   {
    "duration": 30,
    "start_time": "2023-03-06T15:41:01.079Z"
   },
   {
    "duration": 31,
    "start_time": "2023-03-06T15:41:10.874Z"
   },
   {
    "duration": 29,
    "start_time": "2023-03-06T15:41:18.624Z"
   },
   {
    "duration": 32,
    "start_time": "2023-03-06T15:41:57.182Z"
   },
   {
    "duration": 18,
    "start_time": "2023-03-06T15:43:00.225Z"
   },
   {
    "duration": 8,
    "start_time": "2023-03-06T15:43:08.509Z"
   },
   {
    "duration": 363,
    "start_time": "2023-03-06T15:43:28.204Z"
   },
   {
    "duration": 381,
    "start_time": "2023-03-06T15:43:47.571Z"
   },
   {
    "duration": 378,
    "start_time": "2023-03-06T15:44:01.693Z"
   },
   {
    "duration": 8,
    "start_time": "2023-03-06T15:44:16.210Z"
   },
   {
    "duration": 74,
    "start_time": "2023-03-07T09:45:43.005Z"
   },
   {
    "duration": 3020,
    "start_time": "2023-03-07T09:45:50.691Z"
   },
   {
    "duration": 9,
    "start_time": "2023-03-07T09:45:53.713Z"
   },
   {
    "duration": 11,
    "start_time": "2023-03-07T09:45:53.724Z"
   },
   {
    "duration": 8,
    "start_time": "2023-03-07T10:55:05.086Z"
   },
   {
    "duration": 65,
    "start_time": "2023-03-07T11:33:58.668Z"
   },
   {
    "duration": 69,
    "start_time": "2023-03-07T11:34:04.891Z"
   },
   {
    "duration": 9,
    "start_time": "2023-03-07T11:34:39.124Z"
   },
   {
    "duration": 13,
    "start_time": "2023-03-07T11:42:18.761Z"
   },
   {
    "duration": 12,
    "start_time": "2023-03-07T11:42:44.701Z"
   },
   {
    "duration": 8,
    "start_time": "2023-03-07T11:45:19.984Z"
   },
   {
    "duration": 7,
    "start_time": "2023-03-07T11:49:27.000Z"
   },
   {
    "duration": 8,
    "start_time": "2023-03-07T11:49:58.391Z"
   },
   {
    "duration": 11,
    "start_time": "2023-03-07T11:51:17.896Z"
   },
   {
    "duration": 9,
    "start_time": "2023-03-07T11:51:30.574Z"
   },
   {
    "duration": 10,
    "start_time": "2023-03-07T11:56:28.316Z"
   },
   {
    "duration": 10,
    "start_time": "2023-03-07T11:56:33.269Z"
   },
   {
    "duration": 17,
    "start_time": "2023-03-07T11:56:43.594Z"
   },
   {
    "duration": 23,
    "start_time": "2023-03-07T12:13:47.467Z"
   },
   {
    "duration": 26,
    "start_time": "2023-03-07T12:16:00.601Z"
   },
   {
    "duration": 14,
    "start_time": "2023-03-07T12:17:41.297Z"
   },
   {
    "duration": 30,
    "start_time": "2023-03-07T12:18:49.863Z"
   },
   {
    "duration": 25,
    "start_time": "2023-03-07T12:19:15.372Z"
   },
   {
    "duration": 32,
    "start_time": "2023-03-07T12:20:02.030Z"
   },
   {
    "duration": 22,
    "start_time": "2023-03-07T12:21:14.407Z"
   },
   {
    "duration": 26,
    "start_time": "2023-03-07T12:21:52.500Z"
   },
   {
    "duration": 81,
    "start_time": "2023-03-07T12:22:36.146Z"
   },
   {
    "duration": 30,
    "start_time": "2023-03-07T12:23:09.219Z"
   },
   {
    "duration": 846,
    "start_time": "2023-03-07T12:23:55.040Z"
   },
   {
    "duration": 26,
    "start_time": "2023-03-07T12:24:19.612Z"
   },
   {
    "duration": 34,
    "start_time": "2023-03-07T12:27:01.317Z"
   },
   {
    "duration": 18,
    "start_time": "2023-03-07T12:27:52.919Z"
   },
   {
    "duration": 15,
    "start_time": "2023-03-07T12:31:11.211Z"
   },
   {
    "duration": 871,
    "start_time": "2023-03-07T12:37:49.943Z"
   },
   {
    "duration": 15,
    "start_time": "2023-03-07T12:37:56.041Z"
   },
   {
    "duration": 91,
    "start_time": "2023-03-07T12:51:04.395Z"
   },
   {
    "duration": 89,
    "start_time": "2023-03-07T12:53:31.390Z"
   },
   {
    "duration": 24,
    "start_time": "2023-03-07T12:53:40.435Z"
   },
   {
    "duration": 119,
    "start_time": "2023-03-07T12:53:43.615Z"
   },
   {
    "duration": 2014,
    "start_time": "2023-03-07T12:54:37.767Z"
   },
   {
    "duration": 27,
    "start_time": "2023-03-07T12:54:39.783Z"
   },
   {
    "duration": 14,
    "start_time": "2023-03-07T12:54:39.811Z"
   },
   {
    "duration": 52,
    "start_time": "2023-03-08T03:07:23.376Z"
   },
   {
    "duration": 2756,
    "start_time": "2023-03-08T03:07:31.006Z"
   },
   {
    "duration": 44,
    "start_time": "2023-03-08T03:07:33.765Z"
   },
   {
    "duration": 21,
    "start_time": "2023-03-08T03:07:33.810Z"
   },
   {
    "duration": 10,
    "start_time": "2023-03-08T03:07:33.835Z"
   },
   {
    "duration": 88,
    "start_time": "2023-03-08T03:08:44.297Z"
   },
   {
    "duration": 94,
    "start_time": "2023-03-08T03:09:13.347Z"
   },
   {
    "duration": 126,
    "start_time": "2023-03-08T03:11:21.014Z"
   },
   {
    "duration": 137,
    "start_time": "2023-03-08T03:12:53.267Z"
   },
   {
    "duration": 148,
    "start_time": "2023-03-08T03:13:30.707Z"
   },
   {
    "duration": 137,
    "start_time": "2023-03-08T03:15:36.670Z"
   },
   {
    "duration": 1777,
    "start_time": "2023-03-08T03:16:02.193Z"
   },
   {
    "duration": 31,
    "start_time": "2023-03-08T03:16:03.972Z"
   },
   {
    "duration": 16,
    "start_time": "2023-03-08T03:16:04.005Z"
   },
   {
    "duration": 154,
    "start_time": "2023-03-08T03:16:17.071Z"
   },
   {
    "duration": 149,
    "start_time": "2023-03-08T03:22:54.539Z"
   },
   {
    "duration": 6,
    "start_time": "2023-03-08T03:23:32.179Z"
   },
   {
    "duration": 1747,
    "start_time": "2023-03-08T03:23:38.136Z"
   },
   {
    "duration": 28,
    "start_time": "2023-03-08T03:23:39.884Z"
   },
   {
    "duration": 15,
    "start_time": "2023-03-08T03:23:39.913Z"
   },
   {
    "duration": 6,
    "start_time": "2023-03-08T03:23:42.581Z"
   },
   {
    "duration": 18,
    "start_time": "2023-03-08T03:24:04.046Z"
   },
   {
    "duration": 22,
    "start_time": "2023-03-08T03:24:14.364Z"
   },
   {
    "duration": 141,
    "start_time": "2023-03-08T03:24:38.779Z"
   },
   {
    "duration": 138,
    "start_time": "2023-03-08T03:25:33.251Z"
   },
   {
    "duration": 1769,
    "start_time": "2023-03-08T03:25:40.205Z"
   },
   {
    "duration": 28,
    "start_time": "2023-03-08T03:25:41.975Z"
   },
   {
    "duration": 14,
    "start_time": "2023-03-08T03:25:42.005Z"
   },
   {
    "duration": 145,
    "start_time": "2023-03-08T03:25:43.583Z"
   },
   {
    "duration": 1645,
    "start_time": "2023-03-08T03:26:27.261Z"
   },
   {
    "duration": 26,
    "start_time": "2023-03-08T03:26:28.908Z"
   },
   {
    "duration": 14,
    "start_time": "2023-03-08T03:26:28.936Z"
   },
   {
    "duration": 6,
    "start_time": "2023-03-08T03:26:31.963Z"
   },
   {
    "duration": 137,
    "start_time": "2023-03-08T03:27:33.115Z"
   },
   {
    "duration": 152,
    "start_time": "2023-03-08T03:28:10.537Z"
   },
   {
    "duration": 1838,
    "start_time": "2023-03-08T03:28:17.146Z"
   },
   {
    "duration": 27,
    "start_time": "2023-03-08T03:28:18.985Z"
   },
   {
    "duration": 18,
    "start_time": "2023-03-08T03:28:19.013Z"
   },
   {
    "duration": 178,
    "start_time": "2023-03-08T03:28:21.027Z"
   },
   {
    "duration": 1849,
    "start_time": "2023-03-08T03:30:18.059Z"
   },
   {
    "duration": 27,
    "start_time": "2023-03-08T03:30:19.910Z"
   },
   {
    "duration": 16,
    "start_time": "2023-03-08T03:30:19.938Z"
   },
   {
    "duration": 171,
    "start_time": "2023-03-08T03:30:21.467Z"
   },
   {
    "duration": 41,
    "start_time": "2023-03-08T03:32:36.605Z"
   },
   {
    "duration": 11,
    "start_time": "2023-03-08T03:33:00.769Z"
   },
   {
    "duration": 145,
    "start_time": "2023-03-08T03:33:58.134Z"
   },
   {
    "duration": 1686,
    "start_time": "2023-03-08T03:34:10.459Z"
   },
   {
    "duration": 40,
    "start_time": "2023-03-08T03:34:12.147Z"
   },
   {
    "duration": 15,
    "start_time": "2023-03-08T03:34:12.189Z"
   },
   {
    "duration": 155,
    "start_time": "2023-03-08T03:34:18.049Z"
   },
   {
    "duration": 53,
    "start_time": "2023-03-08T03:37:07.223Z"
   },
   {
    "duration": 73,
    "start_time": "2023-03-08T03:50:19.889Z"
   },
   {
    "duration": 67,
    "start_time": "2023-03-08T03:50:53.452Z"
   },
   {
    "duration": 84,
    "start_time": "2023-03-08T03:53:54.989Z"
   },
   {
    "duration": 96,
    "start_time": "2023-03-08T03:54:27.712Z"
   },
   {
    "duration": 51,
    "start_time": "2023-03-08T03:57:05.003Z"
   },
   {
    "duration": 49,
    "start_time": "2023-03-08T03:57:16.238Z"
   },
   {
    "duration": 44,
    "start_time": "2023-03-08T03:58:48.759Z"
   },
   {
    "duration": 44,
    "start_time": "2023-03-08T03:59:02.402Z"
   },
   {
    "duration": 1988,
    "start_time": "2023-03-08T04:07:24.038Z"
   },
   {
    "duration": 37,
    "start_time": "2023-03-08T04:07:26.028Z"
   },
   {
    "duration": 33,
    "start_time": "2023-03-08T04:07:26.067Z"
   },
   {
    "duration": 181,
    "start_time": "2023-03-08T04:07:26.103Z"
   },
   {
    "duration": 56,
    "start_time": "2023-03-08T04:07:27.645Z"
   },
   {
    "duration": 51,
    "start_time": "2023-03-08T04:12:50.689Z"
   },
   {
    "duration": 1773,
    "start_time": "2023-03-08T04:13:02.727Z"
   },
   {
    "duration": 40,
    "start_time": "2023-03-08T04:13:04.502Z"
   },
   {
    "duration": 44,
    "start_time": "2023-03-08T04:13:04.544Z"
   },
   {
    "duration": 165,
    "start_time": "2023-03-08T04:13:04.591Z"
   },
   {
    "duration": 48,
    "start_time": "2023-03-08T04:13:08.850Z"
   },
   {
    "duration": 61,
    "start_time": "2023-03-08T04:15:10.047Z"
   },
   {
    "duration": 79,
    "start_time": "2023-03-08T04:16:22.755Z"
   },
   {
    "duration": 57,
    "start_time": "2023-03-08T04:17:16.455Z"
   },
   {
    "duration": 1987,
    "start_time": "2023-03-08T04:17:20.988Z"
   },
   {
    "duration": 40,
    "start_time": "2023-03-08T04:17:22.977Z"
   },
   {
    "duration": 16,
    "start_time": "2023-03-08T04:17:23.019Z"
   },
   {
    "duration": 215,
    "start_time": "2023-03-08T04:17:23.038Z"
   },
   {
    "duration": 58,
    "start_time": "2023-03-08T04:17:26.391Z"
   },
   {
    "duration": 48,
    "start_time": "2023-03-08T04:19:12.090Z"
   },
   {
    "duration": 49,
    "start_time": "2023-03-08T04:22:22.622Z"
   },
   {
    "duration": 52,
    "start_time": "2023-03-08T04:28:37.791Z"
   },
   {
    "duration": 50,
    "start_time": "2023-03-08T04:28:55.037Z"
   },
   {
    "duration": 59,
    "start_time": "2023-03-08T04:29:04.953Z"
   },
   {
    "duration": 49,
    "start_time": "2023-03-08T04:33:34.807Z"
   },
   {
    "duration": 52,
    "start_time": "2023-03-08T04:36:11.283Z"
   },
   {
    "duration": 49,
    "start_time": "2023-03-08T04:36:21.421Z"
   },
   {
    "duration": 58,
    "start_time": "2023-03-08T04:39:06.180Z"
   },
   {
    "duration": 52,
    "start_time": "2023-03-09T08:59:03.243Z"
   },
   {
    "duration": 3166,
    "start_time": "2023-03-09T08:59:09.530Z"
   },
   {
    "duration": 37,
    "start_time": "2023-03-09T08:59:12.699Z"
   },
   {
    "duration": 23,
    "start_time": "2023-03-09T08:59:12.738Z"
   },
   {
    "duration": 186,
    "start_time": "2023-03-09T08:59:12.763Z"
   },
   {
    "duration": 56,
    "start_time": "2023-03-09T08:59:13.024Z"
   },
   {
    "duration": 54,
    "start_time": "2023-03-09T09:00:09.265Z"
   },
   {
    "duration": 67,
    "start_time": "2023-03-09T09:00:33.323Z"
   },
   {
    "duration": 74,
    "start_time": "2023-03-09T09:02:57.960Z"
   },
   {
    "duration": 84,
    "start_time": "2023-03-09T09:03:11.808Z"
   },
   {
    "duration": 21,
    "start_time": "2023-03-09T09:03:35.620Z"
   },
   {
    "duration": 59,
    "start_time": "2023-03-09T09:05:18.851Z"
   },
   {
    "duration": 45,
    "start_time": "2023-03-09T09:05:43.524Z"
   },
   {
    "duration": 19,
    "start_time": "2023-03-09T09:05:54.241Z"
   },
   {
    "duration": 54,
    "start_time": "2023-03-09T09:06:21.151Z"
   },
   {
    "duration": 5,
    "start_time": "2023-03-09T09:10:10.813Z"
   },
   {
    "duration": 69,
    "start_time": "2023-03-09T09:10:18.449Z"
   },
   {
    "duration": 900,
    "start_time": "2023-03-09T09:10:34.287Z"
   },
   {
    "duration": 801,
    "start_time": "2023-03-09T09:10:46.673Z"
   },
   {
    "duration": 34,
    "start_time": "2023-03-09T09:12:23.944Z"
   },
   {
    "duration": 22,
    "start_time": "2023-03-09T09:13:22.885Z"
   },
   {
    "duration": 30,
    "start_time": "2023-03-09T09:14:42.861Z"
   },
   {
    "duration": 4,
    "start_time": "2023-03-09T09:18:25.864Z"
   },
   {
    "duration": 31,
    "start_time": "2023-03-09T09:19:04.033Z"
   },
   {
    "duration": 47,
    "start_time": "2023-03-09T09:21:06.517Z"
   },
   {
    "duration": 29,
    "start_time": "2023-03-09T09:22:15.332Z"
   },
   {
    "duration": 43,
    "start_time": "2023-03-09T09:23:01.741Z"
   },
   {
    "duration": 36,
    "start_time": "2023-03-09T09:23:51.105Z"
   },
   {
    "duration": 23,
    "start_time": "2023-03-09T09:24:12.130Z"
   },
   {
    "duration": 79,
    "start_time": "2023-03-09T09:37:00.376Z"
   },
   {
    "duration": 10,
    "start_time": "2023-03-09T09:37:07.767Z"
   },
   {
    "duration": 33,
    "start_time": "2023-03-09T12:01:08.274Z"
   },
   {
    "duration": 556,
    "start_time": "2023-03-09T12:01:33.240Z"
   },
   {
    "duration": 2466,
    "start_time": "2023-03-09T12:01:54.974Z"
   },
   {
    "duration": 68,
    "start_time": "2023-03-09T12:01:59.574Z"
   },
   {
    "duration": 33,
    "start_time": "2023-03-09T12:02:20.970Z"
   },
   {
    "duration": 31,
    "start_time": "2023-03-09T12:02:55.718Z"
   },
   {
    "duration": 32,
    "start_time": "2023-03-09T12:03:47.484Z"
   },
   {
    "duration": 54,
    "start_time": "2023-03-09T12:03:57.108Z"
   },
   {
    "duration": 2725,
    "start_time": "2023-03-09T12:04:28.310Z"
   },
   {
    "duration": 2430,
    "start_time": "2023-03-09T12:17:31.885Z"
   },
   {
    "duration": 66,
    "start_time": "2023-03-09T12:17:34.317Z"
   },
   {
    "duration": 48,
    "start_time": "2023-03-09T12:17:34.385Z"
   },
   {
    "duration": 203,
    "start_time": "2023-03-09T12:17:34.437Z"
   },
   {
    "duration": 13,
    "start_time": "2023-03-09T12:17:34.643Z"
   },
   {
    "duration": 190,
    "start_time": "2023-03-09T12:18:37.077Z"
   },
   {
    "duration": 190,
    "start_time": "2023-03-09T12:19:17.292Z"
   },
   {
    "duration": 46,
    "start_time": "2023-03-09T12:20:39.145Z"
   },
   {
    "duration": 46,
    "start_time": "2023-03-09T12:21:01.184Z"
   },
   {
    "duration": 40,
    "start_time": "2023-03-09T12:21:12.182Z"
   },
   {
    "duration": 73,
    "start_time": "2023-03-09T12:21:51.185Z"
   },
   {
    "duration": 78,
    "start_time": "2023-03-09T12:25:47.898Z"
   },
   {
    "duration": 677,
    "start_time": "2023-03-09T12:26:38.800Z"
   },
   {
    "duration": 2186,
    "start_time": "2023-03-09T12:27:05.683Z"
   },
   {
    "duration": 55,
    "start_time": "2023-03-09T12:27:07.871Z"
   },
   {
    "duration": 26,
    "start_time": "2023-03-09T12:27:07.928Z"
   },
   {
    "duration": 171,
    "start_time": "2023-03-09T12:27:07.956Z"
   },
   {
    "duration": 15,
    "start_time": "2023-03-09T12:27:08.130Z"
   },
   {
    "duration": 2616,
    "start_time": "2023-03-09T12:27:38.485Z"
   },
   {
    "duration": 84,
    "start_time": "2023-03-09T12:27:41.103Z"
   },
   {
    "duration": 24,
    "start_time": "2023-03-09T12:27:41.189Z"
   },
   {
    "duration": 170,
    "start_time": "2023-03-09T12:27:41.215Z"
   },
   {
    "duration": 79,
    "start_time": "2023-03-09T12:27:41.388Z"
   },
   {
    "duration": 69,
    "start_time": "2023-03-09T12:29:39.681Z"
   },
   {
    "duration": 76,
    "start_time": "2023-03-09T12:32:12.493Z"
   },
   {
    "duration": 128,
    "start_time": "2023-03-09T12:32:26.277Z"
   },
   {
    "duration": 2617,
    "start_time": "2023-03-09T12:32:30.365Z"
   },
   {
    "duration": 56,
    "start_time": "2023-03-09T12:32:32.984Z"
   },
   {
    "duration": 20,
    "start_time": "2023-03-09T12:32:33.043Z"
   },
   {
    "duration": 185,
    "start_time": "2023-03-09T12:32:33.065Z"
   },
   {
    "duration": 133,
    "start_time": "2023-03-09T12:32:33.253Z"
   },
   {
    "duration": 140,
    "start_time": "2023-03-09T12:37:07.522Z"
   },
   {
    "duration": 2340,
    "start_time": "2023-03-09T12:37:32.209Z"
   },
   {
    "duration": 42,
    "start_time": "2023-03-09T12:37:34.552Z"
   },
   {
    "duration": 46,
    "start_time": "2023-03-09T12:37:34.595Z"
   },
   {
    "duration": 175,
    "start_time": "2023-03-09T12:37:34.643Z"
   },
   {
    "duration": 132,
    "start_time": "2023-03-09T12:37:34.820Z"
   },
   {
    "duration": 2623,
    "start_time": "2023-03-09T12:38:24.007Z"
   },
   {
    "duration": 47,
    "start_time": "2023-03-09T12:38:26.633Z"
   },
   {
    "duration": 20,
    "start_time": "2023-03-09T12:38:26.682Z"
   },
   {
    "duration": 173,
    "start_time": "2023-03-09T12:38:26.704Z"
   },
   {
    "duration": 134,
    "start_time": "2023-03-09T12:38:27.008Z"
   },
   {
    "duration": 2505,
    "start_time": "2023-03-09T12:39:48.273Z"
   },
   {
    "duration": 60,
    "start_time": "2023-03-09T12:39:50.781Z"
   },
   {
    "duration": 24,
    "start_time": "2023-03-09T12:39:50.848Z"
   },
   {
    "duration": 195,
    "start_time": "2023-03-09T12:39:50.875Z"
   },
   {
    "duration": 142,
    "start_time": "2023-03-09T12:39:53.018Z"
   },
   {
    "duration": 6,
    "start_time": "2023-03-09T12:48:46.385Z"
   },
   {
    "duration": 144,
    "start_time": "2023-03-09T12:49:04.389Z"
   },
   {
    "duration": 2093,
    "start_time": "2023-03-09T12:49:14.274Z"
   },
   {
    "duration": 37,
    "start_time": "2023-03-09T12:49:16.369Z"
   },
   {
    "duration": 35,
    "start_time": "2023-03-09T12:49:16.408Z"
   },
   {
    "duration": 163,
    "start_time": "2023-03-09T12:49:16.445Z"
   },
   {
    "duration": 107,
    "start_time": "2023-03-09T12:49:16.610Z"
   },
   {
    "duration": 102,
    "start_time": "2023-03-09T12:49:21.640Z"
   },
   {
    "duration": 2429,
    "start_time": "2023-03-09T12:50:15.940Z"
   },
   {
    "duration": 59,
    "start_time": "2023-03-09T12:50:18.372Z"
   },
   {
    "duration": 22,
    "start_time": "2023-03-09T12:50:18.437Z"
   },
   {
    "duration": 156,
    "start_time": "2023-03-09T12:50:18.461Z"
   },
   {
    "duration": 128,
    "start_time": "2023-03-09T12:50:21.372Z"
   },
   {
    "duration": 150,
    "start_time": "2023-03-09T12:51:48.892Z"
   },
   {
    "duration": 119,
    "start_time": "2023-03-09T12:54:13.241Z"
   },
   {
    "duration": 2127,
    "start_time": "2023-03-09T12:54:20.312Z"
   },
   {
    "duration": 37,
    "start_time": "2023-03-09T12:54:22.441Z"
   },
   {
    "duration": 17,
    "start_time": "2023-03-09T12:54:22.479Z"
   },
   {
    "duration": 174,
    "start_time": "2023-03-09T12:54:22.497Z"
   },
   {
    "duration": 124,
    "start_time": "2023-03-09T12:54:22.673Z"
   },
   {
    "duration": 140,
    "start_time": "2023-03-09T13:09:38.952Z"
   },
   {
    "duration": 5,
    "start_time": "2023-03-09T13:11:41.353Z"
   },
   {
    "duration": 50,
    "start_time": "2023-03-09T13:15:30.352Z"
   },
   {
    "duration": 11,
    "start_time": "2023-03-09T13:15:39.950Z"
   },
   {
    "duration": 9,
    "start_time": "2023-03-09T13:18:02.990Z"
   },
   {
    "duration": 8,
    "start_time": "2023-03-09T13:18:07.766Z"
   },
   {
    "duration": 38,
    "start_time": "2023-03-09T13:18:19.000Z"
   },
   {
    "duration": 30,
    "start_time": "2023-03-09T13:23:08.295Z"
   },
   {
    "duration": 32,
    "start_time": "2023-03-09T13:25:58.198Z"
   },
   {
    "duration": 36,
    "start_time": "2023-03-09T13:26:28.005Z"
   },
   {
    "duration": 32,
    "start_time": "2023-03-09T13:47:06.972Z"
   },
   {
    "duration": 47,
    "start_time": "2023-03-09T13:47:52.559Z"
   },
   {
    "duration": 29,
    "start_time": "2023-03-09T13:48:11.643Z"
   },
   {
    "duration": 36,
    "start_time": "2023-03-09T13:48:29.434Z"
   },
   {
    "duration": 7,
    "start_time": "2023-03-09T13:54:33.324Z"
   },
   {
    "duration": 214,
    "start_time": "2023-03-09T13:55:12.706Z"
   },
   {
    "duration": 26,
    "start_time": "2023-03-09T13:56:46.369Z"
   },
   {
    "duration": 213,
    "start_time": "2023-03-09T13:57:36.891Z"
   },
   {
    "duration": 48,
    "start_time": "2023-03-09T13:57:55.529Z"
   },
   {
    "duration": 45,
    "start_time": "2023-03-09T13:58:19.399Z"
   },
   {
    "duration": 217,
    "start_time": "2023-03-09T13:58:41.564Z"
   },
   {
    "duration": 195,
    "start_time": "2023-03-09T14:01:20.396Z"
   },
   {
    "duration": 22,
    "start_time": "2023-03-09T14:11:51.435Z"
   },
   {
    "duration": 39,
    "start_time": "2023-03-09T14:13:05.678Z"
   },
   {
    "duration": 48,
    "start_time": "2023-03-09T14:13:48.725Z"
   },
   {
    "duration": 40,
    "start_time": "2023-03-09T14:14:07.576Z"
   },
   {
    "duration": 2275,
    "start_time": "2023-03-09T14:14:44.506Z"
   },
   {
    "duration": 417,
    "start_time": "2023-03-09T14:14:46.783Z"
   },
   {
    "duration": 44,
    "start_time": "2023-03-09T14:14:47.202Z"
   },
   {
    "duration": 167,
    "start_time": "2023-03-09T14:14:47.249Z"
   },
   {
    "duration": 138,
    "start_time": "2023-03-09T14:14:47.417Z"
   },
   {
    "duration": 47,
    "start_time": "2023-03-09T14:14:48.522Z"
   },
   {
    "duration": 54,
    "start_time": "2023-03-09T14:17:03.511Z"
   },
   {
    "duration": 44,
    "start_time": "2023-03-09T14:17:35.853Z"
   },
   {
    "duration": 54,
    "start_time": "2023-03-09T14:17:53.272Z"
   },
   {
    "duration": 46,
    "start_time": "2023-03-09T14:18:01.981Z"
   },
   {
    "duration": 42,
    "start_time": "2023-03-09T14:18:18.024Z"
   },
   {
    "duration": 2174,
    "start_time": "2023-03-09T14:39:44.270Z"
   },
   {
    "duration": 41,
    "start_time": "2023-03-09T14:39:46.447Z"
   },
   {
    "duration": 40,
    "start_time": "2023-03-09T14:39:46.489Z"
   },
   {
    "duration": 156,
    "start_time": "2023-03-09T14:39:46.531Z"
   },
   {
    "duration": 134,
    "start_time": "2023-03-09T14:39:46.689Z"
   },
   {
    "duration": 41,
    "start_time": "2023-03-09T14:39:46.825Z"
   },
   {
    "duration": 2776,
    "start_time": "2023-03-09T14:39:46.868Z"
   },
   {
    "duration": 947,
    "start_time": "2023-03-09T15:08:43.580Z"
   },
   {
    "duration": 2115,
    "start_time": "2023-03-09T15:12:51.392Z"
   },
   {
    "duration": 42,
    "start_time": "2023-03-09T15:12:53.509Z"
   },
   {
    "duration": 19,
    "start_time": "2023-03-09T15:12:53.552Z"
   },
   {
    "duration": 158,
    "start_time": "2023-03-09T15:12:53.574Z"
   },
   {
    "duration": 124,
    "start_time": "2023-03-09T15:12:53.734Z"
   },
   {
    "duration": 40,
    "start_time": "2023-03-09T15:12:53.860Z"
   },
   {
    "duration": 421,
    "start_time": "2023-03-09T15:12:56.388Z"
   },
   {
    "duration": 448,
    "start_time": "2023-03-09T15:13:31.423Z"
   },
   {
    "duration": 809,
    "start_time": "2023-03-09T15:16:47.080Z"
   },
   {
    "duration": 85,
    "start_time": "2023-03-09T15:20:25.698Z"
   },
   {
    "duration": 1485,
    "start_time": "2023-03-09T15:20:34.850Z"
   },
   {
    "duration": 37,
    "start_time": "2023-03-09T15:27:47.807Z"
   },
   {
    "duration": 1557,
    "start_time": "2023-03-09T15:34:39.067Z"
   },
   {
    "duration": 2804,
    "start_time": "2023-03-11T03:52:33.914Z"
   },
   {
    "duration": 38,
    "start_time": "2023-03-11T03:52:36.721Z"
   },
   {
    "duration": 19,
    "start_time": "2023-03-11T03:52:36.761Z"
   },
   {
    "duration": 150,
    "start_time": "2023-03-11T03:52:36.783Z"
   },
   {
    "duration": 99,
    "start_time": "2023-03-11T03:52:36.935Z"
   },
   {
    "duration": 33,
    "start_time": "2023-03-11T03:52:37.036Z"
   },
   {
    "duration": 1588,
    "start_time": "2023-03-11T03:52:37.081Z"
   },
   {
    "duration": 1768,
    "start_time": "2023-03-11T03:53:03.219Z"
   },
   {
    "duration": 2014,
    "start_time": "2023-03-11T03:53:50.734Z"
   },
   {
    "duration": 2058,
    "start_time": "2023-03-11T03:54:04.154Z"
   },
   {
    "duration": 1964,
    "start_time": "2023-03-11T03:54:23.221Z"
   },
   {
    "duration": 401,
    "start_time": "2023-03-11T04:13:40.055Z"
   },
   {
    "duration": 235,
    "start_time": "2023-03-11T04:14:11.073Z"
   },
   {
    "duration": 229,
    "start_time": "2023-03-11T04:15:40.712Z"
   },
   {
    "duration": 284,
    "start_time": "2023-03-11T04:15:51.549Z"
   },
   {
    "duration": 273,
    "start_time": "2023-03-11T04:17:40.654Z"
   },
   {
    "duration": 4881,
    "start_time": "2023-03-11T07:15:44.372Z"
   },
   {
    "duration": 57,
    "start_time": "2023-03-11T07:15:49.262Z"
   },
   {
    "duration": 47,
    "start_time": "2023-03-11T07:15:49.321Z"
   },
   {
    "duration": 220,
    "start_time": "2023-03-11T07:15:49.373Z"
   },
   {
    "duration": 168,
    "start_time": "2023-03-11T07:15:49.596Z"
   },
   {
    "duration": 45,
    "start_time": "2023-03-11T07:15:49.770Z"
   },
   {
    "duration": 2633,
    "start_time": "2023-03-11T07:15:49.817Z"
   },
   {
    "duration": 452,
    "start_time": "2023-03-11T07:15:52.451Z"
   },
   {
    "duration": 1859,
    "start_time": "2023-03-11T07:19:23.062Z"
   },
   {
    "duration": 2716,
    "start_time": "2023-03-11T07:19:29.811Z"
   },
   {
    "duration": 152,
    "start_time": "2023-03-11T07:19:32.537Z"
   },
   {
    "duration": 23,
    "start_time": "2023-03-11T07:19:32.690Z"
   },
   {
    "duration": 358,
    "start_time": "2023-03-11T07:19:32.716Z"
   },
   {
    "duration": 151,
    "start_time": "2023-03-11T07:19:33.081Z"
   },
   {
    "duration": 58,
    "start_time": "2023-03-11T07:19:33.238Z"
   },
   {
    "duration": 2859,
    "start_time": "2023-03-11T07:19:33.298Z"
   },
   {
    "duration": 433,
    "start_time": "2023-03-11T07:19:36.164Z"
   },
   {
    "duration": 235,
    "start_time": "2023-03-11T07:19:36.600Z"
   },
   {
    "duration": 571,
    "start_time": "2023-03-11T07:21:17.111Z"
   },
   {
    "duration": 447,
    "start_time": "2023-03-11T07:21:34.124Z"
   },
   {
    "duration": 400,
    "start_time": "2023-03-11T07:24:52.461Z"
   },
   {
    "duration": 446,
    "start_time": "2023-03-11T07:26:19.563Z"
   },
   {
    "duration": 442,
    "start_time": "2023-03-11T07:27:21.670Z"
   },
   {
    "duration": 1067,
    "start_time": "2023-03-11T07:27:33.768Z"
   },
   {
    "duration": 1503,
    "start_time": "2023-03-11T07:31:52.561Z"
   },
   {
    "duration": 3379,
    "start_time": "2023-03-11T07:39:03.024Z"
   },
   {
    "duration": 73,
    "start_time": "2023-03-11T07:39:06.406Z"
   },
   {
    "duration": 23,
    "start_time": "2023-03-11T07:39:06.481Z"
   },
   {
    "duration": 288,
    "start_time": "2023-03-11T07:39:06.506Z"
   },
   {
    "duration": 171,
    "start_time": "2023-03-11T07:39:06.798Z"
   },
   {
    "duration": 59,
    "start_time": "2023-03-11T07:39:06.978Z"
   },
   {
    "duration": 3073,
    "start_time": "2023-03-11T07:39:07.039Z"
   },
   {
    "duration": 484,
    "start_time": "2023-03-11T07:39:10.113Z"
   },
   {
    "duration": 1023,
    "start_time": "2023-03-11T07:39:10.601Z"
   },
   {
    "duration": 1437,
    "start_time": "2023-03-11T07:48:33.983Z"
   },
   {
    "duration": 453328,
    "start_time": "2023-03-11T07:52:45.558Z"
   },
   {
    "duration": 2228,
    "start_time": "2023-03-11T08:14:36.219Z"
   },
   {
    "duration": 16,
    "start_time": "2023-03-11T08:20:51.708Z"
   },
   {
    "duration": 28,
    "start_time": "2023-03-11T08:21:08.561Z"
   },
   {
    "duration": 167,
    "start_time": "2023-03-11T08:22:06.627Z"
   },
   {
    "duration": 18,
    "start_time": "2023-03-11T08:22:43.709Z"
   },
   {
    "duration": 37,
    "start_time": "2023-03-11T08:23:25.161Z"
   },
   {
    "duration": 20,
    "start_time": "2023-03-11T08:23:54.477Z"
   },
   {
    "duration": 38,
    "start_time": "2023-03-11T08:25:29.784Z"
   },
   {
    "duration": 1956,
    "start_time": "2023-03-11T08:31:50.362Z"
   },
   {
    "duration": 10,
    "start_time": "2023-03-11T08:32:16.996Z"
   },
   {
    "duration": 33,
    "start_time": "2023-03-11T08:32:46.656Z"
   },
   {
    "duration": 19,
    "start_time": "2023-03-11T08:34:56.367Z"
   },
   {
    "duration": 4,
    "start_time": "2023-03-11T08:35:10.973Z"
   },
   {
    "duration": 18,
    "start_time": "2023-03-11T08:36:08.218Z"
   },
   {
    "duration": 53589,
    "start_time": "2023-03-11T08:38:03.261Z"
   },
   {
    "duration": 389,
    "start_time": "2023-03-11T08:40:31.950Z"
   },
   {
    "duration": 194,
    "start_time": "2023-03-11T08:41:59.785Z"
   },
   {
    "duration": 30,
    "start_time": "2023-03-11T09:01:39.456Z"
   },
   {
    "duration": 212,
    "start_time": "2023-03-11T09:01:55.109Z"
   },
   {
    "duration": 60,
    "start_time": "2023-03-11T12:29:05.272Z"
   },
   {
    "duration": 2963,
    "start_time": "2023-03-11T12:29:10.175Z"
   },
   {
    "duration": 37,
    "start_time": "2023-03-11T12:29:13.140Z"
   },
   {
    "duration": 35,
    "start_time": "2023-03-11T12:29:13.179Z"
   },
   {
    "duration": 151,
    "start_time": "2023-03-11T12:29:13.216Z"
   },
   {
    "duration": 102,
    "start_time": "2023-03-11T12:29:13.369Z"
   },
   {
    "duration": 48,
    "start_time": "2023-03-11T12:29:13.473Z"
   },
   {
    "duration": 1840,
    "start_time": "2023-03-11T12:29:13.523Z"
   },
   {
    "duration": 308,
    "start_time": "2023-03-11T12:29:15.364Z"
   },
   {
    "duration": 2194,
    "start_time": "2023-03-11T12:29:15.685Z"
   },
   {
    "duration": 26,
    "start_time": "2023-03-11T12:29:17.881Z"
   },
   {
    "duration": 11321,
    "start_time": "2023-03-11T12:29:17.909Z"
   },
   {
    "duration": 27455,
    "start_time": "2023-03-11T12:33:46.982Z"
   },
   {
    "duration": 118,
    "start_time": "2023-03-11T12:34:39.613Z"
   },
   {
    "duration": 27590,
    "start_time": "2023-03-11T12:35:22.234Z"
   },
   {
    "duration": 16,
    "start_time": "2023-03-11T12:35:53.404Z"
   },
   {
    "duration": 14,
    "start_time": "2023-03-11T12:36:11.554Z"
   },
   {
    "duration": 20,
    "start_time": "2023-03-11T12:36:29.428Z"
   },
   {
    "duration": 113,
    "start_time": "2023-03-11T12:39:30.335Z"
   },
   {
    "duration": 175,
    "start_time": "2023-03-11T12:39:58.356Z"
   },
   {
    "duration": 175,
    "start_time": "2023-03-11T12:42:34.025Z"
   },
   {
    "duration": 162,
    "start_time": "2023-03-11T12:42:50.847Z"
   },
   {
    "duration": 2030,
    "start_time": "2023-03-11T12:46:36.815Z"
   },
   {
    "duration": 54,
    "start_time": "2023-03-11T12:46:38.847Z"
   },
   {
    "duration": 34,
    "start_time": "2023-03-11T12:46:38.902Z"
   },
   {
    "duration": 174,
    "start_time": "2023-03-11T12:46:38.939Z"
   },
   {
    "duration": 114,
    "start_time": "2023-03-11T12:46:40.663Z"
   },
   {
    "duration": 2197,
    "start_time": "2023-03-11T12:47:44.648Z"
   },
   {
    "duration": 66,
    "start_time": "2023-03-11T12:47:46.847Z"
   },
   {
    "duration": 16,
    "start_time": "2023-03-11T12:47:46.915Z"
   },
   {
    "duration": 190,
    "start_time": "2023-03-11T12:47:46.933Z"
   },
   {
    "duration": 111,
    "start_time": "2023-03-11T12:47:49.117Z"
   },
   {
    "duration": 1925,
    "start_time": "2023-03-11T12:48:15.644Z"
   },
   {
    "duration": 58,
    "start_time": "2023-03-11T12:48:17.571Z"
   },
   {
    "duration": 16,
    "start_time": "2023-03-11T12:48:17.630Z"
   },
   {
    "duration": 176,
    "start_time": "2023-03-11T12:48:17.648Z"
   },
   {
    "duration": 115,
    "start_time": "2023-03-11T12:48:23.762Z"
   },
   {
    "duration": 1944,
    "start_time": "2023-03-11T12:49:47.745Z"
   },
   {
    "duration": 39,
    "start_time": "2023-03-11T12:49:49.698Z"
   },
   {
    "duration": 17,
    "start_time": "2023-03-11T12:49:49.739Z"
   },
   {
    "duration": 171,
    "start_time": "2023-03-11T12:49:49.757Z"
   },
   {
    "duration": 110,
    "start_time": "2023-03-11T12:49:52.937Z"
   },
   {
    "duration": 2091,
    "start_time": "2023-03-11T12:51:24.114Z"
   },
   {
    "duration": 48,
    "start_time": "2023-03-11T12:51:26.207Z"
   },
   {
    "duration": 18,
    "start_time": "2023-03-11T12:51:26.257Z"
   },
   {
    "duration": 194,
    "start_time": "2023-03-11T12:51:26.279Z"
   },
   {
    "duration": 12,
    "start_time": "2023-03-11T12:51:30.527Z"
   },
   {
    "duration": 98,
    "start_time": "2023-03-11T12:52:24.409Z"
   },
   {
    "duration": 103,
    "start_time": "2023-03-11T12:52:40.902Z"
   },
   {
    "duration": 17,
    "start_time": "2023-03-11T12:52:46.900Z"
   },
   {
    "duration": 10,
    "start_time": "2023-03-11T12:53:00.459Z"
   },
   {
    "duration": 19,
    "start_time": "2023-03-11T12:53:28.510Z"
   },
   {
    "duration": 1872,
    "start_time": "2023-03-11T12:54:16.106Z"
   },
   {
    "duration": 43,
    "start_time": "2023-03-11T12:54:17.980Z"
   },
   {
    "duration": 14,
    "start_time": "2023-03-11T12:54:18.025Z"
   },
   {
    "duration": 175,
    "start_time": "2023-03-11T12:54:18.041Z"
   },
   {
    "duration": 109,
    "start_time": "2023-03-11T12:54:19.328Z"
   },
   {
    "duration": 2133,
    "start_time": "2023-03-11T13:03:28.306Z"
   },
   {
    "duration": 57,
    "start_time": "2023-03-11T13:03:30.441Z"
   },
   {
    "duration": 16,
    "start_time": "2023-03-11T13:03:30.509Z"
   },
   {
    "duration": 193,
    "start_time": "2023-03-11T13:03:30.527Z"
   },
   {
    "duration": 118,
    "start_time": "2023-03-11T13:03:32.246Z"
   },
   {
    "duration": 92,
    "start_time": "2023-03-11T13:04:54.134Z"
   },
   {
    "duration": 112,
    "start_time": "2023-03-11T13:05:20.224Z"
   },
   {
    "duration": 1790,
    "start_time": "2023-03-11T13:06:41.139Z"
   },
   {
    "duration": 34,
    "start_time": "2023-03-11T13:06:42.930Z"
   },
   {
    "duration": 39,
    "start_time": "2023-03-11T13:06:42.965Z"
   },
   {
    "duration": 169,
    "start_time": "2023-03-11T13:06:43.007Z"
   },
   {
    "duration": 113,
    "start_time": "2023-03-11T13:06:43.177Z"
   },
   {
    "duration": 36,
    "start_time": "2023-03-11T13:06:43.297Z"
   },
   {
    "duration": 1779,
    "start_time": "2023-03-11T13:06:43.334Z"
   },
   {
    "duration": 310,
    "start_time": "2023-03-11T13:06:45.114Z"
   },
   {
    "duration": 1972,
    "start_time": "2023-03-11T13:06:45.425Z"
   },
   {
    "duration": 24,
    "start_time": "2023-03-11T13:06:47.405Z"
   },
   {
    "duration": 19,
    "start_time": "2023-03-11T13:06:47.430Z"
   },
   {
    "duration": 143,
    "start_time": "2023-03-11T13:08:33.478Z"
   },
   {
    "duration": 1902,
    "start_time": "2023-03-11T13:09:33.851Z"
   },
   {
    "duration": 61,
    "start_time": "2023-03-11T13:09:35.755Z"
   },
   {
    "duration": 17,
    "start_time": "2023-03-11T13:09:35.822Z"
   },
   {
    "duration": 179,
    "start_time": "2023-03-11T13:09:35.841Z"
   },
   {
    "duration": 142,
    "start_time": "2023-03-11T13:09:37.510Z"
   },
   {
    "duration": 106,
    "start_time": "2023-03-11T13:10:22.011Z"
   },
   {
    "duration": 31,
    "start_time": "2023-03-11T13:10:22.123Z"
   },
   {
    "duration": 1841,
    "start_time": "2023-03-11T13:10:22.156Z"
   },
   {
    "duration": 289,
    "start_time": "2023-03-11T13:10:24.009Z"
   },
   {
    "duration": 1674,
    "start_time": "2023-03-11T13:10:24.300Z"
   },
   {
    "duration": 33,
    "start_time": "2023-03-11T13:10:25.975Z"
   },
   {
    "duration": 38,
    "start_time": "2023-03-11T13:10:26.010Z"
   },
   {
    "duration": 2329,
    "start_time": "2023-03-11T13:11:23.823Z"
   },
   {
    "duration": 88,
    "start_time": "2023-03-11T13:11:26.154Z"
   },
   {
    "duration": 26,
    "start_time": "2023-03-11T13:11:26.244Z"
   },
   {
    "duration": 329,
    "start_time": "2023-03-11T13:11:26.274Z"
   },
   {
    "duration": 160,
    "start_time": "2023-03-11T13:11:26.605Z"
   },
   {
    "duration": 55,
    "start_time": "2023-03-11T13:11:26.767Z"
   },
   {
    "duration": 1966,
    "start_time": "2023-03-11T13:11:26.825Z"
   },
   {
    "duration": 325,
    "start_time": "2023-03-11T13:11:28.792Z"
   },
   {
    "duration": 1687,
    "start_time": "2023-03-11T13:11:29.118Z"
   },
   {
    "duration": 24,
    "start_time": "2023-03-11T13:11:30.808Z"
   },
   {
    "duration": 37,
    "start_time": "2023-03-11T13:11:30.834Z"
   },
   {
    "duration": 12,
    "start_time": "2023-03-11T13:14:15.653Z"
   },
   {
    "duration": 17,
    "start_time": "2023-03-11T13:14:23.711Z"
   },
   {
    "duration": 1896,
    "start_time": "2023-03-11T13:17:27.954Z"
   },
   {
    "duration": 397,
    "start_time": "2023-03-11T13:17:29.852Z"
   },
   {
    "duration": 35,
    "start_time": "2023-03-11T13:17:30.250Z"
   },
   {
    "duration": 166,
    "start_time": "2023-03-11T13:17:30.287Z"
   },
   {
    "duration": 8,
    "start_time": "2023-03-11T13:17:31.694Z"
   },
   {
    "duration": 9,
    "start_time": "2023-03-11T13:17:56.245Z"
   },
   {
    "duration": 17,
    "start_time": "2023-03-11T13:19:23.447Z"
   },
   {
    "duration": 77,
    "start_time": "2023-03-11T13:19:51.833Z"
   },
   {
    "duration": 108,
    "start_time": "2023-03-11T13:22:13.124Z"
   },
   {
    "duration": 1817,
    "start_time": "2023-03-11T13:23:28.807Z"
   },
   {
    "duration": 37,
    "start_time": "2023-03-11T13:23:30.626Z"
   },
   {
    "duration": 66,
    "start_time": "2023-03-11T13:23:30.664Z"
   },
   {
    "duration": 186,
    "start_time": "2023-03-11T13:23:30.732Z"
   },
   {
    "duration": 135,
    "start_time": "2023-03-11T13:23:30.920Z"
   },
   {
    "duration": 37,
    "start_time": "2023-03-11T13:23:31.056Z"
   },
   {
    "duration": 1834,
    "start_time": "2023-03-11T13:23:31.105Z"
   },
   {
    "duration": 291,
    "start_time": "2023-03-11T13:23:32.941Z"
   },
   {
    "duration": 1678,
    "start_time": "2023-03-11T13:23:33.233Z"
   },
   {
    "duration": 21,
    "start_time": "2023-03-11T13:23:34.913Z"
   },
   {
    "duration": 13,
    "start_time": "2023-03-11T13:23:34.936Z"
   },
   {
    "duration": 314,
    "start_time": "2023-03-11T13:24:02.655Z"
   },
   {
    "duration": 25487,
    "start_time": "2023-03-11T13:25:24.106Z"
   },
   {
    "duration": 9639,
    "start_time": "2023-03-11T13:27:36.211Z"
   },
   {
    "duration": 24,
    "start_time": "2023-03-11T13:30:32.452Z"
   },
   {
    "duration": 18,
    "start_time": "2023-03-11T13:31:10.413Z"
   },
   {
    "duration": 146,
    "start_time": "2023-03-11T13:32:37.670Z"
   },
   {
    "duration": 4349,
    "start_time": "2023-03-11T13:44:01.667Z"
   },
   {
    "duration": 2137,
    "start_time": "2023-03-11T13:45:14.578Z"
   },
   {
    "duration": 1973,
    "start_time": "2023-03-11T14:06:15.894Z"
   },
   {
    "duration": 40,
    "start_time": "2023-03-11T14:06:17.869Z"
   },
   {
    "duration": 17,
    "start_time": "2023-03-11T14:06:17.911Z"
   },
   {
    "duration": 181,
    "start_time": "2023-03-11T14:06:17.930Z"
   },
   {
    "duration": 114,
    "start_time": "2023-03-11T14:06:18.113Z"
   },
   {
    "duration": 33,
    "start_time": "2023-03-11T14:06:18.229Z"
   },
   {
    "duration": 1734,
    "start_time": "2023-03-11T14:06:18.264Z"
   },
   {
    "duration": 279,
    "start_time": "2023-03-11T14:06:20.000Z"
   },
   {
    "duration": 1710,
    "start_time": "2023-03-11T14:06:20.286Z"
   },
   {
    "duration": 20,
    "start_time": "2023-03-11T14:06:21.997Z"
   },
   {
    "duration": 153,
    "start_time": "2023-03-11T14:06:22.018Z"
   },
   {
    "duration": 134,
    "start_time": "2023-03-11T14:07:17.855Z"
   },
   {
    "duration": 3624,
    "start_time": "2023-03-12T03:39:47.536Z"
   },
   {
    "duration": 41,
    "start_time": "2023-03-12T03:39:51.589Z"
   },
   {
    "duration": 103,
    "start_time": "2023-03-12T03:43:53.819Z"
   },
   {
    "duration": 98,
    "start_time": "2023-03-12T03:45:20.313Z"
   },
   {
    "duration": 94,
    "start_time": "2023-03-12T03:46:24.791Z"
   },
   {
    "duration": 19,
    "start_time": "2023-03-12T03:46:43.128Z"
   },
   {
    "duration": 19,
    "start_time": "2023-03-12T03:46:58.233Z"
   },
   {
    "duration": 20,
    "start_time": "2023-03-12T03:47:14.500Z"
   },
   {
    "duration": 19,
    "start_time": "2023-03-12T03:47:29.386Z"
   },
   {
    "duration": 21,
    "start_time": "2023-03-12T03:51:57.738Z"
   },
   {
    "duration": 19,
    "start_time": "2023-03-12T03:52:25.985Z"
   },
   {
    "duration": 22,
    "start_time": "2023-03-12T03:52:59.520Z"
   },
   {
    "duration": 35,
    "start_time": "2023-03-12T03:53:11.581Z"
   },
   {
    "duration": 18,
    "start_time": "2023-03-12T03:53:27.674Z"
   },
   {
    "duration": 2227,
    "start_time": "2023-03-12T03:53:35.677Z"
   },
   {
    "duration": 32,
    "start_time": "2023-03-12T03:53:38.479Z"
   },
   {
    "duration": 31,
    "start_time": "2023-03-12T03:56:03.275Z"
   },
   {
    "duration": 28,
    "start_time": "2023-03-12T03:56:49.016Z"
   },
   {
    "duration": 48,
    "start_time": "2023-03-12T03:59:23.944Z"
   },
   {
    "duration": 49,
    "start_time": "2023-03-12T04:04:19.560Z"
   },
   {
    "duration": 35,
    "start_time": "2023-03-12T04:09:34.877Z"
   },
   {
    "duration": 46,
    "start_time": "2023-03-12T04:09:45.253Z"
   },
   {
    "duration": 2405,
    "start_time": "2023-03-12T04:12:35.120Z"
   },
   {
    "duration": 38,
    "start_time": "2023-03-12T04:12:37.888Z"
   },
   {
    "duration": 2148,
    "start_time": "2023-03-12T04:15:51.854Z"
   },
   {
    "duration": 54,
    "start_time": "2023-03-12T04:16:00.550Z"
   },
   {
    "duration": 39,
    "start_time": "2023-03-12T04:20:40.214Z"
   },
   {
    "duration": 57,
    "start_time": "2023-03-12T04:20:54.348Z"
   },
   {
    "duration": 211,
    "start_time": "2023-03-12T04:21:02.136Z"
   },
   {
    "duration": 65,
    "start_time": "2023-03-12T04:21:10.487Z"
   },
   {
    "duration": 2251,
    "start_time": "2023-03-12T04:21:53.610Z"
   },
   {
    "duration": 54,
    "start_time": "2023-03-12T04:21:55.882Z"
   },
   {
    "duration": 23,
    "start_time": "2023-03-12T04:21:55.938Z"
   },
   {
    "duration": 0,
    "start_time": "2023-03-12T04:21:55.963Z"
   },
   {
    "duration": 0,
    "start_time": "2023-03-12T04:21:55.964Z"
   },
   {
    "duration": 0,
    "start_time": "2023-03-12T04:21:55.965Z"
   },
   {
    "duration": 1,
    "start_time": "2023-03-12T04:21:55.983Z"
   },
   {
    "duration": 0,
    "start_time": "2023-03-12T04:21:55.985Z"
   },
   {
    "duration": 0,
    "start_time": "2023-03-12T04:21:55.986Z"
   },
   {
    "duration": 0,
    "start_time": "2023-03-12T04:21:55.987Z"
   },
   {
    "duration": 0,
    "start_time": "2023-03-12T04:21:55.989Z"
   },
   {
    "duration": 0,
    "start_time": "2023-03-12T04:21:55.990Z"
   },
   {
    "duration": 28,
    "start_time": "2023-03-12T04:23:55.167Z"
   },
   {
    "duration": 18,
    "start_time": "2023-03-12T04:24:11.309Z"
   },
   {
    "duration": 128,
    "start_time": "2023-03-12T04:26:03.423Z"
   },
   {
    "duration": 140,
    "start_time": "2023-03-12T04:26:23.749Z"
   },
   {
    "duration": 2535,
    "start_time": "2023-03-12T04:27:14.808Z"
   },
   {
    "duration": 81,
    "start_time": "2023-03-12T04:27:17.346Z"
   },
   {
    "duration": 27,
    "start_time": "2023-03-12T04:27:17.429Z"
   },
   {
    "duration": 157,
    "start_time": "2023-03-12T04:27:17.472Z"
   },
   {
    "duration": 12,
    "start_time": "2023-03-12T04:27:17.631Z"
   },
   {
    "duration": 161,
    "start_time": "2023-03-12T04:27:17.645Z"
   },
   {
    "duration": 41,
    "start_time": "2023-03-12T04:27:17.809Z"
   },
   {
    "duration": 2527,
    "start_time": "2023-03-12T04:27:17.852Z"
   },
   {
    "duration": 462,
    "start_time": "2023-03-12T04:27:20.383Z"
   },
   {
    "duration": 2675,
    "start_time": "2023-03-12T04:27:20.847Z"
   },
   {
    "duration": 26,
    "start_time": "2023-03-12T04:27:23.524Z"
   },
   {
    "duration": 178,
    "start_time": "2023-03-12T04:27:23.552Z"
   },
   {
    "duration": 18,
    "start_time": "2023-03-12T04:28:44.404Z"
   },
   {
    "duration": 119,
    "start_time": "2023-03-12T04:28:49.411Z"
   },
   {
    "duration": 176,
    "start_time": "2023-03-12T04:29:01.798Z"
   },
   {
    "duration": 2640,
    "start_time": "2023-03-12T04:29:16.624Z"
   },
   {
    "duration": 64,
    "start_time": "2023-03-12T04:29:19.266Z"
   },
   {
    "duration": 19,
    "start_time": "2023-03-12T04:29:20.684Z"
   },
   {
    "duration": 126,
    "start_time": "2023-03-12T04:29:24.410Z"
   },
   {
    "duration": 12,
    "start_time": "2023-03-12T04:29:29.747Z"
   },
   {
    "duration": 138,
    "start_time": "2023-03-12T04:29:45.236Z"
   },
   {
    "duration": 17,
    "start_time": "2023-03-12T04:31:16.765Z"
   },
   {
    "duration": 2354,
    "start_time": "2023-03-12T04:31:20.684Z"
   },
   {
    "duration": 69,
    "start_time": "2023-03-12T04:31:23.040Z"
   },
   {
    "duration": 19,
    "start_time": "2023-03-12T04:31:23.194Z"
   },
   {
    "duration": 144,
    "start_time": "2023-03-12T04:31:27.664Z"
   },
   {
    "duration": 18,
    "start_time": "2023-03-12T04:31:32.987Z"
   },
   {
    "duration": 160,
    "start_time": "2023-03-12T04:31:35.772Z"
   },
   {
    "duration": 75,
    "start_time": "2023-03-12T04:40:42.272Z"
   },
   {
    "duration": 112,
    "start_time": "2023-03-12T04:40:47.117Z"
   },
   {
    "duration": 131,
    "start_time": "2023-03-12T04:45:36.305Z"
   },
   {
    "duration": 2521,
    "start_time": "2023-03-12T04:45:48.866Z"
   },
   {
    "duration": 52,
    "start_time": "2023-03-12T04:45:51.389Z"
   },
   {
    "duration": 33,
    "start_time": "2023-03-12T04:45:51.443Z"
   },
   {
    "duration": 120,
    "start_time": "2023-03-12T04:45:51.478Z"
   },
   {
    "duration": 12,
    "start_time": "2023-03-12T04:45:51.600Z"
   },
   {
    "duration": 146,
    "start_time": "2023-03-12T04:45:52.481Z"
   },
   {
    "duration": 2158,
    "start_time": "2023-03-12T04:46:14.982Z"
   },
   {
    "duration": 64,
    "start_time": "2023-03-12T04:46:17.143Z"
   },
   {
    "duration": 14,
    "start_time": "2023-03-12T04:46:17.209Z"
   },
   {
    "duration": 143,
    "start_time": "2023-03-12T04:46:17.224Z"
   },
   {
    "duration": 14,
    "start_time": "2023-03-12T04:46:17.369Z"
   },
   {
    "duration": 140,
    "start_time": "2023-03-12T04:46:18.216Z"
   },
   {
    "duration": 62,
    "start_time": "2023-03-12T04:47:56.317Z"
   },
   {
    "duration": 42,
    "start_time": "2023-03-12T04:48:50.850Z"
   },
   {
    "duration": 42,
    "start_time": "2023-03-12T04:52:54.736Z"
   },
   {
    "duration": 2487,
    "start_time": "2023-03-12T04:53:52.704Z"
   },
   {
    "duration": 51,
    "start_time": "2023-03-12T04:53:55.193Z"
   },
   {
    "duration": 14,
    "start_time": "2023-03-12T04:55:39.593Z"
   },
   {
    "duration": 111,
    "start_time": "2023-03-12T04:55:43.146Z"
   },
   {
    "duration": 140,
    "start_time": "2023-03-12T04:55:55.279Z"
   },
   {
    "duration": 44,
    "start_time": "2023-03-12T04:56:18.815Z"
   },
   {
    "duration": 2084,
    "start_time": "2023-03-12T04:56:29.929Z"
   },
   {
    "duration": 345,
    "start_time": "2023-03-12T05:00:02.550Z"
   },
   {
    "duration": 1879,
    "start_time": "2023-03-12T05:00:52.115Z"
   },
   {
    "duration": 26,
    "start_time": "2023-03-12T05:01:27.558Z"
   },
   {
    "duration": 158,
    "start_time": "2023-03-12T05:01:37.904Z"
   },
   {
    "duration": 406,
    "start_time": "2023-03-12T06:14:41.992Z"
   },
   {
    "duration": 13,
    "start_time": "2023-03-12T06:17:05.003Z"
   },
   {
    "duration": 11,
    "start_time": "2023-03-12T06:17:36.106Z"
   },
   {
    "duration": 21,
    "start_time": "2023-03-12T06:17:53.268Z"
   },
   {
    "duration": 11,
    "start_time": "2023-03-12T06:19:06.553Z"
   },
   {
    "duration": 26,
    "start_time": "2023-03-12T06:19:50.172Z"
   },
   {
    "duration": 2514,
    "start_time": "2023-03-12T06:19:55.229Z"
   },
   {
    "duration": 81,
    "start_time": "2023-03-12T06:19:57.746Z"
   },
   {
    "duration": 14,
    "start_time": "2023-03-12T06:19:57.829Z"
   },
   {
    "duration": 166,
    "start_time": "2023-03-12T06:19:57.845Z"
   },
   {
    "duration": 12,
    "start_time": "2023-03-12T06:19:58.013Z"
   },
   {
    "duration": 171,
    "start_time": "2023-03-12T06:19:58.027Z"
   },
   {
    "duration": 44,
    "start_time": "2023-03-12T06:19:58.203Z"
   },
   {
    "duration": 3256,
    "start_time": "2023-03-12T06:19:58.248Z"
   },
   {
    "duration": 12,
    "start_time": "2023-03-12T06:20:01.510Z"
   },
   {
    "duration": 12,
    "start_time": "2023-03-12T06:20:25.836Z"
   },
   {
    "duration": 348,
    "start_time": "2023-03-12T06:20:36.597Z"
   },
   {
    "duration": 10,
    "start_time": "2023-03-12T06:22:39.837Z"
   },
   {
    "duration": 27,
    "start_time": "2023-03-12T06:22:48.195Z"
   },
   {
    "duration": 90,
    "start_time": "2023-03-12T06:28:06.798Z"
   },
   {
    "duration": 228,
    "start_time": "2023-03-12T06:29:50.236Z"
   },
   {
    "duration": 86,
    "start_time": "2023-03-12T06:37:29.756Z"
   },
   {
    "duration": 69,
    "start_time": "2023-03-12T06:38:22.218Z"
   },
   {
    "duration": 2400,
    "start_time": "2023-03-12T06:39:00.583Z"
   },
   {
    "duration": 54,
    "start_time": "2023-03-12T06:39:02.986Z"
   },
   {
    "duration": 14,
    "start_time": "2023-03-12T06:39:03.043Z"
   },
   {
    "duration": 127,
    "start_time": "2023-03-12T06:39:03.085Z"
   },
   {
    "duration": 14,
    "start_time": "2023-03-12T06:39:03.214Z"
   },
   {
    "duration": 76,
    "start_time": "2023-03-12T06:39:03.879Z"
   },
   {
    "duration": 70,
    "start_time": "2023-03-12T06:39:41.507Z"
   },
   {
    "duration": 18,
    "start_time": "2023-03-12T06:39:54.545Z"
   },
   {
    "duration": 191,
    "start_time": "2023-03-12T06:40:11.376Z"
   },
   {
    "duration": 189,
    "start_time": "2023-03-12T06:43:32.823Z"
   },
   {
    "duration": 92,
    "start_time": "2023-03-12T06:44:48.195Z"
   },
   {
    "duration": 2406,
    "start_time": "2023-03-12T06:44:52.626Z"
   },
   {
    "duration": 75,
    "start_time": "2023-03-12T06:44:55.035Z"
   },
   {
    "duration": 14,
    "start_time": "2023-03-12T06:44:55.112Z"
   },
   {
    "duration": 145,
    "start_time": "2023-03-12T06:44:55.128Z"
   },
   {
    "duration": 16,
    "start_time": "2023-03-12T06:44:55.276Z"
   },
   {
    "duration": 300,
    "start_time": "2023-03-12T06:44:55.644Z"
   },
   {
    "duration": 2609,
    "start_time": "2023-03-12T06:45:36.173Z"
   },
   {
    "duration": 58,
    "start_time": "2023-03-12T06:45:38.784Z"
   },
   {
    "duration": 33,
    "start_time": "2023-03-12T06:45:38.844Z"
   },
   {
    "duration": 146,
    "start_time": "2023-03-12T06:45:38.880Z"
   },
   {
    "duration": 20,
    "start_time": "2023-03-12T06:45:39.028Z"
   },
   {
    "duration": 639,
    "start_time": "2023-03-12T06:45:40.325Z"
   },
   {
    "duration": 2198,
    "start_time": "2023-03-12T06:48:56.857Z"
   },
   {
    "duration": 59,
    "start_time": "2023-03-12T06:48:59.057Z"
   },
   {
    "duration": 18,
    "start_time": "2023-03-12T06:48:59.118Z"
   },
   {
    "duration": 134,
    "start_time": "2023-03-12T06:48:59.139Z"
   },
   {
    "duration": 11,
    "start_time": "2023-03-12T06:48:59.275Z"
   },
   {
    "duration": 599,
    "start_time": "2023-03-12T06:49:00.027Z"
   },
   {
    "duration": 2174,
    "start_time": "2023-03-12T06:50:16.871Z"
   },
   {
    "duration": 64,
    "start_time": "2023-03-12T06:50:19.048Z"
   },
   {
    "duration": 15,
    "start_time": "2023-03-12T06:50:19.115Z"
   },
   {
    "duration": 139,
    "start_time": "2023-03-12T06:50:19.132Z"
   },
   {
    "duration": 13,
    "start_time": "2023-03-12T06:50:19.273Z"
   },
   {
    "duration": 558,
    "start_time": "2023-03-12T06:50:19.288Z"
   },
   {
    "duration": 53,
    "start_time": "2023-03-12T06:50:19.848Z"
   },
   {
    "duration": 346,
    "start_time": "2023-03-12T06:51:18.853Z"
   },
   {
    "duration": 171,
    "start_time": "2023-03-12T06:52:45.925Z"
   },
   {
    "duration": 2324,
    "start_time": "2023-03-12T06:53:03.804Z"
   },
   {
    "duration": 62,
    "start_time": "2023-03-12T06:53:06.130Z"
   },
   {
    "duration": 14,
    "start_time": "2023-03-12T06:53:06.194Z"
   },
   {
    "duration": 135,
    "start_time": "2023-03-12T06:53:06.211Z"
   },
   {
    "duration": 12,
    "start_time": "2023-03-12T06:53:06.348Z"
   },
   {
    "duration": 556,
    "start_time": "2023-03-12T06:53:07.591Z"
   },
   {
    "duration": 20,
    "start_time": "2023-03-12T06:56:02.477Z"
   },
   {
    "duration": 22,
    "start_time": "2023-03-12T06:58:50.097Z"
   },
   {
    "duration": 7,
    "start_time": "2023-03-12T06:59:16.539Z"
   },
   {
    "duration": 21,
    "start_time": "2023-03-12T06:59:28.097Z"
   },
   {
    "duration": 138,
    "start_time": "2023-03-12T07:04:41.414Z"
   },
   {
    "duration": 2957,
    "start_time": "2023-03-12T07:05:33.361Z"
   },
   {
    "duration": 70,
    "start_time": "2023-03-12T07:05:36.320Z"
   },
   {
    "duration": 15,
    "start_time": "2023-03-12T07:05:36.392Z"
   },
   {
    "duration": 136,
    "start_time": "2023-03-12T07:05:36.409Z"
   },
   {
    "duration": 13,
    "start_time": "2023-03-12T07:05:36.546Z"
   },
   {
    "duration": 148,
    "start_time": "2023-03-12T07:05:37.206Z"
   },
   {
    "duration": 2198,
    "start_time": "2023-03-12T07:05:51.587Z"
   },
   {
    "duration": 53,
    "start_time": "2023-03-12T07:05:53.787Z"
   },
   {
    "duration": 37,
    "start_time": "2023-03-12T07:05:53.842Z"
   },
   {
    "duration": 123,
    "start_time": "2023-03-12T07:05:53.882Z"
   },
   {
    "duration": 12,
    "start_time": "2023-03-12T07:05:54.007Z"
   },
   {
    "duration": 582,
    "start_time": "2023-03-12T07:05:54.022Z"
   },
   {
    "duration": 42,
    "start_time": "2023-03-12T07:05:54.606Z"
   },
   {
    "duration": 2109,
    "start_time": "2023-03-12T07:05:54.650Z"
   },
   {
    "duration": 363,
    "start_time": "2023-03-12T07:05:56.761Z"
   },
   {
    "duration": 1993,
    "start_time": "2023-03-12T07:05:57.126Z"
   },
   {
    "duration": 23,
    "start_time": "2023-03-12T07:05:59.121Z"
   },
   {
    "duration": 174,
    "start_time": "2023-03-12T07:05:59.146Z"
   },
   {
    "duration": 346,
    "start_time": "2023-03-12T07:06:05.573Z"
   },
   {
    "duration": 2170,
    "start_time": "2023-03-12T07:09:10.925Z"
   },
   {
    "duration": 50,
    "start_time": "2023-03-12T07:09:13.097Z"
   },
   {
    "duration": 32,
    "start_time": "2023-03-12T07:09:13.149Z"
   },
   {
    "duration": 126,
    "start_time": "2023-03-12T07:09:13.184Z"
   },
   {
    "duration": 12,
    "start_time": "2023-03-12T07:09:13.312Z"
   },
   {
    "duration": 568,
    "start_time": "2023-03-12T07:09:16.472Z"
   },
   {
    "duration": 2176,
    "start_time": "2023-03-12T07:10:42.447Z"
   },
   {
    "duration": 62,
    "start_time": "2023-03-12T07:10:44.625Z"
   },
   {
    "duration": 15,
    "start_time": "2023-03-12T07:10:44.689Z"
   },
   {
    "duration": 130,
    "start_time": "2023-03-12T07:10:44.707Z"
   },
   {
    "duration": 11,
    "start_time": "2023-03-12T07:10:44.839Z"
   },
   {
    "duration": 564,
    "start_time": "2023-03-12T07:10:49.712Z"
   },
   {
    "duration": 2905,
    "start_time": "2023-03-12T07:11:03.097Z"
   },
   {
    "duration": 57,
    "start_time": "2023-03-12T07:11:06.004Z"
   },
   {
    "duration": 14,
    "start_time": "2023-03-12T07:11:06.074Z"
   },
   {
    "duration": 126,
    "start_time": "2023-03-12T07:11:06.090Z"
   },
   {
    "duration": 11,
    "start_time": "2023-03-12T07:11:06.218Z"
   },
   {
    "duration": 583,
    "start_time": "2023-03-12T07:11:06.231Z"
   },
   {
    "duration": 57,
    "start_time": "2023-03-12T07:11:06.816Z"
   },
   {
    "duration": 2067,
    "start_time": "2023-03-12T07:11:06.875Z"
   },
   {
    "duration": 369,
    "start_time": "2023-03-12T07:11:08.943Z"
   },
   {
    "duration": 1982,
    "start_time": "2023-03-12T07:11:09.315Z"
   },
   {
    "duration": 25,
    "start_time": "2023-03-12T07:11:11.299Z"
   },
   {
    "duration": 178,
    "start_time": "2023-03-12T07:11:11.326Z"
   },
   {
    "duration": 166,
    "start_time": "2023-03-12T07:19:05.394Z"
   },
   {
    "duration": 2164,
    "start_time": "2023-03-12T07:19:11.177Z"
   },
   {
    "duration": 64,
    "start_time": "2023-03-12T07:19:13.344Z"
   },
   {
    "duration": 15,
    "start_time": "2023-03-12T07:19:13.409Z"
   },
   {
    "duration": 132,
    "start_time": "2023-03-12T07:19:13.426Z"
   },
   {
    "duration": 14,
    "start_time": "2023-03-12T07:19:13.560Z"
   },
   {
    "duration": 154,
    "start_time": "2023-03-12T07:19:14.146Z"
   },
   {
    "duration": 2147,
    "start_time": "2023-03-12T07:19:25.775Z"
   },
   {
    "duration": 62,
    "start_time": "2023-03-12T07:19:27.925Z"
   },
   {
    "duration": 15,
    "start_time": "2023-03-12T07:19:27.989Z"
   },
   {
    "duration": 129,
    "start_time": "2023-03-12T07:19:28.007Z"
   },
   {
    "duration": 13,
    "start_time": "2023-03-12T07:19:28.138Z"
   },
   {
    "duration": 583,
    "start_time": "2023-03-12T07:19:34.391Z"
   },
   {
    "duration": 45,
    "start_time": "2023-03-12T07:20:11.709Z"
   },
   {
    "duration": 2078,
    "start_time": "2023-03-12T07:20:21.300Z"
   },
   {
    "duration": 346,
    "start_time": "2023-03-12T07:20:42.879Z"
   },
   {
    "duration": 1982,
    "start_time": "2023-03-12T07:24:09.435Z"
   },
   {
    "duration": 27,
    "start_time": "2023-03-12T07:24:42.165Z"
   },
   {
    "duration": 156,
    "start_time": "2023-03-12T07:25:22.013Z"
   },
   {
    "duration": 3458,
    "start_time": "2023-03-12T12:25:21.248Z"
   },
   {
    "duration": 65,
    "start_time": "2023-03-12T12:25:24.709Z"
   },
   {
    "duration": 16,
    "start_time": "2023-03-12T12:25:24.777Z"
   },
   {
    "duration": 133,
    "start_time": "2023-03-12T12:25:24.796Z"
   },
   {
    "duration": 16,
    "start_time": "2023-03-12T12:25:24.931Z"
   },
   {
    "duration": 353,
    "start_time": "2023-03-12T12:25:24.949Z"
   },
   {
    "duration": 335,
    "start_time": "2023-03-12T12:26:29.232Z"
   },
   {
    "duration": 3352,
    "start_time": "2023-03-12T12:26:58.814Z"
   },
   {
    "duration": 85,
    "start_time": "2023-03-12T12:27:02.169Z"
   },
   {
    "duration": 20,
    "start_time": "2023-03-12T12:27:02.257Z"
   },
   {
    "duration": 206,
    "start_time": "2023-03-12T12:27:02.281Z"
   },
   {
    "duration": 16,
    "start_time": "2023-03-12T12:27:02.489Z"
   },
   {
    "duration": 360,
    "start_time": "2023-03-12T12:27:02.507Z"
   },
   {
    "duration": 81,
    "start_time": "2023-03-12T12:27:02.869Z"
   },
   {
    "duration": 3448,
    "start_time": "2023-03-12T12:27:02.952Z"
   },
   {
    "duration": 563,
    "start_time": "2023-03-12T12:27:06.402Z"
   },
   {
    "duration": 3829,
    "start_time": "2023-03-12T12:27:06.969Z"
   },
   {
    "duration": 44,
    "start_time": "2023-03-12T12:27:10.801Z"
   },
   {
    "duration": 265,
    "start_time": "2023-03-12T12:27:10.847Z"
   },
   {
    "duration": 383,
    "start_time": "2023-03-12T12:34:22.805Z"
   },
   {
    "duration": 374,
    "start_time": "2023-03-12T12:35:22.562Z"
   },
   {
    "duration": 367,
    "start_time": "2023-03-12T12:35:58.307Z"
   },
   {
    "duration": 388,
    "start_time": "2023-03-12T12:41:00.771Z"
   },
   {
    "duration": 369,
    "start_time": "2023-03-12T12:43:19.663Z"
   },
   {
    "duration": 2358,
    "start_time": "2023-03-12T12:43:31.358Z"
   },
   {
    "duration": 269,
    "start_time": "2023-03-12T12:43:33.720Z"
   },
   {
    "duration": 33,
    "start_time": "2023-03-12T12:43:33.992Z"
   },
   {
    "duration": 193,
    "start_time": "2023-03-12T12:43:34.028Z"
   },
   {
    "duration": 19,
    "start_time": "2023-03-12T12:43:34.225Z"
   },
   {
    "duration": 420,
    "start_time": "2023-03-12T12:43:34.246Z"
   },
   {
    "duration": 76,
    "start_time": "2023-03-12T12:43:34.669Z"
   },
   {
    "duration": 3360,
    "start_time": "2023-03-12T12:43:34.748Z"
   },
   {
    "duration": 568,
    "start_time": "2023-03-12T12:43:38.111Z"
   },
   {
    "duration": 3146,
    "start_time": "2023-03-12T12:43:38.682Z"
   },
   {
    "duration": 37,
    "start_time": "2023-03-12T12:43:41.830Z"
   },
   {
    "duration": 274,
    "start_time": "2023-03-12T12:43:41.869Z"
   },
   {
    "duration": 574,
    "start_time": "2023-03-12T12:46:07.525Z"
   },
   {
    "duration": 391,
    "start_time": "2023-03-12T12:50:42.556Z"
   },
   {
    "duration": 711,
    "start_time": "2023-03-12T12:57:31.449Z"
   },
   {
    "duration": 2924,
    "start_time": "2023-03-12T13:05:16.489Z"
   },
   {
    "duration": 73,
    "start_time": "2023-03-12T13:05:19.416Z"
   },
   {
    "duration": 15,
    "start_time": "2023-03-12T13:05:19.491Z"
   },
   {
    "duration": 200,
    "start_time": "2023-03-12T13:05:19.510Z"
   },
   {
    "duration": 22,
    "start_time": "2023-03-12T13:05:19.712Z"
   },
   {
    "duration": 392,
    "start_time": "2023-03-12T13:05:19.737Z"
   },
   {
    "duration": 424,
    "start_time": "2023-03-12T13:08:30.024Z"
   },
   {
    "duration": 372,
    "start_time": "2023-03-12T13:11:00.575Z"
   },
   {
    "duration": 2378,
    "start_time": "2023-03-12T13:15:21.133Z"
   },
   {
    "duration": 65,
    "start_time": "2023-03-12T13:15:23.513Z"
   },
   {
    "duration": 15,
    "start_time": "2023-03-12T13:15:23.580Z"
   },
   {
    "duration": 174,
    "start_time": "2023-03-12T13:15:23.597Z"
   },
   {
    "duration": 12,
    "start_time": "2023-03-12T13:15:23.773Z"
   },
   {
    "duration": 463,
    "start_time": "2023-03-12T13:15:23.887Z"
   },
   {
    "duration": 2776,
    "start_time": "2023-03-12T13:15:50.404Z"
   },
   {
    "duration": 94,
    "start_time": "2023-03-12T13:15:53.183Z"
   },
   {
    "duration": 21,
    "start_time": "2023-03-12T13:15:53.279Z"
   },
   {
    "duration": 164,
    "start_time": "2023-03-12T13:15:53.303Z"
   },
   {
    "duration": 12,
    "start_time": "2023-03-12T13:15:53.470Z"
   },
   {
    "duration": 505,
    "start_time": "2023-03-12T13:15:53.484Z"
   },
   {
    "duration": 70,
    "start_time": "2023-03-12T13:15:53.992Z"
   },
   {
    "duration": 2391,
    "start_time": "2023-03-12T13:15:54.064Z"
   },
   {
    "duration": 415,
    "start_time": "2023-03-12T13:15:56.456Z"
   },
   {
    "duration": 2203,
    "start_time": "2023-03-12T13:15:56.873Z"
   },
   {
    "duration": 26,
    "start_time": "2023-03-12T13:15:59.078Z"
   },
   {
    "duration": 227,
    "start_time": "2023-03-12T13:15:59.107Z"
   },
   {
    "duration": 3084,
    "start_time": "2023-03-12T13:18:50.299Z"
   },
   {
    "duration": 76,
    "start_time": "2023-03-12T13:18:53.385Z"
   },
   {
    "duration": 17,
    "start_time": "2023-03-12T13:18:53.465Z"
   },
   {
    "duration": 267,
    "start_time": "2023-03-12T13:18:53.484Z"
   },
   {
    "duration": 18,
    "start_time": "2023-03-12T13:18:53.753Z"
   },
   {
    "duration": 286,
    "start_time": "2023-03-12T13:18:53.775Z"
   },
   {
    "duration": 239,
    "start_time": "2023-03-12T13:19:17.467Z"
   },
   {
    "duration": 65,
    "start_time": "2023-03-12T13:19:17.708Z"
   },
   {
    "duration": 2470,
    "start_time": "2023-03-12T13:19:17.775Z"
   },
   {
    "duration": 465,
    "start_time": "2023-03-12T13:19:20.252Z"
   },
   {
    "duration": 2244,
    "start_time": "2023-03-12T13:19:20.722Z"
   },
   {
    "duration": 26,
    "start_time": "2023-03-12T13:19:22.967Z"
   },
   {
    "duration": 220,
    "start_time": "2023-03-12T13:19:22.995Z"
   },
   {
    "duration": 3239,
    "start_time": "2023-03-12T13:22:12.101Z"
   },
   {
    "duration": 65,
    "start_time": "2023-03-12T13:22:15.342Z"
   },
   {
    "duration": 36,
    "start_time": "2023-03-12T13:22:15.409Z"
   },
   {
    "duration": 172,
    "start_time": "2023-03-12T13:22:15.448Z"
   },
   {
    "duration": 25,
    "start_time": "2023-03-12T13:22:15.627Z"
   },
   {
    "duration": 365,
    "start_time": "2023-03-12T13:22:18.675Z"
   },
   {
    "duration": 2753,
    "start_time": "2023-03-12T13:22:41.676Z"
   },
   {
    "duration": 66,
    "start_time": "2023-03-12T13:22:44.432Z"
   },
   {
    "duration": 39,
    "start_time": "2023-03-12T13:22:44.501Z"
   },
   {
    "duration": 157,
    "start_time": "2023-03-12T13:22:44.543Z"
   },
   {
    "duration": 11,
    "start_time": "2023-03-12T13:22:44.702Z"
   },
   {
    "duration": 422,
    "start_time": "2023-03-12T13:22:46.906Z"
   },
   {
    "duration": 2580,
    "start_time": "2023-03-12T13:23:19.710Z"
   },
   {
    "duration": 84,
    "start_time": "2023-03-12T13:23:22.292Z"
   },
   {
    "duration": 19,
    "start_time": "2023-03-12T13:23:22.378Z"
   },
   {
    "duration": 170,
    "start_time": "2023-03-12T13:23:22.400Z"
   },
   {
    "duration": 11,
    "start_time": "2023-03-12T13:23:22.572Z"
   },
   {
    "duration": 2804,
    "start_time": "2023-03-12T13:23:41.948Z"
   },
   {
    "duration": 54,
    "start_time": "2023-03-12T13:23:44.758Z"
   },
   {
    "duration": 42,
    "start_time": "2023-03-12T13:23:44.814Z"
   },
   {
    "duration": 132,
    "start_time": "2023-03-12T13:23:44.859Z"
   },
   {
    "duration": 13,
    "start_time": "2023-03-12T13:23:44.992Z"
   },
   {
    "duration": 334,
    "start_time": "2023-03-12T13:23:45.794Z"
   },
   {
    "duration": 380,
    "start_time": "2023-03-12T13:26:31.856Z"
   },
   {
    "duration": 2516,
    "start_time": "2023-03-12T13:29:22.926Z"
   },
   {
    "duration": 53,
    "start_time": "2023-03-12T13:29:25.446Z"
   },
   {
    "duration": 32,
    "start_time": "2023-03-12T13:29:25.501Z"
   },
   {
    "duration": 148,
    "start_time": "2023-03-12T13:29:25.536Z"
   },
   {
    "duration": 12,
    "start_time": "2023-03-12T13:29:25.685Z"
   },
   {
    "duration": 337,
    "start_time": "2023-03-12T13:29:26.878Z"
   },
   {
    "duration": 2403,
    "start_time": "2023-03-12T13:31:00.869Z"
   },
   {
    "duration": 68,
    "start_time": "2023-03-12T13:31:03.274Z"
   },
   {
    "duration": 19,
    "start_time": "2023-03-12T13:31:03.346Z"
   },
   {
    "duration": 132,
    "start_time": "2023-03-12T13:31:03.369Z"
   },
   {
    "duration": 12,
    "start_time": "2023-03-12T13:31:03.503Z"
   },
   {
    "duration": 330,
    "start_time": "2023-03-12T13:31:03.521Z"
   },
   {
    "duration": 79,
    "start_time": "2023-03-12T13:31:03.853Z"
   },
   {
    "duration": 2389,
    "start_time": "2023-03-12T13:31:03.945Z"
   },
   {
    "duration": 465,
    "start_time": "2023-03-12T13:31:06.344Z"
   },
   {
    "duration": 2659,
    "start_time": "2023-03-12T13:31:06.813Z"
   },
   {
    "duration": 27,
    "start_time": "2023-03-12T13:31:09.474Z"
   },
   {
    "duration": 234,
    "start_time": "2023-03-12T13:31:09.520Z"
   },
   {
    "duration": 2597,
    "start_time": "2023-03-12T13:33:32.088Z"
   },
   {
    "duration": 77,
    "start_time": "2023-03-12T13:33:34.687Z"
   },
   {
    "duration": 19,
    "start_time": "2023-03-12T13:33:34.766Z"
   },
   {
    "duration": 179,
    "start_time": "2023-03-12T13:33:34.788Z"
   },
   {
    "duration": 12,
    "start_time": "2023-03-12T13:33:34.971Z"
   },
   {
    "duration": 347,
    "start_time": "2023-03-12T13:33:34.985Z"
   },
   {
    "duration": 60,
    "start_time": "2023-03-12T13:33:35.341Z"
   },
   {
    "duration": 4114,
    "start_time": "2023-03-12T13:33:40.758Z"
   },
   {
    "duration": 3332,
    "start_time": "2023-03-12T13:34:00.516Z"
   },
   {
    "duration": 2491,
    "start_time": "2023-03-12T13:34:58.457Z"
   },
   {
    "duration": 67,
    "start_time": "2023-03-12T13:35:00.950Z"
   },
   {
    "duration": 27,
    "start_time": "2023-03-12T13:35:01.024Z"
   },
   {
    "duration": 214,
    "start_time": "2023-03-12T13:35:01.054Z"
   },
   {
    "duration": 15,
    "start_time": "2023-03-12T13:35:01.270Z"
   },
   {
    "duration": 311,
    "start_time": "2023-03-12T13:35:01.885Z"
   },
   {
    "duration": 2398,
    "start_time": "2023-03-12T13:37:42.509Z"
   },
   {
    "duration": 77,
    "start_time": "2023-03-12T13:37:44.910Z"
   },
   {
    "duration": 14,
    "start_time": "2023-03-12T13:37:44.989Z"
   },
   {
    "duration": 150,
    "start_time": "2023-03-12T13:37:45.006Z"
   },
   {
    "duration": 12,
    "start_time": "2023-03-12T13:37:45.158Z"
   },
   {
    "duration": 336,
    "start_time": "2023-03-12T13:37:47.681Z"
   },
   {
    "duration": 2361,
    "start_time": "2023-03-12T13:38:05.491Z"
   },
   {
    "duration": 92,
    "start_time": "2023-03-12T13:38:07.856Z"
   },
   {
    "duration": 20,
    "start_time": "2023-03-12T13:38:07.951Z"
   },
   {
    "duration": 135,
    "start_time": "2023-03-12T13:38:07.974Z"
   },
   {
    "duration": 21,
    "start_time": "2023-03-12T13:38:08.111Z"
   },
   {
    "duration": 426,
    "start_time": "2023-03-12T13:38:08.134Z"
   },
   {
    "duration": 82,
    "start_time": "2023-03-12T13:38:08.562Z"
   },
   {
    "duration": 3609,
    "start_time": "2023-03-12T13:38:08.647Z"
   },
   {
    "duration": 503,
    "start_time": "2023-03-12T13:38:12.258Z"
   },
   {
    "duration": 2300,
    "start_time": "2023-03-12T13:38:12.763Z"
   },
   {
    "duration": 37,
    "start_time": "2023-03-12T13:38:15.065Z"
   },
   {
    "duration": 196,
    "start_time": "2023-03-12T13:38:15.104Z"
   },
   {
    "duration": 2385,
    "start_time": "2023-03-12T13:38:50.725Z"
   },
   {
    "duration": 84,
    "start_time": "2023-03-12T13:38:53.125Z"
   },
   {
    "duration": 31,
    "start_time": "2023-03-12T13:38:53.212Z"
   },
   {
    "duration": 178,
    "start_time": "2023-03-12T13:38:53.245Z"
   },
   {
    "duration": 18,
    "start_time": "2023-03-12T13:38:53.426Z"
   },
   {
    "duration": 327,
    "start_time": "2023-03-12T13:38:53.450Z"
   },
   {
    "duration": 76,
    "start_time": "2023-03-12T13:38:53.780Z"
   },
   {
    "duration": 2785,
    "start_time": "2023-03-12T13:38:53.859Z"
   },
   {
    "duration": 405,
    "start_time": "2023-03-12T13:38:56.647Z"
   },
   {
    "duration": 2217,
    "start_time": "2023-03-12T13:38:57.053Z"
   },
   {
    "duration": 2440,
    "start_time": "2023-03-12T13:40:21.879Z"
   },
   {
    "duration": 114,
    "start_time": "2023-03-12T13:40:24.322Z"
   },
   {
    "duration": 21,
    "start_time": "2023-03-12T13:40:24.442Z"
   },
   {
    "duration": 125,
    "start_time": "2023-03-12T13:40:24.465Z"
   },
   {
    "duration": 16,
    "start_time": "2023-03-12T13:40:24.593Z"
   },
   {
    "duration": 526,
    "start_time": "2023-03-12T13:40:24.613Z"
   },
   {
    "duration": 85,
    "start_time": "2023-03-12T13:40:25.142Z"
   },
   {
    "duration": 3711,
    "start_time": "2023-03-12T13:40:25.229Z"
   },
   {
    "duration": 444,
    "start_time": "2023-03-12T13:40:28.946Z"
   },
   {
    "duration": 2491,
    "start_time": "2023-03-12T13:40:29.393Z"
   },
   {
    "duration": 50,
    "start_time": "2023-03-12T13:40:31.886Z"
   },
   {
    "duration": 167,
    "start_time": "2023-03-12T13:40:31.940Z"
   },
   {
    "duration": 2535,
    "start_time": "2023-03-12T13:41:35.647Z"
   },
   {
    "duration": 87,
    "start_time": "2023-03-12T13:41:38.185Z"
   },
   {
    "duration": 22,
    "start_time": "2023-03-12T13:41:38.275Z"
   },
   {
    "duration": 167,
    "start_time": "2023-03-12T13:41:38.300Z"
   },
   {
    "duration": 13,
    "start_time": "2023-03-12T13:41:38.471Z"
   },
   {
    "duration": 455,
    "start_time": "2023-03-12T13:41:38.486Z"
   },
   {
    "duration": 58,
    "start_time": "2023-03-12T13:41:38.944Z"
   },
   {
    "duration": 3163,
    "start_time": "2023-03-12T13:41:39.004Z"
   },
   {
    "duration": 507,
    "start_time": "2023-03-12T13:41:42.170Z"
   },
   {
    "duration": 2179,
    "start_time": "2023-03-12T13:41:42.679Z"
   },
   {
    "duration": 34,
    "start_time": "2023-03-12T13:41:44.860Z"
   },
   {
    "duration": 196,
    "start_time": "2023-03-12T13:41:44.896Z"
   },
   {
    "duration": 2555,
    "start_time": "2023-03-12T13:43:20.146Z"
   },
   {
    "duration": 64,
    "start_time": "2023-03-12T13:43:22.704Z"
   },
   {
    "duration": 18,
    "start_time": "2023-03-12T13:43:22.770Z"
   },
   {
    "duration": 186,
    "start_time": "2023-03-12T13:43:22.791Z"
   },
   {
    "duration": 13,
    "start_time": "2023-03-12T13:43:22.978Z"
   },
   {
    "duration": 316,
    "start_time": "2023-03-12T13:43:25.060Z"
   },
   {
    "duration": 2359,
    "start_time": "2023-03-12T13:43:59.680Z"
   },
   {
    "duration": 52,
    "start_time": "2023-03-12T13:44:02.043Z"
   },
   {
    "duration": 32,
    "start_time": "2023-03-12T13:44:02.098Z"
   },
   {
    "duration": 123,
    "start_time": "2023-03-12T13:44:02.133Z"
   },
   {
    "duration": 11,
    "start_time": "2023-03-12T13:44:02.259Z"
   },
   {
    "duration": 293,
    "start_time": "2023-03-12T13:44:02.917Z"
   },
   {
    "duration": 3272,
    "start_time": "2023-03-12T13:44:15.444Z"
   },
   {
    "duration": 53,
    "start_time": "2023-03-12T13:44:18.721Z"
   },
   {
    "duration": 20,
    "start_time": "2023-03-12T13:44:18.778Z"
   },
   {
    "duration": 145,
    "start_time": "2023-03-12T13:44:18.822Z"
   },
   {
    "duration": 19,
    "start_time": "2023-03-12T13:44:18.969Z"
   },
   {
    "duration": 305,
    "start_time": "2023-03-12T13:44:18.991Z"
   },
   {
    "duration": 63,
    "start_time": "2023-03-12T13:44:19.298Z"
   },
   {
    "duration": 2875,
    "start_time": "2023-03-12T13:44:19.363Z"
   },
   {
    "duration": 383,
    "start_time": "2023-03-12T13:44:22.241Z"
   },
   {
    "duration": 2072,
    "start_time": "2023-03-12T13:44:22.628Z"
   },
   {
    "duration": 42,
    "start_time": "2023-03-12T13:44:24.702Z"
   },
   {
    "duration": 206,
    "start_time": "2023-03-12T13:44:24.746Z"
   },
   {
    "duration": 2205,
    "start_time": "2023-03-12T13:45:25.442Z"
   },
   {
    "duration": 53,
    "start_time": "2023-03-12T13:45:27.649Z"
   },
   {
    "duration": 28,
    "start_time": "2023-03-12T13:45:27.704Z"
   },
   {
    "duration": 194,
    "start_time": "2023-03-12T13:45:27.735Z"
   },
   {
    "duration": 18,
    "start_time": "2023-03-12T13:45:27.931Z"
   },
   {
    "duration": 366,
    "start_time": "2023-03-12T13:45:31.389Z"
   },
   {
    "duration": 77,
    "start_time": "2023-03-12T13:45:31.758Z"
   },
   {
    "duration": 2543,
    "start_time": "2023-03-12T13:45:31.838Z"
   },
   {
    "duration": 476,
    "start_time": "2023-03-12T13:45:34.383Z"
   },
   {
    "duration": 2129,
    "start_time": "2023-03-12T13:45:34.861Z"
   },
   {
    "duration": 47,
    "start_time": "2023-03-12T13:45:36.992Z"
   },
   {
    "duration": 192,
    "start_time": "2023-03-12T13:45:37.040Z"
   },
   {
    "duration": 2242,
    "start_time": "2023-03-12T13:46:20.604Z"
   },
   {
    "duration": 58,
    "start_time": "2023-03-12T13:46:22.849Z"
   },
   {
    "duration": 24,
    "start_time": "2023-03-12T13:46:22.910Z"
   },
   {
    "duration": 181,
    "start_time": "2023-03-12T13:46:22.937Z"
   },
   {
    "duration": 15,
    "start_time": "2023-03-12T13:46:23.122Z"
   },
   {
    "duration": 380,
    "start_time": "2023-03-12T13:46:23.139Z"
   },
   {
    "duration": 61,
    "start_time": "2023-03-12T13:46:23.522Z"
   },
   {
    "duration": 2664,
    "start_time": "2023-03-12T13:46:23.585Z"
   },
   {
    "duration": 1493,
    "start_time": "2023-03-12T13:46:26.251Z"
   },
   {
    "duration": 2231,
    "start_time": "2023-03-12T13:46:27.747Z"
   },
   {
    "duration": 29,
    "start_time": "2023-03-12T13:46:29.980Z"
   },
   {
    "duration": 211,
    "start_time": "2023-03-12T13:46:30.011Z"
   },
   {
    "duration": 2252,
    "start_time": "2023-03-12T13:47:01.208Z"
   },
   {
    "duration": 73,
    "start_time": "2023-03-12T13:47:03.462Z"
   },
   {
    "duration": 15,
    "start_time": "2023-03-12T13:47:03.537Z"
   },
   {
    "duration": 134,
    "start_time": "2023-03-12T13:47:03.554Z"
   },
   {
    "duration": 12,
    "start_time": "2023-03-12T13:47:03.690Z"
   },
   {
    "duration": 436,
    "start_time": "2023-03-12T13:47:03.705Z"
   },
   {
    "duration": 59,
    "start_time": "2023-03-12T13:47:04.143Z"
   },
   {
    "duration": 2689,
    "start_time": "2023-03-12T13:47:04.205Z"
   },
   {
    "duration": 400,
    "start_time": "2023-03-12T13:47:06.896Z"
   },
   {
    "duration": 2280,
    "start_time": "2023-03-12T13:47:07.298Z"
   },
   {
    "duration": 45,
    "start_time": "2023-03-12T13:47:09.585Z"
   },
   {
    "duration": 242,
    "start_time": "2023-03-12T13:47:09.633Z"
   },
   {
    "duration": 2498,
    "start_time": "2023-03-12T14:04:06.043Z"
   },
   {
    "duration": 80,
    "start_time": "2023-03-12T14:04:08.544Z"
   },
   {
    "duration": 32,
    "start_time": "2023-03-12T14:04:08.626Z"
   },
   {
    "duration": 132,
    "start_time": "2023-03-12T14:04:08.661Z"
   },
   {
    "duration": 12,
    "start_time": "2023-03-12T14:04:08.795Z"
   },
   {
    "duration": 359,
    "start_time": "2023-03-12T14:04:08.809Z"
   },
   {
    "duration": 58,
    "start_time": "2023-03-12T14:04:09.170Z"
   },
   {
    "duration": 2790,
    "start_time": "2023-03-12T14:04:09.230Z"
   },
   {
    "duration": 389,
    "start_time": "2023-03-12T14:04:12.022Z"
   },
   {
    "duration": 2031,
    "start_time": "2023-03-12T14:04:12.423Z"
   },
   {
    "duration": 35,
    "start_time": "2023-03-12T14:04:14.456Z"
   },
   {
    "duration": 202,
    "start_time": "2023-03-12T14:04:14.493Z"
   },
   {
    "duration": 2197,
    "start_time": "2023-03-12T14:04:45.949Z"
   },
   {
    "duration": 51,
    "start_time": "2023-03-12T14:04:48.149Z"
   },
   {
    "duration": 31,
    "start_time": "2023-03-12T14:04:48.202Z"
   },
   {
    "duration": 123,
    "start_time": "2023-03-12T14:04:48.236Z"
   },
   {
    "duration": 13,
    "start_time": "2023-03-12T14:04:48.361Z"
   },
   {
    "duration": 286,
    "start_time": "2023-03-12T14:04:48.376Z"
   },
   {
    "duration": 62,
    "start_time": "2023-03-12T14:04:48.664Z"
   },
   {
    "duration": 3012,
    "start_time": "2023-03-12T14:04:48.729Z"
   },
   {
    "duration": 1702,
    "start_time": "2023-03-12T14:04:51.743Z"
   },
   {
    "duration": 2250,
    "start_time": "2023-03-12T14:04:53.448Z"
   },
   {
    "duration": 44,
    "start_time": "2023-03-12T14:04:55.701Z"
   },
   {
    "duration": 236,
    "start_time": "2023-03-12T14:04:55.748Z"
   },
   {
    "duration": 335,
    "start_time": "2023-03-12T14:16:49.216Z"
   },
   {
    "duration": 2300,
    "start_time": "2023-03-12T14:16:57.383Z"
   },
   {
    "duration": 65,
    "start_time": "2023-03-12T14:16:59.686Z"
   },
   {
    "duration": 15,
    "start_time": "2023-03-12T14:16:59.753Z"
   },
   {
    "duration": 175,
    "start_time": "2023-03-12T14:16:59.770Z"
   },
   {
    "duration": 17,
    "start_time": "2023-03-12T14:16:59.948Z"
   },
   {
    "duration": 375,
    "start_time": "2023-03-12T14:16:59.968Z"
   },
   {
    "duration": 2334,
    "start_time": "2023-03-12T14:18:13.713Z"
   },
   {
    "duration": 59,
    "start_time": "2023-03-12T14:18:16.050Z"
   },
   {
    "duration": 26,
    "start_time": "2023-03-12T14:18:16.111Z"
   },
   {
    "duration": 147,
    "start_time": "2023-03-12T14:18:16.140Z"
   },
   {
    "duration": 13,
    "start_time": "2023-03-12T14:18:16.292Z"
   },
   {
    "duration": 359,
    "start_time": "2023-03-12T14:18:16.307Z"
   },
   {
    "duration": 65,
    "start_time": "2023-03-12T14:18:16.668Z"
   },
   {
    "duration": 2956,
    "start_time": "2023-03-12T14:18:16.734Z"
   },
   {
    "duration": 442,
    "start_time": "2023-03-12T14:18:19.692Z"
   },
   {
    "duration": 2248,
    "start_time": "2023-03-12T14:18:20.138Z"
   },
   {
    "duration": 51,
    "start_time": "2023-03-12T14:18:22.388Z"
   },
   {
    "duration": 198,
    "start_time": "2023-03-12T14:18:22.442Z"
   },
   {
    "duration": 2403,
    "start_time": "2023-03-12T14:20:06.362Z"
   },
   {
    "duration": 63,
    "start_time": "2023-03-12T14:20:08.767Z"
   },
   {
    "duration": 20,
    "start_time": "2023-03-12T14:20:08.833Z"
   },
   {
    "duration": 205,
    "start_time": "2023-03-12T14:20:08.857Z"
   },
   {
    "duration": 12,
    "start_time": "2023-03-12T14:20:09.064Z"
   },
   {
    "duration": 372,
    "start_time": "2023-03-12T14:20:09.078Z"
   },
   {
    "duration": 80,
    "start_time": "2023-03-12T14:20:09.452Z"
   },
   {
    "duration": 2997,
    "start_time": "2023-03-12T14:20:09.534Z"
   },
   {
    "duration": 450,
    "start_time": "2023-03-12T14:20:12.532Z"
   },
   {
    "duration": 2184,
    "start_time": "2023-03-12T14:20:12.985Z"
   },
   {
    "duration": 56,
    "start_time": "2023-03-12T14:20:15.172Z"
   },
   {
    "duration": 198,
    "start_time": "2023-03-12T14:20:15.232Z"
   },
   {
    "duration": 2411,
    "start_time": "2023-03-12T14:22:44.703Z"
   },
   {
    "duration": 68,
    "start_time": "2023-03-12T14:22:47.122Z"
   },
   {
    "duration": 33,
    "start_time": "2023-03-12T14:22:47.193Z"
   },
   {
    "duration": 146,
    "start_time": "2023-03-12T14:22:47.230Z"
   },
   {
    "duration": 12,
    "start_time": "2023-03-12T14:22:47.379Z"
   },
   {
    "duration": 343,
    "start_time": "2023-03-12T14:22:47.393Z"
   },
   {
    "duration": 43,
    "start_time": "2023-03-12T14:22:47.738Z"
   },
   {
    "duration": 2866,
    "start_time": "2023-03-12T14:22:47.782Z"
   },
   {
    "duration": 453,
    "start_time": "2023-03-12T14:22:50.651Z"
   },
   {
    "duration": 3749,
    "start_time": "2023-03-12T14:22:51.106Z"
   },
   {
    "duration": 25,
    "start_time": "2023-03-12T14:22:54.857Z"
   },
   {
    "duration": 211,
    "start_time": "2023-03-12T14:22:54.884Z"
   },
   {
    "duration": 2406,
    "start_time": "2023-03-12T14:24:56.640Z"
   },
   {
    "duration": 51,
    "start_time": "2023-03-12T14:24:59.050Z"
   },
   {
    "duration": 29,
    "start_time": "2023-03-12T14:24:59.103Z"
   },
   {
    "duration": 134,
    "start_time": "2023-03-12T14:24:59.134Z"
   },
   {
    "duration": 12,
    "start_time": "2023-03-12T14:24:59.270Z"
   },
   {
    "duration": 351,
    "start_time": "2023-03-12T14:24:59.284Z"
   },
   {
    "duration": 50,
    "start_time": "2023-03-12T14:24:59.637Z"
   },
   {
    "duration": 2742,
    "start_time": "2023-03-12T14:24:59.690Z"
   },
   {
    "duration": 391,
    "start_time": "2023-03-12T14:25:02.438Z"
   },
   {
    "duration": 2318,
    "start_time": "2023-03-12T14:25:02.837Z"
   },
   {
    "duration": 26,
    "start_time": "2023-03-12T14:25:05.157Z"
   },
   {
    "duration": 200,
    "start_time": "2023-03-12T14:25:05.185Z"
   },
   {
    "duration": 406,
    "start_time": "2023-03-12T14:26:11.741Z"
   },
   {
    "duration": 2400,
    "start_time": "2023-03-12T14:26:28.046Z"
   },
   {
    "duration": 90,
    "start_time": "2023-03-12T14:26:30.448Z"
   },
   {
    "duration": 20,
    "start_time": "2023-03-12T14:26:30.541Z"
   },
   {
    "duration": 185,
    "start_time": "2023-03-12T14:26:30.564Z"
   },
   {
    "duration": 12,
    "start_time": "2023-03-12T14:26:30.752Z"
   },
   {
    "duration": 411,
    "start_time": "2023-03-12T14:26:30.766Z"
   },
   {
    "duration": 2648,
    "start_time": "2023-03-12T14:27:49.553Z"
   },
   {
    "duration": 65,
    "start_time": "2023-03-12T14:27:52.204Z"
   },
   {
    "duration": 14,
    "start_time": "2023-03-12T14:27:52.270Z"
   },
   {
    "duration": 151,
    "start_time": "2023-03-12T14:27:52.286Z"
   },
   {
    "duration": 11,
    "start_time": "2023-03-12T14:27:52.440Z"
   },
   {
    "duration": 485,
    "start_time": "2023-03-12T14:27:52.454Z"
   },
   {
    "duration": 2538,
    "start_time": "2023-03-12T14:28:30.192Z"
   },
   {
    "duration": 80,
    "start_time": "2023-03-12T14:28:32.734Z"
   },
   {
    "duration": 31,
    "start_time": "2023-03-12T14:28:32.817Z"
   },
   {
    "duration": 121,
    "start_time": "2023-03-12T14:28:32.850Z"
   },
   {
    "duration": 12,
    "start_time": "2023-03-12T14:28:32.973Z"
   },
   {
    "duration": 388,
    "start_time": "2023-03-12T14:28:32.987Z"
   },
   {
    "duration": 67,
    "start_time": "2023-03-12T14:28:33.377Z"
   },
   {
    "duration": 2740,
    "start_time": "2023-03-12T14:28:33.446Z"
   },
   {
    "duration": 407,
    "start_time": "2023-03-12T14:28:36.188Z"
   },
   {
    "duration": 2234,
    "start_time": "2023-03-12T14:28:36.598Z"
   },
   {
    "duration": 31,
    "start_time": "2023-03-12T14:28:38.838Z"
   },
   {
    "duration": 210,
    "start_time": "2023-03-12T14:28:38.871Z"
   },
   {
    "duration": 2318,
    "start_time": "2023-03-12T14:45:36.617Z"
   },
   {
    "duration": 54,
    "start_time": "2023-03-12T14:45:38.937Z"
   },
   {
    "duration": 14,
    "start_time": "2023-03-12T14:45:38.993Z"
   },
   {
    "duration": 143,
    "start_time": "2023-03-12T14:45:39.009Z"
   },
   {
    "duration": 12,
    "start_time": "2023-03-12T14:45:39.155Z"
   },
   {
    "duration": 410,
    "start_time": "2023-03-12T14:45:39.169Z"
   },
   {
    "duration": 53,
    "start_time": "2023-03-12T14:45:39.581Z"
   },
   {
    "duration": 2691,
    "start_time": "2023-03-12T14:45:39.637Z"
   },
   {
    "duration": 382,
    "start_time": "2023-03-12T14:45:42.330Z"
   },
   {
    "duration": 2121,
    "start_time": "2023-03-12T14:45:42.714Z"
   },
   {
    "duration": 27,
    "start_time": "2023-03-12T14:45:44.838Z"
   },
   {
    "duration": 207,
    "start_time": "2023-03-12T14:45:44.866Z"
   },
   {
    "duration": 4464,
    "start_time": "2023-03-12T15:45:02.205Z"
   },
   {
    "duration": 72,
    "start_time": "2023-03-12T15:45:06.672Z"
   },
   {
    "duration": 17,
    "start_time": "2023-03-12T15:45:06.746Z"
   },
   {
    "duration": 133,
    "start_time": "2023-03-12T15:45:06.765Z"
   },
   {
    "duration": 26,
    "start_time": "2023-03-12T15:45:06.900Z"
   },
   {
    "duration": 2404,
    "start_time": "2023-03-12T15:45:46.285Z"
   },
   {
    "duration": 83,
    "start_time": "2023-03-12T15:45:48.691Z"
   },
   {
    "duration": 18,
    "start_time": "2023-03-12T15:45:48.776Z"
   },
   {
    "duration": 154,
    "start_time": "2023-03-12T15:45:48.796Z"
   },
   {
    "duration": 15,
    "start_time": "2023-03-12T15:45:48.953Z"
   },
   {
    "duration": 2567,
    "start_time": "2023-03-12T15:46:28.583Z"
   },
   {
    "duration": 74,
    "start_time": "2023-03-12T15:46:31.152Z"
   },
   {
    "duration": 20,
    "start_time": "2023-03-12T15:46:31.233Z"
   },
   {
    "duration": 147,
    "start_time": "2023-03-12T15:46:31.259Z"
   },
   {
    "duration": 16,
    "start_time": "2023-03-12T15:46:31.408Z"
   },
   {
    "duration": 403,
    "start_time": "2023-03-12T15:46:32.213Z"
   },
   {
    "duration": 2990,
    "start_time": "2023-03-12T15:47:36.889Z"
   },
   {
    "duration": 81,
    "start_time": "2023-03-12T15:47:39.884Z"
   },
   {
    "duration": 22,
    "start_time": "2023-03-12T15:47:39.971Z"
   },
   {
    "duration": 222,
    "start_time": "2023-03-12T15:47:39.995Z"
   },
   {
    "duration": 23,
    "start_time": "2023-03-12T15:47:40.222Z"
   },
   {
    "duration": 509,
    "start_time": "2023-03-12T15:47:40.251Z"
   },
   {
    "duration": 2759,
    "start_time": "2023-03-12T15:49:06.981Z"
   },
   {
    "duration": 110,
    "start_time": "2023-03-12T15:49:09.743Z"
   },
   {
    "duration": 31,
    "start_time": "2023-03-12T15:49:09.870Z"
   },
   {
    "duration": 234,
    "start_time": "2023-03-12T15:49:09.903Z"
   },
   {
    "duration": 29,
    "start_time": "2023-03-12T15:49:10.143Z"
   },
   {
    "duration": 628,
    "start_time": "2023-03-12T15:49:13.009Z"
   },
   {
    "duration": 2663,
    "start_time": "2023-03-12T15:51:20.652Z"
   },
   {
    "duration": 73,
    "start_time": "2023-03-12T15:51:23.323Z"
   },
   {
    "duration": 35,
    "start_time": "2023-03-12T15:51:23.399Z"
   },
   {
    "duration": 142,
    "start_time": "2023-03-12T15:51:23.436Z"
   },
   {
    "duration": 11,
    "start_time": "2023-03-12T15:51:23.579Z"
   },
   {
    "duration": 197,
    "start_time": "2023-03-12T15:51:23.592Z"
   },
   {
    "duration": 2447,
    "start_time": "2023-03-12T15:52:12.013Z"
   },
   {
    "duration": 75,
    "start_time": "2023-03-12T15:52:14.463Z"
   },
   {
    "duration": 19,
    "start_time": "2023-03-12T15:52:14.540Z"
   },
   {
    "duration": 132,
    "start_time": "2023-03-12T15:52:14.561Z"
   },
   {
    "duration": 12,
    "start_time": "2023-03-12T15:52:14.695Z"
   },
   {
    "duration": 2457,
    "start_time": "2023-03-12T15:53:11.292Z"
   },
   {
    "duration": 79,
    "start_time": "2023-03-12T15:53:13.751Z"
   },
   {
    "duration": 24,
    "start_time": "2023-03-12T15:53:13.832Z"
   },
   {
    "duration": 141,
    "start_time": "2023-03-12T15:53:13.858Z"
   },
   {
    "duration": 12,
    "start_time": "2023-03-12T15:53:14.002Z"
   },
   {
    "duration": 194,
    "start_time": "2023-03-12T15:53:15.634Z"
   },
   {
    "duration": 2281,
    "start_time": "2023-03-12T15:54:50.027Z"
   },
   {
    "duration": 79,
    "start_time": "2023-03-12T15:54:52.311Z"
   },
   {
    "duration": 34,
    "start_time": "2023-03-12T15:54:52.392Z"
   },
   {
    "duration": 133,
    "start_time": "2023-03-12T15:54:52.428Z"
   },
   {
    "duration": 12,
    "start_time": "2023-03-12T15:54:52.563Z"
   },
   {
    "duration": 51,
    "start_time": "2023-03-12T15:54:52.945Z"
   },
   {
    "duration": 2157,
    "start_time": "2023-03-12T15:55:05.856Z"
   },
   {
    "duration": 52,
    "start_time": "2023-03-12T15:55:08.016Z"
   },
   {
    "duration": 14,
    "start_time": "2023-03-12T15:55:08.070Z"
   },
   {
    "duration": 129,
    "start_time": "2023-03-12T15:55:08.086Z"
   },
   {
    "duration": 11,
    "start_time": "2023-03-12T15:55:08.222Z"
   },
   {
    "duration": 13,
    "start_time": "2023-03-12T15:55:25.832Z"
   },
   {
    "duration": 2239,
    "start_time": "2023-03-12T15:55:50.112Z"
   },
   {
    "duration": 53,
    "start_time": "2023-03-12T15:55:52.353Z"
   },
   {
    "duration": 28,
    "start_time": "2023-03-12T15:55:52.408Z"
   },
   {
    "duration": 133,
    "start_time": "2023-03-12T15:55:52.440Z"
   },
   {
    "duration": 11,
    "start_time": "2023-03-12T15:55:52.575Z"
   },
   {
    "duration": 10,
    "start_time": "2023-03-12T15:55:53.187Z"
   },
   {
    "duration": 2173,
    "start_time": "2023-03-12T15:56:10.124Z"
   },
   {
    "duration": 63,
    "start_time": "2023-03-12T15:56:12.300Z"
   },
   {
    "duration": 16,
    "start_time": "2023-03-12T15:56:12.365Z"
   },
   {
    "duration": 188,
    "start_time": "2023-03-12T15:56:12.384Z"
   },
   {
    "duration": 16,
    "start_time": "2023-03-12T15:56:12.574Z"
   },
   {
    "duration": 18,
    "start_time": "2023-03-12T15:56:12.800Z"
   },
   {
    "duration": 2227,
    "start_time": "2023-03-12T15:56:33.638Z"
   },
   {
    "duration": 66,
    "start_time": "2023-03-12T15:56:35.868Z"
   },
   {
    "duration": 16,
    "start_time": "2023-03-12T15:56:35.936Z"
   },
   {
    "duration": 127,
    "start_time": "2023-03-12T15:56:35.955Z"
   },
   {
    "duration": 11,
    "start_time": "2023-03-12T15:56:36.084Z"
   },
   {
    "duration": 16,
    "start_time": "2023-03-12T15:56:38.152Z"
   },
   {
    "duration": 2203,
    "start_time": "2023-03-12T15:56:54.851Z"
   },
   {
    "duration": 65,
    "start_time": "2023-03-12T15:56:57.056Z"
   },
   {
    "duration": 17,
    "start_time": "2023-03-12T15:56:57.124Z"
   },
   {
    "duration": 136,
    "start_time": "2023-03-12T15:56:57.143Z"
   },
   {
    "duration": 13,
    "start_time": "2023-03-12T15:56:57.282Z"
   },
   {
    "duration": 20,
    "start_time": "2023-03-12T15:57:07.739Z"
   },
   {
    "duration": 2243,
    "start_time": "2023-03-12T15:57:28.389Z"
   },
   {
    "duration": 57,
    "start_time": "2023-03-12T15:57:30.635Z"
   },
   {
    "duration": 34,
    "start_time": "2023-03-12T15:57:30.694Z"
   },
   {
    "duration": 137,
    "start_time": "2023-03-12T15:57:30.730Z"
   },
   {
    "duration": 11,
    "start_time": "2023-03-12T15:57:30.870Z"
   },
   {
    "duration": 22,
    "start_time": "2023-03-12T15:57:31.473Z"
   },
   {
    "duration": 4076,
    "start_time": "2023-03-12T15:57:46.539Z"
   },
   {
    "duration": 51,
    "start_time": "2023-03-12T15:57:50.617Z"
   },
   {
    "duration": 14,
    "start_time": "2023-03-12T15:57:50.669Z"
   },
   {
    "duration": 137,
    "start_time": "2023-03-12T15:57:50.686Z"
   },
   {
    "duration": 11,
    "start_time": "2023-03-12T15:57:50.825Z"
   },
   {
    "duration": 21,
    "start_time": "2023-03-12T15:57:51.016Z"
   },
   {
    "duration": 2243,
    "start_time": "2023-03-12T15:58:59.727Z"
   },
   {
    "duration": 59,
    "start_time": "2023-03-12T15:59:01.973Z"
   },
   {
    "duration": 14,
    "start_time": "2023-03-12T15:59:02.034Z"
   },
   {
    "duration": 126,
    "start_time": "2023-03-12T15:59:02.051Z"
   },
   {
    "duration": 18,
    "start_time": "2023-03-12T15:59:02.179Z"
   },
   {
    "duration": 23,
    "start_time": "2023-03-12T15:59:02.286Z"
   },
   {
    "duration": 2213,
    "start_time": "2023-03-12T15:59:43.694Z"
   },
   {
    "duration": 58,
    "start_time": "2023-03-12T15:59:45.910Z"
   },
   {
    "duration": 13,
    "start_time": "2023-03-12T15:59:45.970Z"
   },
   {
    "duration": 128,
    "start_time": "2023-03-12T15:59:45.986Z"
   },
   {
    "duration": 15,
    "start_time": "2023-03-12T15:59:46.116Z"
   },
   {
    "duration": 28,
    "start_time": "2023-03-12T15:59:50.781Z"
   },
   {
    "duration": 2270,
    "start_time": "2023-03-12T16:00:15.601Z"
   },
   {
    "duration": 62,
    "start_time": "2023-03-12T16:00:17.874Z"
   },
   {
    "duration": 16,
    "start_time": "2023-03-12T16:00:17.938Z"
   },
   {
    "duration": 178,
    "start_time": "2023-03-12T16:00:17.957Z"
   },
   {
    "duration": 13,
    "start_time": "2023-03-12T16:00:18.137Z"
   },
   {
    "duration": 34,
    "start_time": "2023-03-12T16:00:18.153Z"
   },
   {
    "duration": 2186,
    "start_time": "2023-03-12T16:00:51.188Z"
   },
   {
    "duration": 80,
    "start_time": "2023-03-12T16:00:53.376Z"
   },
   {
    "duration": 19,
    "start_time": "2023-03-12T16:00:53.459Z"
   },
   {
    "duration": 125,
    "start_time": "2023-03-12T16:00:53.482Z"
   },
   {
    "duration": 16,
    "start_time": "2023-03-12T16:00:53.611Z"
   },
   {
    "duration": 21,
    "start_time": "2023-03-12T16:00:53.629Z"
   },
   {
    "duration": 2200,
    "start_time": "2023-03-12T16:01:15.243Z"
   },
   {
    "duration": 52,
    "start_time": "2023-03-12T16:01:17.446Z"
   },
   {
    "duration": 30,
    "start_time": "2023-03-12T16:01:17.500Z"
   },
   {
    "duration": 136,
    "start_time": "2023-03-12T16:01:17.532Z"
   },
   {
    "duration": 13,
    "start_time": "2023-03-12T16:01:17.670Z"
   },
   {
    "duration": 23,
    "start_time": "2023-03-12T16:01:18.142Z"
   },
   {
    "duration": 2141,
    "start_time": "2023-03-12T16:02:43.807Z"
   },
   {
    "duration": 54,
    "start_time": "2023-03-12T16:02:45.950Z"
   },
   {
    "duration": 32,
    "start_time": "2023-03-12T16:02:46.006Z"
   },
   {
    "duration": 118,
    "start_time": "2023-03-12T16:02:46.041Z"
   },
   {
    "duration": 11,
    "start_time": "2023-03-12T16:02:46.161Z"
   },
   {
    "duration": 22,
    "start_time": "2023-03-12T16:02:47.479Z"
   },
   {
    "duration": 21,
    "start_time": "2023-03-12T16:02:56.101Z"
   },
   {
    "duration": 2139,
    "start_time": "2023-03-12T16:03:01.457Z"
   },
   {
    "duration": 56,
    "start_time": "2023-03-12T16:03:03.598Z"
   },
   {
    "duration": 14,
    "start_time": "2023-03-12T16:03:03.655Z"
   },
   {
    "duration": 124,
    "start_time": "2023-03-12T16:03:03.671Z"
   },
   {
    "duration": 12,
    "start_time": "2023-03-12T16:03:03.798Z"
   },
   {
    "duration": 22,
    "start_time": "2023-03-12T16:03:03.821Z"
   },
   {
    "duration": 52,
    "start_time": "2023-03-12T16:03:03.845Z"
   },
   {
    "duration": 2612,
    "start_time": "2023-03-12T16:03:03.899Z"
   },
   {
    "duration": 383,
    "start_time": "2023-03-12T16:03:06.513Z"
   },
   {
    "duration": 2044,
    "start_time": "2023-03-12T16:03:06.899Z"
   },
   {
    "duration": 34,
    "start_time": "2023-03-12T16:03:08.945Z"
   },
   {
    "duration": 180,
    "start_time": "2023-03-12T16:03:08.981Z"
   },
   {
    "duration": 2101,
    "start_time": "2023-03-12T16:04:15.119Z"
   },
   {
    "duration": 52,
    "start_time": "2023-03-12T16:04:17.222Z"
   },
   {
    "duration": 15,
    "start_time": "2023-03-12T16:04:17.275Z"
   },
   {
    "duration": 163,
    "start_time": "2023-03-12T16:04:17.293Z"
   },
   {
    "duration": 11,
    "start_time": "2023-03-12T16:04:17.458Z"
   },
   {
    "duration": 113,
    "start_time": "2023-03-12T16:04:19.279Z"
   },
   {
    "duration": 2207,
    "start_time": "2023-03-12T16:05:40.167Z"
   },
   {
    "duration": 69,
    "start_time": "2023-03-12T16:05:42.376Z"
   },
   {
    "duration": 15,
    "start_time": "2023-03-12T16:05:42.447Z"
   },
   {
    "duration": 163,
    "start_time": "2023-03-12T16:05:42.465Z"
   },
   {
    "duration": 11,
    "start_time": "2023-03-12T16:05:42.630Z"
   },
   {
    "duration": 91,
    "start_time": "2023-03-12T16:05:45.721Z"
   },
   {
    "duration": 2476,
    "start_time": "2023-03-12T16:09:03.538Z"
   },
   {
    "duration": 67,
    "start_time": "2023-03-12T16:09:06.016Z"
   },
   {
    "duration": 14,
    "start_time": "2023-03-12T16:09:06.085Z"
   },
   {
    "duration": 135,
    "start_time": "2023-03-12T16:09:06.101Z"
   },
   {
    "duration": 17,
    "start_time": "2023-03-12T16:09:06.333Z"
   },
   {
    "duration": 43,
    "start_time": "2023-03-12T16:09:06.485Z"
   },
   {
    "duration": 2310,
    "start_time": "2023-03-12T16:09:56.481Z"
   },
   {
    "duration": 65,
    "start_time": "2023-03-12T16:09:58.793Z"
   },
   {
    "duration": 15,
    "start_time": "2023-03-12T16:09:58.860Z"
   },
   {
    "duration": 122,
    "start_time": "2023-03-12T16:09:58.877Z"
   },
   {
    "duration": 19,
    "start_time": "2023-03-12T16:09:59.001Z"
   },
   {
    "duration": 18,
    "start_time": "2023-03-12T16:09:59.022Z"
   },
   {
    "duration": 48,
    "start_time": "2023-03-12T16:10:29.430Z"
   },
   {
    "duration": 40,
    "start_time": "2023-03-12T16:11:33.080Z"
   },
   {
    "duration": 2278,
    "start_time": "2023-03-12T16:12:16.317Z"
   },
   {
    "duration": 62,
    "start_time": "2023-03-12T16:12:18.598Z"
   },
   {
    "duration": 16,
    "start_time": "2023-03-12T16:12:18.662Z"
   },
   {
    "duration": 180,
    "start_time": "2023-03-12T16:12:18.681Z"
   },
   {
    "duration": 14,
    "start_time": "2023-03-12T16:12:18.863Z"
   },
   {
    "duration": 7,
    "start_time": "2023-03-12T16:12:19.136Z"
   },
   {
    "duration": 48,
    "start_time": "2023-03-12T16:12:33.378Z"
   },
   {
    "duration": 51,
    "start_time": "2023-03-12T16:12:48.781Z"
   },
   {
    "duration": 61,
    "start_time": "2023-03-12T16:15:33.958Z"
   },
   {
    "duration": 36,
    "start_time": "2023-03-12T16:16:37.197Z"
   },
   {
    "duration": 8,
    "start_time": "2023-03-12T16:18:18.830Z"
   },
   {
    "duration": 2334,
    "start_time": "2023-03-12T16:18:33.673Z"
   },
   {
    "duration": 61,
    "start_time": "2023-03-12T16:18:36.010Z"
   },
   {
    "duration": 20,
    "start_time": "2023-03-12T16:18:36.073Z"
   },
   {
    "duration": 147,
    "start_time": "2023-03-12T16:18:36.096Z"
   },
   {
    "duration": 15,
    "start_time": "2023-03-12T16:18:36.246Z"
   },
   {
    "duration": 20,
    "start_time": "2023-03-12T16:18:36.697Z"
   },
   {
    "duration": 2213,
    "start_time": "2023-03-12T16:19:44.689Z"
   },
   {
    "duration": 82,
    "start_time": "2023-03-12T16:19:46.904Z"
   },
   {
    "duration": 33,
    "start_time": "2023-03-12T16:19:46.989Z"
   },
   {
    "duration": 202,
    "start_time": "2023-03-12T16:19:47.024Z"
   },
   {
    "duration": 18,
    "start_time": "2023-03-12T16:19:47.229Z"
   },
   {
    "duration": 92,
    "start_time": "2023-03-12T16:19:47.720Z"
   },
   {
    "duration": 2842,
    "start_time": "2023-03-12T16:20:02.585Z"
   },
   {
    "duration": 80,
    "start_time": "2023-03-12T16:20:05.431Z"
   },
   {
    "duration": 23,
    "start_time": "2023-03-12T16:20:05.524Z"
   },
   {
    "duration": 180,
    "start_time": "2023-03-12T16:20:05.554Z"
   },
   {
    "duration": 12,
    "start_time": "2023-03-12T16:20:05.738Z"
   },
   {
    "duration": 116,
    "start_time": "2023-03-12T16:20:05.752Z"
   },
   {
    "duration": 4976,
    "start_time": "2023-03-12T16:20:29.943Z"
   },
   {
    "duration": 76,
    "start_time": "2023-03-12T16:20:34.921Z"
   },
   {
    "duration": 15,
    "start_time": "2023-03-12T16:20:34.999Z"
   },
   {
    "duration": 199,
    "start_time": "2023-03-12T16:20:35.022Z"
   },
   {
    "duration": 20,
    "start_time": "2023-03-12T16:20:35.223Z"
   },
   {
    "duration": 136,
    "start_time": "2023-03-12T16:20:35.245Z"
   },
   {
    "duration": 3450,
    "start_time": "2023-03-12T16:21:03.757Z"
   },
   {
    "duration": 81,
    "start_time": "2023-03-12T16:21:07.210Z"
   },
   {
    "duration": 32,
    "start_time": "2023-03-12T16:21:07.294Z"
   },
   {
    "duration": 196,
    "start_time": "2023-03-12T16:21:07.329Z"
   },
   {
    "duration": 18,
    "start_time": "2023-03-12T16:21:07.528Z"
   },
   {
    "duration": 138,
    "start_time": "2023-03-12T16:21:10.123Z"
   },
   {
    "duration": 3223,
    "start_time": "2023-03-12T16:21:37.088Z"
   },
   {
    "duration": 83,
    "start_time": "2023-03-12T16:21:40.314Z"
   },
   {
    "duration": 30,
    "start_time": "2023-03-12T16:21:40.399Z"
   },
   {
    "duration": 213,
    "start_time": "2023-03-12T16:21:40.432Z"
   },
   {
    "duration": 19,
    "start_time": "2023-03-12T16:21:40.648Z"
   },
   {
    "duration": 132,
    "start_time": "2023-03-12T16:21:40.739Z"
   },
   {
    "duration": 2287,
    "start_time": "2023-03-12T16:22:01.409Z"
   },
   {
    "duration": 71,
    "start_time": "2023-03-12T16:22:03.698Z"
   },
   {
    "duration": 19,
    "start_time": "2023-03-12T16:22:03.771Z"
   },
   {
    "duration": 174,
    "start_time": "2023-03-12T16:22:03.793Z"
   },
   {
    "duration": 11,
    "start_time": "2023-03-12T16:22:03.970Z"
   },
   {
    "duration": 127,
    "start_time": "2023-03-12T16:22:04.181Z"
   },
   {
    "duration": 2487,
    "start_time": "2023-03-12T16:22:12.823Z"
   },
   {
    "duration": 72,
    "start_time": "2023-03-12T16:22:15.312Z"
   },
   {
    "duration": 15,
    "start_time": "2023-03-12T16:22:15.386Z"
   },
   {
    "duration": 128,
    "start_time": "2023-03-12T16:22:15.423Z"
   },
   {
    "duration": 19,
    "start_time": "2023-03-12T16:22:15.553Z"
   },
   {
    "duration": 126,
    "start_time": "2023-03-12T16:22:15.789Z"
   },
   {
    "duration": 2380,
    "start_time": "2023-03-12T16:23:06.238Z"
   },
   {
    "duration": 55,
    "start_time": "2023-03-12T16:23:08.621Z"
   },
   {
    "duration": 43,
    "start_time": "2023-03-12T16:23:08.678Z"
   },
   {
    "duration": 121,
    "start_time": "2023-03-12T16:23:08.725Z"
   },
   {
    "duration": 18,
    "start_time": "2023-03-12T16:23:08.848Z"
   },
   {
    "duration": 336,
    "start_time": "2023-03-12T16:23:14.277Z"
   },
   {
    "duration": 2301,
    "start_time": "2023-03-12T16:33:01.284Z"
   },
   {
    "duration": 82,
    "start_time": "2023-03-12T16:33:03.588Z"
   },
   {
    "duration": 14,
    "start_time": "2023-03-12T16:33:03.672Z"
   },
   {
    "duration": 140,
    "start_time": "2023-03-12T16:33:03.688Z"
   },
   {
    "duration": 13,
    "start_time": "2023-03-12T16:33:03.841Z"
   },
   {
    "duration": 237,
    "start_time": "2023-03-12T16:33:03.856Z"
   },
   {
    "duration": 2288,
    "start_time": "2023-03-12T16:34:20.179Z"
   },
   {
    "duration": 69,
    "start_time": "2023-03-12T16:34:22.470Z"
   },
   {
    "duration": 16,
    "start_time": "2023-03-12T16:34:22.541Z"
   },
   {
    "duration": 138,
    "start_time": "2023-03-12T16:34:22.559Z"
   },
   {
    "duration": 13,
    "start_time": "2023-03-12T16:34:22.699Z"
   },
   {
    "duration": 208,
    "start_time": "2023-03-12T16:34:22.751Z"
   },
   {
    "duration": 230,
    "start_time": "2023-03-12T16:34:41.402Z"
   },
   {
    "duration": 2248,
    "start_time": "2023-03-12T16:37:06.793Z"
   },
   {
    "duration": 53,
    "start_time": "2023-03-12T16:37:09.044Z"
   },
   {
    "duration": 27,
    "start_time": "2023-03-12T16:37:09.100Z"
   },
   {
    "duration": 151,
    "start_time": "2023-03-12T16:37:09.129Z"
   },
   {
    "duration": 13,
    "start_time": "2023-03-12T16:37:09.282Z"
   },
   {
    "duration": 324,
    "start_time": "2023-03-12T16:37:09.298Z"
   },
   {
    "duration": 2223,
    "start_time": "2023-03-12T16:41:29.236Z"
   },
   {
    "duration": 60,
    "start_time": "2023-03-12T16:41:31.461Z"
   },
   {
    "duration": 15,
    "start_time": "2023-03-12T16:41:31.523Z"
   },
   {
    "duration": 118,
    "start_time": "2023-03-12T16:41:31.540Z"
   },
   {
    "duration": 11,
    "start_time": "2023-03-12T16:41:31.660Z"
   },
   {
    "duration": 48,
    "start_time": "2023-03-12T16:41:32.381Z"
   },
   {
    "duration": 336,
    "start_time": "2023-03-12T16:42:10.274Z"
   },
   {
    "duration": 2243,
    "start_time": "2023-03-12T16:44:18.303Z"
   },
   {
    "duration": 51,
    "start_time": "2023-03-12T16:44:20.548Z"
   },
   {
    "duration": 22,
    "start_time": "2023-03-12T16:44:20.601Z"
   },
   {
    "duration": 159,
    "start_time": "2023-03-12T16:44:20.626Z"
   },
   {
    "duration": 11,
    "start_time": "2023-03-12T16:44:20.787Z"
   },
   {
    "duration": 288,
    "start_time": "2023-03-12T16:44:21.590Z"
   },
   {
    "duration": 2341,
    "start_time": "2023-03-12T16:46:18.750Z"
   },
   {
    "duration": 65,
    "start_time": "2023-03-12T16:46:21.094Z"
   },
   {
    "duration": 16,
    "start_time": "2023-03-12T16:46:21.161Z"
   },
   {
    "duration": 129,
    "start_time": "2023-03-12T16:46:21.179Z"
   },
   {
    "duration": 19,
    "start_time": "2023-03-12T16:46:21.309Z"
   },
   {
    "duration": 271,
    "start_time": "2023-03-12T16:46:22.142Z"
   },
   {
    "duration": 2307,
    "start_time": "2023-03-12T16:47:28.794Z"
   },
   {
    "duration": 62,
    "start_time": "2023-03-12T16:47:31.103Z"
   },
   {
    "duration": 14,
    "start_time": "2023-03-12T16:47:31.166Z"
   },
   {
    "duration": 119,
    "start_time": "2023-03-12T16:47:31.181Z"
   },
   {
    "duration": 11,
    "start_time": "2023-03-12T16:47:31.302Z"
   },
   {
    "duration": 265,
    "start_time": "2023-03-12T16:47:33.202Z"
   },
   {
    "duration": 2093,
    "start_time": "2023-03-12T16:50:10.904Z"
   },
   {
    "duration": 63,
    "start_time": "2023-03-12T16:50:12.999Z"
   },
   {
    "duration": 13,
    "start_time": "2023-03-12T16:50:13.064Z"
   },
   {
    "duration": 117,
    "start_time": "2023-03-12T16:50:13.079Z"
   },
   {
    "duration": 11,
    "start_time": "2023-03-12T16:50:13.199Z"
   },
   {
    "duration": 273,
    "start_time": "2023-03-12T16:50:14.430Z"
   },
   {
    "duration": 2144,
    "start_time": "2023-03-12T16:50:38.123Z"
   },
   {
    "duration": 77,
    "start_time": "2023-03-12T16:50:40.270Z"
   },
   {
    "duration": 16,
    "start_time": "2023-03-12T16:50:40.349Z"
   },
   {
    "duration": 149,
    "start_time": "2023-03-12T16:50:40.368Z"
   },
   {
    "duration": 13,
    "start_time": "2023-03-12T16:50:40.519Z"
   },
   {
    "duration": 312,
    "start_time": "2023-03-12T16:50:40.534Z"
   },
   {
    "duration": 41,
    "start_time": "2023-03-12T16:50:40.848Z"
   },
   {
    "duration": 2388,
    "start_time": "2023-03-12T16:50:40.891Z"
   },
   {
    "duration": 363,
    "start_time": "2023-03-12T16:50:43.281Z"
   },
   {
    "duration": 1787,
    "start_time": "2023-03-12T16:50:43.646Z"
   },
   {
    "duration": 25,
    "start_time": "2023-03-12T16:50:45.434Z"
   },
   {
    "duration": 181,
    "start_time": "2023-03-12T16:50:45.461Z"
   },
   {
    "duration": 3001,
    "start_time": "2023-03-12T16:56:08.688Z"
   },
   {
    "duration": 55,
    "start_time": "2023-03-12T16:56:11.691Z"
   },
   {
    "duration": 14,
    "start_time": "2023-03-12T16:56:11.748Z"
   },
   {
    "duration": 123,
    "start_time": "2023-03-12T16:56:11.764Z"
   },
   {
    "duration": 10,
    "start_time": "2023-03-12T16:56:11.890Z"
   },
   {
    "duration": 279,
    "start_time": "2023-03-12T16:56:24.825Z"
   },
   {
    "duration": 242,
    "start_time": "2023-03-12T16:56:47.323Z"
   },
   {
    "duration": 54,
    "start_time": "2023-03-12T16:56:47.568Z"
   },
   {
    "duration": 2556,
    "start_time": "2023-03-12T16:56:47.624Z"
   },
   {
    "duration": 462,
    "start_time": "2023-03-12T16:56:50.182Z"
   },
   {
    "duration": 2564,
    "start_time": "2023-03-12T16:56:50.646Z"
   },
   {
    "duration": 30,
    "start_time": "2023-03-12T16:56:53.212Z"
   },
   {
    "duration": 180,
    "start_time": "2023-03-12T16:56:53.245Z"
   },
   {
    "duration": 2257,
    "start_time": "2023-03-12T17:12:47.789Z"
   },
   {
    "duration": 53,
    "start_time": "2023-03-12T17:12:50.049Z"
   },
   {
    "duration": 27,
    "start_time": "2023-03-12T17:12:50.104Z"
   },
   {
    "duration": 146,
    "start_time": "2023-03-12T17:12:50.133Z"
   },
   {
    "duration": 14,
    "start_time": "2023-03-12T17:12:50.285Z"
   },
   {
    "duration": 328,
    "start_time": "2023-03-12T17:12:50.301Z"
   },
   {
    "duration": 43,
    "start_time": "2023-03-12T17:12:50.631Z"
   },
   {
    "duration": 2566,
    "start_time": "2023-03-12T17:12:50.675Z"
   },
   {
    "duration": 409,
    "start_time": "2023-03-12T17:12:53.244Z"
   },
   {
    "duration": 2133,
    "start_time": "2023-03-12T17:12:53.655Z"
   },
   {
    "duration": 25,
    "start_time": "2023-03-12T17:12:55.789Z"
   },
   {
    "duration": 177,
    "start_time": "2023-03-12T17:12:55.822Z"
   }
  ],
  "kernelspec": {
   "display_name": "Python 3 (ipykernel)",
   "language": "python",
   "name": "python3"
  },
  "language_info": {
   "codemirror_mode": {
    "name": "ipython",
    "version": 3
   },
   "file_extension": ".py",
   "mimetype": "text/x-python",
   "name": "python",
   "nbconvert_exporter": "python",
   "pygments_lexer": "ipython3",
   "version": "3.9.13"
  },
  "toc": {
   "base_numbering": 1,
   "nav_menu": {},
   "number_sections": true,
   "sideBar": true,
   "skip_h1_title": true,
   "title_cell": "Table of Contents",
   "title_sidebar": "Contents",
   "toc_cell": false,
   "toc_position": {},
   "toc_section_display": true,
   "toc_window_display": false
  }
 },
 "nbformat": 4,
 "nbformat_minor": 2
}
