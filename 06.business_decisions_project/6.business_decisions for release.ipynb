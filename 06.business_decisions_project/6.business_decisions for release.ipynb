{
 "cells": [
  {
   "cell_type": "markdown",
   "metadata": {},
   "source": [
    "<b> Краткое описание проекта</b>\n",
    "\n",
    "В рамках проекта проводится маркетинговая аналитика крупного интернет-магазина.\n",
    "\n",
    "Согласно условий задачи  подготовлен список  из 9 гипотез по увеличению выручки интернет-магазина с указанными параметрами Reach, Impact, Confidence, Effort.\n",
    "\n",
    "Цель проекта— приоретизировать предложенные гипотезы и проанализировать результаты.\n",
    "\n",
    "Имеются данные о  9 гипотезах по увеличению выручки.\n",
    "\n",
    "В первой части проекта проводится приоритизация имеющихся гипотез.\n",
    "В ходе исследования будут выполнены следующие действия:\n",
    "1. применение фреймворка ICE для приоритизации гипотез с последующей сортировкой их по убыванию приоритета.\n",
    "2. применение фреймворка RICE для приоритизации гипотезс последующей сортировкой их по убыванию приоритета.\n",
    "3. анализ различия приоритизации при применении вышеуказанных фреймворков с описанием причин\n",
    "\n",
    "Во второй части проекта проводится анализ A/B-теста из имеющихся результатов, содержащихся в данных датафреймов /datasets/orders.csv и /datasets/visitors.csv.\n",
    "\n",
    "В ходе исследования будут выполнены следующие действия:\n",
    "1. Построение графика кумулятивной выручки по группам с указанием выводов и предположений.\n",
    "2. Построение графика кумулятивного среднего чека по группам с указанием выводов и предположений.\n",
    "3. Построение графика относительного изменения кумулятивного среднего чека группы B к группе A с указанием выводов и предположений.\n",
    "4. Построение графика кумулятивного среднего количества заказов на посетителя по группам с указанием выводов и предположений.\n",
    "5. Построение графика относительного изменения кумулятивного среднего количества заказов на посетителя группы B к группе A с указанием выводов и предположений.\n",
    "6. Построение графика количества заказов по пользователямс указанием выводов и предположений.\n",
    "7. Подсчет 95-й и 99-й перцентили количества заказов на пользователя. Выбор границы для определения аномальных пользователей.\n",
    "8. Построение графика стоимостей заказовс указанием выводов и предположений.\n",
    "9. Подсчет 95-й и 99-й перцентили стоимости заказов. Выбор границы для определения аномальных заказов.\n",
    "10. Подсчет статистической значимости  в среднем количестве заказов на посетителя между группами по «сырым» данным с указанием выводов и предположений.\n",
    "11. Подсчет статистической значимости  различий в среднем чеке заказа между группами по «сырым» данным с указанием выводов и предположений.\n",
    "12. Подсчет статистической значимости различий в среднем количестве заказов на посетителя между группами по «очищенным» данным с указанием выводов и предположений.\n",
    "13. Подсчет статистической значимости различий в среднем чеке заказа между группами по «очищенным» данным с указанием выводов и предположений.\n",
    "14. Принятие решения по результатам теста с пояснением принятого решения"
   ]
  },
  {
   "cell_type": "markdown",
   "metadata": {},
   "source": [
    "<b> Проект. 1 часть.</b>"
   ]
  },
  {
   "cell_type": "code",
   "execution_count": 224,
   "metadata": {},
   "outputs": [
    {
     "name": "stdout",
     "output_type": "stream",
     "text": [
      "<class 'pandas.core.frame.DataFrame'>\n",
      "RangeIndex: 9 entries, 0 to 8\n",
      "Data columns (total 5 columns):\n",
      " #   Column      Non-Null Count  Dtype \n",
      "---  ------      --------------  ----- \n",
      " 0   Hypothesis  9 non-null      object\n",
      " 1   Reach       9 non-null      int64 \n",
      " 2   Impact      9 non-null      int64 \n",
      " 3   Confidence  9 non-null      int64 \n",
      " 4   Efforts     9 non-null      int64 \n",
      "dtypes: int64(4), object(1)\n",
      "memory usage: 488.0+ bytes\n"
     ]
    },
    {
     "data": {
      "text/html": [
       "<div>\n",
       "<style scoped>\n",
       "    .dataframe tbody tr th:only-of-type {\n",
       "        vertical-align: middle;\n",
       "    }\n",
       "\n",
       "    .dataframe tbody tr th {\n",
       "        vertical-align: top;\n",
       "    }\n",
       "\n",
       "    .dataframe thead th {\n",
       "        text-align: right;\n",
       "    }\n",
       "</style>\n",
       "<table border=\"1\" class=\"dataframe\">\n",
       "  <thead>\n",
       "    <tr style=\"text-align: right;\">\n",
       "      <th></th>\n",
       "      <th>Hypothesis</th>\n",
       "      <th>Reach</th>\n",
       "      <th>Impact</th>\n",
       "      <th>Confidence</th>\n",
       "      <th>Efforts</th>\n",
       "    </tr>\n",
       "  </thead>\n",
       "  <tbody>\n",
       "    <tr>\n",
       "      <th>0</th>\n",
       "      <td>Добавить два новых канала привлечения трафика, что позволит привлекать на 30% больше пользователей</td>\n",
       "      <td>3</td>\n",
       "      <td>10</td>\n",
       "      <td>8</td>\n",
       "      <td>6</td>\n",
       "    </tr>\n",
       "    <tr>\n",
       "      <th>1</th>\n",
       "      <td>Запустить собственную службу доставки, что сократит срок доставки заказов</td>\n",
       "      <td>2</td>\n",
       "      <td>5</td>\n",
       "      <td>4</td>\n",
       "      <td>10</td>\n",
       "    </tr>\n",
       "    <tr>\n",
       "      <th>2</th>\n",
       "      <td>Добавить блоки рекомендаций товаров на сайт интернет магазина, чтобы повысить конверсию и средний чек заказа</td>\n",
       "      <td>8</td>\n",
       "      <td>3</td>\n",
       "      <td>7</td>\n",
       "      <td>3</td>\n",
       "    </tr>\n",
       "    <tr>\n",
       "      <th>3</th>\n",
       "      <td>Изменить структура категорий, что увеличит конверсию, т.к. пользователи быстрее найдут нужный товар</td>\n",
       "      <td>8</td>\n",
       "      <td>3</td>\n",
       "      <td>3</td>\n",
       "      <td>8</td>\n",
       "    </tr>\n",
       "    <tr>\n",
       "      <th>4</th>\n",
       "      <td>Изменить цвет фона главной страницы, чтобы увеличить вовлеченность пользователей</td>\n",
       "      <td>3</td>\n",
       "      <td>1</td>\n",
       "      <td>1</td>\n",
       "      <td>1</td>\n",
       "    </tr>\n",
       "    <tr>\n",
       "      <th>5</th>\n",
       "      <td>Добавить страницу отзывов клиентов о магазине, что позволит увеличить количество заказов</td>\n",
       "      <td>3</td>\n",
       "      <td>2</td>\n",
       "      <td>2</td>\n",
       "      <td>3</td>\n",
       "    </tr>\n",
       "    <tr>\n",
       "      <th>6</th>\n",
       "      <td>Показать на главной странице баннеры с актуальными акциями и распродажами, чтобы увеличить конверсию</td>\n",
       "      <td>5</td>\n",
       "      <td>3</td>\n",
       "      <td>8</td>\n",
       "      <td>3</td>\n",
       "    </tr>\n",
       "    <tr>\n",
       "      <th>7</th>\n",
       "      <td>Добавить форму подписки на все основные страницы, чтобы собрать базу клиентов для email-рассылок</td>\n",
       "      <td>10</td>\n",
       "      <td>7</td>\n",
       "      <td>8</td>\n",
       "      <td>5</td>\n",
       "    </tr>\n",
       "    <tr>\n",
       "      <th>8</th>\n",
       "      <td>Запустить акцию, дающую скидку на товар в день рождения</td>\n",
       "      <td>1</td>\n",
       "      <td>9</td>\n",
       "      <td>9</td>\n",
       "      <td>5</td>\n",
       "    </tr>\n",
       "  </tbody>\n",
       "</table>\n",
       "</div>"
      ],
      "text/plain": [
       "                                                                                                     Hypothesis  \\\n",
       "0            Добавить два новых канала привлечения трафика, что позволит привлекать на 30% больше пользователей   \n",
       "1                                     Запустить собственную службу доставки, что сократит срок доставки заказов   \n",
       "2  Добавить блоки рекомендаций товаров на сайт интернет магазина, чтобы повысить конверсию и средний чек заказа   \n",
       "3           Изменить структура категорий, что увеличит конверсию, т.к. пользователи быстрее найдут нужный товар   \n",
       "4                              Изменить цвет фона главной страницы, чтобы увеличить вовлеченность пользователей   \n",
       "5                      Добавить страницу отзывов клиентов о магазине, что позволит увеличить количество заказов   \n",
       "6          Показать на главной странице баннеры с актуальными акциями и распродажами, чтобы увеличить конверсию   \n",
       "7              Добавить форму подписки на все основные страницы, чтобы собрать базу клиентов для email-рассылок   \n",
       "8                                                       Запустить акцию, дающую скидку на товар в день рождения   \n",
       "\n",
       "   Reach  Impact  Confidence  Efforts  \n",
       "0      3      10           8        6  \n",
       "1      2       5           4       10  \n",
       "2      8       3           7        3  \n",
       "3      8       3           3        8  \n",
       "4      3       1           1        1  \n",
       "5      3       2           2        3  \n",
       "6      5       3           8        3  \n",
       "7     10       7           8        5  \n",
       "8      1       9           9        5  "
      ]
     },
     "execution_count": 224,
     "metadata": {},
     "output_type": "execute_result"
    }
   ],
   "source": [
    "import pandas as pd\n",
    "pd.options.display.max_colwidth = None\n",
    "data = pd.read_csv('/datasets/hypothesis.csv')\n",
    "data.info()\n",
    "data"
   ]
  },
  {
   "cell_type": "code",
   "execution_count": 225,
   "metadata": {},
   "outputs": [
    {
     "data": {
      "text/html": [
       "<div>\n",
       "<style scoped>\n",
       "    .dataframe tbody tr th:only-of-type {\n",
       "        vertical-align: middle;\n",
       "    }\n",
       "\n",
       "    .dataframe tbody tr th {\n",
       "        vertical-align: top;\n",
       "    }\n",
       "\n",
       "    .dataframe thead th {\n",
       "        text-align: right;\n",
       "    }\n",
       "</style>\n",
       "<table border=\"1\" class=\"dataframe\">\n",
       "  <thead>\n",
       "    <tr style=\"text-align: right;\">\n",
       "      <th></th>\n",
       "      <th>Hypothesis</th>\n",
       "      <th>Reach</th>\n",
       "      <th>Impact</th>\n",
       "      <th>Confidence</th>\n",
       "      <th>Efforts</th>\n",
       "      <th>ICE</th>\n",
       "    </tr>\n",
       "  </thead>\n",
       "  <tbody>\n",
       "    <tr>\n",
       "      <th>8</th>\n",
       "      <td>Запустить акцию, дающую скидку на товар в день рождения</td>\n",
       "      <td>1</td>\n",
       "      <td>9</td>\n",
       "      <td>9</td>\n",
       "      <td>5</td>\n",
       "      <td>16.20</td>\n",
       "    </tr>\n",
       "    <tr>\n",
       "      <th>0</th>\n",
       "      <td>Добавить два новых канала привлечения трафика, что позволит привлекать на 30% больше пользователей</td>\n",
       "      <td>3</td>\n",
       "      <td>10</td>\n",
       "      <td>8</td>\n",
       "      <td>6</td>\n",
       "      <td>13.33</td>\n",
       "    </tr>\n",
       "    <tr>\n",
       "      <th>7</th>\n",
       "      <td>Добавить форму подписки на все основные страницы, чтобы собрать базу клиентов для email-рассылок</td>\n",
       "      <td>10</td>\n",
       "      <td>7</td>\n",
       "      <td>8</td>\n",
       "      <td>5</td>\n",
       "      <td>11.20</td>\n",
       "    </tr>\n",
       "    <tr>\n",
       "      <th>6</th>\n",
       "      <td>Показать на главной странице баннеры с актуальными акциями и распродажами, чтобы увеличить конверсию</td>\n",
       "      <td>5</td>\n",
       "      <td>3</td>\n",
       "      <td>8</td>\n",
       "      <td>3</td>\n",
       "      <td>8.00</td>\n",
       "    </tr>\n",
       "    <tr>\n",
       "      <th>2</th>\n",
       "      <td>Добавить блоки рекомендаций товаров на сайт интернет магазина, чтобы повысить конверсию и средний чек заказа</td>\n",
       "      <td>8</td>\n",
       "      <td>3</td>\n",
       "      <td>7</td>\n",
       "      <td>3</td>\n",
       "      <td>7.00</td>\n",
       "    </tr>\n",
       "    <tr>\n",
       "      <th>1</th>\n",
       "      <td>Запустить собственную службу доставки, что сократит срок доставки заказов</td>\n",
       "      <td>2</td>\n",
       "      <td>5</td>\n",
       "      <td>4</td>\n",
       "      <td>10</td>\n",
       "      <td>2.00</td>\n",
       "    </tr>\n",
       "    <tr>\n",
       "      <th>5</th>\n",
       "      <td>Добавить страницу отзывов клиентов о магазине, что позволит увеличить количество заказов</td>\n",
       "      <td>3</td>\n",
       "      <td>2</td>\n",
       "      <td>2</td>\n",
       "      <td>3</td>\n",
       "      <td>1.33</td>\n",
       "    </tr>\n",
       "    <tr>\n",
       "      <th>3</th>\n",
       "      <td>Изменить структура категорий, что увеличит конверсию, т.к. пользователи быстрее найдут нужный товар</td>\n",
       "      <td>8</td>\n",
       "      <td>3</td>\n",
       "      <td>3</td>\n",
       "      <td>8</td>\n",
       "      <td>1.12</td>\n",
       "    </tr>\n",
       "    <tr>\n",
       "      <th>4</th>\n",
       "      <td>Изменить цвет фона главной страницы, чтобы увеличить вовлеченность пользователей</td>\n",
       "      <td>3</td>\n",
       "      <td>1</td>\n",
       "      <td>1</td>\n",
       "      <td>1</td>\n",
       "      <td>1.00</td>\n",
       "    </tr>\n",
       "  </tbody>\n",
       "</table>\n",
       "</div>"
      ],
      "text/plain": [
       "                                                                                                     Hypothesis  \\\n",
       "8                                                       Запустить акцию, дающую скидку на товар в день рождения   \n",
       "0            Добавить два новых канала привлечения трафика, что позволит привлекать на 30% больше пользователей   \n",
       "7              Добавить форму подписки на все основные страницы, чтобы собрать базу клиентов для email-рассылок   \n",
       "6          Показать на главной странице баннеры с актуальными акциями и распродажами, чтобы увеличить конверсию   \n",
       "2  Добавить блоки рекомендаций товаров на сайт интернет магазина, чтобы повысить конверсию и средний чек заказа   \n",
       "1                                     Запустить собственную службу доставки, что сократит срок доставки заказов   \n",
       "5                      Добавить страницу отзывов клиентов о магазине, что позволит увеличить количество заказов   \n",
       "3           Изменить структура категорий, что увеличит конверсию, т.к. пользователи быстрее найдут нужный товар   \n",
       "4                              Изменить цвет фона главной страницы, чтобы увеличить вовлеченность пользователей   \n",
       "\n",
       "   Reach  Impact  Confidence  Efforts    ICE  \n",
       "8      1       9           9        5  16.20  \n",
       "0      3      10           8        6  13.33  \n",
       "7     10       7           8        5  11.20  \n",
       "6      5       3           8        3   8.00  \n",
       "2      8       3           7        3   7.00  \n",
       "1      2       5           4       10   2.00  \n",
       "5      3       2           2        3   1.33  \n",
       "3      8       3           3        8   1.12  \n",
       "4      3       1           1        1   1.00  "
      ]
     },
     "execution_count": 225,
     "metadata": {},
     "output_type": "execute_result"
    }
   ],
   "source": [
    "#применение фреймворка ICE для приоритизации гипотез с последующей сортировкой их по убыванию приоритета.\n",
    "data['ICE']=round( data['Impact']*data['Confidence']/data['Efforts'],2)\n",
    "data.sort_values(by='ICE', ascending=False)"
   ]
  },
  {
   "cell_type": "markdown",
   "metadata": {},
   "source": [
    "Согласно результатов сортировки гипотез с применением метода ICE наиболее приоритетной к проверке является гипотеза  №8 -\"Запустить акцию, дающую скидку на товар в день рождения\" ."
   ]
  },
  {
   "cell_type": "code",
   "execution_count": 226,
   "metadata": {
    "scrolled": true
   },
   "outputs": [
    {
     "data": {
      "text/html": [
       "<div>\n",
       "<style scoped>\n",
       "    .dataframe tbody tr th:only-of-type {\n",
       "        vertical-align: middle;\n",
       "    }\n",
       "\n",
       "    .dataframe tbody tr th {\n",
       "        vertical-align: top;\n",
       "    }\n",
       "\n",
       "    .dataframe thead th {\n",
       "        text-align: right;\n",
       "    }\n",
       "</style>\n",
       "<table border=\"1\" class=\"dataframe\">\n",
       "  <thead>\n",
       "    <tr style=\"text-align: right;\">\n",
       "      <th></th>\n",
       "      <th>Hypothesis</th>\n",
       "      <th>Reach</th>\n",
       "      <th>Impact</th>\n",
       "      <th>Confidence</th>\n",
       "      <th>Efforts</th>\n",
       "      <th>ICE</th>\n",
       "      <th>RICE</th>\n",
       "    </tr>\n",
       "  </thead>\n",
       "  <tbody>\n",
       "    <tr>\n",
       "      <th>7</th>\n",
       "      <td>Добавить форму подписки на все основные страницы, чтобы собрать базу клиентов для email-рассылок</td>\n",
       "      <td>10</td>\n",
       "      <td>7</td>\n",
       "      <td>8</td>\n",
       "      <td>5</td>\n",
       "      <td>11.20</td>\n",
       "      <td>112.0</td>\n",
       "    </tr>\n",
       "    <tr>\n",
       "      <th>2</th>\n",
       "      <td>Добавить блоки рекомендаций товаров на сайт интернет магазина, чтобы повысить конверсию и средний чек заказа</td>\n",
       "      <td>8</td>\n",
       "      <td>3</td>\n",
       "      <td>7</td>\n",
       "      <td>3</td>\n",
       "      <td>7.00</td>\n",
       "      <td>56.0</td>\n",
       "    </tr>\n",
       "    <tr>\n",
       "      <th>0</th>\n",
       "      <td>Добавить два новых канала привлечения трафика, что позволит привлекать на 30% больше пользователей</td>\n",
       "      <td>3</td>\n",
       "      <td>10</td>\n",
       "      <td>8</td>\n",
       "      <td>6</td>\n",
       "      <td>13.33</td>\n",
       "      <td>40.0</td>\n",
       "    </tr>\n",
       "    <tr>\n",
       "      <th>6</th>\n",
       "      <td>Показать на главной странице баннеры с актуальными акциями и распродажами, чтобы увеличить конверсию</td>\n",
       "      <td>5</td>\n",
       "      <td>3</td>\n",
       "      <td>8</td>\n",
       "      <td>3</td>\n",
       "      <td>8.00</td>\n",
       "      <td>40.0</td>\n",
       "    </tr>\n",
       "    <tr>\n",
       "      <th>8</th>\n",
       "      <td>Запустить акцию, дающую скидку на товар в день рождения</td>\n",
       "      <td>1</td>\n",
       "      <td>9</td>\n",
       "      <td>9</td>\n",
       "      <td>5</td>\n",
       "      <td>16.20</td>\n",
       "      <td>16.2</td>\n",
       "    </tr>\n",
       "    <tr>\n",
       "      <th>3</th>\n",
       "      <td>Изменить структура категорий, что увеличит конверсию, т.к. пользователи быстрее найдут нужный товар</td>\n",
       "      <td>8</td>\n",
       "      <td>3</td>\n",
       "      <td>3</td>\n",
       "      <td>8</td>\n",
       "      <td>1.12</td>\n",
       "      <td>9.0</td>\n",
       "    </tr>\n",
       "    <tr>\n",
       "      <th>1</th>\n",
       "      <td>Запустить собственную службу доставки, что сократит срок доставки заказов</td>\n",
       "      <td>2</td>\n",
       "      <td>5</td>\n",
       "      <td>4</td>\n",
       "      <td>10</td>\n",
       "      <td>2.00</td>\n",
       "      <td>4.0</td>\n",
       "    </tr>\n",
       "    <tr>\n",
       "      <th>5</th>\n",
       "      <td>Добавить страницу отзывов клиентов о магазине, что позволит увеличить количество заказов</td>\n",
       "      <td>3</td>\n",
       "      <td>2</td>\n",
       "      <td>2</td>\n",
       "      <td>3</td>\n",
       "      <td>1.33</td>\n",
       "      <td>4.0</td>\n",
       "    </tr>\n",
       "    <tr>\n",
       "      <th>4</th>\n",
       "      <td>Изменить цвет фона главной страницы, чтобы увеличить вовлеченность пользователей</td>\n",
       "      <td>3</td>\n",
       "      <td>1</td>\n",
       "      <td>1</td>\n",
       "      <td>1</td>\n",
       "      <td>1.00</td>\n",
       "      <td>3.0</td>\n",
       "    </tr>\n",
       "  </tbody>\n",
       "</table>\n",
       "</div>"
      ],
      "text/plain": [
       "                                                                                                     Hypothesis  \\\n",
       "7              Добавить форму подписки на все основные страницы, чтобы собрать базу клиентов для email-рассылок   \n",
       "2  Добавить блоки рекомендаций товаров на сайт интернет магазина, чтобы повысить конверсию и средний чек заказа   \n",
       "0            Добавить два новых канала привлечения трафика, что позволит привлекать на 30% больше пользователей   \n",
       "6          Показать на главной странице баннеры с актуальными акциями и распродажами, чтобы увеличить конверсию   \n",
       "8                                                       Запустить акцию, дающую скидку на товар в день рождения   \n",
       "3           Изменить структура категорий, что увеличит конверсию, т.к. пользователи быстрее найдут нужный товар   \n",
       "1                                     Запустить собственную службу доставки, что сократит срок доставки заказов   \n",
       "5                      Добавить страницу отзывов клиентов о магазине, что позволит увеличить количество заказов   \n",
       "4                              Изменить цвет фона главной страницы, чтобы увеличить вовлеченность пользователей   \n",
       "\n",
       "   Reach  Impact  Confidence  Efforts    ICE   RICE  \n",
       "7     10       7           8        5  11.20  112.0  \n",
       "2      8       3           7        3   7.00   56.0  \n",
       "0      3      10           8        6  13.33   40.0  \n",
       "6      5       3           8        3   8.00   40.0  \n",
       "8      1       9           9        5  16.20   16.2  \n",
       "3      8       3           3        8   1.12    9.0  \n",
       "1      2       5           4       10   2.00    4.0  \n",
       "5      3       2           2        3   1.33    4.0  \n",
       "4      3       1           1        1   1.00    3.0  "
      ]
     },
     "metadata": {},
     "output_type": "display_data"
    }
   ],
   "source": [
    "#применение фреймворка RICE для приоритизации гипотезс последующей сортировкой их по убыванию приоритета.\n",
    "data['RICE']=data['Reach']*data['Impact']*data['Confidence']/data['Efforts']\n",
    "display(data.sort_values(by='RICE', ascending=False))"
   ]
  },
  {
   "cell_type": "markdown",
   "metadata": {},
   "source": [
    "Согласно результатов сортировки гипотез с применением метода RICE наиболее приоритетной к проверке является гипотеза  №7 -\"Добавить форму подписки на все основные страницы, чтобы собрать базу клиентов для email-рассылок\"."
   ]
  },
  {
   "cell_type": "code",
   "execution_count": 227,
   "metadata": {},
   "outputs": [],
   "source": [
    "#анализ различия приоритизации при применении вышеуказанных фреймворков с описанием причин"
   ]
  },
  {
   "cell_type": "markdown",
   "metadata": {},
   "source": [
    "Различие в результатах после применения разных методов объясняется тем, что метод RICE берет в расчет также количество пользователей (\"Reach\"), которых затронет изменение, предлагаемое гипотезой.\n",
    "\n",
    "У гипотезы №7  показатель \"Reach\" является максимальным и равен 10.\n",
    "\n",
    "Включение дополнительного показателя \"Reach\" в расчет вывело гипотезу №7 - \"Добавить форму подписки на все основные страницы, чтобы собрать базу клиентов для email-рассылок\"на первое место в рейтинге. "
   ]
  },
  {
   "cell_type": "markdown",
   "metadata": {},
   "source": [
    "<b>Проект. 2 часть. </b>"
   ]
  },
  {
   "cell_type": "code",
   "execution_count": 228,
   "metadata": {
    "scrolled": true
   },
   "outputs": [
    {
     "data": {
      "image/png": "[encoded data removed]",
      "text/plain": [
       "<Figure size 720x360 with 1 Axes>"
      ]
     },
     "metadata": {
      "needs_background": "light"
     },
     "output_type": "display_data"
    }
   ],
   "source": [
    "#Построение графика кумулятивной выручки по группам с указанием выводов и предположений.\n",
    "import datetime as dt\n",
    "import numpy as np\n",
    "import matplotlib.pyplot as plt\n",
    "from pandas.plotting import register_matplotlib_converters\n",
    "import warnings\n",
    "# конвертеры, которые позволяют использовать типы pandas в matplotlib  \n",
    "register_matplotlib_converters()\n",
    "\n",
    "orders = pd.read_csv('/datasets/orders.csv')\n",
    "orders['date'] = orders['date'].map(\n",
    "    lambda x: dt.datetime.strptime(x, '%Y-%m-%d')\n",
    ")\n",
    "\n",
    "visitors = pd.read_csv('/datasets/visitors.csv')\n",
    "visitors['date'] = visitors['date'].map(\n",
    "    lambda x: dt.datetime.strptime(x, '%Y-%m-%d')\n",
    ")\n",
    "\n",
    "datesGroups = orders[['date', 'group']].drop_duplicates()\n",
    "\n",
    "ordersAggregated = datesGroups.apply(\n",
    "    lambda x: orders[\n",
    "        np.logical_and(\n",
    "            orders['date'] <= x['date'], orders['group'] == x['group']\n",
    "        )\n",
    "    ].agg(\n",
    "        {\n",
    "            'date': 'max',\n",
    "            'group': 'max',\n",
    "            'transactionId': 'nunique',\n",
    "            'visitorId': 'nunique',\n",
    "            'revenue': 'sum',\n",
    "        }\n",
    "    ),\n",
    "    axis=1,\n",
    ").sort_values(by=['date', 'group'])\n",
    "\n",
    "visitorsAggregated = datesGroups.apply(\n",
    "    lambda x: visitors[\n",
    "        np.logical_and(\n",
    "            visitors['date'] <= x['date'], visitors['group'] == x['group']\n",
    "        )\n",
    "    ].agg({'date': 'max', 'group': 'max', 'visitors': 'sum'}),\n",
    "    axis=1,\n",
    ").sort_values(by=['date', 'group'])\n",
    "\n",
    "cumulativeData = ordersAggregated.merge(\n",
    "    visitorsAggregated, left_on=['date', 'group'], right_on=['date', 'group']\n",
    ")\n",
    "cumulativeData.columns = [\n",
    "    'date',\n",
    "    'group',\n",
    "    'orders',\n",
    "    'buyers',\n",
    "    'revenue',\n",
    "    'visitors',\n",
    "]\n",
    "\n",
    "\n",
    "import matplotlib.pyplot as plt\n",
    "\n",
    "# датафрейм с кумулятивным количеством заказов и кумулятивной выручкой по дням в группе А\n",
    "cumulativeRevenueA = cumulativeData[cumulativeData['group']=='A'][['date','revenue', 'orders']]\n",
    "\n",
    "# датафрейм с кумулятивным количеством заказов и кумулятивной выручкой по дням в группе B\n",
    "cumulativeRevenueB = cumulativeData[cumulativeData['group']=='B'][['date','revenue', 'orders']]\n",
    "\n",
    "# задаём размер сетки для графиков\n",
    "plt.figure(figsize=(10,5))\n",
    "\n",
    "\n",
    "\n",
    "# Строим график выручки группы А\n",
    "plt.plot(cumulativeRevenueA['date'], cumulativeRevenueA['revenue'], label='A')+\n",
    "\n",
    "\n",
    "# Строим график выручки группы B\n",
    "plt.plot(cumulativeRevenueB['date'], cumulativeRevenueB['revenue'], label='B')\n",
    "\n",
    "plt.legend()\n",
    "plt.title('График кумулятивной выручки по группам')\n",
    "plt.xlabel('Даты')\n",
    "plt.ylabel('Размер кумулятивной выручки')\n",
    "plt.grid(True)\n",
    "plt.show()"
   ]
  },
  {
   "cell_type": "markdown",
   "metadata": {},
   "source": [
    "Выручка почти равномерно увеличивается в течение всего теста. \n",
    "Однако график выручки группы B после 17.08.2019 резко растет. Это может сигнализировать о выбросах (аномально больших заказах) или о резком увеличении количества заказов.\n"
   ]
  },
  {
   "cell_type": "code",
   "execution_count": 229,
   "metadata": {
    "scrolled": true
   },
   "outputs": [
    {
     "data": {
      "image/png": "[encoded data removed]",
      "text/plain": [
       "<Figure size 720x360 with 1 Axes>"
      ]
     },
     "metadata": {
      "needs_background": "light"
     },
     "output_type": "display_data"
    }
   ],
   "source": [
    "#Построение графика кумулятивного среднего чека по группам с указанием выводов и предположений\n",
    "plt.figure(figsize=(10,5))\n",
    "plt.plot(cumulativeRevenueA['date'], cumulativeRevenueA['revenue']/cumulativeRevenueA['orders'], label='A')\n",
    "plt.plot(cumulativeRevenueB['date'], cumulativeRevenueB['revenue']/cumulativeRevenueB['orders'], label='B')\n",
    "plt.legend()\n",
    "plt.title('График кумулятивного среднего чека по группам ')\n",
    "plt.xlabel('Даты')\n",
    "plt.ylabel('Размер кумулятивного среднего чека')\n",
    "plt.grid(True)\n",
    "plt.show()"
   ]
  },
  {
   "cell_type": "markdown",
   "metadata": {},
   "source": [
    "График среднего чека группы B после небольшого всплеска 13.08.2019 в среднем установился и понемногу растет.\n",
    "По графику для группа А видно,  что после 17.08.2019 попали крупные заказы (резко вырос средний чек), который впоследствии стабильно снижается. Данные также сигнализируют о наличии выбросов, которые надо корректировать."
   ]
  },
  {
   "cell_type": "code",
   "execution_count": 230,
   "metadata": {
    "scrolled": true
   },
   "outputs": [
    {
     "data": {
      "image/png": "[encoded data removed]",
      "text/plain": [
       "<Figure size 720x360 with 1 Axes>"
      ]
     },
     "metadata": {
      "needs_background": "light"
     },
     "output_type": "display_data"
    }
   ],
   "source": [
    "#Построение графика относительного изменения кумулятивного среднего чека группы B к группе A с указанием выводов и предположений.\n",
    "\n",
    "# собираем данные в одном датафрейме\n",
    "mergedCumulativeRevenue = cumulativeRevenueA.merge(cumulativeRevenueB, left_on='date', right_on='date', how='left', suffixes=['A', 'B'])\n",
    "\n",
    "# cтроим отношение средних чеков\n",
    "plt.figure(figsize=(10, 5))\n",
    "plt.plot(mergedCumulativeRevenue['date'], (mergedCumulativeRevenue['revenueB']/mergedCumulativeRevenue['ordersB'])/(mergedCumulativeRevenue['revenueA']/mergedCumulativeRevenue['ordersA'])-1)\n",
    "\n",
    "# добавляем ось X\n",
    "plt.axhline(y=0, color='black', linestyle='--')\n",
    "\n",
    "plt.title('График относительного изменения кумулятивного среднего чека группы B к группе A ')\n",
    "plt.xlabel('Даты')\n",
    "plt.ylabel('Отношение кумулятивного среднего чека \\n группы В к группе А')\n",
    "plt.grid(True)\n",
    "plt.show()"
   ]
  },
  {
   "cell_type": "markdown",
   "metadata": {},
   "source": [
    "Согласно визуализации есть несколько периодов, когда различие между группами сильно увеличивается - после 05.08.2019 и после 17.08.2019. Предположительно, это обусловлено наличием выбросов и крупных заказов."
   ]
  },
  {
   "cell_type": "code",
   "execution_count": 231,
   "metadata": {
    "scrolled": true
   },
   "outputs": [
    {
     "data": {
      "image/png": "[encoded data removed]",
      "text/plain": [
       "<Figure size 1080x360 with 1 Axes>"
      ]
     },
     "metadata": {
      "needs_background": "light"
     },
     "output_type": "display_data"
    }
   ],
   "source": [
    "#Построение графика кумулятивного среднего количества заказов на посетителя по группам с указанием выводов и предположений.\n",
    "# считаем кумулятивную конверсию\n",
    "cumulativeData['conversion'] = cumulativeData['orders']/cumulativeData['visitors']\n",
    "\n",
    "# отделяем данные по группе A\n",
    "cumulativeDataA = cumulativeData[cumulativeData['group']=='A']\n",
    "\n",
    "# отделяем данные по группе B\n",
    "cumulativeDataB = cumulativeData[cumulativeData['group']=='B']\n",
    "\n",
    "# строим графики\n",
    "plt.figure(figsize=(15, 5))\n",
    "plt.plot(cumulativeDataA['date'], cumulativeDataA['conversion'], label='A')\n",
    "plt.plot(cumulativeDataB['date'], cumulativeDataB['conversion'], label='B')\n",
    "plt.legend()\n",
    "plt.title('График кумулятивного среднего количества заказов на посетителя по группам')\n",
    "plt.xlabel('Даты')\n",
    "plt.ylabel('Кумулятивная конверсия')\n",
    "plt.grid(True)\n"
   ]
  },
  {
   "cell_type": "markdown",
   "metadata": {},
   "source": [
    "График кумулятивного среднего количества заказов на посетителя по группам относительно симметричен. Однако группа B после 05.08.2019 показывает значительный рост и большую конверсию, на уровне 3,5%. Также после 17.08.2019 виден скачок по конверсии. "
   ]
  },
  {
   "cell_type": "code",
   "execution_count": 232,
   "metadata": {
    "scrolled": true
   },
   "outputs": [
    {
     "data": {
      "image/png": "[encoded data removed]",
      "text/plain": [
       "<Figure size 1080x360 with 1 Axes>"
      ]
     },
     "metadata": {
      "needs_background": "light"
     },
     "output_type": "display_data"
    }
   ],
   "source": [
    "#Построение графика относительного изменения кумулятивного среднего количества заказов на посетителя группы B к группе A с указанием выводов и предположений.\n",
    "mergedCumulativeConversions = cumulativeDataA[['date','conversion']].merge(cumulativeDataB[['date','conversion']], left_on='date', right_on='date', how='left', suffixes=['A', 'B'])\n",
    "plt.figure(figsize=(15, 5))\n",
    "plt.plot(mergedCumulativeConversions['date'], mergedCumulativeConversions['conversionB']/mergedCumulativeConversions['conversionA']-1, label=\"Относительный прирост кумулятивного среднего чека группы B относительно группы A\")\n",
    "plt.legend()\n",
    "plt.title('График относительного изменения кумулятивного среднего количества заказов на посетителя группы B к группе A')\n",
    "plt.xlabel('Даты')\n",
    "plt.ylabel('Отношениие \\n кумулятивного среднего количества заказов \\n на посетителя группы B к группе A')\n",
    "plt.axhline(y=0, color='black', linestyle='--')\n",
    "plt.axhline(y=-0.1, color='grey', linestyle='--')\n",
    "plt.grid(True)\n"
   ]
  },
  {
   "cell_type": "markdown",
   "metadata": {},
   "source": [
    "График относительного изменения кумулятивного среднего количества заказов на посетителя группы В к группе А показывает, что после 05.08.2019 был существенный прирост по конверсии группы В над группой А. Также скачок зафиксирован 17.08.2019, после чего конверсия немного падает,но к концу месяца видна тенденция к росту."
   ]
  },
  {
   "cell_type": "code",
   "execution_count": 233,
   "metadata": {
    "scrolled": true
   },
   "outputs": [
    {
     "data": {
      "image/png": "[encoded data removed]",
      "text/plain": [
       "<Figure size 720x1800 with 1 Axes>"
      ]
     },
     "metadata": {
      "needs_background": "light"
     },
     "output_type": "display_data"
    }
   ],
   "source": [
    "#Построение графика количества заказов по пользователям с указанием выводов и предположений.\n",
    "ordersByUsers = (\n",
    "   orders.groupby('visitorId', as_index=False)\n",
    "    .agg({'transactionId': 'nunique'})\n",
    ")\n",
    "\n",
    "ordersByUsers.columns = ['visitorId', 'orders']\n",
    "plt.figure(figsize=(10, 25)) \n",
    "plt.hist(ordersByUsers['orders'])\n",
    "\n",
    "plt.title('График количества заказов по пользователям')\n",
    "plt.xlabel('Количество заказов')\n",
    "plt.ylabel('Количество пользователей')\n",
    "plt.grid(True)"
   ]
  },
  {
   "cell_type": "markdown",
   "metadata": {},
   "source": [
    "Согласно гистограммы большинство пользователей делают по 1 заказу, также имеется незначительная часть (до 60), которые делают 2 заказа. Также незначительная часть пользователей делают от 3 до 6 заказов. Однако видно, что имеются пользователи, делающие 8-10 заказов. "
   ]
  },
  {
   "cell_type": "code",
   "execution_count": 234,
   "metadata": {
    "scrolled": true
   },
   "outputs": [
    {
     "data": {
      "image/png": "[encoded data removed]",
      "text/plain": [
       "<Figure size 432x288 with 1 Axes>"
      ]
     },
     "metadata": {
      "needs_background": "light"
     },
     "output_type": "display_data"
    }
   ],
   "source": [
    "x_values = pd.Series(range(0,len(ordersByUsers)))\n",
    "\n",
    "plt.scatter(x_values, ordersByUsers['orders'])\n",
    "plt.title('График количества заказов по пользователям')\n",
    "plt.ylabel('Количество заказов')\n",
    "plt.xlabel('Количество пользователей')\n",
    "plt.grid(True)"
   ]
  },
  {
   "cell_type": "markdown",
   "metadata": {},
   "source": [
    "Данные точечной диаграммы количества заказов на пользователя показывают, что значительное количество пользователей делают 2-3 заказа, данные по пользователям с 4 и более заказами с большой вероятностью можно считать выбросами."
   ]
  },
  {
   "cell_type": "code",
   "execution_count": 235,
   "metadata": {},
   "outputs": [
    {
     "name": "stdout",
     "output_type": "stream",
     "text": [
      "[2. 4.]\n"
     ]
    }
   ],
   "source": [
    "#Подсчет 95-й и 99-й перцентили количества заказов на пользователя. Выбор границы для определения аномальных пользователей.\n",
    "perc_orders=np.percentile(ordersByUsers['orders'], [95,99])\n",
    "print(perc_orders)"
   ]
  },
  {
   "cell_type": "markdown",
   "metadata": {},
   "source": [
    "Не более 5% пользователей оформляли больше чем 2 (т. е. 3) заказа. И 1% пользователей заказывали более 4 раз. \n",
    "Согласно указанного расчета наиболее оптимально выбрать 3 заказа как верхнюю границу числа заказов, и отсеять аномальных пользователей по ней."
   ]
  },
  {
   "cell_type": "code",
   "execution_count": 236,
   "metadata": {
    "scrolled": true
   },
   "outputs": [
    {
     "data": {
      "image/png": "[encoded data removed]",
      "text/plain": [
       "<Figure size 720x1800 with 1 Axes>"
      ]
     },
     "metadata": {
      "needs_background": "light"
     },
     "output_type": "display_data"
    }
   ],
   "source": [
    "#Построение графика стоимостей заказов с указанием выводов и предположений.\n",
    "\n",
    "orders.describe()\n",
    "plt.figure(figsize=(10, 25)) \n",
    "plt.hist(orders['revenue'],bins = 20, range = (0, 1500000))\n",
    "plt.title('График стоимостей заказов')\n",
    "plt.ylabel('Количество заказов')\n",
    "plt.xlabel('Стоимость заказов')\n",
    "plt.grid(True)"
   ]
  },
  {
   "cell_type": "markdown",
   "metadata": {},
   "source": [
    "Согласно графика стоимостей заказов наибольшее количество заказов имеют стоимость до 100 тыс.рублей. Есть минимальная доля заказов со стоимостью от 100 до 150 тыс.  Также имеются заказы стоимостью около 1,3 млн. рублей. С большой вероятностью их можно признать выбросами."
   ]
  },
  {
   "cell_type": "code",
   "execution_count": 237,
   "metadata": {
    "scrolled": true
   },
   "outputs": [
    {
     "data": {
      "image/png": "[encoded data removed]",
      "text/plain": [
       "<Figure size 432x288 with 1 Axes>"
      ]
     },
     "metadata": {
      "needs_background": "light"
     },
     "output_type": "display_data"
    }
   ],
   "source": [
    "x_values = pd.Series(range(0,len(orders['revenue'])))\n",
    "plt.scatter(x_values, orders['revenue'])\n",
    "plt.title('График стоимостей заказов')\n",
    "plt.ylabel('Стоимость заказов ')\n",
    "plt.xlabel('Количество заказов')\n",
    "plt.grid(True)"
   ]
  },
  {
   "cell_type": "markdown",
   "metadata": {},
   "source": [
    "Указанная диаграмма показывает, что аномальными заказами точно будут заказы более 200 тыс. рублей"
   ]
  },
  {
   "cell_type": "code",
   "execution_count": 238,
   "metadata": {},
   "outputs": [
    {
     "name": "stdout",
     "output_type": "stream",
     "text": [
      "[28000.  58233.2]\n"
     ]
    }
   ],
   "source": [
    "#Подсчет 95-й и 99-й перцентили стоимости заказов. Выбор границы для определения аномальных заказов.\n",
    "perc_revenue=np.percentile(orders['revenue'], [95,99])\n",
    "print(perc_revenue)\n"
   ]
  },
  {
   "cell_type": "markdown",
   "metadata": {},
   "source": [
    "Не более 5% заказов дороже 28000 рублей и не более 1% дороже 58233.2 рублей. Согласно указанного расчета наиболее оптимально выбрать 30000 рублей как верхнюю границу стоимости заказов, и отсеять аномальных пользователей по ней."
   ]
  },
  {
   "cell_type": "code",
   "execution_count": 239,
   "metadata": {
    "scrolled": true
   },
   "outputs": [
    {
     "name": "stdout",
     "output_type": "stream",
     "text": [
      "        date  ordersPerDateA  revenuePerDateA  ordersPerDateB  \\\n",
      "0 2019-08-01              24           148579              21   \n",
      "1 2019-08-02              20            93822              24   \n",
      "2 2019-08-03              24           112473              16   \n",
      "3 2019-08-04              16            70825              17   \n",
      "4 2019-08-05              25           124218              23   \n",
      "\n",
      "   revenuePerDateB  ordersCummulativeA  revenueCummulativeA  \\\n",
      "0           101217                  24               148579   \n",
      "1           165531                  44               242401   \n",
      "2           114248                  68               354874   \n",
      "3           108571                  84               425699   \n",
      "4            92428                 109               549917   \n",
      "\n",
      "   ordersCummulativeB  revenueCummulativeB  visitorsPerDateA  \\\n",
      "0                  21               101217               719   \n",
      "1                  45               266748               619   \n",
      "2                  61               380996               507   \n",
      "3                  78               489567               717   \n",
      "4                 101               581995               756   \n",
      "\n",
      "   visitorsPerDateB  visitorsCummulativeA  visitorsCummulativeB  \n",
      "0               713                   719                   713  \n",
      "1               581                  1338                  1294  \n",
      "2               509                  1845                  1803  \n",
      "3               770                  2562                  2573  \n",
      "4               707                  3318                  3280  \n"
     ]
    }
   ],
   "source": [
    "#Подсчет статистической значимости в среднем количестве заказов на посетителя между группами по «сырым» данным с указанием выводов и предположений.\n",
    "import scipy.stats as stats\n",
    "visitorsADaily = visitors[visitors['group'] == 'A'][['date', 'visitors']]\n",
    "visitorsADaily.columns = ['date', 'visitorsPerDateA']\n",
    "\n",
    "visitorsACummulative = visitorsADaily.apply(\n",
    "    lambda x: visitorsADaily[visitorsADaily['date'] <= x['date']].agg(\n",
    "        {'date': 'max', 'visitorsPerDateA': 'sum'}\n",
    "    ),\n",
    "    axis=1,\n",
    ")\n",
    "visitorsACummulative.columns = ['date', 'visitorsCummulativeA']\n",
    "\n",
    "visitorsBDaily = visitors[visitors['group'] == 'B'][['date', 'visitors']]\n",
    "visitorsBDaily.columns = ['date', 'visitorsPerDateB']\n",
    "\n",
    "visitorsBCummulative = visitorsBDaily.apply(\n",
    "    lambda x: visitorsBDaily[visitorsBDaily['date'] <= x['date']].agg(\n",
    "        {'date': 'max', 'visitorsPerDateB': 'sum'}\n",
    "    ),\n",
    "    axis=1,\n",
    ")\n",
    "visitorsBCummulative.columns = ['date', 'visitorsCummulativeB']\n",
    "\n",
    "ordersADaily = (\n",
    "    orders[orders['group'] == 'A'][['date', 'transactionId', 'visitorId', 'revenue']]\n",
    "    .groupby('date', as_index=False)\n",
    "    .agg({'transactionId': pd.Series.nunique, 'revenue': 'sum'})\n",
    ")\n",
    "ordersADaily.columns = ['date', 'ordersPerDateA', 'revenuePerDateA']\n",
    "\n",
    "ordersACummulative = ordersADaily.apply(\n",
    "    lambda x: ordersADaily[ordersADaily['date'] <= x['date']].agg(\n",
    "        {'date': 'max', 'ordersPerDateA': 'sum', 'revenuePerDateA': 'sum'}\n",
    "    ),\n",
    "    axis=1,\n",
    ").sort_values(by=['date'])\n",
    "ordersACummulative.columns = [\n",
    "    'date',\n",
    "    'ordersCummulativeA',\n",
    "    'revenueCummulativeA',\n",
    "]\n",
    "\n",
    "ordersBDaily = (\n",
    "    orders[orders['group'] == 'B'][['date', 'transactionId', 'visitorId', 'revenue']]\n",
    "    .groupby('date', as_index=False)\n",
    "    .agg({'transactionId': pd.Series.nunique, 'revenue': 'sum'})\n",
    ")\n",
    "ordersBDaily.columns = ['date', 'ordersPerDateB', 'revenuePerDateB']\n",
    "\n",
    "ordersBCummulative = ordersBDaily.apply(\n",
    "    lambda x: ordersBDaily[ordersBDaily['date'] <= x['date']].agg(\n",
    "        {'date': 'max', 'ordersPerDateB': 'sum', 'revenuePerDateB': 'sum'}\n",
    "    ),\n",
    "    axis=1,\n",
    ").sort_values(by=['date'])\n",
    "ordersBCummulative.columns = [\n",
    "    'date',\n",
    "    'ordersCummulativeB',\n",
    "    'revenueCummulativeB',\n",
    "]\n",
    "\n",
    "data = (\n",
    "    ordersADaily.merge(\n",
    "        ordersBDaily, left_on='date', right_on='date', how='left'\n",
    "    )\n",
    "    .merge(ordersACummulative, left_on='date', right_on='date', how='left')\n",
    "    .merge(ordersBCummulative, left_on='date', right_on='date', how='left')\n",
    "    .merge(visitorsADaily, left_on='date', right_on='date', how='left')\n",
    "    .merge(visitorsBDaily, left_on='date', right_on='date', how='left')\n",
    "    .merge(visitorsACummulative, left_on='date', right_on='date', how='left')\n",
    "    .merge(visitorsBCummulative, left_on='date', right_on='date', how='left')\n",
    ")\n",
    "\n",
    "print(data.head(5)) \n",
    " "
   ]
  },
  {
   "cell_type": "markdown",
   "metadata": {},
   "source": [
    "В целях подсчета статистической значимости в среднем количестве заказов на посетителя между группами по «сырым» данным формулируем гипотезы, подлежащие проверке:\n",
    "- нулевая гипотеза - \"нет разницы в среднем количестве заказов между группами\",\n",
    "- альтернативная гипотеза - \"между группами имеется разница в среднем количестве заказов\""
   ]
  },
  {
   "cell_type": "code",
   "execution_count": 240,
   "metadata": {},
   "outputs": [
    {
     "name": "stdout",
     "output_type": "stream",
     "text": [
      "p-value= 0.017\n",
      "Нулевая гипотеза отвергнута: между группами имеется разница в среднем количестве заказов\n",
      "\n",
      "Относительный прирост конверсии группы В к А: 13.808%\n"
     ]
    }
   ],
   "source": [
    "ordersByUsersA = (\n",
    "    orders[orders['group'] == 'A']\n",
    "    .groupby('visitorId', as_index=False)\n",
    "    .agg({'transactionId': pd.Series.nunique})\n",
    ")\n",
    "ordersByUsersA.columns = ['visitorId', 'orders']\n",
    "\n",
    "ordersByUsersB = (\n",
    "    orders[orders['group'] == 'B']\n",
    "    .groupby('visitorId', as_index=False)\n",
    "    .agg({'transactionId': pd.Series.nunique})\n",
    ")\n",
    "ordersByUsersB.columns = ['visitorId', 'orders']\n",
    "\n",
    "sampleA = pd.concat([ordersByUsersA['orders'],pd.Series(0, index=np.arange(data['visitorsPerDateA'].sum() - len(ordersByUsersA['orders'])), name='orders')],axis=0)\n",
    "\n",
    "sampleB = pd.concat([ordersByUsersB['orders'],pd.Series(0, index=np.arange(data['visitorsPerDateB'].sum() - len(ordersByUsersB['orders'])), name='orders')],axis=0)\n",
    "\n",
    "print(\"p-value= {0:.3f}\".format(stats.mannwhitneyu(sampleA, sampleB)[1]))\n",
    "\n",
    "if (stats.mannwhitneyu(sampleA, sampleB)[1] < 0.05):\n",
    "    print(\"Нулевая гипотеза отвергнута: между группами имеется разница в среднем количестве заказов\")\n",
    "else:\n",
    "    print(\"Не получилось отвергнуть нулевую гипотезу, нет разницы в среднем количестве заказов между группами\")\n",
    "print()    \n",
    "print(\"Относительный прирост конверсии группы В к А: {0:.3%}\".format(sampleB.mean() / sampleA.mean() - 1))\n"
   ]
  },
  {
   "cell_type": "markdown",
   "metadata": {},
   "source": [
    "Вывод: По «сырым» данным имеются различия в среднем числе заказов групп A и B, т.к. p-value = 0.017 < 0.05. \n",
    "Значит, нулевую гипотезу о том, что статистически значимых различий в среднем числе заказов между группами нет, отвергаем. Относительный прирост группы B равен 13,8% — второе число в выводе."
   ]
  },
  {
   "cell_type": "markdown",
   "metadata": {},
   "source": [
    "В целях подсчета статистической значимости в среднем чеке заказа между группами по «сырым» данным формулируем гипотезы, подлежащие проверке:\n",
    "\n",
    "- нулевая гипотеза - \"нет разницы в среднем чеке заказа между группами\",\n",
    "- альтернативная гипотеза - \"между группами имеется разница в среднем чеке заказа\""
   ]
  },
  {
   "cell_type": "code",
   "execution_count": 241,
   "metadata": {
    "scrolled": true
   },
   "outputs": [
    {
     "name": "stdout",
     "output_type": "stream",
     "text": [
      "0.729\n",
      "Не получилось отвергнуть нулевую гипотезу, нет разницы в среднем чеке между группами\n",
      "\n",
      "Относительный прирост среднего чека группы В к А: 25.871%\n"
     ]
    }
   ],
   "source": [
    "#Подсчет статистической значимости различий в среднем чеке заказа между группами по «сырым» данным с указанием выводов и предположений.\n",
    "print('{0:.3f}'.format(stats.mannwhitneyu(orders[orders['group']=='A']['revenue'], orders[orders['group']=='B']['revenue'])[1]))\n",
    "\n",
    "if (stats.mannwhitneyu(orders[orders['group']=='A']['revenue'], orders[orders['group']=='B']['revenue'])[1] < 0.05):\n",
    "    print(\"Нулевая гипотеза отвергнута: между группами имеется разница в среднем чеке\")\n",
    "else:\n",
    "    print(\"Не получилось отвергнуть нулевую гипотезу, нет разницы в среднем чеке между группами\")\n",
    "print()   \n",
    "print(\"Относительный прирост среднего чека группы В к А: {0:.3%}\".format(orders[orders['group']=='B']['revenue'].mean()/orders[orders['group']=='A']['revenue'].mean()-1))"
   ]
  },
  {
   "cell_type": "markdown",
   "metadata": {},
   "source": [
    "P-value  больше 0.05. Не получилось отвергнуть нулевую гипотезу, нет разницы в среднем чеке между группами.\n",
    "Относительный прирост среднего чека группы В к А составил 25.871%."
   ]
  },
  {
   "cell_type": "code",
   "execution_count": 242,
   "metadata": {
    "scrolled": true
   },
   "outputs": [
    {
     "name": "stdout",
     "output_type": "stream",
     "text": [
      "1099    148427295\n",
      "18      199603092\n",
      "928     204675465\n",
      "23      237748145\n",
      "37      249864742\n",
      "Name: visitorId, dtype: int64\n",
      "74\n"
     ]
    }
   ],
   "source": [
    "#Подсчет статистической значимости различий в среднем количестве заказов на посетителя между группами по «очищенным» данным с указанием выводов и предположений.\n",
    "usersWithManyOrders = pd.concat(\n",
    "    [\n",
    "        ordersByUsersA[ordersByUsersA['orders'] > perc_orders[0]]['visitorId'],\n",
    "        ordersByUsersB[ordersByUsersB['orders'] > perc_orders[0]]['visitorId'],\n",
    "    ],\n",
    "    axis=0,\n",
    ")\n",
    "usersWithExpensiveOrders = orders[orders['revenue'] > perc_revenue[0]]['visitorId']\n",
    "\n",
    "abnormalUsers = (\n",
    "    pd.concat([usersWithManyOrders, usersWithExpensiveOrders], axis=0)\n",
    "    .drop_duplicates()\n",
    "    .sort_values()\n",
    ")\n",
    "print(abnormalUsers.head(5))\n",
    "print(abnormalUsers.shape[0])"
   ]
  },
  {
   "cell_type": "markdown",
   "metadata": {},
   "source": [
    "После применения верхних границ по количеству заказов на пользователя   и верхней сумме допустимого чека  по  95 перцентилям получилось, что аномальными можно признать 74 пользователей.Их следует исключить из исследования и провести повторную проверку гипотез."
   ]
  },
  {
   "cell_type": "markdown",
   "metadata": {},
   "source": [
    "В целях подсчета статистической значимости в среднем количестве заказов на посетителя между группами по «очищенным» данным формулируем гипотезы, подлежащие проверке:\n",
    "- нулевая гипотеза - \"нет разницы в среднем количестве заказов между группами\",\n",
    "- альтернативная гипотеза - \"между группами имеется разница в среднем количестве заказов\""
   ]
  },
  {
   "cell_type": "code",
   "execution_count": 243,
   "metadata": {},
   "outputs": [
    {
     "name": "stdout",
     "output_type": "stream",
     "text": [
      "0.013\n",
      "Нулевая гипотеза отвергнута: между группами имеется разница в среднем количестве заказов\n",
      "\n",
      "Относительный прирост среднего количества заказов группы В к А после исключения выбросов: 17.270%\n"
     ]
    }
   ],
   "source": [
    "sampleAFiltered = pd.concat(\n",
    "    [\n",
    "        ordersByUsersA[\n",
    "            np.logical_not(ordersByUsersA['visitorId'].isin(abnormalUsers))\n",
    "        ]['orders'],\n",
    "        pd.Series(\n",
    "            0,\n",
    "            index=np.arange(\n",
    "                data['visitorsPerDateA'].sum() - len(ordersByUsersA['orders'])\n",
    "            ),\n",
    "            name='orders',\n",
    "        ),\n",
    "    ],\n",
    "    axis=0,\n",
    ")\n",
    "\n",
    "sampleBFiltered = pd.concat(\n",
    "    [\n",
    "        ordersByUsersB[\n",
    "            np.logical_not(ordersByUsersB['visitorId'].isin(abnormalUsers))\n",
    "        ]['orders'],\n",
    "        pd.Series(\n",
    "            0,\n",
    "            index=np.arange(\n",
    "                data['visitorsPerDateB'].sum() - len(ordersByUsersB['orders'])\n",
    "            ),\n",
    "            name='orders',\n",
    "        ),\n",
    "    ],\n",
    "    axis=0,\n",
    ")\n",
    "\n",
    "print('{0:.3f}'.format(stats.mannwhitneyu(sampleAFiltered, sampleBFiltered)[1]))\n",
    "\n",
    "if (stats.mannwhitneyu(sampleAFiltered, sampleBFiltered)[1] < 0.05):\n",
    "    print(\"Нулевая гипотеза отвергнута: между группами имеется разница в среднем количестве заказов\")\n",
    "else:\n",
    "    print(\"Не получилось отвергнуть нулевую гипотезу, нет разницы в среднем количестве заказов между группами\")\n",
    "print() \n",
    "\n",
    "print(\"Относительный прирост среднего количества заказов группы В к А после исключения выбросов: {0:.3%}\".format(sampleBFiltered.mean()/sampleAFiltered.mean()-1))"
   ]
  },
  {
   "cell_type": "markdown",
   "metadata": {},
   "source": [
    " По «сырым» данным имелись различия в среднем числе заказов групп A и B, т.к. p-value = 0.017 < 0.05. \n",
    " После фильтрации данных существенных изменений не произошло - гипотеза также отвергнута, между группами есть разница по среднему количеству заказов.\n",
    " Относительный прирост группы B равен 17,27% , больше чем по сырым данным - 13,8%"
   ]
  },
  {
   "cell_type": "markdown",
   "metadata": {},
   "source": [
    "В целях подсчета статистической значимости в среднем чеке заказа между группами по «очищенным» данным формулируем гипотезы, подлежащие проверке:\n",
    "\n",
    "- нулевая гипотеза - \"нет разницы в среднем чеке заказа между группами\",\n",
    "- альтернативная гипотеза - \"между группами имеется разница в среднем чеке заказа\""
   ]
  },
  {
   "cell_type": "code",
   "execution_count": 244,
   "metadata": {},
   "outputs": [
    {
     "name": "stdout",
     "output_type": "stream",
     "text": [
      "0.738\n",
      "Не получилось отвергнуть нулевую гипотезу, нет разницы в среднем чеке между группами\n",
      "\n",
      "Относительный прирост среднего чека группы В к А: -1.962%\n"
     ]
    }
   ],
   "source": [
    "#Подсчет статистической значимости различий в среднем чеке заказа между группами по «очищенным» данным с указанием выводов и предположений.\n",
    "p_value_mean_order=stats.mannwhitneyu(\n",
    "            orders[\n",
    "                np.logical_and(\n",
    "                    orders['group'] == 'A',\n",
    "                    np.logical_not(orders['visitorId'].isin(abnormalUsers)),\n",
    "                )\n",
    "            ]['revenue'],\n",
    "            orders[\n",
    "                np.logical_and(\n",
    "                    orders['group'] == 'B',\n",
    "                    np.logical_not(orders['visitorId'].isin(abnormalUsers)),\n",
    "                )\n",
    "            ]['revenue'],\n",
    "        )[1]\n",
    "print('{0:.3f}'.format(p_value_mean_order))\n",
    "\n",
    "if p_value_mean_order<0.05:\n",
    "    print(\"Нулевая гипотеза отвергнута: между группами имеется разница в среднем чеке после фильтрации\")\n",
    "else:\n",
    "    print(\"Не получилось отвергнуть нулевую гипотезу, нет разницы в среднем чеке между группами\")\n",
    "\n",
    "print()\n",
    "print(\n",
    "    \"Относительный прирост среднего чека группы В к А: {0:.3%}\".format(\n",
    "        orders[\n",
    "            np.logical_and(\n",
    "                orders['group'] == 'B',\n",
    "                np.logical_not(orders['visitorId'].isin(abnormalUsers)),\n",
    "            )\n",
    "        ]['revenue'].mean()\n",
    "        / orders[\n",
    "            np.logical_and(\n",
    "                orders['group'] == 'A',\n",
    "                np.logical_not(orders['visitorId'].isin(abnormalUsers)),\n",
    "            )\n",
    "        ]['revenue'].mean()\n",
    "        - 1\n",
    "    )\n",
    ")"
   ]
  },
  {
   "cell_type": "markdown",
   "metadata": {},
   "source": [
    "Как и до фильтрации, после удаления выбросов P-value больше 0.05. Не получилось отвергнуть нулевую гипотезу, нет разницы в среднем чеке между группами. \n",
    "Относительный прирост среднего чека группы В к А  равен -1.962%"
   ]
  },
  {
   "cell_type": "code",
   "execution_count": 245,
   "metadata": {},
   "outputs": [],
   "source": [
    "#Принятие решения по результатам теста с пояснением принятого решения"
   ]
  },
  {
   "cell_type": "markdown",
   "metadata": {},
   "source": [
    "После фильтрации данных в результатах проверки гипотез не произошло значительных изменений, гипотеза по различию конверсии между группами подтверждена. Гипотеза по различию среднего чека между группами опровергнута.\n",
    "Необходимости в продолжении тестирования нет."
   ]
  },
  {
   "cell_type": "markdown",
   "metadata": {},
   "source": [
    "<b>Выводы и рекомендации по результатам проведенного исследования</b>\n",
    "\n",
    "\n",
    "В рамках 1 части проекта проведена приоритизация гипотез отдела маркетинга с применением методов ICE и RICE.\n",
    "Согласно результатов сортировки гипотез с применением метода ICE наиболее приоритетной к проверке является гипотеза №8 - \"Запустить акцию, дающую скидку на товар в день рождения\".\n",
    "\n",
    "\n",
    "Согласно результатов сортировки гипотез с применением метода RICE наиболее приоритетной к проверке является гипотеза  №7 - \"Добавить форму подписки на все основные страницы, чтобы собрать базу клиентов для email-рассылок\".\n",
    "\n",
    "Различие в результатах после применения разных методов объясняется тем, что метод RICE берет в расчет также количество пользователей (\"Reach\"), которых затронет изменение, предлагаемое гипотезой.\n",
    "\n",
    "У гипотезы №7 показатель \"Reach\" является максимальным и равен 10.\n",
    "\n",
    "Включение дополнительного показателя \"Reach\" в расчет вывело гипотезу №7 на первое место в рейтинге.\n",
    "\n",
    "\n",
    "Далее проведен анализ A/B-теста из имеющихся результатов, содержащихся в данных датафреймов /datasets/orders.csv и /datasets/visitors.csv.\n",
    "\n",
    "Согласно графика кумулятивной выручки по группам выручка почти равномерно увеличивается в течение всего теста. \n",
    "Произведена проверка гипотез о различию конверсии между группами  А и В на данных до исключения выбросов. Согласно проведенному исследованию указанная гипотеза подтверждена. \n",
    "Гипотеза по различию среднего чека между группами на данных до исключения выбросов  опровергнута. \n",
    "\n",
    "При анализе данных сделан вывод, что выбросами стоит считать заказы на сумму более 30 000 рублей, а также исключить данные по пользователям, совершившим более 3 заказов.\n",
    "\n",
    "По «сырым» данным имелись различия в среднем числе заказов групп A и B, т.к. p-value = 0.017 < 0.05. После фильтрации данных существенных изменений не произошло - гипотеза также отвергнута, между группами есть разница по среднему количеству заказов. Относительный прирост группы B равен 17,27% , больше чем по сырым данным - 13,8%.\n",
    "\n",
    "Как и до фильтрации, после удаления выбросов P-value при проверке гипотез о различиях в среднем чеке оказался больше 0.05. Не получилось отвергнуть нулевую гипотезу, нет разницы в среднем чеке между группами. Относительный прирост среднего чека группы В к А  равен -1.962%\n",
    "\n",
    "Таким образом, тестирование можно завершить и признать победителем группу B, в которой выявлено значительное увеличение конверсии по сравнению с группой А, при этом средний чек между группами практически одинаков."
   ]
  }
 ],
 "metadata": {
  "ExecuteTimeLog": [
   {
    "duration": 462,
    "start_time": "2023-07-09T14:37:52.030Z"
   },
   {
    "duration": 42,
    "start_time": "2023-07-09T14:39:48.347Z"
   },
   {
    "duration": 14,
    "start_time": "2023-07-09T14:41:34.980Z"
   },
   {
    "duration": 71,
    "start_time": "2023-07-09T14:42:45.675Z"
   },
   {
    "duration": 12,
    "start_time": "2023-07-09T14:42:55.679Z"
   },
   {
    "duration": 11,
    "start_time": "2023-07-09T14:44:08.302Z"
   },
   {
    "duration": 13,
    "start_time": "2023-07-09T14:45:19.871Z"
   },
   {
    "duration": 37,
    "start_time": "2023-07-09T14:58:40.836Z"
   },
   {
    "duration": 40,
    "start_time": "2023-07-09T14:59:07.120Z"
   },
   {
    "duration": 42,
    "start_time": "2023-07-09T15:06:25.404Z"
   },
   {
    "duration": 14,
    "start_time": "2023-07-09T15:06:25.448Z"
   },
   {
    "duration": 16,
    "start_time": "2023-07-09T15:06:25.463Z"
   },
   {
    "duration": 185,
    "start_time": "2023-07-09T15:27:58.552Z"
   },
   {
    "duration": 884,
    "start_time": "2023-07-09T15:28:16.993Z"
   },
   {
    "duration": 574,
    "start_time": "2023-07-09T15:29:44.939Z"
   },
   {
    "duration": 101,
    "start_time": "2023-07-09T15:30:12.036Z"
   },
   {
    "duration": 611,
    "start_time": "2023-07-09T15:33:03.766Z"
   },
   {
    "duration": 776,
    "start_time": "2023-07-09T15:38:14.999Z"
   },
   {
    "duration": 719,
    "start_time": "2023-07-09T15:39:48.450Z"
   },
   {
    "duration": 587,
    "start_time": "2023-07-09T15:40:12.603Z"
   },
   {
    "duration": 174,
    "start_time": "2023-07-09T15:48:31.419Z"
   },
   {
    "duration": 235,
    "start_time": "2023-07-09T15:49:47.600Z"
   },
   {
    "duration": 255,
    "start_time": "2023-07-09T15:51:11.105Z"
   },
   {
    "duration": 296,
    "start_time": "2023-07-09T15:58:28.835Z"
   },
   {
    "duration": 364,
    "start_time": "2023-07-09T16:01:36.797Z"
   },
   {
    "duration": 321,
    "start_time": "2023-07-09T16:01:54.839Z"
   },
   {
    "duration": 352,
    "start_time": "2023-07-09T16:02:20.607Z"
   },
   {
    "duration": 46,
    "start_time": "2023-07-10T14:39:12.440Z"
   },
   {
    "duration": 422,
    "start_time": "2023-07-10T14:39:22.490Z"
   },
   {
    "duration": 13,
    "start_time": "2023-07-10T14:39:22.915Z"
   },
   {
    "duration": 18,
    "start_time": "2023-07-10T14:39:22.929Z"
   },
   {
    "duration": 22,
    "start_time": "2023-07-10T14:39:22.949Z"
   },
   {
    "duration": 1150,
    "start_time": "2023-07-10T14:39:22.972Z"
   },
   {
    "duration": 227,
    "start_time": "2023-07-10T14:39:24.124Z"
   },
   {
    "duration": 465,
    "start_time": "2023-07-10T14:39:24.353Z"
   },
   {
    "duration": 38,
    "start_time": "2023-07-10T14:43:07.422Z"
   },
   {
    "duration": 11,
    "start_time": "2023-07-10T14:43:07.462Z"
   },
   {
    "duration": 21,
    "start_time": "2023-07-10T14:43:07.474Z"
   },
   {
    "duration": 15,
    "start_time": "2023-07-10T14:43:07.497Z"
   },
   {
    "duration": 603,
    "start_time": "2023-07-10T14:43:07.514Z"
   },
   {
    "duration": 221,
    "start_time": "2023-07-10T14:43:08.119Z"
   },
   {
    "duration": 329,
    "start_time": "2023-07-10T14:43:08.341Z"
   },
   {
    "duration": 2,
    "start_time": "2023-07-10T14:43:08.671Z"
   },
   {
    "duration": 67,
    "start_time": "2023-07-10T14:43:08.675Z"
   },
   {
    "duration": 25,
    "start_time": "2023-07-10T14:43:08.744Z"
   },
   {
    "duration": 8,
    "start_time": "2023-07-10T14:43:08.771Z"
   },
   {
    "duration": 10,
    "start_time": "2023-07-10T14:43:08.781Z"
   },
   {
    "duration": 10,
    "start_time": "2023-07-10T14:43:08.793Z"
   },
   {
    "duration": 18,
    "start_time": "2023-07-10T14:43:08.805Z"
   },
   {
    "duration": 10,
    "start_time": "2023-07-10T14:43:08.825Z"
   },
   {
    "duration": 6,
    "start_time": "2023-07-10T14:43:08.837Z"
   },
   {
    "duration": 10,
    "start_time": "2023-07-10T14:43:08.845Z"
   },
   {
    "duration": 6,
    "start_time": "2023-07-10T14:43:08.857Z"
   },
   {
    "duration": 360,
    "start_time": "2023-07-10T14:48:12.614Z"
   },
   {
    "duration": 315,
    "start_time": "2023-07-10T14:48:33.652Z"
   },
   {
    "duration": 46,
    "start_time": "2023-07-10T14:48:59.312Z"
   },
   {
    "duration": 16,
    "start_time": "2023-07-10T14:48:59.361Z"
   },
   {
    "duration": 25,
    "start_time": "2023-07-10T14:48:59.379Z"
   },
   {
    "duration": 20,
    "start_time": "2023-07-10T14:48:59.406Z"
   },
   {
    "duration": 540,
    "start_time": "2023-07-10T14:48:59.428Z"
   },
   {
    "duration": 207,
    "start_time": "2023-07-10T14:48:59.970Z"
   },
   {
    "duration": 284,
    "start_time": "2023-07-10T14:49:00.179Z"
   },
   {
    "duration": 2,
    "start_time": "2023-07-10T14:49:00.465Z"
   },
   {
    "duration": 40,
    "start_time": "2023-07-10T14:49:00.469Z"
   },
   {
    "duration": 88,
    "start_time": "2023-07-10T14:49:00.512Z"
   },
   {
    "duration": 66,
    "start_time": "2023-07-10T14:49:00.602Z"
   },
   {
    "duration": 143,
    "start_time": "2023-07-10T14:49:00.670Z"
   },
   {
    "duration": 63,
    "start_time": "2023-07-10T14:49:00.815Z"
   },
   {
    "duration": 67,
    "start_time": "2023-07-10T14:49:00.879Z"
   },
   {
    "duration": 48,
    "start_time": "2023-07-10T14:49:00.948Z"
   },
   {
    "duration": 47,
    "start_time": "2023-07-10T14:49:00.998Z"
   },
   {
    "duration": 60,
    "start_time": "2023-07-10T14:49:01.047Z"
   },
   {
    "duration": 55,
    "start_time": "2023-07-10T14:49:01.108Z"
   },
   {
    "duration": 190,
    "start_time": "2023-07-10T14:59:13.304Z"
   },
   {
    "duration": 229,
    "start_time": "2023-07-10T15:00:30.397Z"
   },
   {
    "duration": 168,
    "start_time": "2023-07-10T15:01:02.784Z"
   },
   {
    "duration": 174,
    "start_time": "2023-07-10T15:01:51.615Z"
   },
   {
    "duration": 180,
    "start_time": "2023-07-10T15:01:59.052Z"
   },
   {
    "duration": 183,
    "start_time": "2023-07-10T15:02:28.385Z"
   },
   {
    "duration": 206,
    "start_time": "2023-07-10T15:04:01.645Z"
   },
   {
    "duration": 205,
    "start_time": "2023-07-10T15:04:38.751Z"
   },
   {
    "duration": 271,
    "start_time": "2023-07-10T15:05:04.267Z"
   },
   {
    "duration": 202,
    "start_time": "2023-07-10T15:12:49.987Z"
   },
   {
    "duration": 205,
    "start_time": "2023-07-10T15:19:02.515Z"
   },
   {
    "duration": 225,
    "start_time": "2023-07-10T15:19:19.358Z"
   },
   {
    "duration": 369,
    "start_time": "2023-07-10T15:26:21.395Z"
   },
   {
    "duration": 328,
    "start_time": "2023-07-10T15:27:33.651Z"
   },
   {
    "duration": 376,
    "start_time": "2023-07-10T15:29:02.916Z"
   },
   {
    "duration": 45,
    "start_time": "2023-07-10T15:38:52.896Z"
   },
   {
    "duration": 10,
    "start_time": "2023-07-10T15:39:39.112Z"
   },
   {
    "duration": 104,
    "start_time": "2023-07-10T15:40:13.966Z"
   },
   {
    "duration": 159,
    "start_time": "2023-07-10T15:42:16.132Z"
   },
   {
    "duration": 163,
    "start_time": "2023-07-10T15:42:31.227Z"
   },
   {
    "duration": 195,
    "start_time": "2023-07-10T15:42:52.344Z"
   },
   {
    "duration": 226,
    "start_time": "2023-07-10T15:43:15.791Z"
   },
   {
    "duration": 521,
    "start_time": "2023-07-10T15:44:46.489Z"
   },
   {
    "duration": 192,
    "start_time": "2023-07-10T15:45:00.791Z"
   },
   {
    "duration": 360,
    "start_time": "2023-07-10T15:45:07.991Z"
   },
   {
    "duration": 252,
    "start_time": "2023-07-10T15:45:17.787Z"
   },
   {
    "duration": 299,
    "start_time": "2023-07-10T15:45:30.168Z"
   },
   {
    "duration": 237,
    "start_time": "2023-07-10T15:45:40.855Z"
   },
   {
    "duration": 184,
    "start_time": "2023-07-10T15:49:12.947Z"
   },
   {
    "duration": 112,
    "start_time": "2023-07-10T15:52:13.362Z"
   },
   {
    "duration": 123,
    "start_time": "2023-07-10T15:53:16.095Z"
   },
   {
    "duration": 120,
    "start_time": "2023-07-10T15:53:38.017Z"
   },
   {
    "duration": 7,
    "start_time": "2023-07-10T15:55:52.412Z"
   },
   {
    "duration": 5,
    "start_time": "2023-07-10T15:58:02.352Z"
   },
   {
    "duration": 1797,
    "start_time": "2023-07-10T16:02:41.918Z"
   },
   {
    "duration": 138,
    "start_time": "2023-07-10T16:03:11.993Z"
   },
   {
    "duration": 17,
    "start_time": "2023-07-10T16:04:13.736Z"
   },
   {
    "duration": 130,
    "start_time": "2023-07-10T16:05:35.752Z"
   },
   {
    "duration": 205,
    "start_time": "2023-07-10T16:06:27.038Z"
   },
   {
    "duration": 223,
    "start_time": "2023-07-10T16:07:49.669Z"
   },
   {
    "duration": 219,
    "start_time": "2023-07-10T16:08:05.571Z"
   },
   {
    "duration": 323,
    "start_time": "2023-07-10T16:09:34.433Z"
   },
   {
    "duration": 240,
    "start_time": "2023-07-10T16:10:20.793Z"
   },
   {
    "duration": 9,
    "start_time": "2023-07-10T16:10:40.578Z"
   },
   {
    "duration": 25,
    "start_time": "2023-07-10T16:11:20.290Z"
   },
   {
    "duration": 247,
    "start_time": "2023-07-10T16:12:23.453Z"
   },
   {
    "duration": 274,
    "start_time": "2023-07-10T16:12:53.597Z"
   },
   {
    "duration": 226,
    "start_time": "2023-07-10T16:13:05.521Z"
   },
   {
    "duration": 1292,
    "start_time": "2023-07-10T16:15:51.001Z"
   },
   {
    "duration": 131,
    "start_time": "2023-07-10T16:16:20.821Z"
   },
   {
    "duration": 141,
    "start_time": "2023-07-10T16:16:41.136Z"
   },
   {
    "duration": 3,
    "start_time": "2023-07-10T16:19:17.924Z"
   },
   {
    "duration": 2245,
    "start_time": "2023-07-10T16:28:54.858Z"
   },
   {
    "duration": 2102,
    "start_time": "2023-07-10T16:29:24.509Z"
   },
   {
    "duration": 213,
    "start_time": "2023-07-10T16:42:36.797Z"
   },
   {
    "duration": 134,
    "start_time": "2023-07-10T16:44:00.037Z"
   },
   {
    "duration": 270,
    "start_time": "2023-07-10T16:45:36.104Z"
   },
   {
    "duration": 2497,
    "start_time": "2023-07-10T16:46:00.143Z"
   },
   {
    "duration": 204,
    "start_time": "2023-07-10T17:05:07.948Z"
   },
   {
    "duration": 1313,
    "start_time": "2023-07-10T17:05:12.770Z"
   },
   {
    "duration": 135,
    "start_time": "2023-07-10T17:06:49.291Z"
   },
   {
    "duration": 655,
    "start_time": "2023-07-10T17:07:45.467Z"
   },
   {
    "duration": 157,
    "start_time": "2023-07-10T17:07:51.582Z"
   },
   {
    "duration": 8,
    "start_time": "2023-07-10T17:17:55.319Z"
   },
   {
    "duration": 174,
    "start_time": "2023-07-10T17:18:01.788Z"
   },
   {
    "duration": 195,
    "start_time": "2023-07-10T17:19:01.630Z"
   },
   {
    "duration": 157,
    "start_time": "2023-07-10T17:19:26.587Z"
   },
   {
    "duration": 169,
    "start_time": "2023-07-10T17:19:48.347Z"
   },
   {
    "duration": 164,
    "start_time": "2023-07-10T17:20:43.519Z"
   },
   {
    "duration": 10,
    "start_time": "2023-07-10T17:21:45.390Z"
   },
   {
    "duration": 159,
    "start_time": "2023-07-10T17:24:49.452Z"
   },
   {
    "duration": 164,
    "start_time": "2023-07-10T17:26:29.749Z"
   },
   {
    "duration": 17,
    "start_time": "2023-07-10T17:32:54.984Z"
   },
   {
    "duration": 14,
    "start_time": "2023-07-10T17:33:53.613Z"
   },
   {
    "duration": 1372,
    "start_time": "2023-07-10T17:36:22.491Z"
   },
   {
    "duration": 10,
    "start_time": "2023-07-10T17:36:50.606Z"
   },
   {
    "duration": 25,
    "start_time": "2023-07-10T17:40:52.417Z"
   },
   {
    "duration": 51,
    "start_time": "2023-07-10T17:45:47.521Z"
   },
   {
    "duration": 42,
    "start_time": "2023-07-10T17:47:41.181Z"
   },
   {
    "duration": 14,
    "start_time": "2023-07-10T17:52:09.647Z"
   },
   {
    "duration": 13,
    "start_time": "2023-07-10T17:56:34.001Z"
   },
   {
    "duration": 14,
    "start_time": "2023-07-10T17:59:54.515Z"
   },
   {
    "duration": 38,
    "start_time": "2023-07-10T18:06:01.717Z"
   },
   {
    "duration": 44,
    "start_time": "2023-07-10T18:06:01.757Z"
   },
   {
    "duration": 150,
    "start_time": "2023-07-10T18:06:01.803Z"
   },
   {
    "duration": 111,
    "start_time": "2023-07-10T18:06:01.955Z"
   },
   {
    "duration": 652,
    "start_time": "2023-07-10T18:06:02.067Z"
   },
   {
    "duration": 213,
    "start_time": "2023-07-10T18:06:02.721Z"
   },
   {
    "duration": 302,
    "start_time": "2023-07-10T18:06:02.936Z"
   },
   {
    "duration": 234,
    "start_time": "2023-07-10T18:06:03.239Z"
   },
   {
    "duration": 342,
    "start_time": "2023-07-10T18:06:03.475Z"
   },
   {
    "duration": 218,
    "start_time": "2023-07-10T18:06:03.819Z"
   },
   {
    "duration": 153,
    "start_time": "2023-07-10T18:06:04.038Z"
   },
   {
    "duration": 4,
    "start_time": "2023-07-10T18:06:04.193Z"
   },
   {
    "duration": 249,
    "start_time": "2023-07-10T18:06:04.198Z"
   },
   {
    "duration": 151,
    "start_time": "2023-07-10T18:06:04.448Z"
   },
   {
    "duration": 5,
    "start_time": "2023-07-10T18:06:04.600Z"
   },
   {
    "duration": 249,
    "start_time": "2023-07-10T18:06:04.606Z"
   },
   {
    "duration": 196,
    "start_time": "2023-07-10T18:06:04.857Z"
   },
   {
    "duration": 14,
    "start_time": "2023-07-10T18:06:05.055Z"
   },
   {
    "duration": 32,
    "start_time": "2023-07-10T18:06:05.070Z"
   },
   {
    "duration": 59,
    "start_time": "2023-07-10T18:06:05.104Z"
   },
   {
    "duration": 14,
    "start_time": "2023-07-10T18:06:05.164Z"
   },
   {
    "duration": 18,
    "start_time": "2023-07-10T18:06:05.179Z"
   },
   {
    "duration": 37,
    "start_time": "2023-07-10T18:06:49.553Z"
   },
   {
    "duration": 12,
    "start_time": "2023-07-10T18:07:10.523Z"
   },
   {
    "duration": 1534,
    "start_time": "2023-07-10T18:10:03.549Z"
   },
   {
    "duration": 52,
    "start_time": "2023-07-10T18:26:19.114Z"
   },
   {
    "duration": 15,
    "start_time": "2023-07-10T18:26:19.169Z"
   },
   {
    "duration": 25,
    "start_time": "2023-07-10T18:26:19.186Z"
   },
   {
    "duration": 16,
    "start_time": "2023-07-10T18:26:19.214Z"
   },
   {
    "duration": 698,
    "start_time": "2023-07-10T18:26:19.237Z"
   },
   {
    "duration": 235,
    "start_time": "2023-07-10T18:26:19.936Z"
   },
   {
    "duration": 294,
    "start_time": "2023-07-10T18:26:20.173Z"
   },
   {
    "duration": 240,
    "start_time": "2023-07-10T18:26:20.469Z"
   },
   {
    "duration": 398,
    "start_time": "2023-07-10T18:26:20.711Z"
   },
   {
    "duration": 245,
    "start_time": "2023-07-10T18:26:21.112Z"
   },
   {
    "duration": 145,
    "start_time": "2023-07-10T18:26:21.358Z"
   },
   {
    "duration": 6,
    "start_time": "2023-07-10T18:26:21.505Z"
   },
   {
    "duration": 295,
    "start_time": "2023-07-10T18:26:21.513Z"
   },
   {
    "duration": 194,
    "start_time": "2023-07-10T18:26:21.810Z"
   },
   {
    "duration": 5,
    "start_time": "2023-07-10T18:26:22.006Z"
   },
   {
    "duration": 282,
    "start_time": "2023-07-10T18:26:22.013Z"
   },
   {
    "duration": 195,
    "start_time": "2023-07-10T18:26:22.297Z"
   },
   {
    "duration": 16,
    "start_time": "2023-07-10T18:26:22.494Z"
   },
   {
    "duration": 51,
    "start_time": "2023-07-10T18:26:22.513Z"
   },
   {
    "duration": 77,
    "start_time": "2023-07-10T18:26:22.566Z"
   },
   {
    "duration": 17,
    "start_time": "2023-07-10T18:26:22.652Z"
   },
   {
    "duration": 8,
    "start_time": "2023-07-10T18:26:22.671Z"
   },
   {
    "duration": 43,
    "start_time": "2023-07-10T18:28:29.727Z"
   },
   {
    "duration": 10,
    "start_time": "2023-07-10T18:28:29.772Z"
   },
   {
    "duration": 15,
    "start_time": "2023-07-10T18:28:29.784Z"
   },
   {
    "duration": 10,
    "start_time": "2023-07-10T18:28:29.801Z"
   },
   {
    "duration": 545,
    "start_time": "2023-07-10T18:28:29.813Z"
   },
   {
    "duration": 213,
    "start_time": "2023-07-10T18:28:30.359Z"
   },
   {
    "duration": 279,
    "start_time": "2023-07-10T18:28:30.573Z"
   },
   {
    "duration": 234,
    "start_time": "2023-07-10T18:28:30.853Z"
   },
   {
    "duration": 327,
    "start_time": "2023-07-10T18:28:31.088Z"
   },
   {
    "duration": 203,
    "start_time": "2023-07-10T18:28:31.419Z"
   },
   {
    "duration": 271,
    "start_time": "2023-07-10T18:28:31.623Z"
   },
   {
    "duration": 5,
    "start_time": "2023-07-10T18:28:31.895Z"
   },
   {
    "duration": 265,
    "start_time": "2023-07-10T18:28:31.901Z"
   },
   {
    "duration": 152,
    "start_time": "2023-07-10T18:28:32.167Z"
   },
   {
    "duration": 4,
    "start_time": "2023-07-10T18:28:32.321Z"
   },
   {
    "duration": 295,
    "start_time": "2023-07-10T18:28:32.336Z"
   },
   {
    "duration": 163,
    "start_time": "2023-07-10T18:28:32.644Z"
   },
   {
    "duration": 14,
    "start_time": "2023-07-10T18:28:32.809Z"
   },
   {
    "duration": 44,
    "start_time": "2023-07-10T18:28:32.848Z"
   },
   {
    "duration": 111,
    "start_time": "2023-07-10T18:28:32.894Z"
   },
   {
    "duration": 53,
    "start_time": "2023-07-10T18:28:33.006Z"
   },
   {
    "duration": 89,
    "start_time": "2023-07-10T18:28:33.061Z"
   },
   {
    "duration": 461,
    "start_time": "2023-07-11T10:35:46.942Z"
   },
   {
    "duration": 21,
    "start_time": "2023-07-11T10:35:47.405Z"
   },
   {
    "duration": 14,
    "start_time": "2023-07-11T10:35:47.428Z"
   },
   {
    "duration": 10,
    "start_time": "2023-07-11T10:35:47.445Z"
   },
   {
    "duration": 1198,
    "start_time": "2023-07-11T10:35:47.457Z"
   },
   {
    "duration": 227,
    "start_time": "2023-07-11T10:35:48.657Z"
   },
   {
    "duration": 468,
    "start_time": "2023-07-11T10:35:48.886Z"
   },
   {
    "duration": 249,
    "start_time": "2023-07-11T10:35:49.355Z"
   },
   {
    "duration": 388,
    "start_time": "2023-07-11T10:35:49.606Z"
   },
   {
    "duration": 220,
    "start_time": "2023-07-11T10:35:50.001Z"
   },
   {
    "duration": 150,
    "start_time": "2023-07-11T10:35:50.222Z"
   },
   {
    "duration": 4,
    "start_time": "2023-07-11T10:35:50.374Z"
   },
   {
    "duration": 332,
    "start_time": "2023-07-11T10:35:50.380Z"
   },
   {
    "duration": 172,
    "start_time": "2023-07-11T10:35:50.714Z"
   },
   {
    "duration": 4,
    "start_time": "2023-07-11T10:35:50.888Z"
   },
   {
    "duration": 703,
    "start_time": "2023-07-11T10:35:50.902Z"
   },
   {
    "duration": 210,
    "start_time": "2023-07-11T10:35:51.607Z"
   },
   {
    "duration": 15,
    "start_time": "2023-07-11T10:35:51.819Z"
   },
   {
    "duration": 32,
    "start_time": "2023-07-11T10:35:51.836Z"
   },
   {
    "duration": 67,
    "start_time": "2023-07-11T10:35:51.870Z"
   },
   {
    "duration": 17,
    "start_time": "2023-07-11T10:35:51.939Z"
   },
   {
    "duration": 39,
    "start_time": "2023-07-11T10:35:51.959Z"
   },
   {
    "duration": 39,
    "start_time": "2023-07-11T10:36:49.295Z"
   },
   {
    "duration": 128,
    "start_time": "2023-07-11T10:39:24.015Z"
   },
   {
    "duration": 41,
    "start_time": "2023-07-11T10:39:51.046Z"
   },
   {
    "duration": 38,
    "start_time": "2023-07-11T10:42:07.111Z"
   },
   {
    "duration": 37,
    "start_time": "2023-07-11T10:42:17.607Z"
   },
   {
    "duration": 44,
    "start_time": "2023-07-11T10:42:39.303Z"
   },
   {
    "duration": 41,
    "start_time": "2023-07-11T10:42:45.619Z"
   },
   {
    "duration": 11,
    "start_time": "2023-07-11T10:42:45.662Z"
   },
   {
    "duration": 16,
    "start_time": "2023-07-11T10:42:45.674Z"
   },
   {
    "duration": 9,
    "start_time": "2023-07-11T10:42:45.693Z"
   },
   {
    "duration": 552,
    "start_time": "2023-07-11T10:42:45.704Z"
   },
   {
    "duration": 216,
    "start_time": "2023-07-11T10:42:46.258Z"
   },
   {
    "duration": 339,
    "start_time": "2023-07-11T10:42:46.476Z"
   },
   {
    "duration": 252,
    "start_time": "2023-07-11T10:42:46.817Z"
   },
   {
    "duration": 384,
    "start_time": "2023-07-11T10:42:47.071Z"
   },
   {
    "duration": 229,
    "start_time": "2023-07-11T10:42:47.458Z"
   },
   {
    "duration": 148,
    "start_time": "2023-07-11T10:42:47.689Z"
   },
   {
    "duration": 4,
    "start_time": "2023-07-11T10:42:47.839Z"
   },
   {
    "duration": 272,
    "start_time": "2023-07-11T10:42:47.845Z"
   },
   {
    "duration": 256,
    "start_time": "2023-07-11T10:42:48.119Z"
   },
   {
    "duration": 4,
    "start_time": "2023-07-11T10:42:48.377Z"
   },
   {
    "duration": 242,
    "start_time": "2023-07-11T10:42:48.382Z"
   },
   {
    "duration": 194,
    "start_time": "2023-07-11T10:42:48.626Z"
   },
   {
    "duration": 17,
    "start_time": "2023-07-11T10:42:48.821Z"
   },
   {
    "duration": 46,
    "start_time": "2023-07-11T10:42:48.839Z"
   },
   {
    "duration": 50,
    "start_time": "2023-07-11T10:42:48.887Z"
   },
   {
    "duration": 20,
    "start_time": "2023-07-11T10:42:48.938Z"
   },
   {
    "duration": 9,
    "start_time": "2023-07-11T10:42:48.960Z"
   },
   {
    "duration": 3314,
    "start_time": "2023-07-11T10:45:06.307Z"
   },
   {
    "duration": 38,
    "start_time": "2023-07-11T10:45:23.515Z"
   },
   {
    "duration": 13,
    "start_time": "2023-07-11T10:45:23.555Z"
   },
   {
    "duration": 38,
    "start_time": "2023-07-11T10:45:23.570Z"
   },
   {
    "duration": 25,
    "start_time": "2023-07-11T10:45:23.609Z"
   },
   {
    "duration": 566,
    "start_time": "2023-07-11T10:45:23.637Z"
   },
   {
    "duration": 215,
    "start_time": "2023-07-11T10:45:24.205Z"
   },
   {
    "duration": 311,
    "start_time": "2023-07-11T10:45:24.423Z"
   },
   {
    "duration": 278,
    "start_time": "2023-07-11T10:45:24.736Z"
   },
   {
    "duration": 422,
    "start_time": "2023-07-11T10:45:25.016Z"
   },
   {
    "duration": 264,
    "start_time": "2023-07-11T10:45:25.440Z"
   },
   {
    "duration": 183,
    "start_time": "2023-07-11T10:45:25.706Z"
   },
   {
    "duration": 13,
    "start_time": "2023-07-11T10:45:25.891Z"
   },
   {
    "duration": 265,
    "start_time": "2023-07-11T10:45:25.906Z"
   },
   {
    "duration": 163,
    "start_time": "2023-07-11T10:45:26.174Z"
   },
   {
    "duration": 5,
    "start_time": "2023-07-11T10:45:26.339Z"
   },
   {
    "duration": 362,
    "start_time": "2023-07-11T10:45:26.346Z"
   },
   {
    "duration": 192,
    "start_time": "2023-07-11T10:45:26.710Z"
   },
   {
    "duration": 24,
    "start_time": "2023-07-11T10:45:26.903Z"
   },
   {
    "duration": 10,
    "start_time": "2023-07-11T10:45:26.929Z"
   },
   {
    "duration": 72,
    "start_time": "2023-07-11T10:45:26.941Z"
   },
   {
    "duration": 15,
    "start_time": "2023-07-11T10:45:27.015Z"
   },
   {
    "duration": 9,
    "start_time": "2023-07-11T10:45:27.031Z"
   },
   {
    "duration": 2200,
    "start_time": "2023-07-11T10:50:48.432Z"
   },
   {
    "duration": 1745,
    "start_time": "2023-07-11T10:51:05.218Z"
   },
   {
    "duration": 49,
    "start_time": "2023-07-11T10:51:27.551Z"
   },
   {
    "duration": 20,
    "start_time": "2023-07-11T10:51:34.436Z"
   },
   {
    "duration": 17,
    "start_time": "2023-07-11T10:51:42.038Z"
   },
   {
    "duration": 556,
    "start_time": "2023-07-11T10:53:06.312Z"
   },
   {
    "duration": 279,
    "start_time": "2023-07-11T10:54:57.023Z"
   },
   {
    "duration": 411,
    "start_time": "2023-07-11T10:58:20.591Z"
   },
   {
    "duration": 289,
    "start_time": "2023-07-11T10:59:47.116Z"
   },
   {
    "duration": 437,
    "start_time": "2023-07-11T11:00:58.051Z"
   },
   {
    "duration": 365,
    "start_time": "2023-07-11T11:07:05.098Z"
   },
   {
    "duration": 388,
    "start_time": "2023-07-11T11:07:41.410Z"
   },
   {
    "duration": 393,
    "start_time": "2023-07-11T11:07:52.294Z"
   },
   {
    "duration": 3508,
    "start_time": "2023-07-11T11:10:01.192Z"
   },
   {
    "duration": 37,
    "start_time": "2023-07-11T11:10:09.295Z"
   },
   {
    "duration": 12,
    "start_time": "2023-07-11T11:10:09.334Z"
   },
   {
    "duration": 31,
    "start_time": "2023-07-11T11:10:09.349Z"
   },
   {
    "duration": 17,
    "start_time": "2023-07-11T11:10:09.381Z"
   },
   {
    "duration": 530,
    "start_time": "2023-07-11T11:10:09.402Z"
   },
   {
    "duration": 315,
    "start_time": "2023-07-11T11:10:09.934Z"
   },
   {
    "duration": 369,
    "start_time": "2023-07-11T11:10:10.251Z"
   },
   {
    "duration": 247,
    "start_time": "2023-07-11T11:10:10.622Z"
   },
   {
    "duration": 402,
    "start_time": "2023-07-11T11:10:10.871Z"
   },
   {
    "duration": 212,
    "start_time": "2023-07-11T11:10:11.275Z"
   },
   {
    "duration": 147,
    "start_time": "2023-07-11T11:10:11.489Z"
   },
   {
    "duration": 4,
    "start_time": "2023-07-11T11:10:11.638Z"
   },
   {
    "duration": 260,
    "start_time": "2023-07-11T11:10:11.643Z"
   },
   {
    "duration": 162,
    "start_time": "2023-07-11T11:10:11.906Z"
   },
   {
    "duration": 5,
    "start_time": "2023-07-11T11:10:12.070Z"
   },
   {
    "duration": 316,
    "start_time": "2023-07-11T11:10:12.076Z"
   },
   {
    "duration": 168,
    "start_time": "2023-07-11T11:10:21.919Z"
   },
   {
    "duration": 11,
    "start_time": "2023-07-11T11:39:02.514Z"
   },
   {
    "duration": 14,
    "start_time": "2023-07-11T11:41:23.190Z"
   },
   {
    "duration": 10,
    "start_time": "2023-07-11T11:41:32.995Z"
   },
   {
    "duration": 16,
    "start_time": "2023-07-11T11:47:59.590Z"
   },
   {
    "duration": 46,
    "start_time": "2023-07-11T11:48:30.668Z"
   },
   {
    "duration": 19,
    "start_time": "2023-07-11T11:48:30.717Z"
   },
   {
    "duration": 78,
    "start_time": "2023-07-11T11:48:30.738Z"
   },
   {
    "duration": 34,
    "start_time": "2023-07-11T11:48:30.818Z"
   },
   {
    "duration": 601,
    "start_time": "2023-07-11T11:48:30.854Z"
   },
   {
    "duration": 232,
    "start_time": "2023-07-11T11:48:31.456Z"
   },
   {
    "duration": 445,
    "start_time": "2023-07-11T11:48:31.690Z"
   },
   {
    "duration": 272,
    "start_time": "2023-07-11T11:48:32.137Z"
   },
   {
    "duration": 379,
    "start_time": "2023-07-11T11:48:32.412Z"
   },
   {
    "duration": 213,
    "start_time": "2023-07-11T11:48:32.801Z"
   },
   {
    "duration": 153,
    "start_time": "2023-07-11T11:48:33.015Z"
   },
   {
    "duration": 5,
    "start_time": "2023-07-11T11:48:33.170Z"
   },
   {
    "duration": 269,
    "start_time": "2023-07-11T11:48:33.176Z"
   },
   {
    "duration": 162,
    "start_time": "2023-07-11T11:48:33.447Z"
   },
   {
    "duration": 5,
    "start_time": "2023-07-11T11:48:33.610Z"
   },
   {
    "duration": 259,
    "start_time": "2023-07-11T11:48:33.616Z"
   },
   {
    "duration": 226,
    "start_time": "2023-07-11T11:48:33.877Z"
   },
   {
    "duration": 15,
    "start_time": "2023-07-11T11:48:34.105Z"
   },
   {
    "duration": 17,
    "start_time": "2023-07-11T11:48:34.123Z"
   },
   {
    "duration": 0,
    "start_time": "2023-07-11T11:48:34.142Z"
   },
   {
    "duration": 0,
    "start_time": "2023-07-11T11:48:34.143Z"
   },
   {
    "duration": 0,
    "start_time": "2023-07-11T11:48:34.145Z"
   },
   {
    "duration": 20,
    "start_time": "2023-07-11T11:49:53.099Z"
   },
   {
    "duration": 18,
    "start_time": "2023-07-11T11:50:52.359Z"
   },
   {
    "duration": 17,
    "start_time": "2023-07-11T11:51:46.692Z"
   },
   {
    "duration": 41,
    "start_time": "2023-07-11T11:55:27.311Z"
   },
   {
    "duration": 13,
    "start_time": "2023-07-11T11:55:27.354Z"
   },
   {
    "duration": 20,
    "start_time": "2023-07-11T11:55:27.369Z"
   },
   {
    "duration": 13,
    "start_time": "2023-07-11T11:55:27.393Z"
   },
   {
    "duration": 580,
    "start_time": "2023-07-11T11:55:27.408Z"
   },
   {
    "duration": 240,
    "start_time": "2023-07-11T11:55:27.990Z"
   },
   {
    "duration": 324,
    "start_time": "2023-07-11T11:55:28.233Z"
   },
   {
    "duration": 388,
    "start_time": "2023-07-11T11:55:28.558Z"
   },
   {
    "duration": 428,
    "start_time": "2023-07-11T11:55:28.948Z"
   },
   {
    "duration": 234,
    "start_time": "2023-07-11T11:55:29.379Z"
   },
   {
    "duration": 160,
    "start_time": "2023-07-11T11:55:29.615Z"
   },
   {
    "duration": 6,
    "start_time": "2023-07-11T11:55:29.777Z"
   },
   {
    "duration": 284,
    "start_time": "2023-07-11T11:55:29.785Z"
   },
   {
    "duration": 175,
    "start_time": "2023-07-11T11:55:30.071Z"
   },
   {
    "duration": 7,
    "start_time": "2023-07-11T11:55:30.248Z"
   },
   {
    "duration": 285,
    "start_time": "2023-07-11T11:55:30.257Z"
   },
   {
    "duration": 201,
    "start_time": "2023-07-11T11:55:30.544Z"
   },
   {
    "duration": 23,
    "start_time": "2023-07-11T11:55:30.748Z"
   },
   {
    "duration": 17,
    "start_time": "2023-07-11T11:55:39.933Z"
   },
   {
    "duration": 16,
    "start_time": "2023-07-11T11:56:30.150Z"
   },
   {
    "duration": 11,
    "start_time": "2023-07-11T12:06:38.486Z"
   },
   {
    "duration": 13,
    "start_time": "2023-07-11T12:07:07.698Z"
   },
   {
    "duration": 17,
    "start_time": "2023-07-11T12:08:17.799Z"
   },
   {
    "duration": 5,
    "start_time": "2023-07-11T12:08:48.453Z"
   },
   {
    "duration": 19,
    "start_time": "2023-07-11T12:09:22.192Z"
   },
   {
    "duration": 46,
    "start_time": "2023-07-11T12:16:08.496Z"
   },
   {
    "duration": 13,
    "start_time": "2023-07-11T12:16:08.543Z"
   },
   {
    "duration": 26,
    "start_time": "2023-07-11T12:16:08.557Z"
   },
   {
    "duration": 16,
    "start_time": "2023-07-11T12:16:08.585Z"
   },
   {
    "duration": 597,
    "start_time": "2023-07-11T12:16:08.622Z"
   },
   {
    "duration": 227,
    "start_time": "2023-07-11T12:16:09.221Z"
   },
   {
    "duration": 323,
    "start_time": "2023-07-11T12:16:09.450Z"
   },
   {
    "duration": 267,
    "start_time": "2023-07-11T12:16:09.775Z"
   },
   {
    "duration": 484,
    "start_time": "2023-07-11T12:16:10.044Z"
   },
   {
    "duration": 294,
    "start_time": "2023-07-11T12:16:10.530Z"
   },
   {
    "duration": 154,
    "start_time": "2023-07-11T12:16:10.825Z"
   },
   {
    "duration": 5,
    "start_time": "2023-07-11T12:16:10.981Z"
   },
   {
    "duration": 291,
    "start_time": "2023-07-11T12:16:11.003Z"
   },
   {
    "duration": 169,
    "start_time": "2023-07-11T12:16:11.301Z"
   },
   {
    "duration": 4,
    "start_time": "2023-07-11T12:16:11.472Z"
   },
   {
    "duration": 272,
    "start_time": "2023-07-11T12:16:11.479Z"
   },
   {
    "duration": 203,
    "start_time": "2023-07-11T12:16:11.753Z"
   },
   {
    "duration": 16,
    "start_time": "2023-07-11T12:16:11.959Z"
   },
   {
    "duration": 50,
    "start_time": "2023-07-11T12:16:11.977Z"
   },
   {
    "duration": 54,
    "start_time": "2023-07-11T12:16:12.029Z"
   },
   {
    "duration": 18,
    "start_time": "2023-07-11T12:16:12.085Z"
   },
   {
    "duration": 15,
    "start_time": "2023-07-11T12:16:12.111Z"
   },
   {
    "duration": 114,
    "start_time": "2023-07-11T12:19:55.336Z"
   },
   {
    "duration": 806,
    "start_time": "2023-07-11T12:20:07.203Z"
   },
   {
    "duration": 54,
    "start_time": "2023-07-11T12:26:00.300Z"
   },
   {
    "duration": 17,
    "start_time": "2023-07-11T12:26:00.357Z"
   },
   {
    "duration": 63,
    "start_time": "2023-07-11T12:26:00.376Z"
   },
   {
    "duration": 37,
    "start_time": "2023-07-11T12:26:00.443Z"
   },
   {
    "duration": 732,
    "start_time": "2023-07-11T12:26:00.482Z"
   },
   {
    "duration": 260,
    "start_time": "2023-07-11T12:26:01.216Z"
   },
   {
    "duration": 381,
    "start_time": "2023-07-11T12:26:01.478Z"
   },
   {
    "duration": 275,
    "start_time": "2023-07-11T12:26:01.861Z"
   },
   {
    "duration": 411,
    "start_time": "2023-07-11T12:26:02.139Z"
   },
   {
    "duration": 330,
    "start_time": "2023-07-11T12:26:02.553Z"
   },
   {
    "duration": 159,
    "start_time": "2023-07-11T12:26:02.885Z"
   },
   {
    "duration": 5,
    "start_time": "2023-07-11T12:26:03.046Z"
   },
   {
    "duration": 279,
    "start_time": "2023-07-11T12:26:03.052Z"
   },
   {
    "duration": 193,
    "start_time": "2023-07-11T12:26:03.333Z"
   },
   {
    "duration": 6,
    "start_time": "2023-07-11T12:26:03.528Z"
   },
   {
    "duration": 271,
    "start_time": "2023-07-11T12:26:03.536Z"
   },
   {
    "duration": 245,
    "start_time": "2023-07-11T12:26:03.811Z"
   },
   {
    "duration": 16,
    "start_time": "2023-07-11T12:26:04.058Z"
   },
   {
    "duration": 31,
    "start_time": "2023-07-11T12:26:04.076Z"
   },
   {
    "duration": 70,
    "start_time": "2023-07-11T12:26:04.108Z"
   },
   {
    "duration": 17,
    "start_time": "2023-07-11T12:26:04.180Z"
   },
   {
    "duration": 28,
    "start_time": "2023-07-11T12:26:04.198Z"
   },
   {
    "duration": 50,
    "start_time": "2023-07-11T12:27:23.912Z"
   },
   {
    "duration": 15,
    "start_time": "2023-07-11T12:27:23.964Z"
   },
   {
    "duration": 63,
    "start_time": "2023-07-11T12:27:23.982Z"
   },
   {
    "duration": 21,
    "start_time": "2023-07-11T12:27:24.047Z"
   },
   {
    "duration": 579,
    "start_time": "2023-07-11T12:27:24.070Z"
   },
   {
    "duration": 232,
    "start_time": "2023-07-11T12:27:24.651Z"
   },
   {
    "duration": 397,
    "start_time": "2023-07-11T12:27:24.885Z"
   },
   {
    "duration": 269,
    "start_time": "2023-07-11T12:27:25.284Z"
   },
   {
    "duration": 437,
    "start_time": "2023-07-11T12:27:25.555Z"
   },
   {
    "duration": 266,
    "start_time": "2023-07-11T12:27:26.003Z"
   },
   {
    "duration": 256,
    "start_time": "2023-07-11T12:27:26.271Z"
   },
   {
    "duration": 5,
    "start_time": "2023-07-11T12:27:26.529Z"
   },
   {
    "duration": 284,
    "start_time": "2023-07-11T12:27:26.536Z"
   },
   {
    "duration": 164,
    "start_time": "2023-07-11T12:27:26.822Z"
   },
   {
    "duration": 24,
    "start_time": "2023-07-11T12:27:26.988Z"
   },
   {
    "duration": 235,
    "start_time": "2023-07-11T12:27:27.016Z"
   },
   {
    "duration": 209,
    "start_time": "2023-07-11T12:27:27.253Z"
   },
   {
    "duration": 18,
    "start_time": "2023-07-11T12:27:27.465Z"
   },
   {
    "duration": 32,
    "start_time": "2023-07-11T12:27:27.485Z"
   },
   {
    "duration": 90,
    "start_time": "2023-07-11T12:27:27.519Z"
   },
   {
    "duration": 19,
    "start_time": "2023-07-11T12:27:27.621Z"
   },
   {
    "duration": 24,
    "start_time": "2023-07-11T12:27:27.642Z"
   },
   {
    "duration": 39,
    "start_time": "2023-07-11T12:34:22.520Z"
   },
   {
    "duration": 14,
    "start_time": "2023-07-11T12:34:22.562Z"
   },
   {
    "duration": 53,
    "start_time": "2023-07-11T12:34:22.578Z"
   },
   {
    "duration": 33,
    "start_time": "2023-07-11T12:34:22.633Z"
   },
   {
    "duration": 618,
    "start_time": "2023-07-11T12:34:22.669Z"
   },
   {
    "duration": 248,
    "start_time": "2023-07-11T12:34:23.289Z"
   },
   {
    "duration": 329,
    "start_time": "2023-07-11T12:34:23.539Z"
   },
   {
    "duration": 274,
    "start_time": "2023-07-11T12:34:23.870Z"
   },
   {
    "duration": 372,
    "start_time": "2023-07-11T12:34:24.146Z"
   },
   {
    "duration": 218,
    "start_time": "2023-07-11T12:34:24.520Z"
   },
   {
    "duration": 149,
    "start_time": "2023-07-11T12:34:24.740Z"
   },
   {
    "duration": 25,
    "start_time": "2023-07-11T12:34:24.891Z"
   },
   {
    "duration": 379,
    "start_time": "2023-07-11T12:34:24.919Z"
   },
   {
    "duration": 169,
    "start_time": "2023-07-11T12:34:25.301Z"
   },
   {
    "duration": 5,
    "start_time": "2023-07-11T12:34:25.472Z"
   },
   {
    "duration": 258,
    "start_time": "2023-07-11T12:34:25.479Z"
   },
   {
    "duration": 189,
    "start_time": "2023-07-11T12:34:25.738Z"
   },
   {
    "duration": 16,
    "start_time": "2023-07-11T12:34:25.929Z"
   },
   {
    "duration": 21,
    "start_time": "2023-07-11T12:34:25.948Z"
   },
   {
    "duration": 70,
    "start_time": "2023-07-11T12:34:25.971Z"
   },
   {
    "duration": 17,
    "start_time": "2023-07-11T12:34:26.043Z"
   },
   {
    "duration": 15,
    "start_time": "2023-07-11T12:34:26.062Z"
   }
  ],
  "kernelspec": {
   "display_name": "Python 3 (ipykernel)",
   "language": "python",
   "name": "python3"
  },
  "language_info": {
   "codemirror_mode": {
    "name": "ipython",
    "version": 3
   },
   "file_extension": ".py",
   "mimetype": "text/x-python",
   "name": "python",
   "nbconvert_exporter": "python",
   "pygments_lexer": "ipython3",
   "version": "3.9.13"
  },
  "toc": {
   "base_numbering": 1,
   "nav_menu": {},
   "number_sections": true,
   "sideBar": true,
   "skip_h1_title": true,
   "title_cell": "Table of Contents",
   "title_sidebar": "Contents",
   "toc_cell": false,
   "toc_position": {},
   "toc_section_display": true,
   "toc_window_display": false
  }
 },
 "nbformat": 4,
 "nbformat_minor": 2
}
