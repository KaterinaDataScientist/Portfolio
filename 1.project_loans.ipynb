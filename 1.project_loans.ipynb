{
 "cells": [
  {
   "cell_type": "markdown",
   "id": "6e17b3d1",
   "metadata": {},
   "source": [
    "<div style=\"border:solid steelblue 3px; padding: 20px; border-radius: 10px\">\n",
    "\n",
    "**Привет, Катерина!** 👋\n",
    "\n",
    "Меня зовут Алексей Манелюк, я буду проверять твой проект. В Яндекс Практикуме принято общаться на \"ты\" 😉, но если некомфортно - скажи и перейдем на \"Вы\".\n",
    "\n",
    "Моя цель - не указать на ошибки, а поделиться опытом и помочь в освоении анализа данных.\n",
    "\n",
    "В тетрадке ты увидишь мои комментарии, пожалуйста, не удаляй, не перемещай и не изменяй их. У комментариев могут быть приписки **V2**, **V3**, **V...**, которые соответствуют каждой версии проверки. \n",
    "    \n",
    "Я буду использовать цветовую разметку:\n",
    "<p>\n",
    "<div class=\"alert-danger\" style=\"padding: 20px; border-radius: 10px\">\n",
    "<b>Комментарий ревьюера ❌</b>\n",
    "\n",
    "Так выделены критические замечания. Без их отработки я не смогу принять проект. </div>\n",
    "\n",
    "<div class=\"alert-warning\" style=\"padding: 20px; border-radius: 10px\">\n",
    "<b>  Комментарий ревьюера ⚠️</b>\n",
    "\n",
    "Так выделены небольшие замечания или полезные советы. Постарайся учесть их.</div>\n",
    "<p>\n",
    "<div class=\"alert-success\" style=\"padding: 20px; border-radius: 10px\">\n",
    "<b>Комментарий ревьюера ✔️</b>\n",
    "\n",
    "Так выделены правильные решения.</div>\n",
    "\n",
    "Предлагаю работать в диалоге: если что-то дорабатываешь или отвечаешь на мой комментарий - пиши об этом. Мне будет удобней, если ты выделишь свои комментарии:\n",
    "<p>\n",
    "<div class=\"alert-info\" style=\"padding: 20px; border-radius: 10px\">\n",
    "<b>Комментарий студента 💎</b>\n",
    "\n",
    "Здесь исправил.</div>\n",
    "\n",
    "Все это поможет мне быстрее принять твой проект.</div>"
   ]
  },
  {
   "cell_type": "markdown",
   "id": "e228aa3c",
   "metadata": {},
   "source": [
    "<div class=\"alert-info\" style=\"padding: 20px; border-radius: 10px\">\n",
    "<b>Комментарий студента 💎</b>\n",
    "\n",
    "Написать свой комментарий можно, скопировав этот блок в ячейку Markdown.</div>"
   ]
  },
  {
   "cell_type": "markdown",
   "id": "386f2ae7",
   "metadata": {
    "deletable": false,
    "editable": false,
    "id": "386f2ae7"
   },
   "source": [
    "# Исследование надежности заемщиков\n"
   ]
  },
  {
   "cell_type": "markdown",
   "id": "ffe86f65",
   "metadata": {
    "deletable": false,
    "editable": false,
    "id": "ffe86f65"
   },
   "source": [
    "Во второй части проекта вы выполните шаги 3 и 4. Их вручную проверит ревьюер.\n",
    "Чтобы вам не пришлось писать код заново для шагов 1 и 2, мы добавили авторские решения в ячейки с кодом. \n",
    "\n"
   ]
  },
  {
   "cell_type": "markdown",
   "id": "82c9b675",
   "metadata": {},
   "source": [
    "<div class=\"alert-warning\" style=\"padding: 20px; border-radius: 10px\">\n",
    "<b>Комментарий ревьюера ⚠️</b>\n",
    "\n",
    "Несмотря на то, что первая часть проекта проверяется автоматизрованно, дам по ней пару советов - они пригодятся тебе в следующих проектах. \n",
    "\n",
    "**Их отработка сейчас необязательна**.\n",
    "\n",
    "📌 После названия, обязательно нужно добавлять бриф, цели исследования, описание данных и план работы.</div>"
   ]
  },
  {
   "cell_type": "markdown",
   "id": "26613308",
   "metadata": {
    "deletable": false,
    "editable": false,
    "id": "26613308"
   },
   "source": [
    "## Откройте таблицу и изучите общую информацию о данных"
   ]
  },
  {
   "cell_type": "markdown",
   "id": "3c9f838e",
   "metadata": {
    "deletable": false,
    "editable": false,
    "id": "3c9f838e"
   },
   "source": [
    "**Задание 1. Импортируйте библиотеку pandas. Считайте данные из csv-файла в датафрейм и сохраните в переменную `data`. Путь к файлу:**\n",
    "\n",
    "`/datasets/data.csv`"
   ]
  },
  {
   "cell_type": "code",
   "execution_count": 1,
   "id": "77a68a90",
   "metadata": {
    "deletable": false,
    "id": "77a68a90"
   },
   "outputs": [],
   "source": [
    "import pandas as pd\n",
    "\n",
    "try:\n",
    "    data = pd.read_csv('/datasets/data.csv')\n",
    "except:\n",
    "    data = pd.read_csv('https://code.s3.yandex.net/datasets/data.csv')"
   ]
  },
  {
   "cell_type": "markdown",
   "id": "45365635",
   "metadata": {
    "deletable": false,
    "editable": false,
    "id": "45365635"
   },
   "source": [
    "**Задание 2. Выведите первые 20 строчек датафрейма `data` на экран.**"
   ]
  },
  {
   "cell_type": "code",
   "execution_count": 2,
   "id": "b0451a9a",
   "metadata": {
    "deletable": false,
    "id": "b0451a9a",
    "outputId": "1a8f3ef2-d323-4ec2-ddf7-89670b5944c4"
   },
   "outputs": [
    {
     "data": {
      "text/html": [
       "<div>\n",
       "<style scoped>\n",
       "    .dataframe tbody tr th:only-of-type {\n",
       "        vertical-align: middle;\n",
       "    }\n",
       "\n",
       "    .dataframe tbody tr th {\n",
       "        vertical-align: top;\n",
       "    }\n",
       "\n",
       "    .dataframe thead th {\n",
       "        text-align: right;\n",
       "    }\n",
       "</style>\n",
       "<table border=\"1\" class=\"dataframe\">\n",
       "  <thead>\n",
       "    <tr style=\"text-align: right;\">\n",
       "      <th></th>\n",
       "      <th>children</th>\n",
       "      <th>days_employed</th>\n",
       "      <th>dob_years</th>\n",
       "      <th>education</th>\n",
       "      <th>education_id</th>\n",
       "      <th>family_status</th>\n",
       "      <th>family_status_id</th>\n",
       "      <th>gender</th>\n",
       "      <th>income_type</th>\n",
       "      <th>debt</th>\n",
       "      <th>total_income</th>\n",
       "      <th>purpose</th>\n",
       "    </tr>\n",
       "  </thead>\n",
       "  <tbody>\n",
       "    <tr>\n",
       "      <th>0</th>\n",
       "      <td>1</td>\n",
       "      <td>-8437.673028</td>\n",
       "      <td>42</td>\n",
       "      <td>высшее</td>\n",
       "      <td>0</td>\n",
       "      <td>женат / замужем</td>\n",
       "      <td>0</td>\n",
       "      <td>F</td>\n",
       "      <td>сотрудник</td>\n",
       "      <td>0</td>\n",
       "      <td>253875.639453</td>\n",
       "      <td>покупка жилья</td>\n",
       "    </tr>\n",
       "    <tr>\n",
       "      <th>1</th>\n",
       "      <td>1</td>\n",
       "      <td>-4024.803754</td>\n",
       "      <td>36</td>\n",
       "      <td>среднее</td>\n",
       "      <td>1</td>\n",
       "      <td>женат / замужем</td>\n",
       "      <td>0</td>\n",
       "      <td>F</td>\n",
       "      <td>сотрудник</td>\n",
       "      <td>0</td>\n",
       "      <td>112080.014102</td>\n",
       "      <td>приобретение автомобиля</td>\n",
       "    </tr>\n",
       "    <tr>\n",
       "      <th>2</th>\n",
       "      <td>0</td>\n",
       "      <td>-5623.422610</td>\n",
       "      <td>33</td>\n",
       "      <td>Среднее</td>\n",
       "      <td>1</td>\n",
       "      <td>женат / замужем</td>\n",
       "      <td>0</td>\n",
       "      <td>M</td>\n",
       "      <td>сотрудник</td>\n",
       "      <td>0</td>\n",
       "      <td>145885.952297</td>\n",
       "      <td>покупка жилья</td>\n",
       "    </tr>\n",
       "    <tr>\n",
       "      <th>3</th>\n",
       "      <td>3</td>\n",
       "      <td>-4124.747207</td>\n",
       "      <td>32</td>\n",
       "      <td>среднее</td>\n",
       "      <td>1</td>\n",
       "      <td>женат / замужем</td>\n",
       "      <td>0</td>\n",
       "      <td>M</td>\n",
       "      <td>сотрудник</td>\n",
       "      <td>0</td>\n",
       "      <td>267628.550329</td>\n",
       "      <td>дополнительное образование</td>\n",
       "    </tr>\n",
       "    <tr>\n",
       "      <th>4</th>\n",
       "      <td>0</td>\n",
       "      <td>340266.072047</td>\n",
       "      <td>53</td>\n",
       "      <td>среднее</td>\n",
       "      <td>1</td>\n",
       "      <td>гражданский брак</td>\n",
       "      <td>1</td>\n",
       "      <td>F</td>\n",
       "      <td>пенсионер</td>\n",
       "      <td>0</td>\n",
       "      <td>158616.077870</td>\n",
       "      <td>сыграть свадьбу</td>\n",
       "    </tr>\n",
       "    <tr>\n",
       "      <th>5</th>\n",
       "      <td>0</td>\n",
       "      <td>-926.185831</td>\n",
       "      <td>27</td>\n",
       "      <td>высшее</td>\n",
       "      <td>0</td>\n",
       "      <td>гражданский брак</td>\n",
       "      <td>1</td>\n",
       "      <td>M</td>\n",
       "      <td>компаньон</td>\n",
       "      <td>0</td>\n",
       "      <td>255763.565419</td>\n",
       "      <td>покупка жилья</td>\n",
       "    </tr>\n",
       "    <tr>\n",
       "      <th>6</th>\n",
       "      <td>0</td>\n",
       "      <td>-2879.202052</td>\n",
       "      <td>43</td>\n",
       "      <td>высшее</td>\n",
       "      <td>0</td>\n",
       "      <td>женат / замужем</td>\n",
       "      <td>0</td>\n",
       "      <td>F</td>\n",
       "      <td>компаньон</td>\n",
       "      <td>0</td>\n",
       "      <td>240525.971920</td>\n",
       "      <td>операции с жильем</td>\n",
       "    </tr>\n",
       "    <tr>\n",
       "      <th>7</th>\n",
       "      <td>0</td>\n",
       "      <td>-152.779569</td>\n",
       "      <td>50</td>\n",
       "      <td>СРЕДНЕЕ</td>\n",
       "      <td>1</td>\n",
       "      <td>женат / замужем</td>\n",
       "      <td>0</td>\n",
       "      <td>M</td>\n",
       "      <td>сотрудник</td>\n",
       "      <td>0</td>\n",
       "      <td>135823.934197</td>\n",
       "      <td>образование</td>\n",
       "    </tr>\n",
       "    <tr>\n",
       "      <th>8</th>\n",
       "      <td>2</td>\n",
       "      <td>-6929.865299</td>\n",
       "      <td>35</td>\n",
       "      <td>ВЫСШЕЕ</td>\n",
       "      <td>0</td>\n",
       "      <td>гражданский брак</td>\n",
       "      <td>1</td>\n",
       "      <td>F</td>\n",
       "      <td>сотрудник</td>\n",
       "      <td>0</td>\n",
       "      <td>95856.832424</td>\n",
       "      <td>на проведение свадьбы</td>\n",
       "    </tr>\n",
       "    <tr>\n",
       "      <th>9</th>\n",
       "      <td>0</td>\n",
       "      <td>-2188.756445</td>\n",
       "      <td>41</td>\n",
       "      <td>среднее</td>\n",
       "      <td>1</td>\n",
       "      <td>женат / замужем</td>\n",
       "      <td>0</td>\n",
       "      <td>M</td>\n",
       "      <td>сотрудник</td>\n",
       "      <td>0</td>\n",
       "      <td>144425.938277</td>\n",
       "      <td>покупка жилья для семьи</td>\n",
       "    </tr>\n",
       "    <tr>\n",
       "      <th>10</th>\n",
       "      <td>2</td>\n",
       "      <td>-4171.483647</td>\n",
       "      <td>36</td>\n",
       "      <td>высшее</td>\n",
       "      <td>0</td>\n",
       "      <td>женат / замужем</td>\n",
       "      <td>0</td>\n",
       "      <td>M</td>\n",
       "      <td>компаньон</td>\n",
       "      <td>0</td>\n",
       "      <td>113943.491460</td>\n",
       "      <td>покупка недвижимости</td>\n",
       "    </tr>\n",
       "    <tr>\n",
       "      <th>11</th>\n",
       "      <td>0</td>\n",
       "      <td>-792.701887</td>\n",
       "      <td>40</td>\n",
       "      <td>среднее</td>\n",
       "      <td>1</td>\n",
       "      <td>женат / замужем</td>\n",
       "      <td>0</td>\n",
       "      <td>F</td>\n",
       "      <td>сотрудник</td>\n",
       "      <td>0</td>\n",
       "      <td>77069.234271</td>\n",
       "      <td>покупка коммерческой недвижимости</td>\n",
       "    </tr>\n",
       "    <tr>\n",
       "      <th>12</th>\n",
       "      <td>0</td>\n",
       "      <td>NaN</td>\n",
       "      <td>65</td>\n",
       "      <td>среднее</td>\n",
       "      <td>1</td>\n",
       "      <td>гражданский брак</td>\n",
       "      <td>1</td>\n",
       "      <td>M</td>\n",
       "      <td>пенсионер</td>\n",
       "      <td>0</td>\n",
       "      <td>NaN</td>\n",
       "      <td>сыграть свадьбу</td>\n",
       "    </tr>\n",
       "    <tr>\n",
       "      <th>13</th>\n",
       "      <td>0</td>\n",
       "      <td>-1846.641941</td>\n",
       "      <td>54</td>\n",
       "      <td>неоконченное высшее</td>\n",
       "      <td>2</td>\n",
       "      <td>женат / замужем</td>\n",
       "      <td>0</td>\n",
       "      <td>F</td>\n",
       "      <td>сотрудник</td>\n",
       "      <td>0</td>\n",
       "      <td>130458.228857</td>\n",
       "      <td>приобретение автомобиля</td>\n",
       "    </tr>\n",
       "    <tr>\n",
       "      <th>14</th>\n",
       "      <td>0</td>\n",
       "      <td>-1844.956182</td>\n",
       "      <td>56</td>\n",
       "      <td>высшее</td>\n",
       "      <td>0</td>\n",
       "      <td>гражданский брак</td>\n",
       "      <td>1</td>\n",
       "      <td>F</td>\n",
       "      <td>компаньон</td>\n",
       "      <td>1</td>\n",
       "      <td>165127.911772</td>\n",
       "      <td>покупка жилой недвижимости</td>\n",
       "    </tr>\n",
       "    <tr>\n",
       "      <th>15</th>\n",
       "      <td>1</td>\n",
       "      <td>-972.364419</td>\n",
       "      <td>26</td>\n",
       "      <td>среднее</td>\n",
       "      <td>1</td>\n",
       "      <td>женат / замужем</td>\n",
       "      <td>0</td>\n",
       "      <td>F</td>\n",
       "      <td>сотрудник</td>\n",
       "      <td>0</td>\n",
       "      <td>116820.904450</td>\n",
       "      <td>строительство собственной недвижимости</td>\n",
       "    </tr>\n",
       "    <tr>\n",
       "      <th>16</th>\n",
       "      <td>0</td>\n",
       "      <td>-1719.934226</td>\n",
       "      <td>35</td>\n",
       "      <td>среднее</td>\n",
       "      <td>1</td>\n",
       "      <td>женат / замужем</td>\n",
       "      <td>0</td>\n",
       "      <td>F</td>\n",
       "      <td>сотрудник</td>\n",
       "      <td>0</td>\n",
       "      <td>289202.704229</td>\n",
       "      <td>недвижимость</td>\n",
       "    </tr>\n",
       "    <tr>\n",
       "      <th>17</th>\n",
       "      <td>0</td>\n",
       "      <td>-2369.999720</td>\n",
       "      <td>33</td>\n",
       "      <td>высшее</td>\n",
       "      <td>0</td>\n",
       "      <td>гражданский брак</td>\n",
       "      <td>1</td>\n",
       "      <td>M</td>\n",
       "      <td>сотрудник</td>\n",
       "      <td>0</td>\n",
       "      <td>90410.586745</td>\n",
       "      <td>строительство недвижимости</td>\n",
       "    </tr>\n",
       "    <tr>\n",
       "      <th>18</th>\n",
       "      <td>0</td>\n",
       "      <td>400281.136913</td>\n",
       "      <td>53</td>\n",
       "      <td>среднее</td>\n",
       "      <td>1</td>\n",
       "      <td>вдовец / вдова</td>\n",
       "      <td>2</td>\n",
       "      <td>F</td>\n",
       "      <td>пенсионер</td>\n",
       "      <td>0</td>\n",
       "      <td>56823.777243</td>\n",
       "      <td>на покупку подержанного автомобиля</td>\n",
       "    </tr>\n",
       "    <tr>\n",
       "      <th>19</th>\n",
       "      <td>0</td>\n",
       "      <td>-10038.818549</td>\n",
       "      <td>48</td>\n",
       "      <td>СРЕДНЕЕ</td>\n",
       "      <td>1</td>\n",
       "      <td>в разводе</td>\n",
       "      <td>3</td>\n",
       "      <td>F</td>\n",
       "      <td>сотрудник</td>\n",
       "      <td>0</td>\n",
       "      <td>242831.107982</td>\n",
       "      <td>на покупку своего автомобиля</td>\n",
       "    </tr>\n",
       "  </tbody>\n",
       "</table>\n",
       "</div>"
      ],
      "text/plain": [
       "    children  days_employed  dob_years            education  education_id  \\\n",
       "0          1   -8437.673028         42               высшее             0   \n",
       "1          1   -4024.803754         36              среднее             1   \n",
       "2          0   -5623.422610         33              Среднее             1   \n",
       "3          3   -4124.747207         32              среднее             1   \n",
       "4          0  340266.072047         53              среднее             1   \n",
       "5          0    -926.185831         27               высшее             0   \n",
       "6          0   -2879.202052         43               высшее             0   \n",
       "7          0    -152.779569         50              СРЕДНЕЕ             1   \n",
       "8          2   -6929.865299         35               ВЫСШЕЕ             0   \n",
       "9          0   -2188.756445         41              среднее             1   \n",
       "10         2   -4171.483647         36               высшее             0   \n",
       "11         0    -792.701887         40              среднее             1   \n",
       "12         0            NaN         65              среднее             1   \n",
       "13         0   -1846.641941         54  неоконченное высшее             2   \n",
       "14         0   -1844.956182         56               высшее             0   \n",
       "15         1    -972.364419         26              среднее             1   \n",
       "16         0   -1719.934226         35              среднее             1   \n",
       "17         0   -2369.999720         33               высшее             0   \n",
       "18         0  400281.136913         53              среднее             1   \n",
       "19         0  -10038.818549         48              СРЕДНЕЕ             1   \n",
       "\n",
       "       family_status  family_status_id gender income_type  debt  \\\n",
       "0    женат / замужем                 0      F   сотрудник     0   \n",
       "1    женат / замужем                 0      F   сотрудник     0   \n",
       "2    женат / замужем                 0      M   сотрудник     0   \n",
       "3    женат / замужем                 0      M   сотрудник     0   \n",
       "4   гражданский брак                 1      F   пенсионер     0   \n",
       "5   гражданский брак                 1      M   компаньон     0   \n",
       "6    женат / замужем                 0      F   компаньон     0   \n",
       "7    женат / замужем                 0      M   сотрудник     0   \n",
       "8   гражданский брак                 1      F   сотрудник     0   \n",
       "9    женат / замужем                 0      M   сотрудник     0   \n",
       "10   женат / замужем                 0      M   компаньон     0   \n",
       "11   женат / замужем                 0      F   сотрудник     0   \n",
       "12  гражданский брак                 1      M   пенсионер     0   \n",
       "13   женат / замужем                 0      F   сотрудник     0   \n",
       "14  гражданский брак                 1      F   компаньон     1   \n",
       "15   женат / замужем                 0      F   сотрудник     0   \n",
       "16   женат / замужем                 0      F   сотрудник     0   \n",
       "17  гражданский брак                 1      M   сотрудник     0   \n",
       "18    вдовец / вдова                 2      F   пенсионер     0   \n",
       "19         в разводе                 3      F   сотрудник     0   \n",
       "\n",
       "     total_income                                 purpose  \n",
       "0   253875.639453                           покупка жилья  \n",
       "1   112080.014102                 приобретение автомобиля  \n",
       "2   145885.952297                           покупка жилья  \n",
       "3   267628.550329              дополнительное образование  \n",
       "4   158616.077870                         сыграть свадьбу  \n",
       "5   255763.565419                           покупка жилья  \n",
       "6   240525.971920                       операции с жильем  \n",
       "7   135823.934197                             образование  \n",
       "8    95856.832424                   на проведение свадьбы  \n",
       "9   144425.938277                 покупка жилья для семьи  \n",
       "10  113943.491460                    покупка недвижимости  \n",
       "11   77069.234271       покупка коммерческой недвижимости  \n",
       "12            NaN                         сыграть свадьбу  \n",
       "13  130458.228857                 приобретение автомобиля  \n",
       "14  165127.911772              покупка жилой недвижимости  \n",
       "15  116820.904450  строительство собственной недвижимости  \n",
       "16  289202.704229                            недвижимость  \n",
       "17   90410.586745              строительство недвижимости  \n",
       "18   56823.777243      на покупку подержанного автомобиля  \n",
       "19  242831.107982            на покупку своего автомобиля  "
      ]
     },
     "execution_count": 2,
     "metadata": {},
     "output_type": "execute_result"
    }
   ],
   "source": [
    "data.head(20)"
   ]
  },
  {
   "cell_type": "markdown",
   "id": "0ed8f27f",
   "metadata": {
    "deletable": false,
    "editable": false,
    "id": "0ed8f27f"
   },
   "source": [
    "**Задание 3. Выведите основную информацию о датафрейме с помощью метода `info()`.**"
   ]
  },
  {
   "cell_type": "code",
   "execution_count": 3,
   "id": "ab3f863b",
   "metadata": {
    "deletable": false,
    "id": "ab3f863b",
    "outputId": "15376089-8dad-46c9-b520-c05248d43158"
   },
   "outputs": [
    {
     "name": "stdout",
     "output_type": "stream",
     "text": [
      "<class 'pandas.core.frame.DataFrame'>\n",
      "RangeIndex: 21525 entries, 0 to 21524\n",
      "Data columns (total 12 columns):\n",
      " #   Column            Non-Null Count  Dtype  \n",
      "---  ------            --------------  -----  \n",
      " 0   children          21525 non-null  int64  \n",
      " 1   days_employed     19351 non-null  float64\n",
      " 2   dob_years         21525 non-null  int64  \n",
      " 3   education         21525 non-null  object \n",
      " 4   education_id      21525 non-null  int64  \n",
      " 5   family_status     21525 non-null  object \n",
      " 6   family_status_id  21525 non-null  int64  \n",
      " 7   gender            21525 non-null  object \n",
      " 8   income_type       21525 non-null  object \n",
      " 9   debt              21525 non-null  int64  \n",
      " 10  total_income      19351 non-null  float64\n",
      " 11  purpose           21525 non-null  object \n",
      "dtypes: float64(2), int64(5), object(5)\n",
      "memory usage: 2.0+ MB\n"
     ]
    }
   ],
   "source": [
    "data.info()"
   ]
  },
  {
   "cell_type": "markdown",
   "id": "0ca3666b",
   "metadata": {},
   "source": [
    "<div class=\"alert-warning\" style=\"padding: 20px; border-radius: 10px\">\n",
    "<b>Комментарий ревьюера ⚠️</b>\n",
    "\n",
    "📌 Каждый раздел работы стоит завершать кратким выводом, о том что было сделано и какие результаты получены.\n",
    "\n",
    "Как правильно оформить проект ты можешь прочитать в материалах курса:\n",
    "\n",
    "`Полезные инструкции для учёбы - Оформление проекта - Рекомендации по выполнению проектов`\n",
    "</div>"
   ]
  },
  {
   "cell_type": "markdown",
   "id": "60e3e22d",
   "metadata": {
    "deletable": false,
    "editable": false,
    "id": "60e3e22d"
   },
   "source": [
    "## Предобработка данных"
   ]
  },
  {
   "cell_type": "markdown",
   "id": "03dc170c",
   "metadata": {
    "deletable": false,
    "editable": false,
    "id": "03dc170c"
   },
   "source": [
    "### Удаление пропусков"
   ]
  },
  {
   "cell_type": "markdown",
   "id": "a4f54eef",
   "metadata": {
    "deletable": false,
    "editable": false,
    "id": "a4f54eef"
   },
   "source": [
    "**Задание 4. Выведите количество пропущенных значений для каждого столбца. Используйте комбинацию двух методов.**"
   ]
  },
  {
   "cell_type": "code",
   "execution_count": 4,
   "id": "2dc372b2",
   "metadata": {
    "deletable": false,
    "id": "2dc372b2",
    "outputId": "81f4d817-781c-465c-ed15-91ce4446810d"
   },
   "outputs": [
    {
     "data": {
      "text/plain": [
       "children               0\n",
       "days_employed       2174\n",
       "dob_years              0\n",
       "education              0\n",
       "education_id           0\n",
       "family_status          0\n",
       "family_status_id       0\n",
       "gender                 0\n",
       "income_type            0\n",
       "debt                   0\n",
       "total_income        2174\n",
       "purpose                0\n",
       "dtype: int64"
      ]
     },
     "execution_count": 4,
     "metadata": {},
     "output_type": "execute_result"
    }
   ],
   "source": [
    "data.isna().sum()"
   ]
  },
  {
   "cell_type": "markdown",
   "id": "14f011b1",
   "metadata": {
    "deletable": false,
    "editable": false,
    "id": "14f011b1"
   },
   "source": [
    "**Задание 5. В двух столбцах есть пропущенные значения. Один из них — `days_employed`. Пропуски в этом столбце вы обработаете на следующем этапе. Другой столбец с пропущенными значениями — `total_income` — хранит данные о доходах. На сумму дохода сильнее всего влияет тип занятости, поэтому заполнить пропуски в этом столбце нужно медианным значением по каждому типу из столбца `income_type`. Например, у человека с типом занятости `сотрудник` пропуск в столбце `total_income` должен быть заполнен медианным доходом среди всех записей с тем же типом.**"
   ]
  },
  {
   "cell_type": "code",
   "execution_count": 5,
   "id": "bdabfb6e",
   "metadata": {
    "deletable": false,
    "id": "bdabfb6e"
   },
   "outputs": [],
   "source": [
    "for t in data['income_type'].unique():\n",
    "    data.loc[(data['income_type'] == t) & (data['total_income'].isna()), 'total_income'] = \\\n",
    "    data.loc[(data['income_type'] == t), 'total_income'].median()"
   ]
  },
  {
   "cell_type": "markdown",
   "id": "5be34059",
   "metadata": {
    "deletable": false,
    "editable": false,
    "id": "5be34059"
   },
   "source": [
    "### Обработка аномальных значений"
   ]
  },
  {
   "cell_type": "markdown",
   "id": "a87606cb",
   "metadata": {
    "deletable": false,
    "editable": false,
    "id": "a87606cb"
   },
   "source": [
    "**Задание 6. В данных могут встречаться артефакты (аномалии) — значения, которые не отражают действительность и появились по какой-то ошибке. таким артефактом будет отрицательное количество дней трудового стажа в столбце `days_employed`. Для реальных данных это нормально. Обработайте значения в этом столбце: замените все отрицательные значения положительными с помощью метода `abs()`.**"
   ]
  },
  {
   "cell_type": "code",
   "execution_count": 6,
   "id": "020c46cc",
   "metadata": {
    "deletable": false,
    "id": "020c46cc"
   },
   "outputs": [],
   "source": [
    "data['days_employed'] = data['days_employed'].abs()"
   ]
  },
  {
   "cell_type": "markdown",
   "id": "45538a3a",
   "metadata": {
    "deletable": false,
    "editable": false,
    "id": "45538a3a"
   },
   "source": [
    "**Задание 7. Для каждого типа занятости выведите медианное значение трудового стажа `days_employed` в днях.**"
   ]
  },
  {
   "cell_type": "code",
   "execution_count": 7,
   "id": "cd3e6328",
   "metadata": {
    "deletable": false,
    "id": "cd3e6328",
    "outputId": "801ef80e-522b-4668-f34e-565af7432bcf"
   },
   "outputs": [
    {
     "data": {
      "text/plain": [
       "income_type\n",
       "безработный        366413.652744\n",
       "в декрете            3296.759962\n",
       "госслужащий          2689.368353\n",
       "компаньон            1547.382223\n",
       "пенсионер          365213.306266\n",
       "предприниматель       520.848083\n",
       "сотрудник            1574.202821\n",
       "студент               578.751554\n",
       "Name: days_employed, dtype: float64"
      ]
     },
     "execution_count": 7,
     "metadata": {},
     "output_type": "execute_result"
    }
   ],
   "source": [
    "data.groupby('income_type')['days_employed'].agg('median')"
   ]
  },
  {
   "cell_type": "markdown",
   "id": "90c5f058",
   "metadata": {
    "deletable": false,
    "editable": false,
    "id": "90c5f058"
   },
   "source": [
    "У двух типов (безработные и пенсионеры) получатся аномально большие значения. Исправить такие значения сложно, поэтому оставьте их как есть."
   ]
  },
  {
   "cell_type": "markdown",
   "id": "9652e50d",
   "metadata": {
    "deletable": false,
    "editable": false,
    "id": "9652e50d"
   },
   "source": [
    "**Задание 8. Выведите перечень уникальных значений столбца `children`.**"
   ]
  },
  {
   "cell_type": "code",
   "execution_count": 8,
   "id": "dbb37b8e",
   "metadata": {
    "deletable": false,
    "id": "dbb37b8e",
    "outputId": "6975b15c-7f95-4697-d16d-a0c79b657b03"
   },
   "outputs": [
    {
     "data": {
      "text/plain": [
       "array([ 1,  0,  3,  2, -1,  4, 20,  5])"
      ]
     },
     "execution_count": 8,
     "metadata": {},
     "output_type": "execute_result"
    }
   ],
   "source": [
    "data['children'].unique()"
   ]
  },
  {
   "cell_type": "markdown",
   "id": "2b8b0715",
   "metadata": {
    "deletable": false,
    "editable": false,
    "id": "2b8b0715"
   },
   "source": [
    "**Задание 9. В столбце `children` есть два аномальных значения. Удалите строки, в которых встречаются такие аномальные значения из датафрейма `data`.**"
   ]
  },
  {
   "cell_type": "code",
   "execution_count": 9,
   "id": "20009df8",
   "metadata": {
    "deletable": false,
    "id": "20009df8"
   },
   "outputs": [],
   "source": [
    "data = data[(data['children'] != -1) & (data['children'] != 20)]"
   ]
  },
  {
   "cell_type": "markdown",
   "id": "8c6ac9f1",
   "metadata": {
    "deletable": false,
    "editable": false,
    "id": "8c6ac9f1"
   },
   "source": [
    "**Задание 10. Ещё раз выведите перечень уникальных значений столбца `children`, чтобы убедиться, что артефакты удалены.**"
   ]
  },
  {
   "cell_type": "code",
   "execution_count": 10,
   "id": "07337b81",
   "metadata": {
    "deletable": false,
    "id": "07337b81",
    "outputId": "b2097101-d49d-44d9-901b-32a65c9463d1"
   },
   "outputs": [
    {
     "data": {
      "text/plain": [
       "array([1, 0, 3, 2, 4, 5])"
      ]
     },
     "execution_count": 10,
     "metadata": {},
     "output_type": "execute_result"
    }
   ],
   "source": [
    "data['children'].unique()"
   ]
  },
  {
   "cell_type": "markdown",
   "id": "ee3f52d4",
   "metadata": {
    "deletable": false,
    "editable": false,
    "id": "ee3f52d4"
   },
   "source": [
    "### Удаление пропусков (продолжение)"
   ]
  },
  {
   "cell_type": "markdown",
   "id": "a700b0e4",
   "metadata": {
    "deletable": false,
    "editable": false,
    "id": "a700b0e4"
   },
   "source": [
    "**Задание 11. Заполните пропуски в столбце `days_employed` медианными значениями по каждого типа занятости `income_type`.**"
   ]
  },
  {
   "cell_type": "code",
   "execution_count": 11,
   "id": "61946b83",
   "metadata": {
    "deletable": false,
    "id": "61946b83"
   },
   "outputs": [],
   "source": [
    "for t in data['income_type'].unique():\n",
    "    data.loc[(data['income_type'] == t) & (data['days_employed'].isna()), 'days_employed'] = \\\n",
    "    data.loc[(data['income_type'] == t), 'days_employed'].median()"
   ]
  },
  {
   "cell_type": "markdown",
   "id": "550dcd9b",
   "metadata": {
    "deletable": false,
    "editable": false,
    "id": "550dcd9b"
   },
   "source": [
    "**Задание 12. Убедитесь, что все пропуски заполнены. Проверьте себя и ещё раз выведите количество пропущенных значений для каждого столбца с помощью двух методов.**"
   ]
  },
  {
   "cell_type": "code",
   "execution_count": 12,
   "id": "937c7014",
   "metadata": {
    "deletable": false,
    "id": "937c7014",
    "outputId": "8da1e4e1-358e-4e87-98c9-f261bce0a7b2"
   },
   "outputs": [
    {
     "data": {
      "text/plain": [
       "children            0\n",
       "days_employed       0\n",
       "dob_years           0\n",
       "education           0\n",
       "education_id        0\n",
       "family_status       0\n",
       "family_status_id    0\n",
       "gender              0\n",
       "income_type         0\n",
       "debt                0\n",
       "total_income        0\n",
       "purpose             0\n",
       "dtype: int64"
      ]
     },
     "execution_count": 12,
     "metadata": {},
     "output_type": "execute_result"
    }
   ],
   "source": [
    "data.isna().sum()"
   ]
  },
  {
   "cell_type": "markdown",
   "id": "d522e295",
   "metadata": {
    "deletable": false,
    "editable": false,
    "id": "d522e295"
   },
   "source": [
    "### Изменение типов данных"
   ]
  },
  {
   "cell_type": "markdown",
   "id": "c229c581",
   "metadata": {
    "deletable": false,
    "editable": false,
    "id": "c229c581"
   },
   "source": [
    "**Задание 13. Замените вещественный тип данных в столбце `total_income` на целочисленный с помощью метода `astype()`.**"
   ]
  },
  {
   "cell_type": "code",
   "execution_count": 13,
   "id": "31036462",
   "metadata": {
    "deletable": false,
    "id": "31036462"
   },
   "outputs": [],
   "source": [
    "data['total_income'] = data['total_income'].astype(int)"
   ]
  },
  {
   "cell_type": "markdown",
   "id": "b8e3d1d9",
   "metadata": {
    "deletable": false,
    "editable": false,
    "id": "b8e3d1d9"
   },
   "source": [
    "### Обработка дубликатов"
   ]
  },
  {
   "cell_type": "markdown",
   "id": "9be53c49",
   "metadata": {
    "deletable": false,
    "editable": false,
    "id": "9be53c49"
   },
   "source": [
    "**Задание 14. Обработайте неявные дубликаты в столбце `education`. В этом столбце есть одни и те же значения, но записанные по-разному: с использованием заглавных и строчных букв. Приведите их к нижнему регистру.**"
   ]
  },
  {
   "cell_type": "code",
   "execution_count": 14,
   "id": "d89e73e1",
   "metadata": {
    "deletable": false,
    "id": "d89e73e1"
   },
   "outputs": [],
   "source": [
    "data['education'] = data['education'].str.lower()"
   ]
  },
  {
   "cell_type": "markdown",
   "id": "01d4500e",
   "metadata": {
    "deletable": false,
    "editable": false,
    "id": "01d4500e"
   },
   "source": [
    "**Задание 15. Выведите на экран количество строк-дубликатов в данных. Если такие строки присутствуют, удалите их.**"
   ]
  },
  {
   "cell_type": "code",
   "execution_count": 15,
   "id": "e10efb23",
   "metadata": {
    "deletable": false,
    "id": "e10efb23",
    "outputId": "9684deba-1934-42d1-99e1-cda61740f822"
   },
   "outputs": [
    {
     "data": {
      "text/plain": [
       "71"
      ]
     },
     "execution_count": 15,
     "metadata": {},
     "output_type": "execute_result"
    }
   ],
   "source": [
    "data.duplicated().sum()"
   ]
  },
  {
   "cell_type": "code",
   "execution_count": 16,
   "id": "df853f20",
   "metadata": {
    "deletable": false,
    "id": "df853f20"
   },
   "outputs": [],
   "source": [
    "data = data.drop_duplicates()"
   ]
  },
  {
   "cell_type": "markdown",
   "id": "627be38f",
   "metadata": {
    "deletable": false,
    "editable": false,
    "id": "627be38f"
   },
   "source": [
    "### Категоризация данных"
   ]
  },
  {
   "cell_type": "markdown",
   "id": "4684c3e0",
   "metadata": {
    "deletable": false,
    "editable": false,
    "id": "4684c3e0"
   },
   "source": [
    "**Задание 16. На основании диапазонов, указанных ниже, создайте в датафрейме `data` столбец `total_income_category` с категориями:**\n",
    "\n",
    "- 0–30000 — `'E'`;\n",
    "- 30001–50000 — `'D'`;\n",
    "- 50001–200000 — `'C'`;\n",
    "- 200001–1000000 — `'B'`;\n",
    "- 1000001 и выше — `'A'`.\n",
    "\n",
    "\n",
    "**Например, кредитополучателю с доходом 25000 нужно назначить категорию `'E'`, а клиенту, получающему 235000, — `'B'`. Используйте собственную функцию с именем `categorize_income()` и метод `apply()`.**"
   ]
  },
  {
   "cell_type": "code",
   "execution_count": 17,
   "id": "78965238",
   "metadata": {
    "deletable": false,
    "id": "78965238"
   },
   "outputs": [],
   "source": [
    "def categorize_income(income):\n",
    "    try:\n",
    "        if 0 <= income <= 30000:\n",
    "            return 'E'\n",
    "        elif 30001 <= income <= 50000:\n",
    "            return 'D'\n",
    "        elif 50001 <= income <= 200000:\n",
    "            return 'C'\n",
    "        elif 200001 <= income <= 1000000:\n",
    "            return 'B'\n",
    "        elif income >= 1000001:\n",
    "            return 'A'\n",
    "    except:\n",
    "        pass"
   ]
  },
  {
   "cell_type": "code",
   "execution_count": 18,
   "id": "0980ada1",
   "metadata": {
    "deletable": false,
    "id": "0980ada1"
   },
   "outputs": [],
   "source": [
    "data['total_income_category'] = data['total_income'].apply(categorize_income)"
   ]
  },
  {
   "cell_type": "markdown",
   "id": "9917bba0",
   "metadata": {
    "deletable": false,
    "editable": false,
    "id": "9917bba0"
   },
   "source": [
    "**Задание 17. Выведите на экран перечень уникальных целей взятия кредита из столбца `purpose`.**"
   ]
  },
  {
   "cell_type": "code",
   "execution_count": 19,
   "id": "ee07b65e",
   "metadata": {
    "deletable": false,
    "id": "ee07b65e",
    "outputId": "673c12d9-7d7e-4ae0-9812-c622c89dd244"
   },
   "outputs": [
    {
     "data": {
      "text/plain": [
       "array(['покупка жилья', 'приобретение автомобиля',\n",
       "       'дополнительное образование', 'сыграть свадьбу',\n",
       "       'операции с жильем', 'образование', 'на проведение свадьбы',\n",
       "       'покупка жилья для семьи', 'покупка недвижимости',\n",
       "       'покупка коммерческой недвижимости', 'покупка жилой недвижимости',\n",
       "       'строительство собственной недвижимости', 'недвижимость',\n",
       "       'строительство недвижимости', 'на покупку подержанного автомобиля',\n",
       "       'на покупку своего автомобиля',\n",
       "       'операции с коммерческой недвижимостью',\n",
       "       'строительство жилой недвижимости', 'жилье',\n",
       "       'операции со своей недвижимостью', 'автомобили',\n",
       "       'заняться образованием', 'сделка с подержанным автомобилем',\n",
       "       'получение образования', 'автомобиль', 'свадьба',\n",
       "       'получение дополнительного образования', 'покупка своего жилья',\n",
       "       'операции с недвижимостью', 'получение высшего образования',\n",
       "       'свой автомобиль', 'сделка с автомобилем',\n",
       "       'профильное образование', 'высшее образование',\n",
       "       'покупка жилья для сдачи', 'на покупку автомобиля', 'ремонт жилью',\n",
       "       'заняться высшим образованием'], dtype=object)"
      ]
     },
     "execution_count": 19,
     "metadata": {},
     "output_type": "execute_result"
    }
   ],
   "source": [
    "data['purpose'].unique()"
   ]
  },
  {
   "cell_type": "markdown",
   "id": "52b79d56",
   "metadata": {
    "deletable": false,
    "editable": false,
    "id": "52b79d56"
   },
   "source": [
    "**Задание 18. Создайте функцию, которая на основании данных из столбца `purpose` сформирует новый столбец `purpose_category`, в который войдут следующие категории:**\n",
    "\n",
    "- `'операции с автомобилем'`,\n",
    "- `'операции с недвижимостью'`,\n",
    "- `'проведение свадьбы'`,\n",
    "- `'получение образования'`.\n",
    "\n",
    "**Например, если в столбце `purpose` находится подстрока `'на покупку автомобиля'`, то в столбце `purpose_category` должна появиться строка `'операции с автомобилем'`.**\n",
    "\n",
    "**Используйте собственную функцию с именем `categorize_purpose()` и метод `apply()`. Изучите данные в столбце `purpose` и определите, какие подстроки помогут вам правильно определить категорию.**"
   ]
  },
  {
   "cell_type": "code",
   "execution_count": 20,
   "id": "be41da5d",
   "metadata": {
    "deletable": false,
    "id": "be41da5d"
   },
   "outputs": [],
   "source": [
    "def categorize_purpose(row):\n",
    "    try:\n",
    "        if 'автом' in row:\n",
    "            return 'операции с автомобилем'\n",
    "        elif 'жил' in row or 'недвиж' in row:\n",
    "            return 'операции с недвижимостью'\n",
    "        elif 'свад' in row:\n",
    "            return 'проведение свадьбы'\n",
    "        elif 'образов' in row:\n",
    "            return 'получение образования'\n",
    "    except:\n",
    "        return 'нет категории'"
   ]
  },
  {
   "cell_type": "code",
   "execution_count": 21,
   "id": "94c4a19a",
   "metadata": {
    "deletable": false,
    "id": "94c4a19a"
   },
   "outputs": [],
   "source": [
    "data['purpose_category'] = data['purpose'].apply(categorize_purpose)"
   ]
  },
  {
   "cell_type": "markdown",
   "id": "3d596c34",
   "metadata": {
    "deletable": false,
    "editable": false,
    "id": "3d596c34"
   },
   "source": [
    "### Шаг 3. Исследуйте данные и ответьте на вопросы"
   ]
  },
  {
   "cell_type": "markdown",
   "id": "648db036",
   "metadata": {
    "deletable": false,
    "editable": false,
    "id": "648db036"
   },
   "source": [
    "#### 3.1 Есть ли зависимость между количеством детей и возвратом кредита в срок?"
   ]
  },
  {
   "cell_type": "code",
   "execution_count": 22,
   "id": "7fcff25e",
   "metadata": {
    "deletable": false,
    "id": "7fcff25e"
   },
   "outputs": [
    {
     "name": "stdout",
     "output_type": "stream",
     "text": [
      "Сводная таблица кредитов и просрочек по категориям количества детей заемщиков\n",
      "  \n",
      "          Количество кредитов и просрочек       % просрочек\n",
      "                                   count   sum            \n",
      "children                                                  \n",
      "0                                  14091  1063    7.543822\n",
      "1                                   4808   444    9.234609\n",
      "2                                   2052   194    9.454191\n",
      "3                                    330    27    8.181818\n",
      "4                                     41     4    9.756098\n",
      "5                                      9     0    0.000000\n"
     ]
    }
   ],
   "source": [
    "data_children=data.groupby('children').agg({'debt':['count','sum']})\n",
    "\n",
    "data_children['% просрочек']=data.groupby('children')['debt'].sum()/data.groupby('children')['debt'].count()*100\n",
    "data_children=data_children.rename(columns={'debt':'Количество кредитов и просрочек'})\n",
    "\n",
    "print('Сводная таблица кредитов и просрочек по категориям количества детей заемщиков\\n',' \\n', data_children)"
   ]
  },
  {
   "cell_type": "markdown",
   "id": "c61cf3de",
   "metadata": {},
   "source": [
    "<div class=\"alert-success\" style=\"border-radius: 10px; padding: 10px\">\n",
    "<b>Комментарий ревьюера V2 ✔️</b>\n",
    "\n",
    "Это правильная сводная таблица со всеми нужными для сравнения категорий данными. 👌\n",
    "\n",
    "📌 Для более аккуратного вывода таблиц в Jupyter Notebook, лучше использовать функцию `display()` вместо `print()`.\n",
    "\n",
    "А если вывод таблицы в последней строке ячейки Jupyter Notebook, можно вообще эти функции не использовать.\n",
    "</div>"
   ]
  },
  {
   "cell_type": "markdown",
   "id": "2eb9088e",
   "metadata": {
    "deletable": false,
    "id": "2eb9088e"
   },
   "source": [
    "**Вывод:** Имеется зависимость между количеством детей и возвратом кредита в срок - при наличии детей вероятность просрочки платежей по кредиту увеличивается с 7,5% до 9,8%, исключение - наличие 5 детей, однако ввиду малого количества кредитов данной категории ею можно пренебречь."
   ]
  },
  {
   "cell_type": "markdown",
   "id": "5f0fe4e6",
   "metadata": {},
   "source": [
    "<div class=\"alert-danger\" style=\"padding: 20px; border-radius: 10px\">\n",
    "<b>Комментарий ревьюера ❌</b>\n",
    "\n",
    "В целом, ты все правильно посчитала и ответил на вопрос. Здорово, что обратила внимание на то, что выборки не сбалансированы.\n",
    "\n",
    "Но для более наглядного представления расчетов целесообразно вывести сводную таблицу, в которой будут следующие столбцы:\n",
    "- название категории\n",
    "- количество заемщиков (кредитов)\n",
    "- количество должников (этот столбец опциональный)\n",
    "- средний процент просрочки по категории\n",
    "\n",
    "Вывести такую таблицу можно с использованием методов как `groupby()`, так и `pivot_table()`.\n",
    "\n",
    "Такие сводные таблицы нужно будет вывести для каждого вопроса, далее в работе.</div>"
   ]
  },
  {
   "cell_type": "markdown",
   "id": "d5cd2f49",
   "metadata": {},
   "source": [
    "<div class=\"alert-info\" style=\"padding: 20px; border-radius: 10px\">\n",
    "<b>Исправила, сформировала сводную таблицу по категориям количества детей с соответствующими столбцами 💎</b>\n",
    "\n",
    "</div>"
   ]
  },
  {
   "cell_type": "markdown",
   "id": "74c9b3a7",
   "metadata": {
    "deletable": false,
    "editable": false,
    "id": "74c9b3a7"
   },
   "source": [
    "#### 3.2 Есть ли зависимость между семейным положением и возвратом кредита в срок?"
   ]
  },
  {
   "cell_type": "code",
   "execution_count": 23,
   "id": "8098ab3b",
   "metadata": {
    "deletable": false,
    "id": "8098ab3b"
   },
   "outputs": [
    {
     "name": "stdout",
     "output_type": "stream",
     "text": [
      "Сводная таблица кредитов и просрочек по категориям семейного статуса заемщиков\n",
      "  \n",
      "                       Количество кредитов и просрочек      % просрочек\n",
      "                                                count  sum            \n",
      "family_status                                                         \n",
      "Не женат / не замужем                            2796  273    9.763948\n",
      "в разводе                                        1189   84    7.064760\n",
      "вдовец / вдова                                    951   63    6.624606\n",
      "гражданский брак                                 4134  385    9.313014\n",
      "женат / замужем                                 12261  927    7.560558\n"
     ]
    }
   ],
   "source": [
    "# Ваш код будет здесь. Вы можете создавать новые ячейки.\n",
    "data_family=data.groupby('family_status').agg({'debt':['count','sum']})\n",
    "\n",
    "data_family['% просрочек']=data.groupby('family_status')['debt'].sum()/data.groupby('family_status')['debt'].count()*100\n",
    "data_family=data_family.rename(columns={'debt':'Количество кредитов и просрочек'})\n",
    "\n",
    "print('Сводная таблица кредитов и просрочек по категориям семейного статуса заемщиков\\n',' \\n', data_family)\n"
   ]
  },
  {
   "cell_type": "markdown",
   "id": "d80520c0",
   "metadata": {},
   "source": [
    "<div class=\"alert-success\" style=\"border-radius: 10px; padding: 10px\">\n",
    "<b>Комментарий ревьюера V2 ✔️</b>\n",
    "\n",
    "Отлично!</div>"
   ]
  },
  {
   "cell_type": "markdown",
   "id": "89814676",
   "metadata": {},
   "source": [
    "<div class=\"alert-warning\" style=\"padding: 20px; border-radius: 10px\">\n",
    "<b>Комментарий ревьюера ⚠️</b>\n",
    "\n",
    "Собери пожалуйста все данные в одну сводную таблицу.</div>"
   ]
  },
  {
   "cell_type": "markdown",
   "id": "c389ca63",
   "metadata": {
    "deletable": false,
    "id": "c389ca63"
   },
   "source": [
    "**Уточненный вывод:** Выявлена значительная разница по проценту просрочек между различными категориями семейного статуса заемщиков. Наиболее добросовестными заемщиками являются вдовцы (% просрочек = 6,62), неженатые заемщики относятся к категории повышенного риска - % просрочек = 9,76. "
   ]
  },
  {
   "cell_type": "markdown",
   "id": "5ed6336e",
   "metadata": {},
   "source": [
    "<div class=\"alert-success\" style=\"border-radius: 10px; padding: 10px\">\n",
    "<b>Комментарий ревьюера V2 ✔️</b>\n",
    "\n",
    "Согласен, заемщики состоящие или состоявшие в браке более надежны.</div>"
   ]
  },
  {
   "cell_type": "markdown",
   "id": "b48b4c32",
   "metadata": {},
   "source": [
    "<div class=\"alert-danger\" style=\"padding: 20px; border-radius: 10px\">\n",
    "<b>Комментарий ревьюера ❌</b>\n",
    "    \n",
    "Ну почему же, разница в доле должников по категориям есть.\n",
    "\n",
    "Для нашего заказчика - банка, разница даже в полпроцента на большом объеме кредитного портфеля будет существенна, поэтому здесь и далее давай выявим более и менее рискованные категории заемщиков.</div>"
   ]
  },
  {
   "cell_type": "markdown",
   "id": "e444d1ea",
   "metadata": {},
   "source": [
    "<div class=\"alert-info\" style=\"padding: 20px; border-radius: 10px\">\n",
    "<b>Исправила, сформировала сводную таблицу по категориям семейного статуса с соответствующими столбцами и скорректировала выводы 💎</b>\n",
    "\n",
    "</div>"
   ]
  },
  {
   "cell_type": "markdown",
   "id": "9529de68",
   "metadata": {
    "deletable": false,
    "editable": false,
    "id": "9529de68"
   },
   "source": [
    "#### 3.3 Есть ли зависимость между уровнем дохода и возвратом кредита в срок?"
   ]
  },
  {
   "cell_type": "code",
   "execution_count": 24,
   "id": "8787f44a",
   "metadata": {
    "deletable": false,
    "id": "8787f44a"
   },
   "outputs": [
    {
     "name": "stdout",
     "output_type": "stream",
     "text": [
      "Сводная таблица кредитов и просрочек по категориям уровня доходов заемщиков\n",
      "  \n",
      "                       Количество кредитов и просрочек       % просрочек\n",
      "                                                count   sum            \n",
      "total_income_category                                                  \n",
      "A                                                  25     2    8.000000\n",
      "B                                                5014   354    7.060231\n",
      "C                                               15921  1353    8.498210\n",
      "D                                                 349    21    6.017192\n",
      "E                                                  22     2    9.090909\n"
     ]
    }
   ],
   "source": [
    "\n",
    "data_inc=data.groupby('total_income_category').agg({'debt':['count','sum']})\n",
    "\n",
    "data_inc['% просрочек']=data.groupby('total_income_category')['debt'].sum()/data.groupby('total_income_category')['debt'].count()*100\n",
    "data_inc=data_inc.rename(columns={'debt':'Количество кредитов и просрочек'})\n",
    "\n",
    "print('Сводная таблица кредитов и просрочек по категориям уровня доходов заемщиков\\n',' \\n', data_inc)\n"
   ]
  },
  {
   "cell_type": "markdown",
   "id": "4c237e39",
   "metadata": {},
   "source": [
    "<div class=\"alert-warning\" style=\"padding: 20px; border-radius: 10px\">\n",
    "<b>Комментарий ревьюера ⚠️</b>\n",
    "\n",
    "Здесь тоже нужно собрать все данные в одну таблицу.</div>"
   ]
  },
  {
   "cell_type": "markdown",
   "id": "eddaf1f1",
   "metadata": {},
   "source": [
    "<div class=\"alert-success\" style=\"border-radius: 10px; padding: 10px\">\n",
    "<b>Комментарий ревьюера V2 ✔️</b>\n",
    "\n",
    "👍</div>"
   ]
  },
  {
   "cell_type": "markdown",
   "id": "6dd14b57",
   "metadata": {
    "deletable": false,
    "id": "6dd14b57"
   },
   "source": [
    "**Уточненный вывод:** Наиболее многочисленная категория заемщиков - люди с доходом от 50 тыс. до 200 тыс. в месяц, риск невозврата кредита составляет 8,5%. Далее идет категория заемщиков с доходом от 200 тыс. до 1 млн. в месяц, риск невозврата кредита снижается до 7,06%, это менее рискованная категория заемщиков.\n",
    "Люди с минимальным доходом имеют больший риск невозврата кредита (9%), люди с доходом от 30 до 50 тыс. рублей являются наиболее добросовестными заемщиками."
   ]
  },
  {
   "cell_type": "markdown",
   "id": "bc3bcbe9",
   "metadata": {},
   "source": [
    "<div class=\"alert-success\" style=\"border-radius: 10px; padding: 10px\">\n",
    "<b>Комментарий ревьюера V2 ✔️</b>\n",
    "\n",
    "Если сравнить самые большие категории B и C, можно сказать, что заемщики с более высоким доходом платят кредиты вовремя лучше.</div>"
   ]
  },
  {
   "cell_type": "markdown",
   "id": "1e98f2e8",
   "metadata": {},
   "source": [
    "<div class=\"alert-warning\" style=\"padding: 20px; border-radius: 10px\">\n",
    "<b>Комментарий ревьюера ⚠️</b>\n",
    "\n",
    "А какую можно выявить зависимость, если сравнить только две самые многочисленные выборки?</div>"
   ]
  },
  {
   "cell_type": "markdown",
   "id": "ce2fb19c",
   "metadata": {},
   "source": [
    "<div class=\"alert-info\" style=\"padding: 20px; border-radius: 10px\">\n",
    "<b>Исправила, сформировала сводную таблицу по категориям дохода заемщиков с соответствующими столбцами , также скорректировала выводы данного раздела исследования💎</b>\n",
    "\n",
    "</div>"
   ]
  },
  {
   "cell_type": "markdown",
   "id": "1dcc9b12",
   "metadata": {
    "deletable": false,
    "editable": false,
    "id": "1dcc9b12"
   },
   "source": [
    "#### 3.4 Как разные цели кредита влияют на его возврат в срок?"
   ]
  },
  {
   "cell_type": "code",
   "execution_count": 25,
   "id": "c602bc8b",
   "metadata": {
    "deletable": false,
    "id": "c602bc8b"
   },
   "outputs": [
    {
     "name": "stdout",
     "output_type": "stream",
     "text": [
      "Сводная таблица кредитов и просрочек по целям кредита заемщиков\n",
      "  \n",
      "                          Количество кредитов и просрочек      % просрочек\n",
      "                                                   count  sum            \n",
      "purpose_category                                                         \n",
      "операции с автомобилем                              4279  400    9.347978\n",
      "операции с недвижимостью                           10751  780    7.255139\n",
      "получение образования                               3988  369    9.252758\n",
      "проведение свадьбы                                  2313  183    7.911803\n"
     ]
    }
   ],
   "source": [
    "data_aim=data.groupby('purpose_category').agg({'debt':['count','sum']})\n",
    "\n",
    "data_aim['% просрочек']=data.groupby('purpose_category')['debt'].sum()/data.groupby('purpose_category')['debt'].count()*100\n",
    "data_aim=data_aim.rename(columns={'debt':'Количество кредитов и просрочек'})\n",
    "\n",
    "print('Сводная таблица кредитов и просрочек по целям кредита заемщиков\\n',' \\n', data_aim)\n",
    "\n"
   ]
  },
  {
   "cell_type": "markdown",
   "id": "3ef84008",
   "metadata": {},
   "source": [
    "<div class=\"alert-success\" style=\"border-radius: 10px; padding: 10px\">\n",
    "<b>Комментарий ревьюера V2 ✔️</b>\n",
    "\n",
    "Это правильная сводная таблица. 👌</div>"
   ]
  },
  {
   "cell_type": "markdown",
   "id": "3f188242",
   "metadata": {},
   "source": [
    "<div class=\"alert-warning\" style=\"padding: 20px; border-radius: 10px\">\n",
    "<b>Комментарий ревьюера ⚠️</b>\n",
    "\n",
    "Добавь пожалуйста сводную таблицу.</div>"
   ]
  },
  {
   "cell_type": "markdown",
   "id": "4ba1430b",
   "metadata": {},
   "source": [
    "<div class=\"alert-info\" style=\"padding: 20px; border-radius: 10px\">\n",
    "<b>Исправила, сформировала сводную таблицу по категориям целей кредитования с соответствующими столбцами 💎</b>\n",
    "\n",
    "</div>"
   ]
  },
  {
   "cell_type": "markdown",
   "id": "cf05ed63",
   "metadata": {
    "deletable": false,
    "id": "cf05ed63"
   },
   "source": [
    "**Вывод:** Цели кредита влияют на его возврат в срок - реже всего происходит просрочка платежей по кредитам на недвижимость и свадьбу. Кредиты на автомобиль и образование с большей вероятностью будут просрочены."
   ]
  },
  {
   "cell_type": "markdown",
   "id": "007c0871",
   "metadata": {},
   "source": [
    "<div class=\"alert-success\" style=\"padding: 20px; border-radius: 10px\">\n",
    "<b>Комментарий ревьюера ✔️</b>\n",
    "\n",
    "Всё правильно. 👌</div>"
   ]
  },
  {
   "cell_type": "markdown",
   "id": "46c1f10b",
   "metadata": {
    "deletable": false,
    "editable": false,
    "id": "46c1f10b"
   },
   "source": [
    "#### 3.5 Приведите возможные причины появления пропусков в исходных данных."
   ]
  },
  {
   "cell_type": "markdown",
   "id": "3697d2a9",
   "metadata": {
    "deletable": false,
    "id": "3697d2a9"
   },
   "source": [
    "*Ответ:* возможной причиной пропусков в исходных данных является человеческий фактор - допущены пропуски при заполнении заявлений на предоставление кредита получаталем, либо менеджером банка. \n",
    "\n",
    "<b>Уточненный вывод: Также возможной причиной пропусков в данных могут быть программные сбои при обработке или передаче форм заявлений на предоставление кредита, либо дефекты самих форм. Также могут возникать ошибки при форматировании исходных данных.</b>"
   ]
  },
  {
   "cell_type": "markdown",
   "id": "d4aac38a",
   "metadata": {},
   "source": [
    "<div class=\"alert-warning\" style=\"padding: 20px; border-radius: 10px\">\n",
    "<b>Комментарий ревьюера ⚠️</b>\n",
    "\n",
    "Ты правильно указала человеческий фактор, как наиболее вероятную причину образования пропусков в данных. Но какая причина еще может вызвать потерю данных?</div>"
   ]
  },
  {
   "cell_type": "markdown",
   "id": "a405178e",
   "metadata": {},
   "source": [
    "<div class=\"alert-info\" style=\"padding: 20px; border-radius: 10px\">\n",
    "<b>Дополнила ответ возможными техническими причинами пропусков в данных 💎</b>\n",
    "\n",
    "</div>"
   ]
  },
  {
   "cell_type": "markdown",
   "id": "3de38338",
   "metadata": {},
   "source": [
    "<div class=\"alert-success\" style=\"border-radius: 10px; padding: 10px\">\n",
    "<b>Комментарий ревьюера V2 ✔️</b>\n",
    "\n",
    "Согласен, техническую ошибку также исключать нельзя.</div>"
   ]
  },
  {
   "cell_type": "markdown",
   "id": "3137d257",
   "metadata": {
    "deletable": false,
    "editable": false,
    "id": "3137d257"
   },
   "source": [
    "#### 3.6 Объясните, почему заполнить пропуски медианным значением — лучшее решение для количественных переменных."
   ]
  },
  {
   "cell_type": "code",
   "execution_count": 26,
   "id": "07a156a0",
   "metadata": {},
   "outputs": [
    {
     "name": "stdout",
     "output_type": "stream",
     "text": [
      "                 days_employed               \n",
      "                        median           mean\n",
      "income_type                                  \n",
      "безработный      366413.652744  366413.652744\n",
      "в декрете          3296.759962    3296.759962\n",
      "госслужащий        2689.137274    3332.636454\n",
      "компаньон          1555.947387    2062.884254\n",
      "пенсионер        365286.622650  365051.368541\n",
      "предприниматель     520.848083     520.848083\n",
      "сотрудник          1572.328285    2250.942428\n",
      "студент             578.751554     578.751554\n"
     ]
    }
   ],
   "source": [
    "print(data.groupby('income_type').agg({'days_employed':['median','mean']}))"
   ]
  },
  {
   "cell_type": "markdown",
   "id": "cf40012a",
   "metadata": {
    "deletable": false,
    "id": "cf40012a"
   },
   "source": [
    "*Ответ:* Заполнение пропусков медианным значением по категории является лучшим решением ввиду того, что при таком заполнении отсутствует искажение данных по категориям и удобнее проводить анализ данных. \n",
    "\n",
    "<b>Уточненный вывод:\n",
    "\n",
    "анализ сводной сравнительной таблицы средних и медианных значений по столбцу days_employed показывает, что несмотря на то, что медианное и среднее значение иногда совпадают,  медианное значение не берет в расчет максимальные и минимальные показатели из выборки, искажающие результаты подсчета, и отражает наиболее близкий уровень к реальному среднему показателю выборки.\n",
    "\n",
    "В данном случае, применение средних значений для заполнения отсутствующих данных в датафрейме привело бы к искажению представления о стаже заемщиков по категориям (в большинстве случаев, стаж был бы существенно завышен)</b>"
   ]
  },
  {
   "cell_type": "markdown",
   "id": "32951589",
   "metadata": {},
   "source": [
    "<div class=\"alert-success\" style=\"border-radius: 10px; padding: 10px\">\n",
    "<b>Комментарий ревьюера V2 ✔️</b>\n",
    "\n",
    "Можно заметить как среднее значение смещено в сторону выбросов. 👇</div>"
   ]
  },
  {
   "cell_type": "code",
   "execution_count": 28,
   "id": "24f9ff18",
   "metadata": {},
   "outputs": [
    {
     "data": {
      "image/png": "[encoded data removed]",
      "text/plain": [
       "<Figure size 1080x360 with 1 Axes>"
      ]
     },
     "metadata": {
      "needs_background": "light"
     },
     "output_type": "display_data"
    }
   ],
   "source": [
    "# Код ревьюера\n",
    "import matplotlib.pyplot as plt\n",
    "\n",
    "plt.figure(figsize = (15,5))\n",
    "\n",
    "ax = data['days_employed'].hist(bins = 40)\n",
    "\n",
    "ax.axvline(x = data['days_employed'].mean(), color = 'r', linestyle = 'dashed', label = 'mean')\n",
    "ax.axvline(x = data['days_employed'].median(), color = 'y', linestyle = 'dashed', label = 'median')\n",
    "plt.legend()\n",
    "plt.title('Гистограмма по столбцу days_employed с медианой и средним')\n",
    "plt.show()"
   ]
  },
  {
   "cell_type": "markdown",
   "id": "ebf4fe83",
   "metadata": {},
   "source": [
    "<div class=\"alert-danger\" style=\"padding: 20px; border-radius: 10px\">\n",
    "<b>Комментарий ревьюера ❌</b>\n",
    "\n",
    "Поясни пожалуйста поподробнее, почему медиана предпочтительнее чем среднее значение? Можно расчитать обе метрики для столбца `days_employed` к примеру.</div>"
   ]
  },
  {
   "cell_type": "markdown",
   "id": "946808cc",
   "metadata": {},
   "source": [
    "<div class=\"alert-info\" style=\"padding: 20px; border-radius: 10px\">\n",
    "<b>Дополнила ответ сводной сравнительной таблицей медианы и среднего и скорректировала вывод 💎</b>\n",
    "\n",
    "</div>"
   ]
  },
  {
   "cell_type": "markdown",
   "id": "57bc304e",
   "metadata": {
    "deletable": false,
    "editable": false,
    "id": "57bc304e"
   },
   "source": [
    "### Шаг 4: общий вывод."
   ]
  },
  {
   "cell_type": "markdown",
   "id": "1ab75d1c",
   "metadata": {
    "deletable": false,
    "id": "1ab75d1c"
   },
   "source": [
    "На основе анализа полученных данных имеются следующие выводы:\n",
    "1. имеется взаимосвязь между целями кредита и риском его невозврата\n",
    "2. имеется информация, что наиболее частой целью кредитования являются операции с недвижимостью\n",
    "3. четкой зависимости от количества детей или дохода заемщика при расчете риска невозврата кредита не выявлено.\n",
    "\n",
    "\n",
    "\n",
    "\n",
    "\n",
    "\n",
    "\n",
    "\n",
    "<b>Уточненный вывод по результатам проверки</b>\n",
    "\n",
    "В рамках настоящего проекта проведен анализ данных о более чем 20 000 заемщиков в целях выявления закономерностей между различными категориями заемщиков и риском невозврата кредитов, определения типа наиболее добросовестного заемщика, а также факторов, увеличивающих риски банка, связанные с кредитованием.\n",
    "\n",
    "Исходные данные представлены в виде csv- файла с указанием следующих сведений о каждом заемщике:\n",
    "-\tколичество детей в семье\n",
    "-\tобщий трудовой стаж в днях\n",
    "-\tвозраст клиента в годах\n",
    "-\tуровень образования клиента\n",
    "-\tидентификатор уровня образования\n",
    "-\tсемейное положение\n",
    "-\tидентификатор семейного положения\n",
    "-\tпол клиента\n",
    "-\tтип занятости\n",
    "-\tимел ли задолженность по возврату кредитов\n",
    "-\tежемесячный доход\n",
    "-\tцель получения кредита\n",
    "\n",
    "2174 записи в исходных данных содержали пропуски в разделах \"стаж\" и \"ежемесячный доход\". В ходе предобработки данных в целях корректного анализа выявленные пропуски были заполнены медианными значениями, рассчитанными из типа занятости заемщика.\n",
    "\n",
    "Также в ходе предварительной обработки были выявлены и скорректированы аномальные значения в разделе \"стаж\".\n",
    "\n",
    "После выполнения указанных операций произведена предварительная обработка данных о количестве детей - исключены некорректные и аномальные значения.\n",
    "\n",
    "Далее в ходе исследования в целях исключения искажения результатов произведен поиск и удаление явных и неявных дубликатов.\n",
    "\n",
    "На следующем этапе исследования произведена категоризация заемщиков по уровню среднемесячного дохода на 5 групп:\n",
    "- 0–30000 руб/мес. - присвоена категория 'E';\n",
    "- 30001–50000 руб/мес. - присвоена категория  'D';\n",
    "- 50001–200000 руб/мес. - присвоена категория  'C';\n",
    "- 200001–1000000 руб/мес. - присвоена категория  'B';\n",
    "- 1000001 руб/мес.и выше  - присвоена категория  'A'.\n",
    "\n",
    "Также произведена категоризация заемщиков по целям кредитования на следующие группы:\n",
    "- 'операции с автомобилем',\n",
    "- 'операции с недвижимостью',\n",
    "- 'проведение свадьбы',\n",
    "- 'получение образования'.\n",
    "\n",
    "После выполнения указанных операций проведен комплексный анализ данных по различным параметрам. \n",
    "По результатам анализа выявлены следующие закономерности:\n",
    "\n",
    "1. Имеется зависимость между количеством детей и возвратом кредита в срок - при наличии детей вероятность просрочки платежей по кредиту увеличивается с 7,5% до 9,8%, исключение - наличие 5 детей, однако ввиду малого количества кредитов данной категории ею можно пренебречь.\n",
    "\n",
    "2. Выявлена значительная разница по проценту просрочек между различными категориями семейного статуса заемщиков. Наиболее добросовестными заемщиками являются вдовцы (% просрочек = 6,62), неженатые заемщики относятся к категории повышенного риска - % просрочек = 9,76.\n",
    "\n",
    "3. Наиболее многочисленная категория заемщиков - люди с доходом от 50 тыс. до 200 тыс. в месяц, риск невозврата кредита составляет 8,5%. Далее идет категория заемщиков с доходом от 200 тыс. до 1 млн. в месяц, риск невозврата кредита снижается до 7,06%, это менее рискованная категория заемщиков. Люди с минимальным доходом имеют больший риск невозврата кредита (9%), люди с доходом от 30 до 50 тыс. рублей являются наиболее добросовестными заемщиками.\n",
    "\n",
    "4. Цели кредита влияют на его возврат в срок - реже всего происходит просрочка платежей по кредитам на недвижимость и свадьбу. Кредиты на автомобиль и образование с большей вероятностью будут просрочены.\n",
    "\n",
    "Резюмируя выявленные закономерности можно условно определить тип заемщика с минимальным риском невозврата кредита:\n",
    "бездетный, вдовец (либо в браке), уровень дохода  - от 200 тыс. до 1 млн. в месяц, цель кредитования - сделки с недвижимостью.\n",
    "\n",
    "Также определен тип заемщика с наиболее высоким риском невозврата кредита:\n",
    "имеющий детей, не в браке, уровень дохода - до 30 тыс. руб. в месяц, цель кредитования - на автомобиль или проведение свадьбы.\n",
    "\n",
    "В качестве рекомендации по улучшению сбора данных (уменьшению искажений) можно порекомендовать при заполнении форм на выдачу кредита делать обязательным указание размера среднемесячного дохода, установить категории целей выдачи кредита в формы заявок, проверять корректность указания стажа в формах.\n",
    "\n",
    "\n",
    "\n",
    "\n",
    "\n",
    "\n",
    "\n",
    "\n",
    "\n",
    "\n",
    "\n"
   ]
  },
  {
   "cell_type": "markdown",
   "id": "ecbf96eb",
   "metadata": {},
   "source": [
    "<div class=\"alert-success\" style=\"border-radius: 10px; padding: 10px\">\n",
    "<b>Комментарий ревьюера V2 ✔️</b>\n",
    "\n",
    "Теперь у тебя получился подробный и правильный вывод, отражающий все основные результаты исследования. Молодец, что не забыла про рекомендации. 👌</div>"
   ]
  },
  {
   "cell_type": "markdown",
   "id": "bdb579bb",
   "metadata": {},
   "source": [
    "<div class=\"alert-danger\" style=\"padding: 20px; border-radius: 10px\">\n",
    "<b>Комментарий ревьюера ❌</b>\n",
    "\n",
    "Общий вывод - обязательный и важный элемент работы. Его нужно сформулировать, взяв основные результаты из всех шагов проекта. Начать нужно с того, с какими данными мы работали и какие действия провели на этапе предобработки, сформулировать все выявленные зависимости просрочки от различных факторов, можно дать портрет идеального и рискованного заемщика и закончить выявленными при ответе на вопросы зависимостями и рекомендациями заказчику по улучшению сбора данных и системы скоринга.\n",
    "\n",
    "Заказчик, зачастую, читает только общий вывод исследования - поэтому он должен быть максимально информативным.</div>"
   ]
  },
  {
   "cell_type": "markdown",
   "id": "8de84632",
   "metadata": {},
   "source": [
    "<div class=\"alert-info\" style=\"padding: 20px; border-radius: 10px\">\n",
    "<b>Скорректировала общий вывод согласно рекомендаций 💎</b>\n",
    "\n",
    "</div>"
   ]
  },
  {
   "cell_type": "markdown",
   "id": "6ce0d534",
   "metadata": {},
   "source": [
    "<div style=\"border:solid steelblue 3px; padding: 20px; border-radius: 10px\">\n",
    "    \n",
    "<b>Общий комментарий ревьюера:</b>\n",
    "\n",
    "Я вижу, что ты потратила много времени и усилий, чтобы выполнить этот проект на хорошем уровне, но нужно кое-что исправить, чтобы я его принял.\n",
    "    \n",
    "Есть несколько критических замечаний:\n",
    "- по выводу сводных таблиц для ответов по поиску зависимостей\n",
    "- по выявлению зависимостей просрочки от различных факторов (дети, семейный статус)\n",
    "- по вопросу касательно заполнения пропусков медианой\n",
    "- по общему выводу\n",
    "    \n",
    "Буду ждать твой доработанный проект. ⌛️</div>"
   ]
  },
  {
   "cell_type": "markdown",
   "id": "782d6b48",
   "metadata": {},
   "source": [
    "<div style=\"border:solid steelblue 3px; padding: 20px; border-radius: 10px\">\n",
    "    \n",
    "<b>Общий комментарий ревьюера V2</b>\n",
    "\n",
    "Спасибо, что доработала проект! Критических замечаний больше нет, получилась очень хорошая работа.\n",
    "    \n",
    "Успехов в дальнейшем обучении! 🏆\n",
    "    \n",
    "</div>"
   ]
  },
  {
   "cell_type": "code",
   "execution_count": null,
   "id": "ed681d3b",
   "metadata": {},
   "outputs": [],
   "source": []
  }
 ],
 "metadata": {
  "ExecuteTimeLog": [
   {
    "duration": 580,
    "start_time": "2023-02-05T11:51:25.880Z"
   },
   {
    "duration": 29,
    "start_time": "2023-02-05T11:51:26.463Z"
   },
   {
    "duration": 24,
    "start_time": "2023-02-05T11:51:26.495Z"
   },
   {
    "duration": 16,
    "start_time": "2023-02-05T11:51:26.522Z"
   },
   {
    "duration": 70,
    "start_time": "2023-02-05T11:51:26.540Z"
   },
   {
    "duration": 4,
    "start_time": "2023-02-05T11:51:26.612Z"
   },
   {
    "duration": 32,
    "start_time": "2023-02-05T11:51:26.617Z"
   },
   {
    "duration": 5,
    "start_time": "2023-02-05T11:51:26.651Z"
   },
   {
    "duration": 12,
    "start_time": "2023-02-05T11:51:26.658Z"
   },
   {
    "duration": 7,
    "start_time": "2023-02-05T11:51:26.674Z"
   },
   {
    "duration": 65,
    "start_time": "2023-02-05T11:51:26.694Z"
   },
   {
    "duration": 11,
    "start_time": "2023-02-05T11:51:26.761Z"
   },
   {
    "duration": 5,
    "start_time": "2023-02-05T11:51:26.774Z"
   },
   {
    "duration": 18,
    "start_time": "2023-02-05T11:51:26.780Z"
   },
   {
    "duration": 37,
    "start_time": "2023-02-05T11:51:26.801Z"
   },
   {
    "duration": 25,
    "start_time": "2023-02-05T11:51:26.839Z"
   },
   {
    "duration": 4,
    "start_time": "2023-02-05T11:51:26.866Z"
   },
   {
    "duration": 35,
    "start_time": "2023-02-05T11:51:26.872Z"
   },
   {
    "duration": 10,
    "start_time": "2023-02-05T11:51:26.909Z"
   },
   {
    "duration": 4,
    "start_time": "2023-02-05T11:51:26.921Z"
   },
   {
    "duration": 14,
    "start_time": "2023-02-05T11:51:26.927Z"
   },
   {
    "duration": 7,
    "start_time": "2023-02-05T11:51:26.943Z"
   },
   {
    "duration": 6,
    "start_time": "2023-02-05T11:51:26.951Z"
   },
   {
    "duration": 13,
    "start_time": "2023-02-05T11:51:26.958Z"
   },
   {
    "duration": 26,
    "start_time": "2023-02-05T11:51:26.973Z"
   },
   {
    "duration": 83,
    "start_time": "2023-02-05T11:59:27.885Z"
   },
   {
    "duration": 15,
    "start_time": "2023-02-05T11:59:27.970Z"
   },
   {
    "duration": 14,
    "start_time": "2023-02-05T11:59:27.994Z"
   },
   {
    "duration": 9,
    "start_time": "2023-02-05T11:59:28.010Z"
   },
   {
    "duration": 31,
    "start_time": "2023-02-05T11:59:28.021Z"
   },
   {
    "duration": 3,
    "start_time": "2023-02-05T11:59:28.054Z"
   },
   {
    "duration": 40,
    "start_time": "2023-02-05T11:59:28.059Z"
   },
   {
    "duration": 5,
    "start_time": "2023-02-05T11:59:28.101Z"
   },
   {
    "duration": 7,
    "start_time": "2023-02-05T11:59:28.108Z"
   },
   {
    "duration": 7,
    "start_time": "2023-02-05T11:59:28.116Z"
   },
   {
    "duration": 78,
    "start_time": "2023-02-05T11:59:28.125Z"
   },
   {
    "duration": 14,
    "start_time": "2023-02-05T11:59:28.205Z"
   },
   {
    "duration": 3,
    "start_time": "2023-02-05T11:59:28.221Z"
   },
   {
    "duration": 11,
    "start_time": "2023-02-05T11:59:28.227Z"
   },
   {
    "duration": 26,
    "start_time": "2023-02-05T11:59:28.239Z"
   },
   {
    "duration": 48,
    "start_time": "2023-02-05T11:59:28.267Z"
   },
   {
    "duration": 5,
    "start_time": "2023-02-05T11:59:28.317Z"
   },
   {
    "duration": 24,
    "start_time": "2023-02-05T11:59:28.324Z"
   },
   {
    "duration": 19,
    "start_time": "2023-02-05T11:59:28.350Z"
   },
   {
    "duration": 8,
    "start_time": "2023-02-05T11:59:28.371Z"
   },
   {
    "duration": 16,
    "start_time": "2023-02-05T11:59:28.382Z"
   },
   {
    "duration": 10,
    "start_time": "2023-02-05T11:59:28.400Z"
   },
   {
    "duration": 4,
    "start_time": "2023-02-05T11:59:28.412Z"
   },
   {
    "duration": 9,
    "start_time": "2023-02-05T11:59:28.417Z"
   },
   {
    "duration": 27,
    "start_time": "2023-02-05T11:59:28.427Z"
   },
   {
    "duration": 3,
    "start_time": "2023-02-05T12:00:38.644Z"
   },
   {
    "duration": 5,
    "start_time": "2023-02-05T12:00:52.085Z"
   },
   {
    "duration": 6,
    "start_time": "2023-02-05T12:03:05.443Z"
   },
   {
    "duration": 7,
    "start_time": "2023-02-05T12:03:38.801Z"
   },
   {
    "duration": 7,
    "start_time": "2023-02-05T12:04:36.018Z"
   },
   {
    "duration": 8,
    "start_time": "2023-02-05T12:05:34.659Z"
   },
   {
    "duration": 11,
    "start_time": "2023-02-05T12:13:20.057Z"
   },
   {
    "duration": 10,
    "start_time": "2023-02-05T12:13:49.610Z"
   },
   {
    "duration": 3,
    "start_time": "2023-02-05T12:14:54.686Z"
   },
   {
    "duration": 9,
    "start_time": "2023-02-05T12:15:20.017Z"
   },
   {
    "duration": 15,
    "start_time": "2023-02-05T12:16:17.080Z"
   },
   {
    "duration": 8,
    "start_time": "2023-02-05T12:17:05.960Z"
   },
   {
    "duration": 10,
    "start_time": "2023-02-05T12:18:17.892Z"
   },
   {
    "duration": 11,
    "start_time": "2023-02-05T12:19:08.010Z"
   },
   {
    "duration": 45,
    "start_time": "2023-02-05T12:19:37.358Z"
   },
   {
    "duration": 69,
    "start_time": "2023-02-05T12:23:03.772Z"
   },
   {
    "duration": 48,
    "start_time": "2023-02-05T12:23:16.809Z"
   },
   {
    "duration": 11,
    "start_time": "2023-02-05T12:24:45.753Z"
   },
   {
    "duration": 13,
    "start_time": "2023-02-05T12:29:45.992Z"
   },
   {
    "duration": 19,
    "start_time": "2023-02-05T12:33:48.771Z"
   },
   {
    "duration": 17,
    "start_time": "2023-02-05T12:34:14.055Z"
   },
   {
    "duration": 20,
    "start_time": "2023-02-05T12:36:45.201Z"
   },
   {
    "duration": 14,
    "start_time": "2023-02-05T12:37:14.315Z"
   },
   {
    "duration": 19,
    "start_time": "2023-02-05T12:44:29.434Z"
   },
   {
    "duration": 58,
    "start_time": "2023-02-05T12:44:59.518Z"
   },
   {
    "duration": 15,
    "start_time": "2023-02-05T12:45:09.519Z"
   },
   {
    "duration": 14,
    "start_time": "2023-02-05T12:45:24.162Z"
   },
   {
    "duration": 14,
    "start_time": "2023-02-05T12:46:36.952Z"
   },
   {
    "duration": 65,
    "start_time": "2023-02-05T12:50:06.052Z"
   },
   {
    "duration": 14,
    "start_time": "2023-02-05T12:50:06.118Z"
   },
   {
    "duration": 15,
    "start_time": "2023-02-05T12:50:06.133Z"
   },
   {
    "duration": 9,
    "start_time": "2023-02-05T12:50:06.150Z"
   },
   {
    "duration": 53,
    "start_time": "2023-02-05T12:50:06.162Z"
   },
   {
    "duration": 4,
    "start_time": "2023-02-05T12:50:06.217Z"
   },
   {
    "duration": 10,
    "start_time": "2023-02-05T12:50:06.222Z"
   },
   {
    "duration": 12,
    "start_time": "2023-02-05T12:50:06.234Z"
   },
   {
    "duration": 6,
    "start_time": "2023-02-05T12:50:06.247Z"
   },
   {
    "duration": 5,
    "start_time": "2023-02-05T12:50:06.255Z"
   },
   {
    "duration": 54,
    "start_time": "2023-02-05T12:50:06.262Z"
   },
   {
    "duration": 10,
    "start_time": "2023-02-05T12:50:06.318Z"
   },
   {
    "duration": 6,
    "start_time": "2023-02-05T12:50:06.330Z"
   },
   {
    "duration": 11,
    "start_time": "2023-02-05T12:50:06.339Z"
   },
   {
    "duration": 45,
    "start_time": "2023-02-05T12:50:06.352Z"
   },
   {
    "duration": 19,
    "start_time": "2023-02-05T12:50:06.399Z"
   },
   {
    "duration": 3,
    "start_time": "2023-02-05T12:50:06.420Z"
   },
   {
    "duration": 13,
    "start_time": "2023-02-05T12:50:06.425Z"
   },
   {
    "duration": 10,
    "start_time": "2023-02-05T12:50:06.440Z"
   },
   {
    "duration": 4,
    "start_time": "2023-02-05T12:50:06.452Z"
   },
   {
    "duration": 13,
    "start_time": "2023-02-05T12:50:06.457Z"
   },
   {
    "duration": 29,
    "start_time": "2023-02-05T12:50:06.472Z"
   },
   {
    "duration": 12,
    "start_time": "2023-02-05T12:50:06.503Z"
   },
   {
    "duration": 11,
    "start_time": "2023-02-05T12:50:06.516Z"
   },
   {
    "duration": 14,
    "start_time": "2023-02-05T12:50:06.529Z"
   },
   {
    "duration": 479,
    "start_time": "2023-02-06T10:01:08.285Z"
   },
   {
    "duration": 22,
    "start_time": "2023-02-06T10:01:08.766Z"
   },
   {
    "duration": 15,
    "start_time": "2023-02-06T10:01:08.789Z"
   },
   {
    "duration": 22,
    "start_time": "2023-02-06T10:01:08.806Z"
   },
   {
    "duration": 50,
    "start_time": "2023-02-06T10:01:08.830Z"
   },
   {
    "duration": 3,
    "start_time": "2023-02-06T10:01:08.882Z"
   },
   {
    "duration": 12,
    "start_time": "2023-02-06T10:01:08.887Z"
   },
   {
    "duration": 4,
    "start_time": "2023-02-06T10:01:08.900Z"
   },
   {
    "duration": 10,
    "start_time": "2023-02-06T10:01:08.906Z"
   },
   {
    "duration": 7,
    "start_time": "2023-02-06T10:01:08.919Z"
   },
   {
    "duration": 48,
    "start_time": "2023-02-06T10:01:08.928Z"
   },
   {
    "duration": 20,
    "start_time": "2023-02-06T10:01:08.978Z"
   },
   {
    "duration": 16,
    "start_time": "2023-02-06T10:01:08.999Z"
   },
   {
    "duration": 20,
    "start_time": "2023-02-06T10:01:09.017Z"
   },
   {
    "duration": 36,
    "start_time": "2023-02-06T10:01:09.040Z"
   },
   {
    "duration": 31,
    "start_time": "2023-02-06T10:01:09.078Z"
   },
   {
    "duration": 4,
    "start_time": "2023-02-06T10:01:09.110Z"
   },
   {
    "duration": 18,
    "start_time": "2023-02-06T10:01:09.116Z"
   },
   {
    "duration": 8,
    "start_time": "2023-02-06T10:01:09.135Z"
   },
   {
    "duration": 3,
    "start_time": "2023-02-06T10:01:09.145Z"
   },
   {
    "duration": 10,
    "start_time": "2023-02-06T10:01:09.150Z"
   },
   {
    "duration": 35,
    "start_time": "2023-02-06T10:01:09.161Z"
   },
   {
    "duration": 17,
    "start_time": "2023-02-06T10:01:09.198Z"
   },
   {
    "duration": 14,
    "start_time": "2023-02-06T10:01:09.217Z"
   },
   {
    "duration": 19,
    "start_time": "2023-02-06T10:01:09.233Z"
   },
   {
    "duration": 53,
    "start_time": "2023-02-07T15:10:51.353Z"
   },
   {
    "duration": 509,
    "start_time": "2023-02-07T15:10:55.618Z"
   },
   {
    "duration": 21,
    "start_time": "2023-02-07T15:10:56.129Z"
   },
   {
    "duration": 14,
    "start_time": "2023-02-07T15:10:56.151Z"
   },
   {
    "duration": 12,
    "start_time": "2023-02-07T15:10:56.166Z"
   },
   {
    "duration": 44,
    "start_time": "2023-02-07T15:10:56.180Z"
   },
   {
    "duration": 4,
    "start_time": "2023-02-07T15:10:56.225Z"
   },
   {
    "duration": 20,
    "start_time": "2023-02-07T15:10:56.230Z"
   },
   {
    "duration": 5,
    "start_time": "2023-02-07T15:10:56.252Z"
   },
   {
    "duration": 11,
    "start_time": "2023-02-07T15:10:56.258Z"
   },
   {
    "duration": 8,
    "start_time": "2023-02-07T15:10:56.270Z"
   },
   {
    "duration": 45,
    "start_time": "2023-02-07T15:10:56.279Z"
   },
   {
    "duration": 10,
    "start_time": "2023-02-07T15:10:56.326Z"
   },
   {
    "duration": 5,
    "start_time": "2023-02-07T15:10:56.338Z"
   },
   {
    "duration": 12,
    "start_time": "2023-02-07T15:10:56.346Z"
   },
   {
    "duration": 39,
    "start_time": "2023-02-07T15:10:56.360Z"
   },
   {
    "duration": 16,
    "start_time": "2023-02-07T15:10:56.400Z"
   },
   {
    "duration": 3,
    "start_time": "2023-02-07T15:10:56.418Z"
   },
   {
    "duration": 12,
    "start_time": "2023-02-07T15:10:56.422Z"
   },
   {
    "duration": 8,
    "start_time": "2023-02-07T15:10:56.435Z"
   },
   {
    "duration": 3,
    "start_time": "2023-02-07T15:10:56.445Z"
   },
   {
    "duration": 11,
    "start_time": "2023-02-07T15:10:56.449Z"
   },
   {
    "duration": 35,
    "start_time": "2023-02-07T15:10:56.462Z"
   },
   {
    "duration": 13,
    "start_time": "2023-02-07T15:10:56.499Z"
   },
   {
    "duration": 12,
    "start_time": "2023-02-07T15:10:56.513Z"
   },
   {
    "duration": 17,
    "start_time": "2023-02-07T15:10:56.526Z"
   },
   {
    "duration": 6,
    "start_time": "2023-02-07T15:18:41.566Z"
   },
   {
    "duration": 6,
    "start_time": "2023-02-07T15:19:10.569Z"
   },
   {
    "duration": 4,
    "start_time": "2023-02-07T15:20:22.050Z"
   },
   {
    "duration": 66,
    "start_time": "2023-02-07T15:20:33.236Z"
   },
   {
    "duration": 15,
    "start_time": "2023-02-07T15:20:33.304Z"
   },
   {
    "duration": 16,
    "start_time": "2023-02-07T15:20:33.320Z"
   },
   {
    "duration": 9,
    "start_time": "2023-02-07T15:20:33.338Z"
   },
   {
    "duration": 56,
    "start_time": "2023-02-07T15:20:33.349Z"
   },
   {
    "duration": 4,
    "start_time": "2023-02-07T15:20:33.406Z"
   },
   {
    "duration": 10,
    "start_time": "2023-02-07T15:20:33.412Z"
   },
   {
    "duration": 4,
    "start_time": "2023-02-07T15:20:33.423Z"
   },
   {
    "duration": 8,
    "start_time": "2023-02-07T15:20:33.429Z"
   },
   {
    "duration": 4,
    "start_time": "2023-02-07T15:20:33.440Z"
   },
   {
    "duration": 63,
    "start_time": "2023-02-07T15:20:33.446Z"
   },
   {
    "duration": 11,
    "start_time": "2023-02-07T15:20:33.510Z"
   },
   {
    "duration": 4,
    "start_time": "2023-02-07T15:20:33.523Z"
   },
   {
    "duration": 11,
    "start_time": "2023-02-07T15:20:33.529Z"
   },
   {
    "duration": 22,
    "start_time": "2023-02-07T15:20:33.541Z"
   },
   {
    "duration": 43,
    "start_time": "2023-02-07T15:20:33.565Z"
   },
   {
    "duration": 4,
    "start_time": "2023-02-07T15:20:33.610Z"
   },
   {
    "duration": 11,
    "start_time": "2023-02-07T15:20:33.616Z"
   },
   {
    "duration": 6,
    "start_time": "2023-02-07T15:20:33.628Z"
   },
   {
    "duration": 3,
    "start_time": "2023-02-07T15:20:33.636Z"
   },
   {
    "duration": 10,
    "start_time": "2023-02-07T15:20:33.641Z"
   },
   {
    "duration": 4,
    "start_time": "2023-02-07T15:20:33.653Z"
   },
   {
    "duration": 6,
    "start_time": "2023-02-07T15:21:56.662Z"
   },
   {
    "duration": 6,
    "start_time": "2023-02-07T15:23:12.056Z"
   },
   {
    "duration": 30,
    "start_time": "2023-02-07T15:29:53.748Z"
   },
   {
    "duration": 3,
    "start_time": "2023-02-07T15:30:07.587Z"
   },
   {
    "duration": 6,
    "start_time": "2023-02-07T15:30:27.854Z"
   },
   {
    "duration": 9,
    "start_time": "2023-02-07T15:33:24.848Z"
   },
   {
    "duration": 19,
    "start_time": "2023-02-07T15:33:56.829Z"
   },
   {
    "duration": 5,
    "start_time": "2023-02-07T15:34:16.315Z"
   },
   {
    "duration": 3,
    "start_time": "2023-02-07T15:48:35.265Z"
   },
   {
    "duration": 11,
    "start_time": "2023-02-07T15:48:51.146Z"
   },
   {
    "duration": 13,
    "start_time": "2023-02-07T15:49:01.325Z"
   },
   {
    "duration": 11,
    "start_time": "2023-02-07T15:52:15.598Z"
   },
   {
    "duration": 9,
    "start_time": "2023-02-07T15:52:29.313Z"
   },
   {
    "duration": 8,
    "start_time": "2023-02-07T15:52:40.544Z"
   },
   {
    "duration": 10,
    "start_time": "2023-02-07T15:53:27.090Z"
   },
   {
    "duration": 4,
    "start_time": "2023-02-07T15:55:52.402Z"
   },
   {
    "duration": 15,
    "start_time": "2023-02-07T15:56:02.379Z"
   },
   {
    "duration": 12,
    "start_time": "2023-02-07T15:57:55.429Z"
   },
   {
    "duration": 12,
    "start_time": "2023-02-07T15:59:47.405Z"
   },
   {
    "duration": 44,
    "start_time": "2023-02-07T16:01:52.074Z"
   },
   {
    "duration": 51,
    "start_time": "2023-02-07T16:02:28.127Z"
   },
   {
    "duration": 15,
    "start_time": "2023-02-07T16:03:14.762Z"
   },
   {
    "duration": 16,
    "start_time": "2023-02-07T16:09:21.234Z"
   },
   {
    "duration": 14,
    "start_time": "2023-02-07T16:09:36.763Z"
   },
   {
    "duration": 13,
    "start_time": "2023-02-07T16:10:46.960Z"
   },
   {
    "duration": 14,
    "start_time": "2023-02-07T16:12:05.653Z"
   },
   {
    "duration": 19,
    "start_time": "2023-02-07T16:12:24.078Z"
   },
   {
    "duration": 14,
    "start_time": "2023-02-07T16:13:45.905Z"
   },
   {
    "duration": 14,
    "start_time": "2023-02-07T16:14:00.568Z"
   },
   {
    "duration": 14,
    "start_time": "2023-02-07T16:14:43.750Z"
   },
   {
    "duration": 60,
    "start_time": "2023-02-07T16:16:46.714Z"
   },
   {
    "duration": 16,
    "start_time": "2023-02-07T16:16:54.525Z"
   },
   {
    "duration": 48,
    "start_time": "2023-02-07T16:22:21.680Z"
   },
   {
    "duration": 56,
    "start_time": "2023-02-07T16:26:17.927Z"
   },
   {
    "duration": 16,
    "start_time": "2023-02-07T16:26:25.248Z"
   },
   {
    "duration": 18,
    "start_time": "2023-02-07T16:32:37.125Z"
   },
   {
    "duration": 19,
    "start_time": "2023-02-07T16:33:00.899Z"
   },
   {
    "duration": 31,
    "start_time": "2023-02-07T16:33:46.464Z"
   },
   {
    "duration": 18,
    "start_time": "2023-02-07T16:34:18.507Z"
   },
   {
    "duration": 22,
    "start_time": "2023-02-07T16:56:55.211Z"
   },
   {
    "duration": 24,
    "start_time": "2023-02-07T17:13:34.038Z"
   },
   {
    "duration": 7,
    "start_time": "2023-02-07T17:26:53.640Z"
   },
   {
    "duration": 4,
    "start_time": "2023-02-07T17:30:07.189Z"
   },
   {
    "duration": 4,
    "start_time": "2023-02-07T17:30:32.361Z"
   },
   {
    "duration": 45,
    "start_time": "2023-02-07T17:30:47.159Z"
   },
   {
    "duration": 9,
    "start_time": "2023-02-07T17:32:52.878Z"
   },
   {
    "duration": 454,
    "start_time": "2023-02-08T19:02:19.100Z"
   },
   {
    "duration": 21,
    "start_time": "2023-02-08T19:02:19.555Z"
   },
   {
    "duration": 14,
    "start_time": "2023-02-08T19:02:19.578Z"
   },
   {
    "duration": 9,
    "start_time": "2023-02-08T19:02:19.593Z"
   },
   {
    "duration": 31,
    "start_time": "2023-02-08T19:02:19.604Z"
   },
   {
    "duration": 3,
    "start_time": "2023-02-08T19:02:19.637Z"
   },
   {
    "duration": 10,
    "start_time": "2023-02-08T19:02:19.641Z"
   },
   {
    "duration": 9,
    "start_time": "2023-02-08T19:02:19.652Z"
   },
   {
    "duration": 11,
    "start_time": "2023-02-08T19:02:19.663Z"
   },
   {
    "duration": 26,
    "start_time": "2023-02-08T19:02:19.676Z"
   },
   {
    "duration": 35,
    "start_time": "2023-02-08T19:02:19.704Z"
   },
   {
    "duration": 9,
    "start_time": "2023-02-08T19:02:19.740Z"
   },
   {
    "duration": 5,
    "start_time": "2023-02-08T19:02:19.751Z"
   },
   {
    "duration": 15,
    "start_time": "2023-02-08T19:02:19.758Z"
   },
   {
    "duration": 25,
    "start_time": "2023-02-08T19:02:19.774Z"
   },
   {
    "duration": 16,
    "start_time": "2023-02-08T19:02:19.801Z"
   },
   {
    "duration": 4,
    "start_time": "2023-02-08T19:02:19.818Z"
   },
   {
    "duration": 15,
    "start_time": "2023-02-08T19:02:19.824Z"
   },
   {
    "duration": 5,
    "start_time": "2023-02-08T19:02:19.841Z"
   },
   {
    "duration": 6,
    "start_time": "2023-02-08T19:02:19.848Z"
   },
   {
    "duration": 11,
    "start_time": "2023-02-08T19:02:19.855Z"
   },
   {
    "duration": 21,
    "start_time": "2023-02-08T19:02:19.890Z"
   },
   {
    "duration": 16,
    "start_time": "2023-02-08T19:02:19.913Z"
   },
   {
    "duration": 14,
    "start_time": "2023-02-08T19:02:19.931Z"
   },
   {
    "duration": 16,
    "start_time": "2023-02-08T19:02:19.947Z"
   },
   {
    "duration": 28,
    "start_time": "2023-02-08T19:02:19.965Z"
   },
   {
    "duration": 77,
    "start_time": "2023-02-08T19:05:28.697Z"
   },
   {
    "duration": 598,
    "start_time": "2023-02-08T19:05:57.665Z"
   }
  ],
  "colab": {
   "provenance": []
  },
  "kernelspec": {
   "display_name": "Python 3 (ipykernel)",
   "language": "python",
   "name": "python3"
  },
  "language_info": {
   "codemirror_mode": {
    "name": "ipython",
    "version": 3
   },
   "file_extension": ".py",
   "mimetype": "text/x-python",
   "name": "python",
   "nbconvert_exporter": "python",
   "pygments_lexer": "ipython3",
   "version": "3.9.5"
  },
  "toc": {
   "base_numbering": 1,
   "nav_menu": {},
   "number_sections": true,
   "sideBar": true,
   "skip_h1_title": true,
   "title_cell": "Table of Contents",
   "title_sidebar": "Contents",
   "toc_cell": false,
   "toc_position": {},
   "toc_section_display": true,
   "toc_window_display": false
  }
 },
 "nbformat": 4,
 "nbformat_minor": 5
}
