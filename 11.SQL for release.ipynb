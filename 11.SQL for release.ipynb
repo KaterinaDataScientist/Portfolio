{
 "cells": [
  {
   "cell_type": "markdown",
   "metadata": {},
   "source": [
    "<b> Описание задачи</b>"
   ]
  },
  {
   "cell_type": "markdown",
   "metadata": {},
   "source": [
    "Задача проекта — проанализировать базу данных сервиса книг по подписке.\n",
    "\n",
    "В базе данных — информация о книгах, издательствах, авторах, а также пользовательские обзоры книг.  \n",
    "\n",
    "База данных состоит из следующих таблиц:  \n",
    "- Таблица books - содержит данные о книгах  \n",
    "- Таблица authors - содержит данные об авторах  \n",
    "- Таблица publishers - содержит данные об издательствах  \n",
    "- Таблица ratings - содержит данные о пользовательских оценках книг  \n",
    "- Таблица reviews - содержит данные о пользовательских обзорах\n",
    "\n",
    "В ходе выполнения проекта предстоит выполнить следующие задания:  \n",
    "- Посчитать, сколько книг вышло после 1 января 2000 года;  \n",
    "- Для каждой книги посчитать количество обзоров и среднюю оценку;  \n",
    "- Определить издательство, которое выпустило наибольшее число книг толще 50 страниц;\n",
    "- Определить автора с самой высокой средней оценкой книг для книг с 50 и более оценками;\n",
    "- Посчитать среднее количество обзоров от пользователей, которые поставили больше 48 оценок.\n",
    "\n",
    "По факту решения каждого задания будут сформулированы выводы."
   ]
  },
  {
   "cell_type": "code",
   "execution_count": 85,
   "metadata": {
    "scrolled": false
   },
   "outputs": [
    {
     "data": {
      "text/html": [
       "<div>\n",
       "<style scoped>\n",
       "    .dataframe tbody tr th:only-of-type {\n",
       "        vertical-align: middle;\n",
       "    }\n",
       "\n",
       "    .dataframe tbody tr th {\n",
       "        vertical-align: top;\n",
       "    }\n",
       "\n",
       "    .dataframe thead th {\n",
       "        text-align: right;\n",
       "    }\n",
       "</style>\n",
       "<table border=\"1\" class=\"dataframe\">\n",
       "  <thead>\n",
       "    <tr style=\"text-align: right;\">\n",
       "      <th></th>\n",
       "      <th>book_id</th>\n",
       "      <th>author_id</th>\n",
       "      <th>title</th>\n",
       "      <th>num_pages</th>\n",
       "      <th>publication_date</th>\n",
       "      <th>publisher_id</th>\n",
       "    </tr>\n",
       "  </thead>\n",
       "  <tbody>\n",
       "    <tr>\n",
       "      <th>0</th>\n",
       "      <td>1</td>\n",
       "      <td>546</td>\n",
       "      <td>'Salem's Lot</td>\n",
       "      <td>594</td>\n",
       "      <td>2005-11-01</td>\n",
       "      <td>93</td>\n",
       "    </tr>\n",
       "    <tr>\n",
       "      <th>1</th>\n",
       "      <td>2</td>\n",
       "      <td>465</td>\n",
       "      <td>1 000 Places to See Before You Die</td>\n",
       "      <td>992</td>\n",
       "      <td>2003-05-22</td>\n",
       "      <td>336</td>\n",
       "    </tr>\n",
       "    <tr>\n",
       "      <th>2</th>\n",
       "      <td>3</td>\n",
       "      <td>407</td>\n",
       "      <td>13 Little Blue Envelopes (Little Blue Envelope...</td>\n",
       "      <td>322</td>\n",
       "      <td>2010-12-21</td>\n",
       "      <td>135</td>\n",
       "    </tr>\n",
       "    <tr>\n",
       "      <th>3</th>\n",
       "      <td>4</td>\n",
       "      <td>82</td>\n",
       "      <td>1491: New Revelations of the Americas Before C...</td>\n",
       "      <td>541</td>\n",
       "      <td>2006-10-10</td>\n",
       "      <td>309</td>\n",
       "    </tr>\n",
       "    <tr>\n",
       "      <th>4</th>\n",
       "      <td>5</td>\n",
       "      <td>125</td>\n",
       "      <td>1776</td>\n",
       "      <td>386</td>\n",
       "      <td>2006-07-04</td>\n",
       "      <td>268</td>\n",
       "    </tr>\n",
       "  </tbody>\n",
       "</table>\n",
       "</div>"
      ],
      "text/plain": [
       "   book_id  author_id                                              title  \\\n",
       "0        1        546                                       'Salem's Lot   \n",
       "1        2        465                 1 000 Places to See Before You Die   \n",
       "2        3        407  13 Little Blue Envelopes (Little Blue Envelope...   \n",
       "3        4         82  1491: New Revelations of the Americas Before C...   \n",
       "4        5        125                                               1776   \n",
       "\n",
       "   num_pages publication_date  publisher_id  \n",
       "0        594       2005-11-01            93  \n",
       "1        992       2003-05-22           336  \n",
       "2        322       2010-12-21           135  \n",
       "3        541       2006-10-10           309  \n",
       "4        386       2006-07-04           268  "
      ]
     },
     "execution_count": 85,
     "metadata": {},
     "output_type": "execute_result"
    }
   ],
   "source": [
    "# импортируем библиотеки\n",
    "import pandas as pd\n",
    "from sqlalchemy import text, create_engine\n",
    "# устанавливаем параметры\n",
    "db_config = {'user': 'praktikum_student', # имя пользователя\n",
    "'pwd': 'Sdf4$2;d-d30pp', # пароль\n",
    "'host': 'rc1b-wcoijxj3yxfsf3fs.mdb.yandexcloud.net',\n",
    "'port': 6432, # порт подключения\n",
    "'db': 'data-analyst-final-project-db'} # название базы данных\n",
    "connection_string = 'postgresql://{user}:{pwd}@{host}:{port}/{db}'.format(**db_config)\n",
    "# сохраняем коннектор\n",
    "engine = create_engine(connection_string, connect_args={'sslmode':'require'})\n",
    "# чтобы выполнить SQL-запрос, используем Pandas\n",
    "query = '''SELECT * FROM books LIMIT 5'''\n",
    "con=engine.connect()\n",
    "pd.io.sql.read_sql(sql=text(query), con = con)"
   ]
  },
  {
   "cell_type": "code",
   "execution_count": 86,
   "metadata": {},
   "outputs": [
    {
     "data": {
      "text/html": [
       "<div>\n",
       "<style scoped>\n",
       "    .dataframe tbody tr th:only-of-type {\n",
       "        vertical-align: middle;\n",
       "    }\n",
       "\n",
       "    .dataframe tbody tr th {\n",
       "        vertical-align: top;\n",
       "    }\n",
       "\n",
       "    .dataframe thead th {\n",
       "        text-align: right;\n",
       "    }\n",
       "</style>\n",
       "<table border=\"1\" class=\"dataframe\">\n",
       "  <thead>\n",
       "    <tr style=\"text-align: right;\">\n",
       "      <th></th>\n",
       "      <th>author_id</th>\n",
       "      <th>author</th>\n",
       "    </tr>\n",
       "  </thead>\n",
       "  <tbody>\n",
       "    <tr>\n",
       "      <th>0</th>\n",
       "      <td>1</td>\n",
       "      <td>A.S. Byatt</td>\n",
       "    </tr>\n",
       "    <tr>\n",
       "      <th>1</th>\n",
       "      <td>2</td>\n",
       "      <td>Aesop/Laura Harris/Laura Gibbs</td>\n",
       "    </tr>\n",
       "    <tr>\n",
       "      <th>2</th>\n",
       "      <td>3</td>\n",
       "      <td>Agatha Christie</td>\n",
       "    </tr>\n",
       "    <tr>\n",
       "      <th>3</th>\n",
       "      <td>4</td>\n",
       "      <td>Alan Brennert</td>\n",
       "    </tr>\n",
       "    <tr>\n",
       "      <th>4</th>\n",
       "      <td>5</td>\n",
       "      <td>Alan Moore/David   Lloyd</td>\n",
       "    </tr>\n",
       "  </tbody>\n",
       "</table>\n",
       "</div>"
      ],
      "text/plain": [
       "   author_id                          author\n",
       "0          1                      A.S. Byatt\n",
       "1          2  Aesop/Laura Harris/Laura Gibbs\n",
       "2          3                 Agatha Christie\n",
       "3          4                   Alan Brennert\n",
       "4          5        Alan Moore/David   Lloyd"
      ]
     },
     "execution_count": 86,
     "metadata": {},
     "output_type": "execute_result"
    }
   ],
   "source": [
    "query = '''SELECT * FROM authors LIMIT 5'''\n",
    "con=engine.connect()\n",
    "pd.io.sql.read_sql(sql=text(query), con = con)"
   ]
  },
  {
   "cell_type": "code",
   "execution_count": 87,
   "metadata": {},
   "outputs": [
    {
     "data": {
      "text/html": [
       "<div>\n",
       "<style scoped>\n",
       "    .dataframe tbody tr th:only-of-type {\n",
       "        vertical-align: middle;\n",
       "    }\n",
       "\n",
       "    .dataframe tbody tr th {\n",
       "        vertical-align: top;\n",
       "    }\n",
       "\n",
       "    .dataframe thead th {\n",
       "        text-align: right;\n",
       "    }\n",
       "</style>\n",
       "<table border=\"1\" class=\"dataframe\">\n",
       "  <thead>\n",
       "    <tr style=\"text-align: right;\">\n",
       "      <th></th>\n",
       "      <th>publisher_id</th>\n",
       "      <th>publisher</th>\n",
       "    </tr>\n",
       "  </thead>\n",
       "  <tbody>\n",
       "    <tr>\n",
       "      <th>0</th>\n",
       "      <td>1</td>\n",
       "      <td>Ace</td>\n",
       "    </tr>\n",
       "    <tr>\n",
       "      <th>1</th>\n",
       "      <td>2</td>\n",
       "      <td>Ace Book</td>\n",
       "    </tr>\n",
       "    <tr>\n",
       "      <th>2</th>\n",
       "      <td>3</td>\n",
       "      <td>Ace Books</td>\n",
       "    </tr>\n",
       "    <tr>\n",
       "      <th>3</th>\n",
       "      <td>4</td>\n",
       "      <td>Ace Hardcover</td>\n",
       "    </tr>\n",
       "    <tr>\n",
       "      <th>4</th>\n",
       "      <td>5</td>\n",
       "      <td>Addison Wesley Publishing Company</td>\n",
       "    </tr>\n",
       "  </tbody>\n",
       "</table>\n",
       "</div>"
      ],
      "text/plain": [
       "   publisher_id                          publisher\n",
       "0             1                                Ace\n",
       "1             2                           Ace Book\n",
       "2             3                          Ace Books\n",
       "3             4                      Ace Hardcover\n",
       "4             5  Addison Wesley Publishing Company"
      ]
     },
     "execution_count": 87,
     "metadata": {},
     "output_type": "execute_result"
    }
   ],
   "source": [
    "query = '''SELECT * FROM publishers LIMIT 5'''\n",
    "con=engine.connect()\n",
    "pd.io.sql.read_sql(sql=text(query), con = con)"
   ]
  },
  {
   "cell_type": "code",
   "execution_count": 88,
   "metadata": {},
   "outputs": [
    {
     "data": {
      "text/html": [
       "<div>\n",
       "<style scoped>\n",
       "    .dataframe tbody tr th:only-of-type {\n",
       "        vertical-align: middle;\n",
       "    }\n",
       "\n",
       "    .dataframe tbody tr th {\n",
       "        vertical-align: top;\n",
       "    }\n",
       "\n",
       "    .dataframe thead th {\n",
       "        text-align: right;\n",
       "    }\n",
       "</style>\n",
       "<table border=\"1\" class=\"dataframe\">\n",
       "  <thead>\n",
       "    <tr style=\"text-align: right;\">\n",
       "      <th></th>\n",
       "      <th>rating_id</th>\n",
       "      <th>book_id</th>\n",
       "      <th>username</th>\n",
       "      <th>rating</th>\n",
       "    </tr>\n",
       "  </thead>\n",
       "  <tbody>\n",
       "    <tr>\n",
       "      <th>0</th>\n",
       "      <td>1</td>\n",
       "      <td>1</td>\n",
       "      <td>ryanfranco</td>\n",
       "      <td>4</td>\n",
       "    </tr>\n",
       "    <tr>\n",
       "      <th>1</th>\n",
       "      <td>2</td>\n",
       "      <td>1</td>\n",
       "      <td>grantpatricia</td>\n",
       "      <td>2</td>\n",
       "    </tr>\n",
       "    <tr>\n",
       "      <th>2</th>\n",
       "      <td>3</td>\n",
       "      <td>1</td>\n",
       "      <td>brandtandrea</td>\n",
       "      <td>5</td>\n",
       "    </tr>\n",
       "    <tr>\n",
       "      <th>3</th>\n",
       "      <td>4</td>\n",
       "      <td>2</td>\n",
       "      <td>lorichen</td>\n",
       "      <td>3</td>\n",
       "    </tr>\n",
       "    <tr>\n",
       "      <th>4</th>\n",
       "      <td>5</td>\n",
       "      <td>2</td>\n",
       "      <td>mariokeller</td>\n",
       "      <td>2</td>\n",
       "    </tr>\n",
       "  </tbody>\n",
       "</table>\n",
       "</div>"
      ],
      "text/plain": [
       "   rating_id  book_id       username  rating\n",
       "0          1        1     ryanfranco       4\n",
       "1          2        1  grantpatricia       2\n",
       "2          3        1   brandtandrea       5\n",
       "3          4        2       lorichen       3\n",
       "4          5        2    mariokeller       2"
      ]
     },
     "execution_count": 88,
     "metadata": {},
     "output_type": "execute_result"
    }
   ],
   "source": [
    "query = '''SELECT * FROM ratings LIMIT 5'''\n",
    "con=engine.connect()\n",
    "pd.io.sql.read_sql(sql=text(query), con = con)"
   ]
  },
  {
   "cell_type": "code",
   "execution_count": 89,
   "metadata": {
    "scrolled": true
   },
   "outputs": [
    {
     "data": {
      "text/html": [
       "<div>\n",
       "<style scoped>\n",
       "    .dataframe tbody tr th:only-of-type {\n",
       "        vertical-align: middle;\n",
       "    }\n",
       "\n",
       "    .dataframe tbody tr th {\n",
       "        vertical-align: top;\n",
       "    }\n",
       "\n",
       "    .dataframe thead th {\n",
       "        text-align: right;\n",
       "    }\n",
       "</style>\n",
       "<table border=\"1\" class=\"dataframe\">\n",
       "  <thead>\n",
       "    <tr style=\"text-align: right;\">\n",
       "      <th></th>\n",
       "      <th>review_id</th>\n",
       "      <th>book_id</th>\n",
       "      <th>username</th>\n",
       "      <th>text</th>\n",
       "    </tr>\n",
       "  </thead>\n",
       "  <tbody>\n",
       "    <tr>\n",
       "      <th>0</th>\n",
       "      <td>1</td>\n",
       "      <td>1</td>\n",
       "      <td>brandtandrea</td>\n",
       "      <td>Mention society tell send professor analysis. ...</td>\n",
       "    </tr>\n",
       "    <tr>\n",
       "      <th>1</th>\n",
       "      <td>2</td>\n",
       "      <td>1</td>\n",
       "      <td>ryanfranco</td>\n",
       "      <td>Foot glass pretty audience hit themselves. Amo...</td>\n",
       "    </tr>\n",
       "    <tr>\n",
       "      <th>2</th>\n",
       "      <td>3</td>\n",
       "      <td>2</td>\n",
       "      <td>lorichen</td>\n",
       "      <td>Listen treat keep worry. Miss husband tax but ...</td>\n",
       "    </tr>\n",
       "    <tr>\n",
       "      <th>3</th>\n",
       "      <td>4</td>\n",
       "      <td>3</td>\n",
       "      <td>johnsonamanda</td>\n",
       "      <td>Finally month interesting blue could nature cu...</td>\n",
       "    </tr>\n",
       "    <tr>\n",
       "      <th>4</th>\n",
       "      <td>5</td>\n",
       "      <td>3</td>\n",
       "      <td>scotttamara</td>\n",
       "      <td>Nation purpose heavy give wait song will. List...</td>\n",
       "    </tr>\n",
       "  </tbody>\n",
       "</table>\n",
       "</div>"
      ],
      "text/plain": [
       "   review_id  book_id       username  \\\n",
       "0          1        1   brandtandrea   \n",
       "1          2        1     ryanfranco   \n",
       "2          3        2       lorichen   \n",
       "3          4        3  johnsonamanda   \n",
       "4          5        3    scotttamara   \n",
       "\n",
       "                                                text  \n",
       "0  Mention society tell send professor analysis. ...  \n",
       "1  Foot glass pretty audience hit themselves. Amo...  \n",
       "2  Listen treat keep worry. Miss husband tax but ...  \n",
       "3  Finally month interesting blue could nature cu...  \n",
       "4  Nation purpose heavy give wait song will. List...  "
      ]
     },
     "execution_count": 89,
     "metadata": {},
     "output_type": "execute_result"
    }
   ],
   "source": [
    "query = '''SELECT * FROM reviews LIMIT 5'''\n",
    "con=engine.connect()\n",
    "pd.io.sql.read_sql(sql=text(query), con = con)"
   ]
  },
  {
   "cell_type": "code",
   "execution_count": 90,
   "metadata": {},
   "outputs": [
    {
     "data": {
      "text/html": [
       "<div>\n",
       "<style scoped>\n",
       "    .dataframe tbody tr th:only-of-type {\n",
       "        vertical-align: middle;\n",
       "    }\n",
       "\n",
       "    .dataframe tbody tr th {\n",
       "        vertical-align: top;\n",
       "    }\n",
       "\n",
       "    .dataframe thead th {\n",
       "        text-align: right;\n",
       "    }\n",
       "</style>\n",
       "<table border=\"1\" class=\"dataframe\">\n",
       "  <thead>\n",
       "    <tr style=\"text-align: right;\">\n",
       "      <th></th>\n",
       "      <th>count</th>\n",
       "    </tr>\n",
       "  </thead>\n",
       "  <tbody>\n",
       "    <tr>\n",
       "      <th>0</th>\n",
       "      <td>819</td>\n",
       "    </tr>\n",
       "  </tbody>\n",
       "</table>\n",
       "</div>"
      ],
      "text/plain": [
       "   count\n",
       "0    819"
      ]
     },
     "execution_count": 90,
     "metadata": {},
     "output_type": "execute_result"
    }
   ],
   "source": [
    "#Посчитать, сколько книг вышло после 1 января 2000 года;\n",
    "query= '''SELECT count(book_id)\n",
    "            FROM books\n",
    "            where publication_date> '2000-01-01'  '''\n",
    "\n",
    "con=engine.connect()\n",
    "pd.io.sql.read_sql(sql=text(query), con = con)"
   ]
  },
  {
   "cell_type": "markdown",
   "metadata": {},
   "source": [
    "819 книг из базы данных books удовлетворяют условию выпуска позднее 01.01.2000."
   ]
  },
  {
   "cell_type": "code",
   "execution_count": 91,
   "metadata": {
    "scrolled": true
   },
   "outputs": [
    {
     "data": {
      "text/html": [
       "<div>\n",
       "<style scoped>\n",
       "    .dataframe tbody tr th:only-of-type {\n",
       "        vertical-align: middle;\n",
       "    }\n",
       "\n",
       "    .dataframe tbody tr th {\n",
       "        vertical-align: top;\n",
       "    }\n",
       "\n",
       "    .dataframe thead th {\n",
       "        text-align: right;\n",
       "    }\n",
       "</style>\n",
       "<table border=\"1\" class=\"dataframe\">\n",
       "  <thead>\n",
       "    <tr style=\"text-align: right;\">\n",
       "      <th></th>\n",
       "      <th>count_reviews</th>\n",
       "    </tr>\n",
       "  </thead>\n",
       "  <tbody>\n",
       "    <tr>\n",
       "      <th>0</th>\n",
       "      <td>2793</td>\n",
       "    </tr>\n",
       "  </tbody>\n",
       "</table>\n",
       "</div>"
      ],
      "text/plain": [
       "   count_reviews\n",
       "0           2793"
      ]
     },
     "execution_count": 91,
     "metadata": {},
     "output_type": "execute_result"
    }
   ],
   "source": [
    "#проверка суммы ревью в таблице reviews\n",
    "query = '''SELECT count(review_id) count_reviews FROM reviews '''\n",
    "con=engine.connect()\n",
    "pd.io.sql.read_sql(sql=text(query), con = con)"
   ]
  },
  {
   "cell_type": "code",
   "execution_count": 92,
   "metadata": {},
   "outputs": [
    {
     "data": {
      "text/html": [
       "<div>\n",
       "<style scoped>\n",
       "    .dataframe tbody tr th:only-of-type {\n",
       "        vertical-align: middle;\n",
       "    }\n",
       "\n",
       "    .dataframe tbody tr th {\n",
       "        vertical-align: top;\n",
       "    }\n",
       "\n",
       "    .dataframe thead th {\n",
       "        text-align: right;\n",
       "    }\n",
       "</style>\n",
       "<table border=\"1\" class=\"dataframe\">\n",
       "  <thead>\n",
       "    <tr style=\"text-align: right;\">\n",
       "      <th></th>\n",
       "      <th>book_id</th>\n",
       "      <th>title</th>\n",
       "      <th>review_counts</th>\n",
       "      <th>average_rating</th>\n",
       "    </tr>\n",
       "  </thead>\n",
       "  <tbody>\n",
       "    <tr>\n",
       "      <th>0</th>\n",
       "      <td>716</td>\n",
       "      <td>The Epic of Gilgamesh</td>\n",
       "      <td>2</td>\n",
       "      <td>3.000000</td>\n",
       "    </tr>\n",
       "    <tr>\n",
       "      <th>1</th>\n",
       "      <td>499</td>\n",
       "      <td>Pandora's Star</td>\n",
       "      <td>2</td>\n",
       "      <td>3.000000</td>\n",
       "    </tr>\n",
       "    <tr>\n",
       "      <th>2</th>\n",
       "      <td>838</td>\n",
       "      <td>The Princess Diaries (The Princess Diaries  #1)</td>\n",
       "      <td>3</td>\n",
       "      <td>3.875000</td>\n",
       "    </tr>\n",
       "    <tr>\n",
       "      <th>3</th>\n",
       "      <td>796</td>\n",
       "      <td>The Midwife's Apprentice</td>\n",
       "      <td>2</td>\n",
       "      <td>4.000000</td>\n",
       "    </tr>\n",
       "    <tr>\n",
       "      <th>4</th>\n",
       "      <td>455</td>\n",
       "      <td>Murder at the Vicarage (Miss Marple  #1)</td>\n",
       "      <td>3</td>\n",
       "      <td>4.400000</td>\n",
       "    </tr>\n",
       "    <tr>\n",
       "      <th>5</th>\n",
       "      <td>522</td>\n",
       "      <td>Practical Demonkeeping (Pine Cove  #1)</td>\n",
       "      <td>2</td>\n",
       "      <td>4.500000</td>\n",
       "    </tr>\n",
       "    <tr>\n",
       "      <th>6</th>\n",
       "      <td>422</td>\n",
       "      <td>Matilda</td>\n",
       "      <td>4</td>\n",
       "      <td>4.421053</td>\n",
       "    </tr>\n",
       "    <tr>\n",
       "      <th>7</th>\n",
       "      <td>476</td>\n",
       "      <td>Nicolae (Left Behind  #3)</td>\n",
       "      <td>2</td>\n",
       "      <td>4.000000</td>\n",
       "    </tr>\n",
       "    <tr>\n",
       "      <th>8</th>\n",
       "      <td>843</td>\n",
       "      <td>The Quiet American</td>\n",
       "      <td>2</td>\n",
       "      <td>4.500000</td>\n",
       "    </tr>\n",
       "    <tr>\n",
       "      <th>9</th>\n",
       "      <td>958</td>\n",
       "      <td>Veronika Decides to Die</td>\n",
       "      <td>4</td>\n",
       "      <td>3.400000</td>\n",
       "    </tr>\n",
       "  </tbody>\n",
       "</table>\n",
       "</div>"
      ],
      "text/plain": [
       "   book_id                                            title  review_counts  \\\n",
       "0      716                            The Epic of Gilgamesh              2   \n",
       "1      499                                   Pandora's Star              2   \n",
       "2      838  The Princess Diaries (The Princess Diaries  #1)              3   \n",
       "3      796                         The Midwife's Apprentice              2   \n",
       "4      455         Murder at the Vicarage (Miss Marple  #1)              3   \n",
       "5      522           Practical Demonkeeping (Pine Cove  #1)              2   \n",
       "6      422                                          Matilda              4   \n",
       "7      476                        Nicolae (Left Behind  #3)              2   \n",
       "8      843                               The Quiet American              2   \n",
       "9      958                          Veronika Decides to Die              4   \n",
       "\n",
       "   average_rating  \n",
       "0        3.000000  \n",
       "1        3.000000  \n",
       "2        3.875000  \n",
       "3        4.000000  \n",
       "4        4.400000  \n",
       "5        4.500000  \n",
       "6        4.421053  \n",
       "7        4.000000  \n",
       "8        4.500000  \n",
       "9        3.400000  "
      ]
     },
     "execution_count": 92,
     "metadata": {},
     "output_type": "execute_result"
    }
   ],
   "source": [
    "# Для каждой книги посчитать количество обзоров и среднюю оценку;\n",
    "# ПОСЛЕ ИСПРАВЛЕНИЯ\n",
    "query= '''\n",
    "with \n",
    "rev_grouped as (\n",
    "\n",
    "select book_id,\n",
    "       count(review_id) review_counts\n",
    "       from reviews \n",
    "       group by book_id)\n",
    "       \n",
    "select b.book_id,\n",
    "       b.title,\n",
    "       rev_grouped.review_counts review_counts,\n",
    "       avg(rat.rating) average_rating\n",
    "from books b\n",
    "join rev_grouped on b.book_id=rev_grouped.book_id\n",
    "join ratings rat on b.book_id=rat.book_id\n",
    "group by b.book_id, rev_grouped.review_counts\n",
    "limit 10'''\n",
    "\n",
    "con=engine.connect()\n",
    "pd.io.sql.read_sql(sql=text(query), con = con)"
   ]
  },
  {
   "cell_type": "markdown",
   "metadata": {},
   "source": [
    "Для каждой книги выполнен расчет количества обзоров и среднего рейтинга."
   ]
  },
  {
   "cell_type": "code",
   "execution_count": 93,
   "metadata": {
    "scrolled": true
   },
   "outputs": [
    {
     "data": {
      "text/html": [
       "<div>\n",
       "<style scoped>\n",
       "    .dataframe tbody tr th:only-of-type {\n",
       "        vertical-align: middle;\n",
       "    }\n",
       "\n",
       "    .dataframe tbody tr th {\n",
       "        vertical-align: top;\n",
       "    }\n",
       "\n",
       "    .dataframe thead th {\n",
       "        text-align: right;\n",
       "    }\n",
       "</style>\n",
       "<table border=\"1\" class=\"dataframe\">\n",
       "  <thead>\n",
       "    <tr style=\"text-align: right;\">\n",
       "      <th></th>\n",
       "      <th>sum</th>\n",
       "    </tr>\n",
       "  </thead>\n",
       "  <tbody>\n",
       "    <tr>\n",
       "      <th>0</th>\n",
       "      <td>2793.0</td>\n",
       "    </tr>\n",
       "  </tbody>\n",
       "</table>\n",
       "</div>"
      ],
      "text/plain": [
       "      sum\n",
       "0  2793.0"
      ]
     },
     "execution_count": 93,
     "metadata": {},
     "output_type": "execute_result"
    }
   ],
   "source": [
    "# проверка суммы ревью при составлении запроса после корректировки\n",
    "query= '''\n",
    "with \n",
    "rev_grouped as (\n",
    "\n",
    "select book_id,\n",
    "       count(review_id) review_counts\n",
    "       from reviews \n",
    "       group by book_id),\n",
    "\n",
    "rev_count as (\n",
    "select b.book_id,\n",
    "       b.title,\n",
    "       rev_grouped.review_counts review_counts,\n",
    "       avg(rat.rating) average_rating\n",
    "from books b\n",
    "join rev_grouped on b.book_id=rev_grouped.book_id\n",
    "join ratings rat on b.book_id=rat.book_id\n",
    "group by b.book_id, rev_grouped.review_counts )\n",
    "\n",
    "select sum(review_counts)\n",
    "from rev_count\n",
    "'''\n",
    "\n",
    "con=engine.connect()\n",
    "pd.io.sql.read_sql(sql=text(query), con = con)"
   ]
  },
  {
   "cell_type": "code",
   "execution_count": 94,
   "metadata": {
    "scrolled": true
   },
   "outputs": [
    {
     "data": {
      "text/html": [
       "<div>\n",
       "<style scoped>\n",
       "    .dataframe tbody tr th:only-of-type {\n",
       "        vertical-align: middle;\n",
       "    }\n",
       "\n",
       "    .dataframe tbody tr th {\n",
       "        vertical-align: top;\n",
       "    }\n",
       "\n",
       "    .dataframe thead th {\n",
       "        text-align: right;\n",
       "    }\n",
       "</style>\n",
       "<table border=\"1\" class=\"dataframe\">\n",
       "  <thead>\n",
       "    <tr style=\"text-align: right;\">\n",
       "      <th></th>\n",
       "      <th>publisher_id</th>\n",
       "      <th>publisher</th>\n",
       "      <th>count</th>\n",
       "    </tr>\n",
       "  </thead>\n",
       "  <tbody>\n",
       "    <tr>\n",
       "      <th>0</th>\n",
       "      <td>212</td>\n",
       "      <td>Penguin Books</td>\n",
       "      <td>42</td>\n",
       "    </tr>\n",
       "  </tbody>\n",
       "</table>\n",
       "</div>"
      ],
      "text/plain": [
       "   publisher_id      publisher  count\n",
       "0           212  Penguin Books     42"
      ]
     },
     "execution_count": 94,
     "metadata": {},
     "output_type": "execute_result"
    }
   ],
   "source": [
    "#Определить издательство, которое выпустило наибольшее число книг толще 50 страниц;\n",
    "query= '''\n",
    "select  pub.publisher_id,\n",
    "        pub.publisher,\n",
    "        count(b.book_id)\n",
    "from publishers pub\n",
    "join books b on pub.publisher_id=b.publisher_id\n",
    "where b.num_pages>50\n",
    "group by pub.publisher_id\n",
    "order by count(b.book_id) desc\n",
    "limit 1'''\n",
    "\n",
    "con=engine.connect()\n",
    "pd.io.sql.read_sql(sql=text(query), con = con)"
   ]
  },
  {
   "cell_type": "markdown",
   "metadata": {},
   "source": [
    "Издательство Penguin Books\tвыпустило 42 книги толще 50 страниц - это максимальный показатель."
   ]
  },
  {
   "cell_type": "code",
   "execution_count": 95,
   "metadata": {
    "scrolled": true
   },
   "outputs": [
    {
     "data": {
      "text/html": [
       "<div>\n",
       "<style scoped>\n",
       "    .dataframe tbody tr th:only-of-type {\n",
       "        vertical-align: middle;\n",
       "    }\n",
       "\n",
       "    .dataframe tbody tr th {\n",
       "        vertical-align: top;\n",
       "    }\n",
       "\n",
       "    .dataframe thead th {\n",
       "        text-align: right;\n",
       "    }\n",
       "</style>\n",
       "<table border=\"1\" class=\"dataframe\">\n",
       "  <thead>\n",
       "    <tr style=\"text-align: right;\">\n",
       "      <th></th>\n",
       "      <th>author_id</th>\n",
       "      <th>author</th>\n",
       "      <th>count_of_ratings</th>\n",
       "      <th>average_rating</th>\n",
       "    </tr>\n",
       "  </thead>\n",
       "  <tbody>\n",
       "    <tr>\n",
       "      <th>0</th>\n",
       "      <td>236</td>\n",
       "      <td>J.K. Rowling/Mary GrandPré</td>\n",
       "      <td>312</td>\n",
       "      <td>4.288462</td>\n",
       "    </tr>\n",
       "  </tbody>\n",
       "</table>\n",
       "</div>"
      ],
      "text/plain": [
       "   author_id                      author  count_of_ratings  average_rating\n",
       "0        236  J.K. Rowling/Mary GrandPré               312        4.288462"
      ]
     },
     "execution_count": 95,
     "metadata": {},
     "output_type": "execute_result"
    }
   ],
   "source": [
    "#Определить автора с самой высокой средней оценкой книг для книг с 50 и более оценками;\n",
    "query = '''\n",
    "select a.author_id,\n",
    "       a.author,\n",
    "       count(rat.rating_id) count_of_ratings,\n",
    "       AVG(rat.rating) average_rating\n",
    "from authors a \n",
    "join books b on a.author_id=b.author_id\n",
    "join ratings rat on b.book_id=rat.book_id\n",
    "\n",
    "group by a.author_id\n",
    "having count(rat.rating_id)>50\n",
    "order by AVG(rat.rating) desc\n",
    "limit 1'''\n",
    "\n",
    "con=engine.connect()\n",
    "pd.io.sql.read_sql(sql=text(query), con = con)"
   ]
  },
  {
   "cell_type": "markdown",
   "metadata": {},
   "source": [
    "Самая высокая средняя оценка книг для книг с 50 и более оценками принадлежит J.K. Rowling/Mary GrandPré\t."
   ]
  },
  {
   "cell_type": "code",
   "execution_count": 96,
   "metadata": {
    "scrolled": false
   },
   "outputs": [
    {
     "data": {
      "text/html": [
       "<div>\n",
       "<style scoped>\n",
       "    .dataframe tbody tr th:only-of-type {\n",
       "        vertical-align: middle;\n",
       "    }\n",
       "\n",
       "    .dataframe tbody tr th {\n",
       "        vertical-align: top;\n",
       "    }\n",
       "\n",
       "    .dataframe thead th {\n",
       "        text-align: right;\n",
       "    }\n",
       "</style>\n",
       "<table border=\"1\" class=\"dataframe\">\n",
       "  <thead>\n",
       "    <tr style=\"text-align: right;\">\n",
       "      <th></th>\n",
       "      <th>avg</th>\n",
       "    </tr>\n",
       "  </thead>\n",
       "  <tbody>\n",
       "    <tr>\n",
       "      <th>0</th>\n",
       "      <td>24.0</td>\n",
       "    </tr>\n",
       "  </tbody>\n",
       "</table>\n",
       "</div>"
      ],
      "text/plain": [
       "    avg\n",
       "0  24.0"
      ]
     },
     "execution_count": 96,
     "metadata": {},
     "output_type": "execute_result"
    }
   ],
   "source": [
    "#Посчитать среднее количество обзоров от пользователей, которые поставили больше 48 оценок.\n",
    "query = ''' \n",
    "\n",
    "with rat_48 as (\n",
    "select rat.username user_name\n",
    "from ratings rat \n",
    "group by rat.username\n",
    "having count(rat.rating_id)>48),\n",
    "\n",
    "rev_count as (\n",
    "select count(rev.review_id) total_count\n",
    "from reviews  rev\n",
    "join rat_48 on rev.username=rat_48.user_name\n",
    "group by rev.username)\n",
    "\n",
    "select avg(total_count)\n",
    "from rev_count '''\n",
    "\n",
    "con=engine.connect()\n",
    "pd.io.sql.read_sql(sql=text(query), con = con)"
   ]
  },
  {
   "cell_type": "markdown",
   "metadata": {},
   "source": [
    "Среднее количество обзоров от пользователей, которые поставили больше 48 оценок, составляет - 24."
   ]
  },
  {
   "cell_type": "markdown",
   "metadata": {},
   "source": [
    "<b>  Выводы</b>\n",
    "\n",
    "Задачей проекта являлся анализ базы данных сервиса книг по подписке.\n",
    "\n",
    "В базе данных — информация о книгах, издательствах, авторах, а также пользовательские обзоры книг.  \n",
    "\n",
    "В ходе выполнения проекта выполнены следующие задания:  \n",
    "- определено - сколько книг вышло после 1 января 2000 года - 819 книг из базы данных books удовлетворяют условию выпуска позднее 01.01.2000;  \n",
    "\n",
    "- Для каждой книги произведен расчет количества обзоров и средней оценки;  \n",
    "\n",
    "- Определено издательство, которое выпустило наибольшее число книг толще 50 страниц - Издательство Penguin Books\tвыпустило 42 книги толще 50 страниц - это максимальный показатель;  \n",
    "\n",
    "- Определен автор с самой высокой средней оценкой книг для книг с 50 и более оценками - Самая высокая средняя оценка книг для книг с 50 и более оценками принадлежит J.K. Rowling/Mary GrandPré;\n",
    "\n",
    "- Определено среднее количество обзоров от пользователей, которые поставили больше 48 оценок - согласно расчета это 24."
   ]
  }
 ],
 "metadata": {
  "ExecuteTimeLog": [
   {
    "duration": 234,
    "start_time": "2023-09-14T13:25:23.582Z"
   },
   {
    "duration": 13608,
    "start_time": "2023-09-14T13:25:44.903Z"
   },
   {
    "duration": 3,
    "start_time": "2023-09-14T13:41:28.602Z"
   },
   {
    "duration": 129,
    "start_time": "2023-09-14T13:41:45.388Z"
   },
   {
    "duration": 253,
    "start_time": "2023-09-14T13:44:15.978Z"
   },
   {
    "duration": 140,
    "start_time": "2023-09-14T13:44:16.234Z"
   },
   {
    "duration": 50,
    "start_time": "2023-09-14T13:44:16.376Z"
   },
   {
    "duration": 78,
    "start_time": "2023-09-14T13:44:16.430Z"
   },
   {
    "duration": 55,
    "start_time": "2023-09-14T13:44:16.509Z"
   },
   {
    "duration": 53,
    "start_time": "2023-09-14T13:52:56.876Z"
   },
   {
    "duration": 50,
    "start_time": "2023-09-14T13:54:12.401Z"
   },
   {
    "duration": 51,
    "start_time": "2023-09-14T13:56:42.086Z"
   },
   {
    "duration": 53,
    "start_time": "2023-09-14T13:56:53.590Z"
   },
   {
    "duration": 64,
    "start_time": "2023-09-14T13:57:43.710Z"
   },
   {
    "duration": 58,
    "start_time": "2023-09-14T14:10:52.358Z"
   },
   {
    "duration": 203,
    "start_time": "2023-09-14T14:11:23.190Z"
   },
   {
    "duration": 49,
    "start_time": "2023-09-14T14:12:07.557Z"
   },
   {
    "duration": 158,
    "start_time": "2023-09-14T14:12:29.743Z"
   },
   {
    "duration": 85,
    "start_time": "2023-09-14T14:14:10.275Z"
   },
   {
    "duration": 54,
    "start_time": "2023-09-14T14:14:38.418Z"
   },
   {
    "duration": 116,
    "start_time": "2023-09-14T14:15:13.972Z"
   },
   {
    "duration": 62,
    "start_time": "2023-09-14T14:15:18.874Z"
   },
   {
    "duration": 62,
    "start_time": "2023-09-14T14:17:26.073Z"
   },
   {
    "duration": 75,
    "start_time": "2023-09-14T14:28:07.026Z"
   },
   {
    "duration": 62,
    "start_time": "2023-09-14T14:29:53.075Z"
   },
   {
    "duration": 56,
    "start_time": "2023-09-14T14:30:37.434Z"
   },
   {
    "duration": 148,
    "start_time": "2023-09-14T14:31:21.886Z"
   },
   {
    "duration": 64,
    "start_time": "2023-09-14T14:46:25.501Z"
   },
   {
    "duration": 56,
    "start_time": "2023-09-14T14:47:12.680Z"
   },
   {
    "duration": 66,
    "start_time": "2023-09-14T14:48:11.390Z"
   },
   {
    "duration": 56,
    "start_time": "2023-09-14T14:48:56.476Z"
   },
   {
    "duration": 58,
    "start_time": "2023-09-14T15:22:05.974Z"
   },
   {
    "duration": 64,
    "start_time": "2023-09-14T15:22:23.546Z"
   },
   {
    "duration": 76,
    "start_time": "2023-09-14T15:24:16.279Z"
   },
   {
    "duration": 57,
    "start_time": "2023-09-14T15:27:38.288Z"
   },
   {
    "duration": 158,
    "start_time": "2023-09-14T15:29:01.782Z"
   },
   {
    "duration": 64,
    "start_time": "2023-09-14T15:29:18.859Z"
   },
   {
    "duration": 61,
    "start_time": "2023-09-14T15:31:20.978Z"
   },
   {
    "duration": 54,
    "start_time": "2023-09-14T15:31:56.779Z"
   },
   {
    "duration": 73,
    "start_time": "2023-09-14T15:46:01.558Z"
   },
   {
    "duration": 72,
    "start_time": "2023-09-14T17:38:18.981Z"
   },
   {
    "duration": 63,
    "start_time": "2023-09-14T17:38:42.362Z"
   },
   {
    "duration": 63,
    "start_time": "2023-09-14T17:38:58.938Z"
   },
   {
    "duration": 71,
    "start_time": "2023-09-14T17:39:34.627Z"
   },
   {
    "duration": 61,
    "start_time": "2023-09-14T17:40:11.746Z"
   },
   {
    "duration": 145,
    "start_time": "2023-09-14T17:40:29.496Z"
   },
   {
    "duration": 251,
    "start_time": "2023-09-14T17:48:22.321Z"
   },
   {
    "duration": 158,
    "start_time": "2023-09-14T17:48:33.133Z"
   },
   {
    "duration": 70,
    "start_time": "2023-09-14T17:49:40.991Z"
   },
   {
    "duration": 44,
    "start_time": "2023-09-14T17:52:12.081Z"
   },
   {
    "duration": 55,
    "start_time": "2023-09-14T17:55:15.690Z"
   },
   {
    "duration": 12519,
    "start_time": "2023-09-14T19:39:05.835Z"
   },
   {
    "duration": 75,
    "start_time": "2023-09-14T19:39:18.357Z"
   },
   {
    "duration": 11,
    "start_time": "2023-09-14T19:39:18.434Z"
   },
   {
    "duration": 28,
    "start_time": "2023-09-14T19:39:18.447Z"
   },
   {
    "duration": 16,
    "start_time": "2023-09-14T19:39:18.478Z"
   },
   {
    "duration": 11,
    "start_time": "2023-09-14T19:39:18.496Z"
   },
   {
    "duration": 24,
    "start_time": "2023-09-14T19:39:18.508Z"
   },
   {
    "duration": 18,
    "start_time": "2023-09-14T19:39:18.534Z"
   },
   {
    "duration": 35,
    "start_time": "2023-09-14T19:39:18.554Z"
   },
   {
    "duration": 16,
    "start_time": "2023-09-14T19:39:18.591Z"
   },
   {
    "duration": 9998,
    "start_time": "2023-09-15T06:57:04.999Z"
   },
   {
    "duration": 85,
    "start_time": "2023-09-15T06:57:14.999Z"
   },
   {
    "duration": 11,
    "start_time": "2023-09-15T06:57:15.086Z"
   },
   {
    "duration": 43,
    "start_time": "2023-09-15T06:57:15.099Z"
   },
   {
    "duration": 13,
    "start_time": "2023-09-15T06:57:15.144Z"
   },
   {
    "duration": 25,
    "start_time": "2023-09-15T06:57:15.158Z"
   },
   {
    "duration": 35,
    "start_time": "2023-09-15T06:57:15.185Z"
   },
   {
    "duration": 48,
    "start_time": "2023-09-15T06:57:15.222Z"
   },
   {
    "duration": 13,
    "start_time": "2023-09-15T06:57:15.272Z"
   },
   {
    "duration": 28,
    "start_time": "2023-09-15T06:57:15.287Z"
   },
   {
    "duration": 14,
    "start_time": "2023-09-15T06:57:15.318Z"
   },
   {
    "duration": 45,
    "start_time": "2023-09-15T06:59:01.512Z"
   },
   {
    "duration": 39,
    "start_time": "2023-09-15T06:59:01.559Z"
   },
   {
    "duration": 10,
    "start_time": "2023-09-15T06:59:01.600Z"
   },
   {
    "duration": 21,
    "start_time": "2023-09-15T06:59:01.612Z"
   },
   {
    "duration": 42,
    "start_time": "2023-09-15T06:59:01.635Z"
   },
   {
    "duration": 27,
    "start_time": "2023-09-15T06:59:01.678Z"
   },
   {
    "duration": 109,
    "start_time": "2023-09-15T06:59:01.707Z"
   },
   {
    "duration": 0,
    "start_time": "2023-09-15T06:59:01.818Z"
   },
   {
    "duration": 0,
    "start_time": "2023-09-15T06:59:01.819Z"
   },
   {
    "duration": 0,
    "start_time": "2023-09-15T06:59:01.821Z"
   },
   {
    "duration": 0,
    "start_time": "2023-09-15T06:59:01.823Z"
   },
   {
    "duration": 22,
    "start_time": "2023-09-15T06:59:58.549Z"
   },
   {
    "duration": 57,
    "start_time": "2023-09-15T07:01:19.989Z"
   },
   {
    "duration": 63,
    "start_time": "2023-09-15T07:01:29.685Z"
   },
   {
    "duration": 64,
    "start_time": "2023-09-15T07:03:39.019Z"
   },
   {
    "duration": 21,
    "start_time": "2023-09-15T07:04:41.126Z"
   },
   {
    "duration": 22,
    "start_time": "2023-09-15T07:05:55.538Z"
   },
   {
    "duration": 21,
    "start_time": "2023-09-15T07:06:03.956Z"
   },
   {
    "duration": 24,
    "start_time": "2023-09-15T07:06:41.485Z"
   },
   {
    "duration": 49,
    "start_time": "2023-09-15T07:07:00.465Z"
   },
   {
    "duration": 78,
    "start_time": "2023-09-15T07:07:00.515Z"
   },
   {
    "duration": 172,
    "start_time": "2023-09-15T07:07:00.594Z"
   },
   {
    "duration": 122,
    "start_time": "2023-09-15T07:07:00.767Z"
   },
   {
    "duration": 172,
    "start_time": "2023-09-15T07:07:00.891Z"
   },
   {
    "duration": 30,
    "start_time": "2023-09-15T07:07:01.065Z"
   },
   {
    "duration": 44,
    "start_time": "2023-09-15T07:07:01.097Z"
   },
   {
    "duration": 59,
    "start_time": "2023-09-15T07:07:01.143Z"
   },
   {
    "duration": 96,
    "start_time": "2023-09-15T07:07:01.204Z"
   },
   {
    "duration": 62,
    "start_time": "2023-09-15T07:07:01.302Z"
   },
   {
    "duration": 0,
    "start_time": "2023-09-15T07:07:01.366Z"
   },
   {
    "duration": 0,
    "start_time": "2023-09-15T07:07:01.367Z"
   },
   {
    "duration": 0,
    "start_time": "2023-09-15T07:07:01.368Z"
   },
   {
    "duration": 22,
    "start_time": "2023-09-15T07:08:54.207Z"
   },
   {
    "duration": 44,
    "start_time": "2023-09-15T07:17:03.463Z"
   },
   {
    "duration": 19,
    "start_time": "2023-09-15T07:19:05.865Z"
   },
   {
    "duration": 53,
    "start_time": "2023-09-15T07:19:30.629Z"
   },
   {
    "duration": 49,
    "start_time": "2023-09-15T07:32:53.170Z"
   },
   {
    "duration": 49,
    "start_time": "2023-09-15T07:33:37.786Z"
   },
   {
    "duration": 17,
    "start_time": "2023-09-15T07:36:18.476Z"
   },
   {
    "duration": 22,
    "start_time": "2023-09-15T07:36:48.273Z"
   },
   {
    "duration": 22,
    "start_time": "2023-09-15T07:37:32.514Z"
   },
   {
    "duration": 19,
    "start_time": "2023-09-15T07:39:53.288Z"
   },
   {
    "duration": 20,
    "start_time": "2023-09-15T07:40:11.874Z"
   },
   {
    "duration": 20,
    "start_time": "2023-09-15T07:41:20.226Z"
   },
   {
    "duration": 21,
    "start_time": "2023-09-15T07:42:06.487Z"
   },
   {
    "duration": 23,
    "start_time": "2023-09-15T07:42:48.001Z"
   },
   {
    "duration": 20,
    "start_time": "2023-09-15T07:49:52.342Z"
   },
   {
    "duration": 22,
    "start_time": "2023-09-15T07:50:17.321Z"
   },
   {
    "duration": 16,
    "start_time": "2023-09-15T07:50:31.339Z"
   },
   {
    "duration": 24,
    "start_time": "2023-09-15T07:53:01.438Z"
   },
   {
    "duration": 20,
    "start_time": "2023-09-15T07:54:32.503Z"
   },
   {
    "duration": 20,
    "start_time": "2023-09-15T07:55:59.503Z"
   },
   {
    "duration": 19,
    "start_time": "2023-09-15T07:56:06.098Z"
   },
   {
    "duration": 44,
    "start_time": "2023-09-15T08:02:12.429Z"
   },
   {
    "duration": 17,
    "start_time": "2023-09-15T08:02:46.608Z"
   },
   {
    "duration": 2,
    "start_time": "2023-09-15T08:03:13.099Z"
   },
   {
    "duration": 55,
    "start_time": "2023-09-15T08:05:28.617Z"
   },
   {
    "duration": 40,
    "start_time": "2023-09-15T08:05:28.674Z"
   },
   {
    "duration": 9,
    "start_time": "2023-09-15T08:05:28.716Z"
   },
   {
    "duration": 62,
    "start_time": "2023-09-15T08:05:28.727Z"
   },
   {
    "duration": 18,
    "start_time": "2023-09-15T08:05:28.791Z"
   },
   {
    "duration": 26,
    "start_time": "2023-09-15T08:05:28.810Z"
   },
   {
    "duration": 43,
    "start_time": "2023-09-15T08:05:28.838Z"
   },
   {
    "duration": 31,
    "start_time": "2023-09-15T08:05:28.883Z"
   },
   {
    "duration": 25,
    "start_time": "2023-09-15T08:05:28.915Z"
   },
   {
    "duration": 51,
    "start_time": "2023-09-15T08:05:28.945Z"
   },
   {
    "duration": 36,
    "start_time": "2023-09-15T08:05:28.998Z"
   },
   {
    "duration": 16,
    "start_time": "2023-09-15T08:05:29.036Z"
   },
   {
    "duration": 43,
    "start_time": "2023-09-15T08:13:53.019Z"
   },
   {
    "duration": 39,
    "start_time": "2023-09-15T08:13:53.064Z"
   },
   {
    "duration": 10,
    "start_time": "2023-09-15T08:13:53.105Z"
   },
   {
    "duration": 14,
    "start_time": "2023-09-15T08:13:53.117Z"
   },
   {
    "duration": 33,
    "start_time": "2023-09-15T08:13:53.133Z"
   },
   {
    "duration": 15,
    "start_time": "2023-09-15T08:13:53.168Z"
   },
   {
    "duration": 9,
    "start_time": "2023-09-15T08:13:53.184Z"
   },
   {
    "duration": 21,
    "start_time": "2023-09-15T08:13:53.195Z"
   },
   {
    "duration": 28,
    "start_time": "2023-09-15T08:13:53.217Z"
   },
   {
    "duration": 18,
    "start_time": "2023-09-15T08:13:53.248Z"
   },
   {
    "duration": 37,
    "start_time": "2023-09-15T08:13:53.268Z"
   },
   {
    "duration": 24,
    "start_time": "2023-09-15T08:13:53.307Z"
   },
   {
    "duration": 42,
    "start_time": "2023-09-15T08:21:26.384Z"
   },
   {
    "duration": 51,
    "start_time": "2023-09-15T08:21:26.428Z"
   },
   {
    "duration": 10,
    "start_time": "2023-09-15T08:21:26.481Z"
   },
   {
    "duration": 11,
    "start_time": "2023-09-15T08:21:26.493Z"
   },
   {
    "duration": 29,
    "start_time": "2023-09-15T08:21:26.506Z"
   },
   {
    "duration": 18,
    "start_time": "2023-09-15T08:21:26.537Z"
   },
   {
    "duration": 13,
    "start_time": "2023-09-15T08:21:26.557Z"
   },
   {
    "duration": 64,
    "start_time": "2023-09-15T08:21:26.572Z"
   },
   {
    "duration": 149,
    "start_time": "2023-09-15T08:21:26.637Z"
   },
   {
    "duration": 17,
    "start_time": "2023-09-15T08:21:26.788Z"
   },
   {
    "duration": 16,
    "start_time": "2023-09-15T08:21:26.806Z"
   },
   {
    "duration": 12,
    "start_time": "2023-09-15T08:21:26.824Z"
   }
  ],
  "kernelspec": {
   "display_name": "Python 3 (ipykernel)",
   "language": "python",
   "name": "python3"
  },
  "language_info": {
   "codemirror_mode": {
    "name": "ipython",
    "version": 3
   },
   "file_extension": ".py",
   "mimetype": "text/x-python",
   "name": "python",
   "nbconvert_exporter": "python",
   "pygments_lexer": "ipython3",
   "version": "3.9.13"
  },
  "toc": {
   "base_numbering": 1,
   "nav_menu": {},
   "number_sections": true,
   "sideBar": true,
   "skip_h1_title": true,
   "title_cell": "Table of Contents",
   "title_sidebar": "Contents",
   "toc_cell": false,
   "toc_position": {},
   "toc_section_display": true,
   "toc_window_display": true
  }
 },
 "nbformat": 4,
 "nbformat_minor": 2
}
