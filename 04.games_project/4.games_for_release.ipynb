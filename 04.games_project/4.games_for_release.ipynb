{
 "cells": [
  {
   "cell_type": "markdown",
   "id": "1263326a",
   "metadata": {},
   "source": [
    "<h2> Описание проекта<a class=\"tocSkip\"></h2>\n",
    "\n",
    "\n",
    "    Проектным заданием является анализ продаж интернет-магазина «Стримчик», который продаёт по всему миру компьютерные игры. \n",
    "    Из открытых источников доступны исторические данные о продажах игр, оценки пользователей и экспертов, жанры и платформы (например, Xbox или PlayStation). \n",
    "    Нужно выявить определяющие успешность игры закономерности. Это позволит сделать ставку на потенциально популярный продукт и спланировать рекламные кампании.\n",
    "    Представлены данные до 2016 года, предполагается кампания на  2017-й. Нужно отработать принцип работы с данными. "
   ]
  },
  {
   "cell_type": "markdown",
   "id": "b5e9b3a7",
   "metadata": {},
   "source": [
    "<b> Шаг 1. Открываем файл с данными и изучаем общую информацию </b>"
   ]
  },
  {
   "cell_type": "code",
   "execution_count": 106,
   "id": "7993f59d",
   "metadata": {},
   "outputs": [
    {
     "data": {
      "text/html": [
       "<div>\n",
       "<style scoped>\n",
       "    .dataframe tbody tr th:only-of-type {\n",
       "        vertical-align: middle;\n",
       "    }\n",
       "\n",
       "    .dataframe tbody tr th {\n",
       "        vertical-align: top;\n",
       "    }\n",
       "\n",
       "    .dataframe thead th {\n",
       "        text-align: right;\n",
       "    }\n",
       "</style>\n",
       "<table border=\"1\" class=\"dataframe\">\n",
       "  <thead>\n",
       "    <tr style=\"text-align: right;\">\n",
       "      <th></th>\n",
       "      <th>Name</th>\n",
       "      <th>Platform</th>\n",
       "      <th>Year_of_Release</th>\n",
       "      <th>Genre</th>\n",
       "      <th>NA_sales</th>\n",
       "      <th>EU_sales</th>\n",
       "      <th>JP_sales</th>\n",
       "      <th>Other_sales</th>\n",
       "      <th>Critic_Score</th>\n",
       "      <th>User_Score</th>\n",
       "      <th>Rating</th>\n",
       "    </tr>\n",
       "  </thead>\n",
       "  <tbody>\n",
       "    <tr>\n",
       "      <th>0</th>\n",
       "      <td>Wii Sports</td>\n",
       "      <td>Wii</td>\n",
       "      <td>2006.0</td>\n",
       "      <td>Sports</td>\n",
       "      <td>41.36</td>\n",
       "      <td>28.96</td>\n",
       "      <td>3.77</td>\n",
       "      <td>8.45</td>\n",
       "      <td>76.0</td>\n",
       "      <td>8</td>\n",
       "      <td>E</td>\n",
       "    </tr>\n",
       "    <tr>\n",
       "      <th>1</th>\n",
       "      <td>Super Mario Bros.</td>\n",
       "      <td>NES</td>\n",
       "      <td>1985.0</td>\n",
       "      <td>Platform</td>\n",
       "      <td>29.08</td>\n",
       "      <td>3.58</td>\n",
       "      <td>6.81</td>\n",
       "      <td>0.77</td>\n",
       "      <td>NaN</td>\n",
       "      <td>NaN</td>\n",
       "      <td>NaN</td>\n",
       "    </tr>\n",
       "    <tr>\n",
       "      <th>2</th>\n",
       "      <td>Mario Kart Wii</td>\n",
       "      <td>Wii</td>\n",
       "      <td>2008.0</td>\n",
       "      <td>Racing</td>\n",
       "      <td>15.68</td>\n",
       "      <td>12.76</td>\n",
       "      <td>3.79</td>\n",
       "      <td>3.29</td>\n",
       "      <td>82.0</td>\n",
       "      <td>8.3</td>\n",
       "      <td>E</td>\n",
       "    </tr>\n",
       "    <tr>\n",
       "      <th>3</th>\n",
       "      <td>Wii Sports Resort</td>\n",
       "      <td>Wii</td>\n",
       "      <td>2009.0</td>\n",
       "      <td>Sports</td>\n",
       "      <td>15.61</td>\n",
       "      <td>10.93</td>\n",
       "      <td>3.28</td>\n",
       "      <td>2.95</td>\n",
       "      <td>80.0</td>\n",
       "      <td>8</td>\n",
       "      <td>E</td>\n",
       "    </tr>\n",
       "    <tr>\n",
       "      <th>4</th>\n",
       "      <td>Pokemon Red/Pokemon Blue</td>\n",
       "      <td>GB</td>\n",
       "      <td>1996.0</td>\n",
       "      <td>Role-Playing</td>\n",
       "      <td>11.27</td>\n",
       "      <td>8.89</td>\n",
       "      <td>10.22</td>\n",
       "      <td>1.00</td>\n",
       "      <td>NaN</td>\n",
       "      <td>NaN</td>\n",
       "      <td>NaN</td>\n",
       "    </tr>\n",
       "    <tr>\n",
       "      <th>...</th>\n",
       "      <td>...</td>\n",
       "      <td>...</td>\n",
       "      <td>...</td>\n",
       "      <td>...</td>\n",
       "      <td>...</td>\n",
       "      <td>...</td>\n",
       "      <td>...</td>\n",
       "      <td>...</td>\n",
       "      <td>...</td>\n",
       "      <td>...</td>\n",
       "      <td>...</td>\n",
       "    </tr>\n",
       "    <tr>\n",
       "      <th>16710</th>\n",
       "      <td>Samurai Warriors: Sanada Maru</td>\n",
       "      <td>PS3</td>\n",
       "      <td>2016.0</td>\n",
       "      <td>Action</td>\n",
       "      <td>0.00</td>\n",
       "      <td>0.00</td>\n",
       "      <td>0.01</td>\n",
       "      <td>0.00</td>\n",
       "      <td>NaN</td>\n",
       "      <td>NaN</td>\n",
       "      <td>NaN</td>\n",
       "    </tr>\n",
       "    <tr>\n",
       "      <th>16711</th>\n",
       "      <td>LMA Manager 2007</td>\n",
       "      <td>X360</td>\n",
       "      <td>2006.0</td>\n",
       "      <td>Sports</td>\n",
       "      <td>0.00</td>\n",
       "      <td>0.01</td>\n",
       "      <td>0.00</td>\n",
       "      <td>0.00</td>\n",
       "      <td>NaN</td>\n",
       "      <td>NaN</td>\n",
       "      <td>NaN</td>\n",
       "    </tr>\n",
       "    <tr>\n",
       "      <th>16712</th>\n",
       "      <td>Haitaka no Psychedelica</td>\n",
       "      <td>PSV</td>\n",
       "      <td>2016.0</td>\n",
       "      <td>Adventure</td>\n",
       "      <td>0.00</td>\n",
       "      <td>0.00</td>\n",
       "      <td>0.01</td>\n",
       "      <td>0.00</td>\n",
       "      <td>NaN</td>\n",
       "      <td>NaN</td>\n",
       "      <td>NaN</td>\n",
       "    </tr>\n",
       "    <tr>\n",
       "      <th>16713</th>\n",
       "      <td>Spirits &amp; Spells</td>\n",
       "      <td>GBA</td>\n",
       "      <td>2003.0</td>\n",
       "      <td>Platform</td>\n",
       "      <td>0.01</td>\n",
       "      <td>0.00</td>\n",
       "      <td>0.00</td>\n",
       "      <td>0.00</td>\n",
       "      <td>NaN</td>\n",
       "      <td>NaN</td>\n",
       "      <td>NaN</td>\n",
       "    </tr>\n",
       "    <tr>\n",
       "      <th>16714</th>\n",
       "      <td>Winning Post 8 2016</td>\n",
       "      <td>PSV</td>\n",
       "      <td>2016.0</td>\n",
       "      <td>Simulation</td>\n",
       "      <td>0.00</td>\n",
       "      <td>0.00</td>\n",
       "      <td>0.01</td>\n",
       "      <td>0.00</td>\n",
       "      <td>NaN</td>\n",
       "      <td>NaN</td>\n",
       "      <td>NaN</td>\n",
       "    </tr>\n",
       "  </tbody>\n",
       "</table>\n",
       "<p>16715 rows × 11 columns</p>\n",
       "</div>"
      ],
      "text/plain": [
       "                                Name Platform  Year_of_Release         Genre  \\\n",
       "0                         Wii Sports      Wii           2006.0        Sports   \n",
       "1                  Super Mario Bros.      NES           1985.0      Platform   \n",
       "2                     Mario Kart Wii      Wii           2008.0        Racing   \n",
       "3                  Wii Sports Resort      Wii           2009.0        Sports   \n",
       "4           Pokemon Red/Pokemon Blue       GB           1996.0  Role-Playing   \n",
       "...                              ...      ...              ...           ...   \n",
       "16710  Samurai Warriors: Sanada Maru      PS3           2016.0        Action   \n",
       "16711               LMA Manager 2007     X360           2006.0        Sports   \n",
       "16712        Haitaka no Psychedelica      PSV           2016.0     Adventure   \n",
       "16713               Spirits & Spells      GBA           2003.0      Platform   \n",
       "16714            Winning Post 8 2016      PSV           2016.0    Simulation   \n",
       "\n",
       "       NA_sales  EU_sales  JP_sales  Other_sales  Critic_Score User_Score  \\\n",
       "0         41.36     28.96      3.77         8.45          76.0          8   \n",
       "1         29.08      3.58      6.81         0.77           NaN        NaN   \n",
       "2         15.68     12.76      3.79         3.29          82.0        8.3   \n",
       "3         15.61     10.93      3.28         2.95          80.0          8   \n",
       "4         11.27      8.89     10.22         1.00           NaN        NaN   \n",
       "...         ...       ...       ...          ...           ...        ...   \n",
       "16710      0.00      0.00      0.01         0.00           NaN        NaN   \n",
       "16711      0.00      0.01      0.00         0.00           NaN        NaN   \n",
       "16712      0.00      0.00      0.01         0.00           NaN        NaN   \n",
       "16713      0.01      0.00      0.00         0.00           NaN        NaN   \n",
       "16714      0.00      0.00      0.01         0.00           NaN        NaN   \n",
       "\n",
       "      Rating  \n",
       "0          E  \n",
       "1        NaN  \n",
       "2          E  \n",
       "3          E  \n",
       "4        NaN  \n",
       "...      ...  \n",
       "16710    NaN  \n",
       "16711    NaN  \n",
       "16712    NaN  \n",
       "16713    NaN  \n",
       "16714    NaN  \n",
       "\n",
       "[16715 rows x 11 columns]"
      ]
     },
     "metadata": {},
     "output_type": "display_data"
    }
   ],
   "source": [
    "import pandas as pd\n",
    "data=pd.read_csv('/datasets/games.csv')  #открываю датасет\n",
    "display(data)"
   ]
  },
  {
   "cell_type": "markdown",
   "id": "f347aa96",
   "metadata": {},
   "source": [
    "<b>Шаг 2. Подготовка данных</b> \n",
    "\n",
    "<b>2.1. Замена названий столбцов (приведение к нижнему регистру)</b>"
   ]
  },
  {
   "cell_type": "code",
   "execution_count": 107,
   "id": "77075465",
   "metadata": {},
   "outputs": [
    {
     "name": "stdout",
     "output_type": "stream",
     "text": [
      "<class 'pandas.core.frame.DataFrame'>\n",
      "RangeIndex: 16715 entries, 0 to 16714\n",
      "Data columns (total 11 columns):\n",
      " #   Column           Non-Null Count  Dtype  \n",
      "---  ------           --------------  -----  \n",
      " 0   name             16713 non-null  object \n",
      " 1   platform         16715 non-null  object \n",
      " 2   year_of_release  16446 non-null  float64\n",
      " 3   genre            16713 non-null  object \n",
      " 4   na_sales         16715 non-null  float64\n",
      " 5   eu_sales         16715 non-null  float64\n",
      " 6   jp_sales         16715 non-null  float64\n",
      " 7   other_sales      16715 non-null  float64\n",
      " 8   critic_score     8137 non-null   float64\n",
      " 9   user_score       10014 non-null  object \n",
      " 10  rating           9949 non-null   object \n",
      "dtypes: float64(6), object(5)\n",
      "memory usage: 1.4+ MB\n"
     ]
    }
   ],
   "source": [
    "data.columns = map(str.lower, data.columns) \n",
    "data.info()"
   ]
  },
  {
   "cell_type": "markdown",
   "id": "c5256f58",
   "metadata": {},
   "source": [
    "<b>2.2 Преобразование данных в нужные типы. Удаление пропусков данных при необходимости </b>"
   ]
  },
  {
   "cell_type": "code",
   "execution_count": 108,
   "id": "6c411018",
   "metadata": {},
   "outputs": [
    {
     "name": "stdout",
     "output_type": "stream",
     "text": [
      "<class 'pandas.core.frame.DataFrame'>\n",
      "Int64Index: 16444 entries, 0 to 16714\n",
      "Data columns (total 11 columns):\n",
      " #   Column           Non-Null Count  Dtype  \n",
      "---  ------           --------------  -----  \n",
      " 0   name             16444 non-null  object \n",
      " 1   platform         16444 non-null  object \n",
      " 2   year_of_release  16444 non-null  int64  \n",
      " 3   genre            16444 non-null  object \n",
      " 4   na_sales         16444 non-null  float64\n",
      " 5   eu_sales         16444 non-null  float64\n",
      " 6   jp_sales         16444 non-null  float64\n",
      " 7   other_sales      16444 non-null  float64\n",
      " 8   critic_score     7983 non-null   float64\n",
      " 9   user_score       9839 non-null   object \n",
      " 10  rating           9768 non-null   object \n",
      "dtypes: float64(5), int64(1), object(5)\n",
      "memory usage: 1.5+ MB\n"
     ]
    }
   ],
   "source": [
    "data=data.dropna(subset=['year_of_release','name']) \n",
    "\n",
    "data['year_of_release']=data['year_of_release'].astype(int)\n",
    "data.info()"
   ]
  },
  {
   "cell_type": "markdown",
   "id": "12194fac",
   "metadata": {},
   "source": [
    "Комментарий:\n",
    "Удаляю пропуски из столбцов с годом релиза и названием, т.к. их не слишком много и адекватной замены пропускам из имеющихся данных нет.\n",
    "\n",
    "Привожу столбцы 'year_of_release' к целочисленному типу. Столбец critic_score не стала приводить к целочисленному, т.к. далее при построении диграммы рассеяния возникает ошибка.\n"
   ]
  },
  {
   "cell_type": "markdown",
   "id": "1772367e",
   "metadata": {},
   "source": [
    "<b>2.3 Анализ значений tbd в столбце с оценкой пользователей</b>"
   ]
  },
  {
   "cell_type": "code",
   "execution_count": 109,
   "id": "03098e03",
   "metadata": {},
   "outputs": [
    {
     "name": "stdout",
     "output_type": "stream",
     "text": [
      "                                name platform  year_of_release       genre  \\\n",
      "119                    Zumba Fitness      Wii             2010      Sports   \n",
      "301   Namco Museum: 50th Anniversary      PS2             2005        Misc   \n",
      "520                  Zumba Fitness 2      Wii             2011      Sports   \n",
      "645                     uDraw Studio      Wii             2010        Misc   \n",
      "718                  Just Dance Kids      Wii             2010        Misc   \n",
      "726        Dance Dance Revolution X2      PS2             2009  Simulation   \n",
      "821                  The Incredibles      GBA             2004      Action   \n",
      "881    Who wants to be a millionaire       PC             1999        Misc   \n",
      "1047                   Tetris Worlds      GBA             2001      Puzzle   \n",
      "1048                Imagine: Teacher       DS             2008  Simulation   \n",
      "\n",
      "      na_sales  eu_sales  jp_sales  other_sales  critic_score user_score  \\\n",
      "119       3.45      2.59      0.00         0.66           NaN        tbd   \n",
      "301       2.08      1.35      0.00         0.54          61.0        tbd   \n",
      "520       1.51      1.03      0.00         0.27           NaN        tbd   \n",
      "645       1.65      0.57      0.00         0.20          71.0        tbd   \n",
      "718       1.52      0.54      0.00         0.18           NaN        tbd   \n",
      "726       1.09      0.85      0.00         0.28           NaN        tbd   \n",
      "821       1.15      0.77      0.04         0.10          55.0        tbd   \n",
      "881       1.94      0.00      0.00         0.00           NaN        tbd   \n",
      "1047      1.25      0.39      0.00         0.06          65.0        tbd   \n",
      "1048      0.70      0.82      0.00         0.19           NaN        tbd   \n",
      "\n",
      "     rating  \n",
      "119       E  \n",
      "301    E10+  \n",
      "520       T  \n",
      "645       E  \n",
      "718       E  \n",
      "726    E10+  \n",
      "821       E  \n",
      "881       E  \n",
      "1047      E  \n",
      "1048      E  \n"
     ]
    }
   ],
   "source": [
    "print(data.loc[data['user_score']=='tbd'].head(10))"
   ]
  },
  {
   "cell_type": "markdown",
   "id": "6aa89d73",
   "metadata": {},
   "source": [
    "Комментарий:\n",
    "По результатам анализа строк со значением 'tbd' в столбце 'user_score' видно, что это игры, еще не получившие оценки.  Произвожу замену значений tbd на nan для корректности будущих вычислений.\n"
   ]
  },
  {
   "cell_type": "code",
   "execution_count": 110,
   "id": "3acf80db",
   "metadata": {},
   "outputs": [
    {
     "name": "stdout",
     "output_type": "stream",
     "text": [
      "<class 'pandas.core.frame.DataFrame'>\n",
      "Int64Index: 16444 entries, 0 to 16714\n",
      "Data columns (total 11 columns):\n",
      " #   Column           Non-Null Count  Dtype  \n",
      "---  ------           --------------  -----  \n",
      " 0   name             16444 non-null  object \n",
      " 1   platform         16444 non-null  object \n",
      " 2   year_of_release  16444 non-null  int64  \n",
      " 3   genre            16444 non-null  object \n",
      " 4   na_sales         16444 non-null  float64\n",
      " 5   eu_sales         16444 non-null  float64\n",
      " 6   jp_sales         16444 non-null  float64\n",
      " 7   other_sales      16444 non-null  float64\n",
      " 8   critic_score     7983 non-null   float64\n",
      " 9   user_score       7463 non-null   float64\n",
      " 10  rating           9768 non-null   object \n",
      "dtypes: float64(6), int64(1), object(4)\n",
      "memory usage: 1.5+ MB\n"
     ]
    }
   ],
   "source": [
    "import numpy as np\n",
    "data.loc[data['user_score']=='tbd','user_score'] = np.nan\n",
    "data['user_score']=data['user_score'].astype(float)\n",
    "data.info()"
   ]
  },
  {
   "cell_type": "markdown",
   "id": "b4896b34",
   "metadata": {},
   "source": [
    "<b> 2.4. Дополнительный анализ необходимости заполнения пропусков, а также выявление возможных причин пропусков в данных</b>"
   ]
  },
  {
   "cell_type": "markdown",
   "id": "6d2f2883",
   "metadata": {},
   "source": [
    "После выполнения указанных операций датасет уменьшился до 14068 строк"
   ]
  },
  {
   "cell_type": "code",
   "execution_count": 111,
   "id": "739a37f1",
   "metadata": {},
   "outputs": [
    {
     "name": "stdout",
     "output_type": "stream",
     "text": [
      "['E' nan 'M' 'T' 'E10+' 'K-A' 'AO' 'EC' 'RP']\n"
     ]
    }
   ],
   "source": [
    "print(data['rating'].unique())"
   ]
  },
  {
   "cell_type": "markdown",
   "id": "e67b5aad",
   "metadata": {},
   "source": [
    "Комментарий:\n",
    "в столбце 'rating' замену пропусков производить не буду, т.к. механизма определения рейтинга из данных остальных столбцов не усматривается.\n",
    "\n",
    "Причинами пропусков могут быть ошибки, допущенные при заполнении базы данных, либо программные ошибки при обработке данных."
   ]
  },
  {
   "cell_type": "markdown",
   "id": "49e3a038",
   "metadata": {},
   "source": [
    "<b>2.5 Подсчет данных о суммарных продажах по регионам с занесением в отдельный столбец</b>"
   ]
  },
  {
   "cell_type": "code",
   "execution_count": 112,
   "id": "b586fb1e",
   "metadata": {
    "scrolled": true
   },
   "outputs": [
    {
     "data": {
      "text/html": [
       "<div>\n",
       "<style scoped>\n",
       "    .dataframe tbody tr th:only-of-type {\n",
       "        vertical-align: middle;\n",
       "    }\n",
       "\n",
       "    .dataframe tbody tr th {\n",
       "        vertical-align: top;\n",
       "    }\n",
       "\n",
       "    .dataframe thead th {\n",
       "        text-align: right;\n",
       "    }\n",
       "</style>\n",
       "<table border=\"1\" class=\"dataframe\">\n",
       "  <thead>\n",
       "    <tr style=\"text-align: right;\">\n",
       "      <th></th>\n",
       "      <th>name</th>\n",
       "      <th>platform</th>\n",
       "      <th>year_of_release</th>\n",
       "      <th>genre</th>\n",
       "      <th>na_sales</th>\n",
       "      <th>eu_sales</th>\n",
       "      <th>jp_sales</th>\n",
       "      <th>other_sales</th>\n",
       "      <th>critic_score</th>\n",
       "      <th>user_score</th>\n",
       "      <th>rating</th>\n",
       "      <th>sum_sale</th>\n",
       "    </tr>\n",
       "  </thead>\n",
       "  <tbody>\n",
       "    <tr>\n",
       "      <th>0</th>\n",
       "      <td>Wii Sports</td>\n",
       "      <td>Wii</td>\n",
       "      <td>2006</td>\n",
       "      <td>Sports</td>\n",
       "      <td>41.36</td>\n",
       "      <td>28.96</td>\n",
       "      <td>3.77</td>\n",
       "      <td>8.45</td>\n",
       "      <td>76.0</td>\n",
       "      <td>8.0</td>\n",
       "      <td>E</td>\n",
       "      <td>82.54</td>\n",
       "    </tr>\n",
       "    <tr>\n",
       "      <th>1</th>\n",
       "      <td>Super Mario Bros.</td>\n",
       "      <td>NES</td>\n",
       "      <td>1985</td>\n",
       "      <td>Platform</td>\n",
       "      <td>29.08</td>\n",
       "      <td>3.58</td>\n",
       "      <td>6.81</td>\n",
       "      <td>0.77</td>\n",
       "      <td>NaN</td>\n",
       "      <td>NaN</td>\n",
       "      <td>NaN</td>\n",
       "      <td>40.24</td>\n",
       "    </tr>\n",
       "    <tr>\n",
       "      <th>2</th>\n",
       "      <td>Mario Kart Wii</td>\n",
       "      <td>Wii</td>\n",
       "      <td>2008</td>\n",
       "      <td>Racing</td>\n",
       "      <td>15.68</td>\n",
       "      <td>12.76</td>\n",
       "      <td>3.79</td>\n",
       "      <td>3.29</td>\n",
       "      <td>82.0</td>\n",
       "      <td>8.3</td>\n",
       "      <td>E</td>\n",
       "      <td>35.52</td>\n",
       "    </tr>\n",
       "    <tr>\n",
       "      <th>3</th>\n",
       "      <td>Wii Sports Resort</td>\n",
       "      <td>Wii</td>\n",
       "      <td>2009</td>\n",
       "      <td>Sports</td>\n",
       "      <td>15.61</td>\n",
       "      <td>10.93</td>\n",
       "      <td>3.28</td>\n",
       "      <td>2.95</td>\n",
       "      <td>80.0</td>\n",
       "      <td>8.0</td>\n",
       "      <td>E</td>\n",
       "      <td>32.77</td>\n",
       "    </tr>\n",
       "    <tr>\n",
       "      <th>4</th>\n",
       "      <td>Pokemon Red/Pokemon Blue</td>\n",
       "      <td>GB</td>\n",
       "      <td>1996</td>\n",
       "      <td>Role-Playing</td>\n",
       "      <td>11.27</td>\n",
       "      <td>8.89</td>\n",
       "      <td>10.22</td>\n",
       "      <td>1.00</td>\n",
       "      <td>NaN</td>\n",
       "      <td>NaN</td>\n",
       "      <td>NaN</td>\n",
       "      <td>31.38</td>\n",
       "    </tr>\n",
       "  </tbody>\n",
       "</table>\n",
       "</div>"
      ],
      "text/plain": [
       "                       name platform  year_of_release         genre  na_sales  \\\n",
       "0                Wii Sports      Wii             2006        Sports     41.36   \n",
       "1         Super Mario Bros.      NES             1985      Platform     29.08   \n",
       "2            Mario Kart Wii      Wii             2008        Racing     15.68   \n",
       "3         Wii Sports Resort      Wii             2009        Sports     15.61   \n",
       "4  Pokemon Red/Pokemon Blue       GB             1996  Role-Playing     11.27   \n",
       "\n",
       "   eu_sales  jp_sales  other_sales  critic_score  user_score rating  sum_sale  \n",
       "0     28.96      3.77         8.45          76.0         8.0      E     82.54  \n",
       "1      3.58      6.81         0.77           NaN         NaN    NaN     40.24  \n",
       "2     12.76      3.79         3.29          82.0         8.3      E     35.52  \n",
       "3     10.93      3.28         2.95          80.0         8.0      E     32.77  \n",
       "4      8.89     10.22         1.00           NaN         NaN    NaN     31.38  "
      ]
     },
     "execution_count": 112,
     "metadata": {},
     "output_type": "execute_result"
    }
   ],
   "source": [
    "data['sum_sale']=data[['na_sales','eu_sales','jp_sales','other_sales' ]].sum(axis=1)\n",
    "data.head()"
   ]
  },
  {
   "cell_type": "markdown",
   "id": "eebe251c",
   "metadata": {},
   "source": [
    "Комментарий:\n",
    "добавлен столбец 'sum_sale' с суммой продаж по всем регионам."
   ]
  },
  {
   "cell_type": "markdown",
   "id": "e68ec54f",
   "metadata": {},
   "source": [
    "<b>3. Исследовательский анализ данных</b>\n",
    "\n",
    "<b>3.1. Подсчет количества игр по годам и анализ необходимости учета данных за все годы</b>"
   ]
  },
  {
   "cell_type": "code",
   "execution_count": 113,
   "id": "17df861f",
   "metadata": {},
   "outputs": [
    {
     "data": {
      "text/plain": [
       "<AxesSubplot:xlabel='year_of_release'>"
      ]
     },
     "execution_count": 113,
     "metadata": {},
     "output_type": "execute_result"
    },
    {
     "data": {
      "image/png": "[encoded data removed]",
      "text/plain": [
       "<Figure size 432x288 with 1 Axes>"
      ]
     },
     "metadata": {
      "needs_background": "light"
     },
     "output_type": "display_data"
    }
   ],
   "source": [
    "# анализ объемов продаж по годам\n",
    "data.groupby('year_of_release')['sum_sale'].sum().plot()"
   ]
  },
  {
   "cell_type": "markdown",
   "id": "a9285503",
   "metadata": {},
   "source": [
    "Провела анализ продаж по годам. \n",
    "Из анализа данных по объемам продаж по годам можно сделать вывод, что данными за период 1980-1991 годы можно пренебречь ввиду малозначительности по сравнению с более поздними годами. "
   ]
  },
  {
   "cell_type": "markdown",
   "id": "1496942a",
   "metadata": {},
   "source": [
    "<b>3.2. Подсчет продаж по платформам. Выбор платформ с наибольшими суммарными продажами.</b>"
   ]
  },
  {
   "cell_type": "code",
   "execution_count": 114,
   "id": "15901fd3",
   "metadata": {},
   "outputs": [
    {
     "name": "stdout",
     "output_type": "stream",
     "text": [
      "platform\n",
      "PS2     1233.56\n",
      "X360     961.24\n",
      "PS3      931.34\n",
      "Wii      891.18\n",
      "DS       802.78\n",
      "PS       727.58\n",
      "PS4      314.14\n",
      "GBA      312.88\n",
      "PSP      289.53\n",
      "3DS      257.81\n",
      "PC       255.76\n",
      "GB       254.43\n",
      "XB       251.57\n",
      "NES      251.05\n",
      "N64      218.01\n",
      "SNES     200.04\n",
      "GC       196.73\n",
      "XOne     159.32\n",
      "2600      86.48\n",
      "WiiU      82.19\n",
      "PSV       53.81\n",
      "SAT       33.59\n",
      "GEN       28.35\n",
      "DC        15.95\n",
      "SCD        1.86\n",
      "NG         1.44\n",
      "WS         1.42\n",
      "TG16       0.16\n",
      "3DO        0.10\n",
      "GG         0.04\n",
      "PCFX       0.03\n",
      "Name: sum_sale, dtype: float64\n"
     ]
    }
   ],
   "source": [
    "#анализ продаж по платформам\n",
    "print(data.groupby('platform')['sum_sale'].sum().sort_values(ascending=False))"
   ]
  },
  {
   "cell_type": "markdown",
   "id": "7fc02d63",
   "metadata": {},
   "source": [
    "Провела анализ продаж по платформам. \n",
    "Наиболее популярными платформами являются \n",
    "PS2, X360, PS3, Wii.\n",
    "Далее по 10 топ платформ строю распределение по годам в целях выявления срока образования новых платформ"
   ]
  },
  {
   "cell_type": "markdown",
   "id": "fe103fc6",
   "metadata": {},
   "source": [
    "<b> 3.3 Построение распределения по годам по 10 топ платформ. Определение характерного срока жизни платформ. </b>"
   ]
  },
  {
   "cell_type": "code",
   "execution_count": 115,
   "id": "6d6e670a",
   "metadata": {
    "scrolled": true
   },
   "outputs": [
    {
     "data": {
      "image/png": "[encoded data removed]",
      "text/plain": [
       "<Figure size 1440x360 with 1 Axes>"
      ]
     },
     "metadata": {
      "needs_background": "light"
     },
     "output_type": "display_data"
    }
   ],
   "source": [
    "import matplotlib.pyplot as plt\n",
    "list_10=data.groupby('platform')['sum_sale'].sum().sort_values(ascending=False).head(10).reset_index()\n",
    "list_10_pl=list_10['platform']\n",
    "plt.figure(figsize=(20,5))\n",
    "for top in list_10_pl:\n",
    "    data[data['platform']==top].groupby('year_of_release')['sum_sale'].sum().plot()\n"
   ]
  },
  {
   "cell_type": "markdown",
   "id": "24312938",
   "metadata": {},
   "source": [
    "Исходя из построенных распределений по 10 топ платформам, средний срок от образования платформы до пика продаж составляет 3-4 года, далее происходит спад. Исходя из анализа гистограмм актуальным периодом является промежуток между 2012-2016 годами. Ввиду того, что далее анализ должен проводиться на актуальных данных, убираю из датафрейма информацию о продажах за период до 2012 года."
   ]
  },
  {
   "cell_type": "markdown",
   "id": "bdf09e34",
   "metadata": {},
   "source": [
    "<b> 3.4. Общий анализ динамики продаж игр за актуальный период </b>"
   ]
  },
  {
   "cell_type": "code",
   "execution_count": 116,
   "id": "4f7fcdf5",
   "metadata": {},
   "outputs": [
    {
     "data": {
      "text/plain": [
       "<AxesSubplot:xlabel='year_of_release'>"
      ]
     },
     "execution_count": 116,
     "metadata": {},
     "output_type": "execute_result"
    },
    {
     "data": {
      "image/png": "[encoded data removed]",
      "text/plain": [
       "<Figure size 432x288 with 1 Axes>"
      ]
     },
     "metadata": {
      "needs_background": "light"
     },
     "output_type": "display_data"
    }
   ],
   "source": [
    "data=data.loc[data['year_of_release']>=2012]\n",
    "data.groupby('year_of_release')['sum_sale'].sum().plot()"
   ]
  },
  {
   "cell_type": "markdown",
   "id": "ee4bb21f",
   "metadata": {},
   "source": [
    "Построила график продаж по годам за период с 2012 года. Анализ динамики суммарных продаж игр за период с 2012 года показывает, что после 2013 года продажи постепенно падают."
   ]
  },
  {
   "cell_type": "markdown",
   "id": "dca92961",
   "metadata": {},
   "source": [
    "<b> 3.5. Анализ данных о том, какие платформы лидируют по продажам, растут или падают. Выбор нескольких потенциально прибыльных платформ.</b>"
   ]
  },
  {
   "cell_type": "code",
   "execution_count": 117,
   "id": "7cc5d42b",
   "metadata": {},
   "outputs": [
    {
     "data": {
      "text/plain": [
       "<matplotlib.legend.Legend at 0x7f36d9dba280>"
      ]
     },
     "execution_count": 117,
     "metadata": {},
     "output_type": "execute_result"
    },
    {
     "data": {
      "image/png": "[encoded data removed]",
      "text/plain": [
       "<Figure size 1080x720 with 1 Axes>"
      ]
     },
     "metadata": {
      "needs_background": "light"
     },
     "output_type": "display_data"
    }
   ],
   "source": [
    "list_20=data.groupby('platform')['sum_sale'].sum().sort_values(ascending=False).head(20).reset_index()\n",
    "list_20_pl=list_20['platform']\n",
    "plt.figure(figsize=(15,10))\n",
    "plt.legend(list_20_pl)\n",
    "for top in list_20_pl:\n",
    "    data[data['platform']==top].groupby('year_of_release')['sum_sale'].sum().plot()\n",
    "plt.legend(list_20_pl)\n"
   ]
  },
  {
   "cell_type": "markdown",
   "id": "283e558c",
   "metadata": {},
   "source": [
    "Далее строю графики продаж по 20 самым крупным платформам за актуальный период.\n",
    "Анализ динамики продаж по ним отображает, что большинство платформ теряют популярность, например, Wii, DS, однако платформа PS4 и XOne являются перспективными."
   ]
  },
  {
   "cell_type": "markdown",
   "id": "6c85d376",
   "metadata": {},
   "source": [
    "<b> 3.6. Построение графика «ящик с усами» по глобальным продажам игр в разбивке по платформам. Описание результата.</b>"
   ]
  },
  {
   "cell_type": "code",
   "execution_count": 118,
   "id": "bdd13337",
   "metadata": {},
   "outputs": [
    {
     "data": {
      "image/png": "[encoded data removed]",
      "text/plain": [
       "<Figure size 432x288 with 1 Axes>"
      ]
     },
     "metadata": {
      "needs_background": "light"
     },
     "output_type": "display_data"
    },
    {
     "data": {
      "text/plain": [
       "<Figure size 1440x1080 with 0 Axes>"
      ]
     },
     "metadata": {},
     "output_type": "display_data"
    },
    {
     "data": {
      "image/png": "[encoded data removed]",
      "text/plain": [
       "<Figure size 432x288 with 1 Axes>"
      ]
     },
     "metadata": {
      "needs_background": "light"
     },
     "output_type": "display_data"
    },
    {
     "data": {
      "text/plain": [
       "<Figure size 1440x1080 with 0 Axes>"
      ]
     },
     "metadata": {},
     "output_type": "display_data"
    }
   ],
   "source": [
    "data_sorted=data.groupby('platform')['sum_sale'].sum().sort_values(ascending=False).head(10)\n",
    "data_sorted=data_sorted.reset_index()\n",
    "data_max10=data.loc[data['platform'].isin(data_sorted['platform'])]\n",
    "\n",
    "import seaborn as sns\n",
    "sns.boxplot(x=data_max10['platform'], y=data_max10['sum_sale'])\n",
    "plt.figure(figsize=(20,15))\n",
    "plt.show()\n",
    "\n",
    "sns.boxplot(x=data_max10['platform'], y=data_max10['sum_sale'])\n",
    "plt.ylim(0,6)\n",
    "plt.figure(figsize=(20,15))\n",
    "plt.show()\n"
   ]
  },
  {
   "cell_type": "markdown",
   "id": "372ee60e",
   "metadata": {},
   "source": [
    "Построила график \"Ящик с усами\" для 10 наиболее популярных платформ, в начальной редакции по вертикали были значения sum_sale до 20, однако по большому счету это выбросы, мешающие анализировать данные по платформам. Установила лимит до 6, в результате видно, что наиболее популярные платформы - это  X360, PS3, PS4,XOne."
   ]
  },
  {
   "cell_type": "markdown",
   "id": "80b82922",
   "metadata": {},
   "source": [
    "<b> 3.7. Анализ влияния на продажи внутри одной популярной платформы отзывов пользователей и критиков. Построение диаграммы рассеяния и расчет корреляции между отзывами и продажами. Формулировка выводов.</b>"
   ]
  },
  {
   "cell_type": "code",
   "execution_count": 119,
   "id": "2b0fac92",
   "metadata": {},
   "outputs": [
    {
     "data": {
      "image/png": "[encoded data removed]",
      "text/plain": [
       "<Figure size 864x864 with 2 Axes>"
      ]
     },
     "metadata": {
      "needs_background": "light"
     },
     "output_type": "display_data"
    }
   ],
   "source": [
    "fig, axes = plt.subplots(1, 2)\n",
    "axes[0].scatter( data=data_max10.query('platform ==\"X360\"'), x='critic_score', y='sum_sale', alpha=0.1)\n",
    "axes[0].set_title('Зависимость продаж игр X360 от оценок критиков')\n",
    "axes[1].scatter( data=data_max10.query('platform ==\"X360\"'), x='user_score', y='sum_sale', alpha=0.1)\n",
    "axes[1].set_title('Зависимость продаж игр X360 от оценок пользователей')\n",
    "fig.set_figwidth(12)   \n",
    "fig.set_figheight(12)   "
   ]
  },
  {
   "cell_type": "markdown",
   "id": "106651ac",
   "metadata": {},
   "source": [
    "Построила диаграммы рассеяния для зависимости продаж на платформе X360 от оценок критиков и от оценок пользователей. Видна общая  взаимосвязь продаж с оценками, чем выше оценки, тем больше продаж зафиксировано. Наиболее популярными оценками являются чуть выше 70 и 6 соответственно. При оценках ниже этого значения продажи  падают, при оценках выше продажи показывают существенный рост."
   ]
  },
  {
   "cell_type": "code",
   "execution_count": 120,
   "id": "abf4f45c",
   "metadata": {},
   "outputs": [
    {
     "name": "stdout",
     "output_type": "stream",
     "text": [
      "Корреляция по платформе X360 между отзывами критиков и продажами составляет:  0.3605734888507336\n",
      "Корреляция по платформе X360 между отзывами пользователей и продажами составляет:  0.006163978646213326\n"
     ]
    }
   ],
   "source": [
    "data_sorted_3=data.groupby('platform')['sum_sale'].sum().sort_values(ascending=False).head(3)\n",
    "data_sorted_3=data_sorted.reset_index()\n",
    "data_max3=data.loc[data['platform'].isin(data_sorted_3['platform'])]\n",
    "\n",
    "print('Корреляция по платформе X360 между отзывами критиков и продажами составляет: ',data_max3.query('platform ==\"X360\"')['critic_score'].corr(data_max3.query('platform ==\"X360\"')['sum_sale']))\n",
    "print('Корреляция по платформе X360 между отзывами пользователей и продажами составляет: ',data_max3.query('platform ==\"X360\"')['user_score'].corr(data_max3.query('platform ==\"X360\"')['sum_sale']))"
   ]
  },
  {
   "cell_type": "markdown",
   "id": "245c58af",
   "metadata": {},
   "source": [
    "Коэффициенты корреляции Пирсона по платформе X360 показывают сильную связь между отзывами критиков и продажами (0,36), а в части зависимости продаж от отзывов пользователей связи практически нет - менее 1%."
   ]
  },
  {
   "cell_type": "code",
   "execution_count": 121,
   "id": "bfd5109e",
   "metadata": {},
   "outputs": [
    {
     "name": "stdout",
     "output_type": "stream",
     "text": [
      "Общая корреляция по 3 популярным платформам между отзывами критиков и продажами составляет:  0.30826115735443727\n",
      "Общая корреляция по 3 популярным платформам  между отзывами пользователей и продажами составляет:  0.0042420006767442545\n"
     ]
    }
   ],
   "source": [
    "print('Общая корреляция по 3 популярным платформам между отзывами критиков и продажами составляет: ',data_max3['critic_score'].corr(data_max3['sum_sale']))\n",
    "print('Общая корреляция по 3 популярным платформам  между отзывами пользователей и продажами составляет: ',data_max3['user_score'].corr(data_max3['sum_sale']))"
   ]
  },
  {
   "cell_type": "markdown",
   "id": "fdd898c5",
   "metadata": {},
   "source": [
    "Общая корреляция по указанным параметрам по 3 наиболее популярным платформам показывает чуть более низкий результат : 0,3 и 0,004 соответственно. В последнем случае зависимости практически нет."
   ]
  },
  {
   "cell_type": "markdown",
   "id": "47dfa526",
   "metadata": {},
   "source": [
    "<b> 3.8.Анализ общего распределения игр по жанрам. Определение  самых прибыльных жанров. Определение жанров с высокими и низкими продажами </b>"
   ]
  },
  {
   "cell_type": "code",
   "execution_count": 122,
   "id": "3d90f52a",
   "metadata": {},
   "outputs": [
    {
     "data": {
      "text/plain": [
       "<AxesSubplot:xlabel='genre'>"
      ]
     },
     "execution_count": 122,
     "metadata": {},
     "output_type": "execute_result"
    },
    {
     "data": {
      "image/png": "[encoded data removed]",
      "text/plain": [
       "<Figure size 432x288 with 1 Axes>"
      ]
     },
     "metadata": {
      "needs_background": "light"
     },
     "output_type": "display_data"
    }
   ],
   "source": [
    "data.groupby('genre').agg({'name':'count'}).sort_values(by='name', ascending=False).plot(kind='bar')\n"
   ]
  },
  {
   "cell_type": "markdown",
   "id": "a169922f",
   "metadata": {},
   "source": [
    "Построила таблицу популярности игр по жанрам.\n",
    "Общее распределение игр по жанрам является следующим - наиболее популярным жанром является Action, далее со значительным отрывом идут ROle-Playing,Adventure,Sports, Shooter,Misc."
   ]
  },
  {
   "cell_type": "code",
   "execution_count": 123,
   "id": "6247c872",
   "metadata": {},
   "outputs": [
    {
     "data": {
      "text/plain": [
       "<AxesSubplot:xlabel='genre'>"
      ]
     },
     "execution_count": 123,
     "metadata": {},
     "output_type": "execute_result"
    },
    {
     "data": {
      "image/png": "[encoded data removed]",
      "text/plain": [
       "<Figure size 432x288 with 1 Axes>"
      ]
     },
     "metadata": {
      "needs_background": "light"
     },
     "output_type": "display_data"
    }
   ],
   "source": [
    "data.groupby('genre').agg({'sum_sale':'median'}).sort_values(by='sum_sale', ascending=False).plot(kind='bar')"
   ]
  },
  {
   "cell_type": "markdown",
   "id": "afd32d13",
   "metadata": {},
   "source": [
    "Построила таблицу прибыльности игр по жанрам.\n",
    "Анализ прибыльности жанров проведен на основании данных о медианных суммарных продажах. Согласно указанных сведений явным лидером по прибыльности являются игры жанра  Shooter, Sports, Platform, . Наименее прибыльными являются пазлы, стратегии и игры жанра Adventure."
   ]
  },
  {
   "cell_type": "markdown",
   "id": "6213948e",
   "metadata": {},
   "source": [
    "<b> 4. Составление портрета пользователя каждого региона\n",
    "\n",
    "4.1. Определение для пользователя каждого региона (NA, EU, JP) топ-5 платформ. Определение различий в долях продаж. </b>"
   ]
  },
  {
   "cell_type": "code",
   "execution_count": 124,
   "id": "100bce4d",
   "metadata": {},
   "outputs": [
    {
     "data": {
      "image/png": "[encoded data removed]",
      "text/plain": [
       "<Figure size 576x576 with 1 Axes>"
      ]
     },
     "metadata": {},
     "output_type": "display_data"
    },
    {
     "data": {
      "image/png": "[encoded data removed]",
      "text/plain": [
       "<Figure size 576x576 with 1 Axes>"
      ]
     },
     "metadata": {},
     "output_type": "display_data"
    },
    {
     "data": {
      "image/png": "[encoded data removed]",
      "text/plain": [
       "<Figure size 576x576 with 1 Axes>"
      ]
     },
     "metadata": {},
     "output_type": "display_data"
    }
   ],
   "source": [
    "for reg in ['na_sales', 'eu_sales', 'jp_sales']:\n",
    "    data.pivot_table(index='platform', values=reg, aggfunc='sum').sort_values(by=reg, ascending=False).head().plot(kind='pie', subplots=True, figsize=(8,8), autopct='%1.2f%%')\n",
    "    plt.title(f'Топ 5 платформ в регионе {reg}')"
   ]
  },
  {
   "cell_type": "markdown",
   "id": "1a7840ef",
   "metadata": {},
   "source": [
    "Далее построила диаграммы популярности платформ в разных регионах.\n",
    "\n",
    "В регионе NA  самые популярные платформы это X360,PS4, PS3, XOne , доли в продажах очень похожи, далее с незначительным отрывом идtт  3DS .\n",
    "\n",
    "В регионе EU самые популярные платформы это PS4, PS3 , X360.    \n",
    "\n",
    "В регионе JP самые популярные платформы это 3DS , PS3 , PSV "
   ]
  },
  {
   "cell_type": "markdown",
   "id": "20678220",
   "metadata": {},
   "source": [
    "<b>4.2. Определение для пользователя каждого региона (NA, EU, JP) топ-5 жанров. Выявление различий </b>"
   ]
  },
  {
   "cell_type": "code",
   "execution_count": 125,
   "id": "a3519795",
   "metadata": {},
   "outputs": [
    {
     "data": {
      "image/png": "[encoded data removed]",
      "text/plain": [
       "<Figure size 576x576 with 1 Axes>"
      ]
     },
     "metadata": {},
     "output_type": "display_data"
    },
    {
     "data": {
      "image/png": "[encoded data removed]",
      "text/plain": [
       "<Figure size 576x576 with 1 Axes>"
      ]
     },
     "metadata": {},
     "output_type": "display_data"
    },
    {
     "data": {
      "image/png": "[encoded data removed]",
      "text/plain": [
       "<Figure size 576x576 with 1 Axes>"
      ]
     },
     "metadata": {},
     "output_type": "display_data"
    }
   ],
   "source": [
    "for reg in ['na_sales', 'eu_sales', 'jp_sales']:\n",
    "    data.pivot_table(index='genre', values=reg, aggfunc='sum').sort_values(by=reg, ascending=False).head().plot(kind='pie', subplots=True, figsize=(8,8), autopct='%1.2f%%')\n",
    "    plt.title(f'Топ 5 жанров в регионе {reg}')"
   ]
  },
  {
   "cell_type": "markdown",
   "id": "c27ad813",
   "metadata": {},
   "source": [
    "Также построила диаграммы популярности жанров по регионам.\n",
    "\n",
    "В регионе NA самые популярные жанры - Action ,  Shooter, Sports .\n",
    "\n",
    "В регионе EU самые популярные жанры  также - Action ,  Shooter, Sports .\n",
    "\n",
    "В регионе JP самые популярные жанры - Role_playing , Action , Misc .\n",
    "\n"
   ]
  },
  {
   "cell_type": "markdown",
   "id": "ed059988",
   "metadata": {},
   "source": [
    "<b>4.3. Определение влияния рейтинга ESRB на продажи каждого региона </b>"
   ]
  },
  {
   "cell_type": "code",
   "execution_count": 126,
   "id": "80854c08",
   "metadata": {},
   "outputs": [
    {
     "name": "stdout",
     "output_type": "stream",
     "text": [
      "Влияние рейтинга ESRB на продажи в регионе AxesSubplot(0.125,0.125;0.775x0.755)\n",
      "\n",
      "Влияние рейтинга ESRB на продажи в регионе AxesSubplot(0.125,0.125;0.775x0.755)\n",
      "\n",
      "Влияние рейтинга ESRB на продажи в регионе AxesSubplot(0.125,0.125;0.775x0.755)\n",
      "\n"
     ]
    },
    {
     "data": {
      "image/png": "[encoded data removed]",
      "text/plain": [
       "<Figure size 432x288 with 1 Axes>"
      ]
     },
     "metadata": {
      "needs_background": "light"
     },
     "output_type": "display_data"
    },
    {
     "data": {
      "image/png": "[encoded data removed]",
      "text/plain": [
       "<Figure size 432x288 with 1 Axes>"
      ]
     },
     "metadata": {
      "needs_background": "light"
     },
     "output_type": "display_data"
    },
    {
     "data": {
      "image/png": "[encoded data removed]",
      "text/plain": [
       "<Figure size 432x288 with 1 Axes>"
      ]
     },
     "metadata": {
      "needs_background": "light"
     },
     "output_type": "display_data"
    }
   ],
   "source": [
    "for reg in ['na_sales', 'eu_sales', 'jp_sales']:\n",
    "    print('Влияние рейтинга ESRB на продажи в регионе', data.pivot_table(index='rating', values=reg, aggfunc='sum').sort_values(by=reg, ascending=False).head(10).plot(kind='bar'))\n",
    "    print('')"
   ]
  },
  {
   "cell_type": "markdown",
   "id": "49ee3d9e",
   "metadata": {},
   "source": [
    "Изучила влияние рейтинга ESRB на продажи по регионам.\n",
    "\n",
    "Судя по таблицам продаж в регионах по рейтингу ESRB,  в Северной Америке  лидируют продажи игр с рейтингами M,E,E10+,T.\n",
    "В Европе лидируют продажи игр с рейтингами M,E,T, E10+.\n",
    "\n",
    "В Японии же также лидером являются игры с рейтингом E, однако далее идут игры с рейтингом T, далее M.  \n",
    "\n",
    "Также из таблицы видно, что в Японии значительно меньшее количество игр имеют присвоенный рейтинг ESRB."
   ]
  },
  {
   "cell_type": "markdown",
   "id": "f27a63e4",
   "metadata": {},
   "source": [
    "<b> 5. Проверка гипотезы</b>\n",
    "\n",
    "<b>5.1. Нулевая гипотеза - Средние пользовательские рейтинги платформ Xbox One и PC одинаковые </b>\n",
    "\n",
    "альтернативная гипотеза -  Средние пользовательские рейтинги платформ Xbox One и PC не совпадают."
   ]
  },
  {
   "cell_type": "code",
   "execution_count": 127,
   "id": "1e79ccea",
   "metadata": {},
   "outputs": [
    {
     "name": "stdout",
     "output_type": "stream",
     "text": [
      "p-значение: 0.5535080500643738\n",
      "Не получилось отвергнуть нулевую гипотезу\n"
     ]
    }
   ],
   "source": [
    "#проверка гипотезы - Средние пользовательские рейтинги платформ Xbox One и PC одинаковые\n",
    "from scipy import stats as st\n",
    "import numpy as np\n",
    "\n",
    "data_rating_xone=data.loc[data['platform']==\"XOne\"]['user_score'].tolist()\n",
    "\n",
    "data_rating_pc=data.loc[data['platform']==\"PC\"]['user_score'].tolist()\n",
    "\n",
    "\n",
    "alpha = 0.03\n",
    "\n",
    "results =st.ttest_ind(data_rating_xone, data_rating_pc, nan_policy='omit') \n",
    "\n",
    "print('p-значение:',results.pvalue)\n",
    "\n",
    "if results.pvalue< alpha:\n",
    "    print('Отвергаем нулевую гипотезу')\n",
    "else:\n",
    "    print('Не получилось отвергнуть нулевую гипотезу')\n"
   ]
  },
  {
   "cell_type": "markdown",
   "id": "a1158a05",
   "metadata": {},
   "source": [
    "Проведена проверка гипотезы о равенстве средних пользовательских рейтингов платформ Xbox One и PC.  \n",
    "\n",
    "В целях формирования нулевой и альтернативной гипотез из датафрейма сформированы списки пользовательских рейтингов игр платформ Xbox One и PC. Выбран уровень статической значимости 3% (среднее в диапазоне от 1% до 5%). Далее применен специальный метод для проверки гипотезы о равенстве среднего двух генеральных совокупностей по взятым из них выборкам: scipy.stats.ttest_ind. \n",
    "\n",
    "Согласно проведенного анализа  гипотеза о равестве средних пользовательских рейтингов подтверждена."
   ]
  },
  {
   "cell_type": "markdown",
   "id": "03fcf997",
   "metadata": {},
   "source": [
    "<b>5.2. Нулевая гипотеза - Средние пользовательские рейтинги  жанров Action  и Sports одинаковые </b>\n",
    "\n",
    "альтернативная гипотеза -  Средние пользовательские рейтинги жанров Action  и Sports не совпадают."
   ]
  },
  {
   "cell_type": "code",
   "execution_count": 128,
   "id": "0301578f",
   "metadata": {},
   "outputs": [
    {
     "name": "stdout",
     "output_type": "stream",
     "text": [
      "p-значение: 3.7163089460934874e-26\n",
      "Отвергаем нулевую гипотезу\n"
     ]
    }
   ],
   "source": [
    "#проверка гипотезы - Средние пользовательские рейтинги жанров Action  и Sports  разные.\n",
    "from scipy import stats as st\n",
    "import numpy as np\n",
    "\n",
    "data_rating_action=data.loc[data['genre']==\"Action\"]['user_score'].tolist()\n",
    "data_rating_sports=data.loc[data['genre']==\"Sports\"]['user_score'].tolist()\n",
    "\n",
    "alpha = 0.03\n",
    "\n",
    "results =st.ttest_ind(data_rating_action, data_rating_sports,nan_policy='omit') \n",
    "\n",
    "print('p-значение:',results.pvalue)\n",
    "\n",
    "if results.pvalue< alpha:\n",
    "    print('Отвергаем нулевую гипотезу')\n",
    "else:\n",
    "    print('Не получилось отвергнуть нулевую гипотезу')"
   ]
  },
  {
   "cell_type": "markdown",
   "id": "a40e007b",
   "metadata": {},
   "source": [
    "Проведена проверка гипотезы о о том, что Средние пользовательские рейтинги жанров Action  и Sports  разные.  \n",
    "\n",
    "В целях формирования нулевой и альтернативной гипотез из датафрейма сформированы списки пользовательских рейтингов игр жанров Action и Sports. Выбран уровень статической значимости 3% (среднее в диапазоне от 1% до 5%). Далее применен специальный метод для проверки гипотезы о равенстве среднего двух генеральных совокупностей по взятым из них выборкам: scipy.stats.ttest_ind. \n",
    "\n",
    "Согласно проведенного анализа гипотеза о том, что средние пользовательские рейтинги жанров Action  и Sports  разные, подтверждена."
   ]
  },
  {
   "cell_type": "markdown",
   "id": "59d8a63f",
   "metadata": {},
   "source": [
    "<b> 6.Общий вывод по результатам исследования.</b>"
   ]
  },
  {
   "cell_type": "markdown",
   "id": "264d209f",
   "metadata": {},
   "source": [
    "В целях выполнения настоящего исследования проведен анализ данных датафрейма о данных по продажам игр по различным жанрам и регионам за период с 1991 года по 2016 год общим объемом более 16 тысяч строк.\n",
    "\n",
    "В рамках подготовки данных к анализу проведена предобработка:\n",
    "- приведение столбцов к нижнему регистру, \n",
    "- удаление пропусков из столбцов с годом релиза и названием, т.к. их не слишком много и адекватной замены пропускам из имеющихся данных нет. \n",
    "- приведение столбца 'year_of_release' к целочисленному типу.\n",
    "\n",
    "Далее проведен анализ строк со значением 'tbd' в столбце 'user_score'. Из полученной информации сделан вывод, что  это данные об играх с очень малым объемом продаж во всех странах, объема продаж не хватило для формирования рейтинга у пользователей. В целях заполнения пропусков в указанном столбце  значение 'tbd' удалено. Далее  указанный столбец приведен к типу float для успешного построения диаграмм рассеяния.\n",
    "\n",
    "После выполнения указанных операций датасет уменьшился до 14 тысяч строк. Причинами пропусков в данных могут быть ошибки, допущенные при заполнении базы данных, либо программные ошибки при обработке данных.\n",
    "\n",
    "Далее в ходе предобработки добавлен столбец 'sum_sale' с суммой продаж по всем регионам.\n",
    "\n",
    "Провела анализ продаж по годам. Из анализа данных по объемам продаж по годам можно сделать вывод, что данными за период 1980-1991 годы можно пренебречь ввиду малозначительности по сравнению с более поздними годами.\n",
    "\n",
    "\n",
    "Провела анализ продаж по платформам. Наиболее популярными платформами являются PS2, X360, PS3, Wii. Далее по по 10 топ платформ  построено распределение по годам в целях выявления срока образования новых платформ.\n",
    "\n",
    "Характерным сроком образования новых платформ является 3-4 года, далее идет спад. Исходя из анализа гистограмм актуальным периодом является промежуток между 2012 и 2016 годами. Ввиду того, что далее анализ должен проводиться на актуальных данных, убираю из датафрейма информацию о продажах за период до 2012 года.\n",
    "\n",
    "Построила график продаж по годам за период с 2012 года. Анализ динамики суммарных продаж игр за период с 2012 года показывает, что после 2013 года продажи постепенно падают.\n",
    "\n",
    "Далее построены графики продаж по 20 самым крупным платформам за актуальный период.\n",
    "Анализ динамики продаж по ним отображает, что большинство платформ теряют популярность, например, Wii, DS, однако платформа PS4,XOne является перспективной.\n",
    "\n",
    "Также график \"Ящик с усами\" для 10 наиболее популярных платформ, в начальной редакции по вертикали были значения sum_sale до 20, однако по большому счету это выбросы, мешающие анализировать данные по платформам. Установила лимит до 6, в результате видно, что наиболее популярные платформы - это  X360, PS3, PS4,XOne.\n",
    "\n",
    "Построила диаграммы рассеяния для зависимости продаж на платформе PS2 от оценок критиков и от оценок пользователей. Видна явная взаимосвязь продаж с оценками, чем выше оценки, тем больше продаж зафиксировано. Наиболее популярными оценками являются чуть выше 70 и 6 соответственно. При оценках ниже этого значения продажи падают, при оценках выше продажи показывают существенный рост.\n",
    "\n",
    "Коэффициенты корреляции Пирсона по платформе X360 показывают линейную связь между отзывами критиков и продажами -0,36. А в части зависимости продаж от отзывов пользователей связи практически нет, около 0.\n",
    "Общая корреляция по указанным параметрам по 3 наиболее популярным платформам показывает чуть более низкий результат : 0,3 и 0 соответственно. В последнем случае зависимости практически нет.\n",
    "\n",
    "Построила таблицу популярности игр по жанрам. Общее распределение игр по жанрам является следующим - наиболее популярным жанром является Action, далее со значительным отрывом идут ROle-Playing,Adventure,Sports, Shooter,Misc.\n",
    "\n",
    "Построила таблицу прибыльности игр по жанрам. Анализ прибыльности жанров проведен на основании данных о медианных суммарных продажах. Согласно указанных сведений явным лидером по прибыльности являются игры жанра Shooter, Sports, Platform, . Наименее прибыльными являются пазлы, стратегии и игры жанра Adventure.\n",
    "\n",
    "Далее построила диаграммы популярности платформ в разных регионах.\n",
    "В регионе NA самые популярные платформы это X360,PS4, PS3, XOne , доли в продажах очень похожи, далее с незначительным отрывом идет 3DS .\n",
    "В регионе EU самые популярные платформы это PS4, PS3 , X360.\n",
    "В регионе JP самые популярные платформы это 3DS , PS3 , PSV\n",
    "\n",
    "Также построила диаграммы популярности жанров по регионам.\n",
    "\n",
    "В регионе NA самые популярные жанры - Action ,  Shooter, Sports .\n",
    "В регионе EU самые популярные жанры  также - Action ,  Shooter, Sports .\n",
    "В регионе JP самые популярные жанры - Role_playing , Action , Misc .\n",
    "\n",
    "\n",
    "Изучила влияние рейтинга ESRB на продажи по регионам.\n",
    "\n",
    "Судя по таблицам продаж в регионах по рейтингу ESRB,  в Северной Америке  лидируют продажи игр с рейтингами M,E,E10+,T.\n",
    "В Европе лидируют продажи игр с рейтингами M,E,T, E10+.\n",
    "В Японии же также лидером являются игры с рейтингом E, однако далее идут игры с рейтингом T, далее M.  \n",
    "Также из таблицы видно, что в Японии значительно меньшее количество игр имеют присвоенный рейтинг EESRB\n",
    "\n",
    "\n",
    "Проведена проверка гипотезы о равенстве средних пользовательских рейтингов платформ Xbox One и PC.\n",
    "\n",
    "В целях формирования нулевой и альтернативной гипотез из датафрейма сформированы списки пользовательских рейтингов игр платформ Xbox One и PC. Выбран уровень статической значимости 3% (среднее в диапазоне от 1% до 5%). Далее применен специальный метод для проверки гипотезы о равенстве среднего двух генеральных совокупностей по взятым из них выборкам: scipy.stats.ttest_ind.\n",
    "\n",
    "Согласно проведенного анализа гипотеза о равестве средних пользовательских рейтингов подтверждена.\n",
    "\n",
    "\n",
    "Проведена проверка гипотезы о о том, что Средние пользовательские рейтинги жанров Action и Sports разные.\n",
    "\n",
    "В целях формирования нулевой и альтернативной гипотез из датафрейма сформированы списки пользовательских рейтингов игр жанров Action и Sports. Выбран уровень статической значимости 3% (среднее в диапазоне от 1% до 5%). Далее применен специальный метод для проверки гипотезы о равенстве среднего двух генеральных совокупностей по взятым из них выборкам: scipy.stats.ttest_ind.\n",
    "\n",
    "Согласно проведенного анализа гипотеза о том, что средние пользовательские рейтинги жанров Action и Sports разные, подтверждена.\n",
    "\n",
    "Основные выявленные зависимости:\n",
    "- доля продаж значительно зависит от оценок критиков;\n",
    "- доля продаж практически не зависит от оценок пользователей;\n",
    "- после 2013 года продажи стабильно падают;\n",
    "- перспективными платформами можно назвать PS4 и XOne;\n",
    "- средние пользовательские рейтинги платформ Xbox One и PC за последние 4 года выборки совпадают;\n",
    "- при прогнозировании данных на следующие годы целесообразно собирать статистику за 3-4 года, т.к. это соответствует периоду от возникновения платформы до пика ее популярности;\n",
    "- средние пользовательские рейтинги жанров Action и Sports за последние 4 года выборки также совпадают;\n",
    "- в Северной Америке и Европе наиболее популярным жанром игр является Action, в Японии -  role-playing;\n"
   ]
  }
 ],
 "metadata": {
  "ExecuteTimeLog": [
   {
    "duration": 614,
    "start_time": "2023-04-09T06:11:00.734Z"
   },
   {
    "duration": 0,
    "start_time": "2023-04-09T06:11:01.351Z"
   },
   {
    "duration": 0,
    "start_time": "2023-04-09T06:11:01.352Z"
   },
   {
    "duration": 0,
    "start_time": "2023-04-09T06:11:01.354Z"
   },
   {
    "duration": 0,
    "start_time": "2023-04-09T06:11:01.356Z"
   },
   {
    "duration": 0,
    "start_time": "2023-04-09T06:11:01.358Z"
   },
   {
    "duration": 0,
    "start_time": "2023-04-09T06:11:01.359Z"
   },
   {
    "duration": 0,
    "start_time": "2023-04-09T06:11:01.360Z"
   },
   {
    "duration": 0,
    "start_time": "2023-04-09T06:11:01.361Z"
   },
   {
    "duration": 0,
    "start_time": "2023-04-09T06:11:01.378Z"
   },
   {
    "duration": 0,
    "start_time": "2023-04-09T06:11:01.379Z"
   },
   {
    "duration": 0,
    "start_time": "2023-04-09T06:11:01.380Z"
   },
   {
    "duration": 0,
    "start_time": "2023-04-09T06:11:01.380Z"
   },
   {
    "duration": 0,
    "start_time": "2023-04-09T06:11:01.381Z"
   },
   {
    "duration": 0,
    "start_time": "2023-04-09T06:11:01.382Z"
   },
   {
    "duration": 0,
    "start_time": "2023-04-09T06:11:01.383Z"
   },
   {
    "duration": 0,
    "start_time": "2023-04-09T06:11:01.384Z"
   },
   {
    "duration": 0,
    "start_time": "2023-04-09T06:11:01.385Z"
   },
   {
    "duration": 0,
    "start_time": "2023-04-09T06:11:01.389Z"
   },
   {
    "duration": 0,
    "start_time": "2023-04-09T06:11:01.391Z"
   },
   {
    "duration": 0,
    "start_time": "2023-04-09T06:11:01.392Z"
   },
   {
    "duration": 0,
    "start_time": "2023-04-09T06:11:01.393Z"
   },
   {
    "duration": 0,
    "start_time": "2023-04-09T06:11:01.394Z"
   },
   {
    "duration": 557,
    "start_time": "2023-04-09T07:01:31.370Z"
   },
   {
    "duration": 0,
    "start_time": "2023-04-09T07:01:31.929Z"
   },
   {
    "duration": 0,
    "start_time": "2023-04-09T07:01:31.931Z"
   },
   {
    "duration": 0,
    "start_time": "2023-04-09T07:01:31.932Z"
   },
   {
    "duration": 0,
    "start_time": "2023-04-09T07:01:31.932Z"
   },
   {
    "duration": 0,
    "start_time": "2023-04-09T07:01:31.934Z"
   },
   {
    "duration": 0,
    "start_time": "2023-04-09T07:01:31.934Z"
   },
   {
    "duration": 0,
    "start_time": "2023-04-09T07:01:31.935Z"
   },
   {
    "duration": 0,
    "start_time": "2023-04-09T07:01:31.936Z"
   },
   {
    "duration": 0,
    "start_time": "2023-04-09T07:01:31.937Z"
   },
   {
    "duration": 0,
    "start_time": "2023-04-09T07:01:31.938Z"
   },
   {
    "duration": 0,
    "start_time": "2023-04-09T07:01:31.939Z"
   },
   {
    "duration": 0,
    "start_time": "2023-04-09T07:01:31.940Z"
   },
   {
    "duration": 0,
    "start_time": "2023-04-09T07:01:31.941Z"
   },
   {
    "duration": 0,
    "start_time": "2023-04-09T07:01:31.942Z"
   },
   {
    "duration": 0,
    "start_time": "2023-04-09T07:01:31.943Z"
   },
   {
    "duration": 0,
    "start_time": "2023-04-09T07:01:31.944Z"
   },
   {
    "duration": 0,
    "start_time": "2023-04-09T07:01:31.945Z"
   },
   {
    "duration": 0,
    "start_time": "2023-04-09T07:01:31.946Z"
   },
   {
    "duration": 0,
    "start_time": "2023-04-09T07:01:31.947Z"
   },
   {
    "duration": 0,
    "start_time": "2023-04-09T07:01:31.948Z"
   },
   {
    "duration": 0,
    "start_time": "2023-04-09T07:01:31.949Z"
   },
   {
    "duration": 0,
    "start_time": "2023-04-09T07:01:31.950Z"
   },
   {
    "duration": 212,
    "start_time": "2023-04-09T07:09:00.471Z"
   },
   {
    "duration": 482,
    "start_time": "2023-04-09T07:09:08.020Z"
   },
   {
    "duration": 18,
    "start_time": "2023-04-09T07:09:08.505Z"
   },
   {
    "duration": 29,
    "start_time": "2023-04-09T07:09:08.525Z"
   },
   {
    "duration": 13,
    "start_time": "2023-04-09T07:09:08.556Z"
   },
   {
    "duration": 29,
    "start_time": "2023-04-09T07:09:08.571Z"
   },
   {
    "duration": 4,
    "start_time": "2023-04-09T07:09:08.602Z"
   },
   {
    "duration": 48,
    "start_time": "2023-04-09T07:09:08.608Z"
   },
   {
    "duration": 6,
    "start_time": "2023-04-09T07:09:08.658Z"
   },
   {
    "duration": 25,
    "start_time": "2023-04-09T07:09:08.667Z"
   },
   {
    "duration": 674,
    "start_time": "2023-04-09T07:09:08.694Z"
   },
   {
    "duration": 184,
    "start_time": "2023-04-09T07:09:09.371Z"
   },
   {
    "duration": 345,
    "start_time": "2023-04-09T07:09:09.557Z"
   },
   {
    "duration": 825,
    "start_time": "2023-04-09T07:09:09.905Z"
   },
   {
    "duration": 345,
    "start_time": "2023-04-09T07:09:10.734Z"
   },
   {
    "duration": 18,
    "start_time": "2023-04-09T07:09:11.082Z"
   },
   {
    "duration": 10,
    "start_time": "2023-04-09T07:09:11.102Z"
   },
   {
    "duration": 14,
    "start_time": "2023-04-09T07:09:11.114Z"
   },
   {
    "duration": 22,
    "start_time": "2023-04-09T07:09:11.130Z"
   },
   {
    "duration": 715,
    "start_time": "2023-04-09T07:09:11.154Z"
   },
   {
    "duration": 638,
    "start_time": "2023-04-09T07:09:11.871Z"
   },
   {
    "duration": 40,
    "start_time": "2023-04-09T07:09:12.511Z"
   },
   {
    "duration": 10,
    "start_time": "2023-04-09T07:09:12.553Z"
   },
   {
    "duration": 26,
    "start_time": "2023-04-09T07:09:12.565Z"
   },
   {
    "duration": 144,
    "start_time": "2023-04-09T07:19:31.702Z"
   },
   {
    "duration": 107,
    "start_time": "2023-04-09T07:19:45.629Z"
   },
   {
    "duration": 79,
    "start_time": "2023-04-09T07:20:38.673Z"
   },
   {
    "duration": 505,
    "start_time": "2023-04-09T07:22:16.035Z"
   },
   {
    "duration": 16,
    "start_time": "2023-04-09T07:22:16.542Z"
   },
   {
    "duration": 36,
    "start_time": "2023-04-09T07:22:16.560Z"
   },
   {
    "duration": 15,
    "start_time": "2023-04-09T07:22:16.599Z"
   },
   {
    "duration": 36,
    "start_time": "2023-04-09T07:22:16.640Z"
   },
   {
    "duration": 7,
    "start_time": "2023-04-09T07:22:16.679Z"
   },
   {
    "duration": 56,
    "start_time": "2023-04-09T07:22:16.688Z"
   },
   {
    "duration": 7,
    "start_time": "2023-04-09T07:22:16.746Z"
   },
   {
    "duration": 16,
    "start_time": "2023-04-09T07:22:16.755Z"
   },
   {
    "duration": 758,
    "start_time": "2023-04-09T07:22:16.774Z"
   },
   {
    "duration": 125,
    "start_time": "2023-04-09T07:22:17.541Z"
   },
   {
    "duration": 314,
    "start_time": "2023-04-09T07:22:17.668Z"
   },
   {
    "duration": 797,
    "start_time": "2023-04-09T07:22:17.984Z"
   },
   {
    "duration": 365,
    "start_time": "2023-04-09T07:22:18.784Z"
   },
   {
    "duration": 23,
    "start_time": "2023-04-09T07:22:19.151Z"
   },
   {
    "duration": 8,
    "start_time": "2023-04-09T07:22:19.177Z"
   },
   {
    "duration": 15,
    "start_time": "2023-04-09T07:22:19.188Z"
   },
   {
    "duration": 19,
    "start_time": "2023-04-09T07:22:19.206Z"
   },
   {
    "duration": 613,
    "start_time": "2023-04-09T07:22:19.242Z"
   },
   {
    "duration": 752,
    "start_time": "2023-04-09T07:22:19.856Z"
   },
   {
    "duration": 48,
    "start_time": "2023-04-09T07:22:20.610Z"
   },
   {
    "duration": 10,
    "start_time": "2023-04-09T07:22:20.660Z"
   },
   {
    "duration": 21,
    "start_time": "2023-04-09T07:22:20.672Z"
   },
   {
    "duration": 565,
    "start_time": "2023-04-09T17:57:21.348Z"
   },
   {
    "duration": 13,
    "start_time": "2023-04-09T17:57:21.915Z"
   },
   {
    "duration": 35,
    "start_time": "2023-04-09T17:57:21.930Z"
   },
   {
    "duration": 11,
    "start_time": "2023-04-09T17:57:21.968Z"
   },
   {
    "duration": 33,
    "start_time": "2023-04-09T17:57:21.980Z"
   },
   {
    "duration": 4,
    "start_time": "2023-04-09T17:57:22.015Z"
   },
   {
    "duration": 35,
    "start_time": "2023-04-09T17:57:22.021Z"
   },
   {
    "duration": 8,
    "start_time": "2023-04-09T17:57:22.057Z"
   },
   {
    "duration": 27,
    "start_time": "2023-04-09T17:57:22.067Z"
   },
   {
    "duration": 588,
    "start_time": "2023-04-09T17:57:22.098Z"
   },
   {
    "duration": 115,
    "start_time": "2023-04-09T17:57:22.688Z"
   },
   {
    "duration": 304,
    "start_time": "2023-04-09T17:57:22.805Z"
   },
   {
    "duration": 820,
    "start_time": "2023-04-09T17:57:23.111Z"
   },
   {
    "duration": 331,
    "start_time": "2023-04-09T17:57:23.934Z"
   },
   {
    "duration": 15,
    "start_time": "2023-04-09T17:57:24.268Z"
   },
   {
    "duration": 6,
    "start_time": "2023-04-09T17:57:24.285Z"
   },
   {
    "duration": 11,
    "start_time": "2023-04-09T17:57:24.293Z"
   },
   {
    "duration": 8,
    "start_time": "2023-04-09T17:57:24.305Z"
   },
   {
    "duration": 647,
    "start_time": "2023-04-09T17:57:24.315Z"
   },
   {
    "duration": 594,
    "start_time": "2023-04-09T17:57:24.964Z"
   },
   {
    "duration": 26,
    "start_time": "2023-04-09T17:57:25.560Z"
   },
   {
    "duration": 20,
    "start_time": "2023-04-09T17:57:25.588Z"
   },
   {
    "duration": 55,
    "start_time": "2023-04-09T17:57:25.609Z"
   },
   {
    "duration": 591,
    "start_time": "2023-04-10T15:25:19.207Z"
   },
   {
    "duration": 77,
    "start_time": "2023-04-10T15:25:36.232Z"
   },
   {
    "duration": 11,
    "start_time": "2023-04-10T16:09:20.961Z"
   },
   {
    "duration": 64,
    "start_time": "2023-04-10T16:09:25.908Z"
   },
   {
    "duration": 14,
    "start_time": "2023-04-10T16:09:25.974Z"
   },
   {
    "duration": 22,
    "start_time": "2023-04-10T16:09:25.989Z"
   },
   {
    "duration": 11,
    "start_time": "2023-04-10T16:09:26.012Z"
   },
   {
    "duration": 28,
    "start_time": "2023-04-10T16:09:26.025Z"
   },
   {
    "duration": 4,
    "start_time": "2023-04-10T16:09:26.054Z"
   },
   {
    "duration": 41,
    "start_time": "2023-04-10T16:09:26.059Z"
   },
   {
    "duration": 5,
    "start_time": "2023-04-10T16:09:26.102Z"
   },
   {
    "duration": 12,
    "start_time": "2023-04-10T16:09:26.109Z"
   },
   {
    "duration": 620,
    "start_time": "2023-04-10T16:09:26.123Z"
   },
   {
    "duration": 140,
    "start_time": "2023-04-10T16:09:26.745Z"
   },
   {
    "duration": 319,
    "start_time": "2023-04-10T16:09:26.887Z"
   },
   {
    "duration": 774,
    "start_time": "2023-04-10T16:09:27.209Z"
   },
   {
    "duration": 344,
    "start_time": "2023-04-10T16:09:27.985Z"
   },
   {
    "duration": 17,
    "start_time": "2023-04-10T16:09:28.331Z"
   },
   {
    "duration": 6,
    "start_time": "2023-04-10T16:09:28.350Z"
   },
   {
    "duration": 9,
    "start_time": "2023-04-10T16:09:28.358Z"
   },
   {
    "duration": 9,
    "start_time": "2023-04-10T16:09:28.369Z"
   },
   {
    "duration": 686,
    "start_time": "2023-04-10T16:09:28.385Z"
   },
   {
    "duration": 630,
    "start_time": "2023-04-10T16:09:29.073Z"
   },
   {
    "duration": 28,
    "start_time": "2023-04-10T16:09:29.704Z"
   },
   {
    "duration": 10,
    "start_time": "2023-04-10T16:09:29.734Z"
   },
   {
    "duration": 10,
    "start_time": "2023-04-10T16:09:29.745Z"
   },
   {
    "duration": 66,
    "start_time": "2023-04-10T16:13:18.347Z"
   },
   {
    "duration": 17,
    "start_time": "2023-04-10T16:13:18.415Z"
   },
   {
    "duration": 20,
    "start_time": "2023-04-10T16:13:18.434Z"
   },
   {
    "duration": 39,
    "start_time": "2023-04-10T16:13:18.457Z"
   },
   {
    "duration": 26,
    "start_time": "2023-04-10T16:13:18.499Z"
   },
   {
    "duration": 4,
    "start_time": "2023-04-10T16:13:18.526Z"
   },
   {
    "duration": 20,
    "start_time": "2023-04-10T16:13:18.532Z"
   },
   {
    "duration": 33,
    "start_time": "2023-04-10T16:13:18.553Z"
   },
   {
    "duration": 8,
    "start_time": "2023-04-10T16:13:18.588Z"
   },
   {
    "duration": 227,
    "start_time": "2023-04-10T16:13:18.598Z"
   },
   {
    "duration": 125,
    "start_time": "2023-04-10T16:13:18.827Z"
   },
   {
    "duration": 298,
    "start_time": "2023-04-10T16:13:18.954Z"
   },
   {
    "duration": 240,
    "start_time": "2023-04-10T16:13:19.253Z"
   },
   {
    "duration": 330,
    "start_time": "2023-04-10T16:13:19.495Z"
   },
   {
    "duration": 15,
    "start_time": "2023-04-10T16:13:19.826Z"
   },
   {
    "duration": 6,
    "start_time": "2023-04-10T16:13:19.842Z"
   },
   {
    "duration": 9,
    "start_time": "2023-04-10T16:13:19.849Z"
   },
   {
    "duration": 31,
    "start_time": "2023-04-10T16:13:19.860Z"
   },
   {
    "duration": 619,
    "start_time": "2023-04-10T16:13:19.893Z"
   },
   {
    "duration": 727,
    "start_time": "2023-04-10T16:13:20.514Z"
   },
   {
    "duration": 28,
    "start_time": "2023-04-10T16:13:21.242Z"
   },
   {
    "duration": 19,
    "start_time": "2023-04-10T16:13:21.272Z"
   },
   {
    "duration": 9,
    "start_time": "2023-04-10T16:13:21.293Z"
   },
   {
    "duration": 14,
    "start_time": "2023-04-10T16:15:56.157Z"
   },
   {
    "duration": 58,
    "start_time": "2023-04-10T16:17:36.429Z"
   },
   {
    "duration": 70,
    "start_time": "2023-04-10T16:17:47.634Z"
   },
   {
    "duration": 15,
    "start_time": "2023-04-10T16:17:47.706Z"
   },
   {
    "duration": 20,
    "start_time": "2023-04-10T16:17:47.722Z"
   },
   {
    "duration": 13,
    "start_time": "2023-04-10T16:17:47.745Z"
   },
   {
    "duration": 24,
    "start_time": "2023-04-10T16:17:49.985Z"
   },
   {
    "duration": 5,
    "start_time": "2023-04-10T16:17:50.010Z"
   },
   {
    "duration": 16,
    "start_time": "2023-04-10T16:17:50.019Z"
   },
   {
    "duration": 6,
    "start_time": "2023-04-10T16:17:50.037Z"
   },
   {
    "duration": 6,
    "start_time": "2023-04-10T16:17:50.045Z"
   },
   {
    "duration": 237,
    "start_time": "2023-04-10T16:17:50.053Z"
   },
   {
    "duration": 124,
    "start_time": "2023-04-10T16:17:50.706Z"
   },
   {
    "duration": 327,
    "start_time": "2023-04-10T16:17:50.832Z"
   },
   {
    "duration": 261,
    "start_time": "2023-04-10T16:17:51.161Z"
   },
   {
    "duration": 357,
    "start_time": "2023-04-10T16:17:51.423Z"
   },
   {
    "duration": 0,
    "start_time": "2023-04-10T16:17:51.782Z"
   },
   {
    "duration": 0,
    "start_time": "2023-04-10T16:17:51.785Z"
   },
   {
    "duration": 0,
    "start_time": "2023-04-10T16:17:51.786Z"
   },
   {
    "duration": 0,
    "start_time": "2023-04-10T16:17:51.787Z"
   },
   {
    "duration": 0,
    "start_time": "2023-04-10T16:17:51.788Z"
   },
   {
    "duration": 0,
    "start_time": "2023-04-10T16:17:51.791Z"
   },
   {
    "duration": 0,
    "start_time": "2023-04-10T16:17:51.792Z"
   },
   {
    "duration": 0,
    "start_time": "2023-04-10T16:17:51.794Z"
   },
   {
    "duration": 0,
    "start_time": "2023-04-10T16:17:51.795Z"
   },
   {
    "duration": 14,
    "start_time": "2023-04-10T16:29:30.036Z"
   },
   {
    "duration": 13,
    "start_time": "2023-04-10T16:57:07.936Z"
   },
   {
    "duration": 231,
    "start_time": "2023-04-10T16:57:22.861Z"
   },
   {
    "duration": 7,
    "start_time": "2023-04-10T16:57:52.812Z"
   },
   {
    "duration": 68,
    "start_time": "2023-04-10T16:58:29.385Z"
   },
   {
    "duration": 14,
    "start_time": "2023-04-10T16:58:29.455Z"
   },
   {
    "duration": 24,
    "start_time": "2023-04-10T16:58:29.471Z"
   },
   {
    "duration": 10,
    "start_time": "2023-04-10T16:58:29.497Z"
   },
   {
    "duration": 14,
    "start_time": "2023-04-10T16:58:29.509Z"
   },
   {
    "duration": 9,
    "start_time": "2023-04-10T16:58:29.524Z"
   },
   {
    "duration": 23,
    "start_time": "2023-04-10T16:58:29.535Z"
   },
   {
    "duration": 27,
    "start_time": "2023-04-10T16:58:29.559Z"
   },
   {
    "duration": 10,
    "start_time": "2023-04-10T16:58:29.588Z"
   },
   {
    "duration": 9,
    "start_time": "2023-04-10T16:58:29.601Z"
   },
   {
    "duration": 152,
    "start_time": "2023-04-10T16:58:29.612Z"
   },
   {
    "duration": 322,
    "start_time": "2023-04-10T16:58:29.766Z"
   },
   {
    "duration": 338,
    "start_time": "2023-04-10T16:58:30.090Z"
   },
   {
    "duration": 237,
    "start_time": "2023-04-10T16:58:30.430Z"
   },
   {
    "duration": 0,
    "start_time": "2023-04-10T16:58:30.669Z"
   },
   {
    "duration": 0,
    "start_time": "2023-04-10T16:58:30.671Z"
   },
   {
    "duration": 0,
    "start_time": "2023-04-10T16:58:30.673Z"
   },
   {
    "duration": 0,
    "start_time": "2023-04-10T16:58:30.686Z"
   },
   {
    "duration": 0,
    "start_time": "2023-04-10T16:58:30.687Z"
   },
   {
    "duration": 0,
    "start_time": "2023-04-10T16:58:30.688Z"
   },
   {
    "duration": 0,
    "start_time": "2023-04-10T16:58:30.690Z"
   },
   {
    "duration": 0,
    "start_time": "2023-04-10T16:58:30.691Z"
   },
   {
    "duration": 0,
    "start_time": "2023-04-10T16:58:30.692Z"
   },
   {
    "duration": 135,
    "start_time": "2023-04-10T17:00:23.180Z"
   },
   {
    "duration": 121,
    "start_time": "2023-04-10T17:00:36.879Z"
   },
   {
    "duration": 13,
    "start_time": "2023-04-10T17:02:09.055Z"
   },
   {
    "duration": 6,
    "start_time": "2023-04-10T17:03:16.513Z"
   },
   {
    "duration": 66,
    "start_time": "2023-04-10T17:03:21.637Z"
   },
   {
    "duration": 14,
    "start_time": "2023-04-10T17:03:21.704Z"
   },
   {
    "duration": 18,
    "start_time": "2023-04-10T17:03:21.720Z"
   },
   {
    "duration": 10,
    "start_time": "2023-04-10T17:03:21.741Z"
   },
   {
    "duration": 35,
    "start_time": "2023-04-10T17:03:21.753Z"
   },
   {
    "duration": 4,
    "start_time": "2023-04-10T17:03:21.791Z"
   },
   {
    "duration": 21,
    "start_time": "2023-04-10T17:03:21.797Z"
   },
   {
    "duration": 8,
    "start_time": "2023-04-10T17:03:21.820Z"
   },
   {
    "duration": 6,
    "start_time": "2023-04-10T17:03:21.830Z"
   },
   {
    "duration": 13,
    "start_time": "2023-04-10T17:03:21.838Z"
   },
   {
    "duration": 935,
    "start_time": "2023-04-10T17:11:47.613Z"
   },
   {
    "duration": 885,
    "start_time": "2023-04-10T17:12:50.848Z"
   },
   {
    "duration": 14,
    "start_time": "2023-04-10T17:14:40.095Z"
   },
   {
    "duration": 8,
    "start_time": "2023-04-10T17:14:53.178Z"
   },
   {
    "duration": 12,
    "start_time": "2023-04-10T17:15:11.610Z"
   },
   {
    "duration": 9,
    "start_time": "2023-04-10T17:16:15.763Z"
   },
   {
    "duration": 75,
    "start_time": "2023-04-10T17:16:30.718Z"
   },
   {
    "duration": 16,
    "start_time": "2023-04-10T17:16:30.795Z"
   },
   {
    "duration": 42,
    "start_time": "2023-04-10T17:16:30.813Z"
   },
   {
    "duration": 16,
    "start_time": "2023-04-10T17:16:30.857Z"
   },
   {
    "duration": 33,
    "start_time": "2023-04-10T17:16:30.874Z"
   },
   {
    "duration": 11,
    "start_time": "2023-04-10T17:16:30.910Z"
   },
   {
    "duration": 44,
    "start_time": "2023-04-10T17:16:30.924Z"
   },
   {
    "duration": 13,
    "start_time": "2023-04-10T17:16:30.970Z"
   },
   {
    "duration": 40,
    "start_time": "2023-04-10T17:16:30.985Z"
   },
   {
    "duration": 11,
    "start_time": "2023-04-10T17:16:35.359Z"
   },
   {
    "duration": 12,
    "start_time": "2023-04-10T17:16:54.420Z"
   },
   {
    "duration": 10,
    "start_time": "2023-04-10T17:17:01.957Z"
   },
   {
    "duration": 308,
    "start_time": "2023-04-10T17:17:53.607Z"
   },
   {
    "duration": 236,
    "start_time": "2023-04-10T17:19:00.698Z"
   },
   {
    "duration": 141,
    "start_time": "2023-04-10T17:20:11.345Z"
   },
   {
    "duration": 1792,
    "start_time": "2023-04-10T17:20:37.012Z"
   },
   {
    "duration": 225,
    "start_time": "2023-04-10T17:20:46.513Z"
   },
   {
    "duration": 236,
    "start_time": "2023-04-10T17:21:10.534Z"
   },
   {
    "duration": 276,
    "start_time": "2023-04-10T17:22:27.885Z"
   },
   {
    "duration": 136,
    "start_time": "2023-04-10T17:29:19.885Z"
   },
   {
    "duration": 128,
    "start_time": "2023-04-10T17:29:42.210Z"
   },
   {
    "duration": 62,
    "start_time": "2023-04-10T17:29:47.775Z"
   },
   {
    "duration": 14,
    "start_time": "2023-04-10T17:29:47.839Z"
   },
   {
    "duration": 31,
    "start_time": "2023-04-10T17:29:47.855Z"
   },
   {
    "duration": 11,
    "start_time": "2023-04-10T17:29:47.888Z"
   },
   {
    "duration": 15,
    "start_time": "2023-04-10T17:29:47.901Z"
   },
   {
    "duration": 3,
    "start_time": "2023-04-10T17:29:47.918Z"
   },
   {
    "duration": 19,
    "start_time": "2023-04-10T17:29:47.923Z"
   },
   {
    "duration": 7,
    "start_time": "2023-04-10T17:29:47.943Z"
   },
   {
    "duration": 39,
    "start_time": "2023-04-10T17:29:47.951Z"
   },
   {
    "duration": 296,
    "start_time": "2023-04-10T17:29:47.993Z"
   },
   {
    "duration": 120,
    "start_time": "2023-04-10T17:29:50.590Z"
   },
   {
    "duration": 46,
    "start_time": "2023-04-10T17:31:14.448Z"
   },
   {
    "duration": 163,
    "start_time": "2023-04-10T17:32:42.478Z"
   },
   {
    "duration": 162,
    "start_time": "2023-04-10T17:38:00.766Z"
   },
   {
    "duration": 355,
    "start_time": "2023-04-10T17:39:34.212Z"
   },
   {
    "duration": 391,
    "start_time": "2023-04-10T17:40:05.544Z"
   },
   {
    "duration": 425,
    "start_time": "2023-04-10T17:40:42.136Z"
   },
   {
    "duration": 287,
    "start_time": "2023-04-10T17:43:25.579Z"
   },
   {
    "duration": 450,
    "start_time": "2023-04-10T17:43:48.898Z"
   },
   {
    "duration": 690,
    "start_time": "2023-04-10T17:44:18.156Z"
   },
   {
    "duration": 378,
    "start_time": "2023-04-10T17:47:09.074Z"
   },
   {
    "duration": 202,
    "start_time": "2023-04-10T17:54:06.569Z"
   },
   {
    "duration": 18,
    "start_time": "2023-04-10T18:02:18.609Z"
   },
   {
    "duration": 23,
    "start_time": "2023-04-10T18:02:54.905Z"
   },
   {
    "duration": 458,
    "start_time": "2023-04-10T18:03:42.139Z"
   },
   {
    "duration": 423,
    "start_time": "2023-04-10T18:04:14.985Z"
   },
   {
    "duration": 540,
    "start_time": "2023-04-10T18:05:35.344Z"
   },
   {
    "duration": 18,
    "start_time": "2023-04-10T18:08:20.188Z"
   },
   {
    "duration": 20,
    "start_time": "2023-04-10T18:08:55.558Z"
   },
   {
    "duration": 225,
    "start_time": "2023-04-10T18:09:53.546Z"
   },
   {
    "duration": 66,
    "start_time": "2023-04-10T18:11:00.695Z"
   },
   {
    "duration": 16,
    "start_time": "2023-04-10T18:11:00.763Z"
   },
   {
    "duration": 31,
    "start_time": "2023-04-10T18:11:00.781Z"
   },
   {
    "duration": 19,
    "start_time": "2023-04-10T18:11:00.814Z"
   },
   {
    "duration": 15,
    "start_time": "2023-04-10T18:11:04.504Z"
   },
   {
    "duration": 61,
    "start_time": "2023-04-10T18:11:39.921Z"
   },
   {
    "duration": 14,
    "start_time": "2023-04-10T18:11:39.983Z"
   },
   {
    "duration": 19,
    "start_time": "2023-04-10T18:11:39.999Z"
   },
   {
    "duration": 11,
    "start_time": "2023-04-10T18:11:40.020Z"
   },
   {
    "duration": 68,
    "start_time": "2023-04-10T18:11:45.760Z"
   },
   {
    "duration": 14,
    "start_time": "2023-04-10T18:11:45.830Z"
   },
   {
    "duration": 20,
    "start_time": "2023-04-10T18:11:45.845Z"
   },
   {
    "duration": 26,
    "start_time": "2023-04-10T18:11:45.868Z"
   },
   {
    "duration": 14,
    "start_time": "2023-04-10T18:11:45.896Z"
   },
   {
    "duration": 4,
    "start_time": "2023-04-10T18:11:45.911Z"
   },
   {
    "duration": 18,
    "start_time": "2023-04-10T18:11:45.917Z"
   },
   {
    "duration": 7,
    "start_time": "2023-04-10T18:11:45.937Z"
   },
   {
    "duration": 46,
    "start_time": "2023-04-10T18:11:45.945Z"
   },
   {
    "duration": 263,
    "start_time": "2023-04-10T18:11:45.994Z"
   },
   {
    "duration": 137,
    "start_time": "2023-04-10T18:11:46.259Z"
   },
   {
    "duration": 404,
    "start_time": "2023-04-10T18:11:46.398Z"
   },
   {
    "duration": 466,
    "start_time": "2023-04-10T18:11:46.804Z"
   },
   {
    "duration": 242,
    "start_time": "2023-04-10T18:11:47.272Z"
   },
   {
    "duration": 0,
    "start_time": "2023-04-10T18:11:47.516Z"
   },
   {
    "duration": 0,
    "start_time": "2023-04-10T18:11:47.517Z"
   },
   {
    "duration": 0,
    "start_time": "2023-04-10T18:11:47.518Z"
   },
   {
    "duration": 0,
    "start_time": "2023-04-10T18:11:47.519Z"
   },
   {
    "duration": 0,
    "start_time": "2023-04-10T18:11:47.520Z"
   },
   {
    "duration": 0,
    "start_time": "2023-04-10T18:11:47.521Z"
   },
   {
    "duration": 0,
    "start_time": "2023-04-10T18:11:47.522Z"
   },
   {
    "duration": 0,
    "start_time": "2023-04-10T18:11:47.524Z"
   },
   {
    "duration": 0,
    "start_time": "2023-04-10T18:11:47.526Z"
   },
   {
    "duration": 64,
    "start_time": "2023-04-10T18:16:40.092Z"
   },
   {
    "duration": 14,
    "start_time": "2023-04-10T18:16:40.158Z"
   },
   {
    "duration": 20,
    "start_time": "2023-04-10T18:16:40.174Z"
   },
   {
    "duration": 13,
    "start_time": "2023-04-10T18:16:40.197Z"
   },
   {
    "duration": 19,
    "start_time": "2023-04-10T18:16:54.580Z"
   },
   {
    "duration": 65,
    "start_time": "2023-04-10T18:17:33.908Z"
   },
   {
    "duration": 14,
    "start_time": "2023-04-10T18:17:33.975Z"
   },
   {
    "duration": 34,
    "start_time": "2023-04-10T18:17:33.991Z"
   },
   {
    "duration": 11,
    "start_time": "2023-04-10T18:17:34.027Z"
   },
   {
    "duration": 21,
    "start_time": "2023-04-10T18:17:45.342Z"
   },
   {
    "duration": 18,
    "start_time": "2023-04-10T18:17:51.780Z"
   },
   {
    "duration": 5,
    "start_time": "2023-04-10T18:17:51.851Z"
   },
   {
    "duration": 24,
    "start_time": "2023-04-10T18:17:51.859Z"
   },
   {
    "duration": 7,
    "start_time": "2023-04-10T18:17:51.885Z"
   },
   {
    "duration": 11,
    "start_time": "2023-04-10T18:17:51.894Z"
   },
   {
    "duration": 268,
    "start_time": "2023-04-10T18:17:51.908Z"
   },
   {
    "duration": 147,
    "start_time": "2023-04-10T18:17:52.178Z"
   },
   {
    "duration": 406,
    "start_time": "2023-04-10T18:17:52.328Z"
   },
   {
    "duration": 578,
    "start_time": "2023-04-10T18:17:52.736Z"
   },
   {
    "duration": 249,
    "start_time": "2023-04-10T18:17:53.316Z"
   },
   {
    "duration": 26,
    "start_time": "2023-04-10T18:17:53.567Z"
   },
   {
    "duration": 7,
    "start_time": "2023-04-10T18:17:53.596Z"
   },
   {
    "duration": 15,
    "start_time": "2023-04-10T18:17:53.607Z"
   },
   {
    "duration": 14,
    "start_time": "2023-04-10T18:17:53.624Z"
   },
   {
    "duration": 696,
    "start_time": "2023-04-10T18:17:53.639Z"
   },
   {
    "duration": 627,
    "start_time": "2023-04-10T18:17:54.337Z"
   },
   {
    "duration": 34,
    "start_time": "2023-04-10T18:17:54.966Z"
   },
   {
    "duration": 8,
    "start_time": "2023-04-10T18:17:55.002Z"
   },
   {
    "duration": 41,
    "start_time": "2023-04-10T18:17:55.011Z"
   },
   {
    "duration": 436,
    "start_time": "2023-04-10T18:18:34.238Z"
   },
   {
    "duration": 293,
    "start_time": "2023-04-10T18:20:31.231Z"
   },
   {
    "duration": 14,
    "start_time": "2023-04-10T18:21:48.207Z"
   },
   {
    "duration": 176,
    "start_time": "2023-04-10T18:27:08.608Z"
   },
   {
    "duration": 9,
    "start_time": "2023-04-10T18:27:44.638Z"
   },
   {
    "duration": 52,
    "start_time": "2023-04-10T18:36:03.014Z"
   },
   {
    "duration": 140,
    "start_time": "2023-04-10T18:36:28.752Z"
   },
   {
    "duration": 164,
    "start_time": "2023-04-10T18:37:14.480Z"
   },
   {
    "duration": 136,
    "start_time": "2023-04-10T18:39:00.794Z"
   },
   {
    "duration": 16,
    "start_time": "2023-04-10T18:39:46.009Z"
   },
   {
    "duration": 162,
    "start_time": "2023-04-10T18:40:10.660Z"
   },
   {
    "duration": 64,
    "start_time": "2023-04-10T18:40:20.573Z"
   },
   {
    "duration": 15,
    "start_time": "2023-04-10T18:40:20.639Z"
   },
   {
    "duration": 38,
    "start_time": "2023-04-10T18:40:20.657Z"
   },
   {
    "duration": 14,
    "start_time": "2023-04-10T18:40:20.699Z"
   },
   {
    "duration": 25,
    "start_time": "2023-04-10T18:40:20.715Z"
   },
   {
    "duration": 5,
    "start_time": "2023-04-10T18:40:20.742Z"
   },
   {
    "duration": 48,
    "start_time": "2023-04-10T18:40:20.748Z"
   },
   {
    "duration": 9,
    "start_time": "2023-04-10T18:40:20.799Z"
   },
   {
    "duration": 7,
    "start_time": "2023-04-10T18:40:20.810Z"
   },
   {
    "duration": 309,
    "start_time": "2023-04-10T18:40:20.820Z"
   },
   {
    "duration": 164,
    "start_time": "2023-04-10T18:40:21.131Z"
   },
   {
    "duration": 465,
    "start_time": "2023-04-10T18:40:21.300Z"
   },
   {
    "duration": 546,
    "start_time": "2023-04-10T18:40:21.767Z"
   },
   {
    "duration": 388,
    "start_time": "2023-04-10T18:40:22.316Z"
   },
   {
    "duration": 23,
    "start_time": "2023-04-10T18:40:22.707Z"
   },
   {
    "duration": 6,
    "start_time": "2023-04-10T18:40:22.732Z"
   },
   {
    "duration": 206,
    "start_time": "2023-04-10T18:40:24.239Z"
   },
   {
    "duration": 66,
    "start_time": "2023-04-10T18:40:50.061Z"
   },
   {
    "duration": 18,
    "start_time": "2023-04-10T18:40:50.129Z"
   },
   {
    "duration": 20,
    "start_time": "2023-04-10T18:40:50.148Z"
   },
   {
    "duration": 14,
    "start_time": "2023-04-10T18:40:50.187Z"
   },
   {
    "duration": 26,
    "start_time": "2023-04-10T18:40:50.203Z"
   },
   {
    "duration": 4,
    "start_time": "2023-04-10T18:40:50.231Z"
   },
   {
    "duration": 18,
    "start_time": "2023-04-10T18:40:50.236Z"
   },
   {
    "duration": 8,
    "start_time": "2023-04-10T18:40:50.285Z"
   },
   {
    "duration": 32,
    "start_time": "2023-04-10T18:40:50.294Z"
   },
   {
    "duration": 317,
    "start_time": "2023-04-10T18:40:50.329Z"
   },
   {
    "duration": 181,
    "start_time": "2023-04-10T18:40:50.649Z"
   },
   {
    "duration": 619,
    "start_time": "2023-04-10T18:40:50.833Z"
   },
   {
    "duration": 517,
    "start_time": "2023-04-10T18:40:51.455Z"
   },
   {
    "duration": 333,
    "start_time": "2023-04-10T18:40:51.974Z"
   },
   {
    "duration": 24,
    "start_time": "2023-04-10T18:40:52.309Z"
   },
   {
    "duration": 6,
    "start_time": "2023-04-10T18:40:52.335Z"
   },
   {
    "duration": 215,
    "start_time": "2023-04-10T18:40:55.112Z"
   },
   {
    "duration": 189,
    "start_time": "2023-04-10T18:44:05.119Z"
   },
   {
    "duration": 177,
    "start_time": "2023-04-10T18:44:55.953Z"
   },
   {
    "duration": 453,
    "start_time": "2023-04-10T18:52:55.779Z"
   },
   {
    "duration": 12,
    "start_time": "2023-04-10T19:00:50.606Z"
   },
   {
    "duration": 9,
    "start_time": "2023-04-10T19:04:51.127Z"
   },
   {
    "duration": 7,
    "start_time": "2023-04-10T19:05:51.790Z"
   },
   {
    "duration": 10,
    "start_time": "2023-04-10T19:07:43.408Z"
   },
   {
    "duration": 11,
    "start_time": "2023-04-10T19:08:14.530Z"
   },
   {
    "duration": 10,
    "start_time": "2023-04-10T19:11:28.903Z"
   },
   {
    "duration": 64,
    "start_time": "2023-04-10T19:13:46.699Z"
   },
   {
    "duration": 14,
    "start_time": "2023-04-10T19:13:46.765Z"
   },
   {
    "duration": 22,
    "start_time": "2023-04-10T19:13:46.781Z"
   },
   {
    "duration": 12,
    "start_time": "2023-04-10T19:13:46.805Z"
   },
   {
    "duration": 18,
    "start_time": "2023-04-10T19:13:46.819Z"
   },
   {
    "duration": 4,
    "start_time": "2023-04-10T19:13:46.839Z"
   },
   {
    "duration": 41,
    "start_time": "2023-04-10T19:13:46.845Z"
   },
   {
    "duration": 8,
    "start_time": "2023-04-10T19:13:46.888Z"
   },
   {
    "duration": 8,
    "start_time": "2023-04-10T19:13:46.897Z"
   },
   {
    "duration": 257,
    "start_time": "2023-04-10T19:13:46.908Z"
   },
   {
    "duration": 154,
    "start_time": "2023-04-10T19:13:47.167Z"
   },
   {
    "duration": 413,
    "start_time": "2023-04-10T19:13:47.323Z"
   },
   {
    "duration": 629,
    "start_time": "2023-04-10T19:13:47.738Z"
   },
   {
    "duration": 306,
    "start_time": "2023-04-10T19:13:48.368Z"
   },
   {
    "duration": 27,
    "start_time": "2023-04-10T19:13:48.676Z"
   },
   {
    "duration": 5,
    "start_time": "2023-04-10T19:13:48.705Z"
   },
   {
    "duration": 197,
    "start_time": "2023-04-10T19:13:48.711Z"
   },
   {
    "duration": 179,
    "start_time": "2023-04-10T19:13:48.911Z"
   },
   {
    "duration": 620,
    "start_time": "2023-04-10T19:13:49.091Z"
   },
   {
    "duration": 630,
    "start_time": "2023-04-10T19:13:49.713Z"
   },
   {
    "duration": 423,
    "start_time": "2023-04-10T19:13:50.345Z"
   },
   {
    "duration": 19,
    "start_time": "2023-04-10T19:13:50.770Z"
   },
   {
    "duration": 13,
    "start_time": "2023-04-10T19:13:50.791Z"
   },
   {
    "duration": 128,
    "start_time": "2023-04-10T19:16:24.509Z"
   },
   {
    "duration": 70,
    "start_time": "2023-04-10T19:16:30.961Z"
   },
   {
    "duration": 16,
    "start_time": "2023-04-10T19:16:31.033Z"
   },
   {
    "duration": 49,
    "start_time": "2023-04-10T19:16:31.050Z"
   },
   {
    "duration": 38,
    "start_time": "2023-04-10T19:16:31.101Z"
   },
   {
    "duration": 51,
    "start_time": "2023-04-10T19:16:31.141Z"
   },
   {
    "duration": 22,
    "start_time": "2023-04-10T19:16:31.194Z"
   },
   {
    "duration": 41,
    "start_time": "2023-04-10T19:16:31.218Z"
   },
   {
    "duration": 313,
    "start_time": "2023-04-10T19:16:31.261Z"
   },
   {
    "duration": 138,
    "start_time": "2023-04-10T19:16:55.345Z"
   },
   {
    "duration": 52,
    "start_time": "2023-04-10T19:18:08.983Z"
   },
   {
    "duration": 65,
    "start_time": "2023-04-10T19:40:10.617Z"
   },
   {
    "duration": 24,
    "start_time": "2023-04-10T19:40:10.685Z"
   },
   {
    "duration": 21,
    "start_time": "2023-04-10T19:40:10.711Z"
   },
   {
    "duration": 14,
    "start_time": "2023-04-10T19:40:10.734Z"
   },
   {
    "duration": 35,
    "start_time": "2023-04-10T19:40:10.750Z"
   },
   {
    "duration": 6,
    "start_time": "2023-04-10T19:40:10.787Z"
   },
   {
    "duration": 27,
    "start_time": "2023-04-10T19:40:10.795Z"
   },
   {
    "duration": 172,
    "start_time": "2023-04-10T19:40:10.823Z"
   },
   {
    "duration": 14,
    "start_time": "2023-04-10T19:40:10.997Z"
   },
   {
    "duration": 309,
    "start_time": "2023-04-10T19:40:11.013Z"
   },
   {
    "duration": 339,
    "start_time": "2023-04-10T19:40:11.324Z"
   },
   {
    "duration": 449,
    "start_time": "2023-04-10T19:40:11.665Z"
   },
   {
    "duration": 509,
    "start_time": "2023-04-10T19:40:12.117Z"
   },
   {
    "duration": 340,
    "start_time": "2023-04-10T19:40:12.630Z"
   },
   {
    "duration": 29,
    "start_time": "2023-04-10T19:40:12.971Z"
   },
   {
    "duration": 8,
    "start_time": "2023-04-10T19:40:13.002Z"
   },
   {
    "duration": 227,
    "start_time": "2023-04-10T19:40:13.012Z"
   },
   {
    "duration": 217,
    "start_time": "2023-04-10T19:40:13.241Z"
   },
   {
    "duration": 826,
    "start_time": "2023-04-10T19:40:13.459Z"
   },
   {
    "duration": 770,
    "start_time": "2023-04-10T19:40:14.288Z"
   },
   {
    "duration": 429,
    "start_time": "2023-04-10T19:40:15.060Z"
   },
   {
    "duration": 11,
    "start_time": "2023-04-10T19:40:15.492Z"
   },
   {
    "duration": 20,
    "start_time": "2023-04-10T19:40:15.506Z"
   },
   {
    "duration": 10,
    "start_time": "2023-04-10T19:43:41.337Z"
   },
   {
    "duration": 64,
    "start_time": "2023-04-10T19:44:46.124Z"
   },
   {
    "duration": 13,
    "start_time": "2023-04-10T19:44:46.189Z"
   },
   {
    "duration": 19,
    "start_time": "2023-04-10T19:44:46.204Z"
   },
   {
    "duration": 10,
    "start_time": "2023-04-10T19:44:46.225Z"
   },
   {
    "duration": 18,
    "start_time": "2023-04-10T19:44:46.237Z"
   },
   {
    "duration": 31,
    "start_time": "2023-04-10T19:44:46.256Z"
   },
   {
    "duration": 19,
    "start_time": "2023-04-10T19:44:46.288Z"
   },
   {
    "duration": 158,
    "start_time": "2023-04-10T19:44:46.308Z"
   },
   {
    "duration": 17,
    "start_time": "2023-04-10T19:44:46.468Z"
   },
   {
    "duration": 248,
    "start_time": "2023-04-10T19:44:46.488Z"
   },
   {
    "duration": 143,
    "start_time": "2023-04-10T19:44:46.738Z"
   },
   {
    "duration": 572,
    "start_time": "2023-04-10T19:44:46.885Z"
   },
   {
    "duration": 482,
    "start_time": "2023-04-10T19:44:47.459Z"
   },
   {
    "duration": 288,
    "start_time": "2023-04-10T19:44:47.943Z"
   },
   {
    "duration": 25,
    "start_time": "2023-04-10T19:44:48.233Z"
   },
   {
    "duration": 7,
    "start_time": "2023-04-10T19:44:48.260Z"
   },
   {
    "duration": 181,
    "start_time": "2023-04-10T19:44:48.285Z"
   },
   {
    "duration": 181,
    "start_time": "2023-04-10T19:44:48.469Z"
   },
   {
    "duration": 614,
    "start_time": "2023-04-10T19:44:48.652Z"
   },
   {
    "duration": 613,
    "start_time": "2023-04-10T19:44:49.268Z"
   },
   {
    "duration": 374,
    "start_time": "2023-04-10T19:44:49.884Z"
   },
   {
    "duration": 9,
    "start_time": "2023-04-10T19:44:50.259Z"
   },
   {
    "duration": 21,
    "start_time": "2023-04-10T19:44:50.270Z"
   },
   {
    "duration": 734,
    "start_time": "2023-04-11T17:28:11.227Z"
   },
   {
    "duration": 19,
    "start_time": "2023-04-11T17:28:11.963Z"
   },
   {
    "duration": 28,
    "start_time": "2023-04-11T17:28:11.984Z"
   },
   {
    "duration": 11,
    "start_time": "2023-04-11T17:28:12.014Z"
   },
   {
    "duration": 87,
    "start_time": "2023-04-11T17:28:12.027Z"
   },
   {
    "duration": 0,
    "start_time": "2023-04-11T17:28:12.118Z"
   },
   {
    "duration": 0,
    "start_time": "2023-04-11T17:28:12.119Z"
   },
   {
    "duration": 0,
    "start_time": "2023-04-11T17:28:12.120Z"
   },
   {
    "duration": 0,
    "start_time": "2023-04-11T17:28:12.121Z"
   },
   {
    "duration": 0,
    "start_time": "2023-04-11T17:28:12.123Z"
   },
   {
    "duration": 0,
    "start_time": "2023-04-11T17:28:12.124Z"
   },
   {
    "duration": 0,
    "start_time": "2023-04-11T17:28:12.124Z"
   },
   {
    "duration": 0,
    "start_time": "2023-04-11T17:28:12.126Z"
   },
   {
    "duration": 0,
    "start_time": "2023-04-11T17:28:12.127Z"
   },
   {
    "duration": 0,
    "start_time": "2023-04-11T17:28:12.128Z"
   },
   {
    "duration": 0,
    "start_time": "2023-04-11T17:28:12.129Z"
   },
   {
    "duration": 0,
    "start_time": "2023-04-11T17:28:12.131Z"
   },
   {
    "duration": 0,
    "start_time": "2023-04-11T17:28:12.132Z"
   },
   {
    "duration": 0,
    "start_time": "2023-04-11T17:28:12.133Z"
   },
   {
    "duration": 0,
    "start_time": "2023-04-11T17:28:12.135Z"
   },
   {
    "duration": 0,
    "start_time": "2023-04-11T17:28:12.136Z"
   },
   {
    "duration": 0,
    "start_time": "2023-04-11T17:28:12.138Z"
   },
   {
    "duration": 0,
    "start_time": "2023-04-11T17:28:12.139Z"
   },
   {
    "duration": 69,
    "start_time": "2023-04-11T17:51:23.943Z"
   },
   {
    "duration": 15,
    "start_time": "2023-04-11T17:51:24.014Z"
   },
   {
    "duration": 23,
    "start_time": "2023-04-11T17:51:24.031Z"
   },
   {
    "duration": 12,
    "start_time": "2023-04-11T17:51:24.057Z"
   },
   {
    "duration": 159,
    "start_time": "2023-04-11T17:51:24.071Z"
   },
   {
    "duration": 0,
    "start_time": "2023-04-11T17:51:24.232Z"
   },
   {
    "duration": 0,
    "start_time": "2023-04-11T17:51:24.233Z"
   },
   {
    "duration": 0,
    "start_time": "2023-04-11T17:51:24.234Z"
   },
   {
    "duration": 0,
    "start_time": "2023-04-11T17:51:24.235Z"
   },
   {
    "duration": 0,
    "start_time": "2023-04-11T17:51:24.237Z"
   },
   {
    "duration": 0,
    "start_time": "2023-04-11T17:51:24.238Z"
   },
   {
    "duration": 0,
    "start_time": "2023-04-11T17:51:24.240Z"
   },
   {
    "duration": 0,
    "start_time": "2023-04-11T17:51:24.241Z"
   },
   {
    "duration": 0,
    "start_time": "2023-04-11T17:51:24.242Z"
   },
   {
    "duration": 0,
    "start_time": "2023-04-11T17:51:24.244Z"
   },
   {
    "duration": 0,
    "start_time": "2023-04-11T17:51:24.245Z"
   },
   {
    "duration": 0,
    "start_time": "2023-04-11T17:51:24.246Z"
   },
   {
    "duration": 0,
    "start_time": "2023-04-11T17:51:24.247Z"
   },
   {
    "duration": 0,
    "start_time": "2023-04-11T17:51:24.248Z"
   },
   {
    "duration": 0,
    "start_time": "2023-04-11T17:51:24.250Z"
   },
   {
    "duration": 0,
    "start_time": "2023-04-11T17:51:24.251Z"
   },
   {
    "duration": 0,
    "start_time": "2023-04-11T17:51:24.252Z"
   },
   {
    "duration": 0,
    "start_time": "2023-04-11T17:51:24.253Z"
   },
   {
    "duration": 7,
    "start_time": "2023-04-11T17:52:29.547Z"
   },
   {
    "duration": 19,
    "start_time": "2023-04-11T17:53:00.267Z"
   },
   {
    "duration": 71,
    "start_time": "2023-04-11T17:53:09.294Z"
   },
   {
    "duration": 15,
    "start_time": "2023-04-11T17:53:09.367Z"
   },
   {
    "duration": 41,
    "start_time": "2023-04-11T17:53:09.383Z"
   },
   {
    "duration": 12,
    "start_time": "2023-04-11T17:53:09.426Z"
   },
   {
    "duration": 54,
    "start_time": "2023-04-11T17:53:09.439Z"
   },
   {
    "duration": 26,
    "start_time": "2023-04-11T17:53:09.495Z"
   },
   {
    "duration": 42,
    "start_time": "2023-04-11T17:53:09.523Z"
   },
   {
    "duration": 671,
    "start_time": "2023-04-11T17:53:09.567Z"
   },
   {
    "duration": 8,
    "start_time": "2023-04-11T17:53:10.240Z"
   },
   {
    "duration": 317,
    "start_time": "2023-04-11T17:53:10.250Z"
   },
   {
    "duration": 132,
    "start_time": "2023-04-11T17:53:10.569Z"
   },
   {
    "duration": 418,
    "start_time": "2023-04-11T17:53:10.703Z"
   },
   {
    "duration": 1089,
    "start_time": "2023-04-11T17:53:11.123Z"
   },
   {
    "duration": 437,
    "start_time": "2023-04-11T17:53:12.216Z"
   },
   {
    "duration": 24,
    "start_time": "2023-04-11T17:53:12.655Z"
   },
   {
    "duration": 35,
    "start_time": "2023-04-11T17:53:12.682Z"
   },
   {
    "duration": 200,
    "start_time": "2023-04-11T17:53:12.719Z"
   },
   {
    "duration": 182,
    "start_time": "2023-04-11T17:53:12.921Z"
   },
   {
    "duration": 646,
    "start_time": "2023-04-11T17:53:13.104Z"
   },
   {
    "duration": 651,
    "start_time": "2023-04-11T17:53:13.752Z"
   },
   {
    "duration": 395,
    "start_time": "2023-04-11T17:53:14.404Z"
   },
   {
    "duration": 27,
    "start_time": "2023-04-11T17:53:14.801Z"
   },
   {
    "duration": 29,
    "start_time": "2023-04-11T17:53:14.830Z"
   },
   {
    "duration": 90,
    "start_time": "2023-04-11T17:59:52.501Z"
   },
   {
    "duration": 24,
    "start_time": "2023-04-11T17:59:52.593Z"
   },
   {
    "duration": 43,
    "start_time": "2023-04-11T17:59:52.620Z"
   },
   {
    "duration": 36,
    "start_time": "2023-04-11T17:59:52.665Z"
   },
   {
    "duration": 31,
    "start_time": "2023-04-11T17:59:52.703Z"
   },
   {
    "duration": 31,
    "start_time": "2023-04-11T17:59:52.736Z"
   },
   {
    "duration": 58,
    "start_time": "2023-04-11T17:59:52.768Z"
   },
   {
    "duration": 152,
    "start_time": "2023-04-11T17:59:52.828Z"
   },
   {
    "duration": 7,
    "start_time": "2023-04-11T17:59:52.982Z"
   },
   {
    "duration": 286,
    "start_time": "2023-04-11T17:59:52.992Z"
   },
   {
    "duration": 241,
    "start_time": "2023-04-11T17:59:53.280Z"
   },
   {
    "duration": 412,
    "start_time": "2023-04-11T17:59:53.523Z"
   },
   {
    "duration": 463,
    "start_time": "2023-04-11T17:59:53.937Z"
   },
   {
    "duration": 303,
    "start_time": "2023-04-11T17:59:54.402Z"
   },
   {
    "duration": 26,
    "start_time": "2023-04-11T17:59:54.707Z"
   },
   {
    "duration": 84,
    "start_time": "2023-04-11T17:59:54.735Z"
   },
   {
    "duration": 231,
    "start_time": "2023-04-11T17:59:54.821Z"
   },
   {
    "duration": 202,
    "start_time": "2023-04-11T17:59:55.054Z"
   },
   {
    "duration": 693,
    "start_time": "2023-04-11T17:59:55.258Z"
   },
   {
    "duration": 804,
    "start_time": "2023-04-11T17:59:55.953Z"
   },
   {
    "duration": 427,
    "start_time": "2023-04-11T17:59:56.760Z"
   },
   {
    "duration": 12,
    "start_time": "2023-04-11T17:59:57.190Z"
   },
   {
    "duration": 12,
    "start_time": "2023-04-11T17:59:57.217Z"
   },
   {
    "duration": 14,
    "start_time": "2023-04-11T18:01:34.270Z"
   },
   {
    "duration": 71,
    "start_time": "2023-04-11T18:01:44.044Z"
   },
   {
    "duration": 16,
    "start_time": "2023-04-11T18:01:44.117Z"
   },
   {
    "duration": 52,
    "start_time": "2023-04-11T18:01:44.135Z"
   },
   {
    "duration": 20,
    "start_time": "2023-04-11T18:01:44.189Z"
   },
   {
    "duration": 32,
    "start_time": "2023-04-11T18:01:44.211Z"
   },
   {
    "duration": 5,
    "start_time": "2023-04-11T18:01:44.245Z"
   },
   {
    "duration": 36,
    "start_time": "2023-04-11T18:01:44.251Z"
   },
   {
    "duration": 146,
    "start_time": "2023-04-11T18:01:44.288Z"
   },
   {
    "duration": 9,
    "start_time": "2023-04-11T18:01:44.436Z"
   },
   {
    "duration": 279,
    "start_time": "2023-04-11T18:01:44.448Z"
   },
   {
    "duration": 154,
    "start_time": "2023-04-11T18:01:44.729Z"
   },
   {
    "duration": 398,
    "start_time": "2023-04-11T18:01:44.885Z"
   },
   {
    "duration": 552,
    "start_time": "2023-04-11T18:01:45.285Z"
   },
   {
    "duration": 309,
    "start_time": "2023-04-11T18:01:45.838Z"
   },
   {
    "duration": 22,
    "start_time": "2023-04-11T18:01:46.149Z"
   },
   {
    "duration": 19,
    "start_time": "2023-04-11T18:01:46.173Z"
   },
   {
    "duration": 212,
    "start_time": "2023-04-11T18:01:46.194Z"
   },
   {
    "duration": 205,
    "start_time": "2023-04-11T18:01:46.408Z"
   },
   {
    "duration": 689,
    "start_time": "2023-04-11T18:01:46.617Z"
   },
   {
    "duration": 693,
    "start_time": "2023-04-11T18:01:47.308Z"
   },
   {
    "duration": 416,
    "start_time": "2023-04-11T18:01:48.003Z"
   },
   {
    "duration": 10,
    "start_time": "2023-04-11T18:01:48.421Z"
   },
   {
    "duration": 13,
    "start_time": "2023-04-11T18:01:48.433Z"
   },
   {
    "duration": 71,
    "start_time": "2023-04-11T18:04:59.490Z"
   },
   {
    "duration": 15,
    "start_time": "2023-04-11T18:04:59.564Z"
   },
   {
    "duration": 44,
    "start_time": "2023-04-11T18:04:59.580Z"
   },
   {
    "duration": 12,
    "start_time": "2023-04-11T18:04:59.627Z"
   },
   {
    "duration": 26,
    "start_time": "2023-04-11T18:04:59.640Z"
   },
   {
    "duration": 10,
    "start_time": "2023-04-11T18:04:59.668Z"
   },
   {
    "duration": 40,
    "start_time": "2023-04-11T18:04:59.680Z"
   },
   {
    "duration": 154,
    "start_time": "2023-04-11T18:04:59.722Z"
   },
   {
    "duration": 7,
    "start_time": "2023-04-11T18:04:59.877Z"
   },
   {
    "duration": 270,
    "start_time": "2023-04-11T18:04:59.887Z"
   },
   {
    "duration": 244,
    "start_time": "2023-04-11T18:05:00.159Z"
   },
   {
    "duration": 395,
    "start_time": "2023-04-11T18:05:00.405Z"
   },
   {
    "duration": 483,
    "start_time": "2023-04-11T18:05:00.802Z"
   },
   {
    "duration": 313,
    "start_time": "2023-04-11T18:05:01.287Z"
   },
   {
    "duration": 31,
    "start_time": "2023-04-11T18:05:01.602Z"
   },
   {
    "duration": 69,
    "start_time": "2023-04-11T18:05:01.634Z"
   },
   {
    "duration": 303,
    "start_time": "2023-04-11T18:05:01.705Z"
   },
   {
    "duration": 185,
    "start_time": "2023-04-11T18:05:02.010Z"
   },
   {
    "duration": 728,
    "start_time": "2023-04-11T18:05:02.196Z"
   },
   {
    "duration": 753,
    "start_time": "2023-04-11T18:05:02.925Z"
   },
   {
    "duration": 393,
    "start_time": "2023-04-11T18:05:03.680Z"
   },
   {
    "duration": 11,
    "start_time": "2023-04-11T18:05:04.074Z"
   },
   {
    "duration": 29,
    "start_time": "2023-04-11T18:05:04.087Z"
   },
   {
    "duration": 69,
    "start_time": "2023-04-11T18:11:26.432Z"
   },
   {
    "duration": 16,
    "start_time": "2023-04-11T18:11:26.503Z"
   },
   {
    "duration": 37,
    "start_time": "2023-04-11T18:11:26.521Z"
   },
   {
    "duration": 13,
    "start_time": "2023-04-11T18:11:26.790Z"
   },
   {
    "duration": 35,
    "start_time": "2023-04-11T18:11:26.805Z"
   },
   {
    "duration": 4,
    "start_time": "2023-04-11T18:11:26.842Z"
   },
   {
    "duration": 30,
    "start_time": "2023-04-11T18:11:26.848Z"
   },
   {
    "duration": 174,
    "start_time": "2023-04-11T18:11:26.881Z"
   },
   {
    "duration": 8,
    "start_time": "2023-04-11T18:11:27.057Z"
   },
   {
    "duration": 258,
    "start_time": "2023-04-11T18:11:27.303Z"
   },
   {
    "duration": 157,
    "start_time": "2023-04-11T18:11:27.563Z"
   },
   {
    "duration": 406,
    "start_time": "2023-04-11T18:11:27.721Z"
   },
   {
    "duration": 457,
    "start_time": "2023-04-11T18:11:28.129Z"
   },
   {
    "duration": 304,
    "start_time": "2023-04-11T18:11:28.588Z"
   },
   {
    "duration": 29,
    "start_time": "2023-04-11T18:11:28.893Z"
   },
   {
    "duration": 6,
    "start_time": "2023-04-11T18:11:28.924Z"
   },
   {
    "duration": 252,
    "start_time": "2023-04-11T18:11:28.932Z"
   },
   {
    "duration": 198,
    "start_time": "2023-04-11T18:11:29.186Z"
   },
   {
    "duration": 772,
    "start_time": "2023-04-11T18:11:29.386Z"
   },
   {
    "duration": 677,
    "start_time": "2023-04-11T18:11:30.160Z"
   },
   {
    "duration": 449,
    "start_time": "2023-04-11T18:11:30.839Z"
   },
   {
    "duration": 9,
    "start_time": "2023-04-11T18:11:31.290Z"
   },
   {
    "duration": 87,
    "start_time": "2023-04-11T18:11:31.301Z"
   }
  ],
  "kernelspec": {
   "display_name": "Python 3 (ipykernel)",
   "language": "python",
   "name": "python3"
  },
  "language_info": {
   "codemirror_mode": {
    "name": "ipython",
    "version": 3
   },
   "file_extension": ".py",
   "mimetype": "text/x-python",
   "name": "python",
   "nbconvert_exporter": "python",
   "pygments_lexer": "ipython3",
   "version": "3.9.13"
  },
  "toc": {
   "base_numbering": 1,
   "nav_menu": {},
   "number_sections": true,
   "sideBar": true,
   "skip_h1_title": false,
   "title_cell": "Table of Contents",
   "title_sidebar": "Contents",
   "toc_cell": true,
   "toc_position": {},
   "toc_section_display": true,
   "toc_window_display": false
  }
 },
 "nbformat": 4,
 "nbformat_minor": 5
}
